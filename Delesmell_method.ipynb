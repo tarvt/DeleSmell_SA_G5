{
  "nbformat": 4,
  "nbformat_minor": 0,
  "metadata": {
    "colab": {
      "provenance": [],
      "authorship_tag": "ABX9TyN6hmQBZntg4xuEoDHhIQ+B",
      "include_colab_link": true
    },
    "kernelspec": {
      "name": "python3",
      "display_name": "Python 3"
    },
    "language_info": {
      "name": "python"
    }
  },
  "cells": [
    {
      "cell_type": "markdown",
      "metadata": {
        "id": "view-in-github",
        "colab_type": "text"
      },
      "source": [
        "<a href=\"https://colab.research.google.com/github/tarvt/DeleSmell_SA_G5/blob/main/Delesmell_method.ipynb\" target=\"_parent\"><img src=\"https://colab.research.google.com/assets/colab-badge.svg\" alt=\"Open In Colab\"/></a>"
      ]
    },
    {
      "cell_type": "code",
      "execution_count": 2,
      "metadata": {
        "colab": {
          "base_uri": "https://localhost:8080/"
        },
        "id": "A7r21Ln7oLId",
        "outputId": "a02a4cf3-3db5-4bff-c5ce-d21bfe9f0722"
      },
      "outputs": [
        {
          "output_type": "stream",
          "name": "stdout",
          "text": [
            "Looking in indexes: https://pypi.org/simple, https://us-python.pkg.dev/colab-wheels/public/simple/\n",
            "Collecting keras_self_attention\n",
            "  Downloading keras-self-attention-0.51.0.tar.gz (11 kB)\n",
            "  Preparing metadata (setup.py) ... \u001b[?25l\u001b[?25hdone\n",
            "Requirement already satisfied: numpy in /usr/local/lib/python3.8/dist-packages (from keras_self_attention) (1.21.6)\n",
            "Building wheels for collected packages: keras_self_attention\n",
            "  Building wheel for keras_self_attention (setup.py) ... \u001b[?25l\u001b[?25hdone\n",
            "  Created wheel for keras_self_attention: filename=keras_self_attention-0.51.0-py3-none-any.whl size=18913 sha256=2b36cd8b4a4b1a3cc951060ac563786574c35694dfdb88c7e3157cc257c54e26\n",
            "  Stored in directory: /root/.cache/pip/wheels/ac/13/2d/3de7c76f618a8d162884ac5b726a8c2242ad88afa370f1e62f\n",
            "Successfully built keras_self_attention\n",
            "Installing collected packages: keras_self_attention\n",
            "Successfully installed keras_self_attention-0.51.0\n"
          ]
        }
      ],
      "source": [
        "!pip install keras_self_attention"
      ]
    },
    {
      "cell_type": "code",
      "source": [
        "import numpy as np\n",
        "import pandas as pd\n",
        "import tensorflow as tf\n",
        "from tensorflow import keras\n",
        "from keras import regularizers\n",
        "from keras.layers import Dense,Flatten,Conv1D,MaxPooling1D,Dropout,BatchNormalization\n",
        "from tensorflow.keras import Sequential\n",
        "from tensorflow.keras import Model\n",
        "from keras.layers import GRU\n",
        "from keras import regularizers\n",
        "from keras import initializers\n",
        "from keras_self_attention import SeqSelfAttention, SeqWeightedAttention\n",
        "import tensorflow as tf\n",
        "from tensorflow import keras\n",
        "from tensorflow.keras import layers\n",
        "from sklearn.decomposition import PCA\n",
        "from sklearn.model_selection import train_test_split\n",
        "from sklearn.preprocessing import OneHotEncoder\n",
        "from tensorflow.keras.layers import *\n",
        "from tensorflow.keras.models import *\n",
        "from imblearn.over_sampling import SMOTE\n",
        "import datetime\n",
        "from keras import constraints\n",
        "\n",
        "import keras.backend as K"
      ],
      "metadata": {
        "id": "hitoxZZqoOC5"
      },
      "execution_count": 3,
      "outputs": []
    },
    {
      "cell_type": "code",
      "source": [
        "keras.__version__"
      ],
      "metadata": {
        "colab": {
          "base_uri": "https://localhost:8080/",
          "height": 35
        },
        "id": "NIR-zVS9onvL",
        "outputId": "2f7723d7-c13f-49d8-bfd0-6eabb12c3697"
      },
      "execution_count": 4,
      "outputs": [
        {
          "output_type": "execute_result",
          "data": {
            "text/plain": [
              "'2.9.0'"
            ],
            "application/vnd.google.colaboratory.intrinsic+json": {
              "type": "string"
            }
          },
          "metadata": {},
          "execution_count": 4
        }
      ]
    },
    {
      "cell_type": "code",
      "source": [
        "#load dataset\n",
        "from google.colab import drive\n",
        "drive.mount('/content/drive')"
      ],
      "metadata": {
        "colab": {
          "base_uri": "https://localhost:8080/"
        },
        "id": "rPubh_xkopCx",
        "outputId": "3fa3e9ff-c8c3-4dbe-8fef-509301070be4"
      },
      "execution_count": 5,
      "outputs": [
        {
          "output_type": "stream",
          "name": "stdout",
          "text": [
            "Mounted at /content/drive\n"
          ]
        }
      ]
    },
    {
      "cell_type": "code",
      "source": [
        "dataset_path = '/content/drive/MyDrive/delesmell/METHOD_01.csv'\n",
        "df = pd.read_csv(dataset_path)\n",
        "df.head()"
      ],
      "metadata": {
        "colab": {
          "base_uri": "https://localhost:8080/",
          "height": 235
        },
        "id": "ciGhbMKjo1mp",
        "outputId": "f96a5e24-ad8b-4791-ecdf-c9fdae25f1a6"
      },
      "execution_count": 6,
      "outputs": [
        {
          "output_type": "execute_result",
          "data": {
            "text/plain": [
              "                 NAME  ALD  ATFD  CALIN  CC  CCL  CDISP  CEXT  CINT  CM  ...  \\\n",
              "0  tagDefineTextField    1     0      0   0    2   0.00     0     0   0  ...   \n",
              "1      tagDefineFont2    1     0      1   0    2   0.00     0     0   0  ...   \n",
              "2      classifyStream    0     0     32   0    3   0.00     0     0   0  ...   \n",
              "3      classifyStream    0     0     17   0    3   0.17     1     6   0  ...   \n",
              "4            generate    0     0     22   0    3   0.00     0     0   0  ...   \n",
              "\n",
              "   LOC  MAXNESTING  NOAV  NOEU  NOLV  NOP  word2vec  word2vec2  word2vec3  \\\n",
              "0    5           1     2     0     0   14  0.766091   0.295311  -0.482078   \n",
              "1    6           1     3     0     0   13  0.350905   0.692511   0.782078   \n",
              "2  118           3    34     0    27   11 -0.064280   1.089711   2.046234   \n",
              "3   76           3    16     0    13   10 -0.479466   1.486911   3.310390   \n",
              "4  131           3    37     0    20    9 -0.894651   1.884111   4.574546   \n",
              "\n",
              "   is_brain  \n",
              "0     False  \n",
              "1     False  \n",
              "2     False  \n",
              "3     False  \n",
              "4     False  \n",
              "\n",
              "[5 rows x 26 columns]"
            ],
            "text/html": [
              "\n",
              "  <div id=\"df-66d0483d-409e-4956-9cfc-2415456f1c32\">\n",
              "    <div class=\"colab-df-container\">\n",
              "      <div>\n",
              "<style scoped>\n",
              "    .dataframe tbody tr th:only-of-type {\n",
              "        vertical-align: middle;\n",
              "    }\n",
              "\n",
              "    .dataframe tbody tr th {\n",
              "        vertical-align: top;\n",
              "    }\n",
              "\n",
              "    .dataframe thead th {\n",
              "        text-align: right;\n",
              "    }\n",
              "</style>\n",
              "<table border=\"1\" class=\"dataframe\">\n",
              "  <thead>\n",
              "    <tr style=\"text-align: right;\">\n",
              "      <th></th>\n",
              "      <th>NAME</th>\n",
              "      <th>ALD</th>\n",
              "      <th>ATFD</th>\n",
              "      <th>CALIN</th>\n",
              "      <th>CC</th>\n",
              "      <th>CCL</th>\n",
              "      <th>CDISP</th>\n",
              "      <th>CEXT</th>\n",
              "      <th>CINT</th>\n",
              "      <th>CM</th>\n",
              "      <th>...</th>\n",
              "      <th>LOC</th>\n",
              "      <th>MAXNESTING</th>\n",
              "      <th>NOAV</th>\n",
              "      <th>NOEU</th>\n",
              "      <th>NOLV</th>\n",
              "      <th>NOP</th>\n",
              "      <th>word2vec</th>\n",
              "      <th>word2vec2</th>\n",
              "      <th>word2vec3</th>\n",
              "      <th>is_brain</th>\n",
              "    </tr>\n",
              "  </thead>\n",
              "  <tbody>\n",
              "    <tr>\n",
              "      <th>0</th>\n",
              "      <td>tagDefineTextField</td>\n",
              "      <td>1</td>\n",
              "      <td>0</td>\n",
              "      <td>0</td>\n",
              "      <td>0</td>\n",
              "      <td>2</td>\n",
              "      <td>0.00</td>\n",
              "      <td>0</td>\n",
              "      <td>0</td>\n",
              "      <td>0</td>\n",
              "      <td>...</td>\n",
              "      <td>5</td>\n",
              "      <td>1</td>\n",
              "      <td>2</td>\n",
              "      <td>0</td>\n",
              "      <td>0</td>\n",
              "      <td>14</td>\n",
              "      <td>0.766091</td>\n",
              "      <td>0.295311</td>\n",
              "      <td>-0.482078</td>\n",
              "      <td>False</td>\n",
              "    </tr>\n",
              "    <tr>\n",
              "      <th>1</th>\n",
              "      <td>tagDefineFont2</td>\n",
              "      <td>1</td>\n",
              "      <td>0</td>\n",
              "      <td>1</td>\n",
              "      <td>0</td>\n",
              "      <td>2</td>\n",
              "      <td>0.00</td>\n",
              "      <td>0</td>\n",
              "      <td>0</td>\n",
              "      <td>0</td>\n",
              "      <td>...</td>\n",
              "      <td>6</td>\n",
              "      <td>1</td>\n",
              "      <td>3</td>\n",
              "      <td>0</td>\n",
              "      <td>0</td>\n",
              "      <td>13</td>\n",
              "      <td>0.350905</td>\n",
              "      <td>0.692511</td>\n",
              "      <td>0.782078</td>\n",
              "      <td>False</td>\n",
              "    </tr>\n",
              "    <tr>\n",
              "      <th>2</th>\n",
              "      <td>classifyStream</td>\n",
              "      <td>0</td>\n",
              "      <td>0</td>\n",
              "      <td>32</td>\n",
              "      <td>0</td>\n",
              "      <td>3</td>\n",
              "      <td>0.00</td>\n",
              "      <td>0</td>\n",
              "      <td>0</td>\n",
              "      <td>0</td>\n",
              "      <td>...</td>\n",
              "      <td>118</td>\n",
              "      <td>3</td>\n",
              "      <td>34</td>\n",
              "      <td>0</td>\n",
              "      <td>27</td>\n",
              "      <td>11</td>\n",
              "      <td>-0.064280</td>\n",
              "      <td>1.089711</td>\n",
              "      <td>2.046234</td>\n",
              "      <td>False</td>\n",
              "    </tr>\n",
              "    <tr>\n",
              "      <th>3</th>\n",
              "      <td>classifyStream</td>\n",
              "      <td>0</td>\n",
              "      <td>0</td>\n",
              "      <td>17</td>\n",
              "      <td>0</td>\n",
              "      <td>3</td>\n",
              "      <td>0.17</td>\n",
              "      <td>1</td>\n",
              "      <td>6</td>\n",
              "      <td>0</td>\n",
              "      <td>...</td>\n",
              "      <td>76</td>\n",
              "      <td>3</td>\n",
              "      <td>16</td>\n",
              "      <td>0</td>\n",
              "      <td>13</td>\n",
              "      <td>10</td>\n",
              "      <td>-0.479466</td>\n",
              "      <td>1.486911</td>\n",
              "      <td>3.310390</td>\n",
              "      <td>False</td>\n",
              "    </tr>\n",
              "    <tr>\n",
              "      <th>4</th>\n",
              "      <td>generate</td>\n",
              "      <td>0</td>\n",
              "      <td>0</td>\n",
              "      <td>22</td>\n",
              "      <td>0</td>\n",
              "      <td>3</td>\n",
              "      <td>0.00</td>\n",
              "      <td>0</td>\n",
              "      <td>0</td>\n",
              "      <td>0</td>\n",
              "      <td>...</td>\n",
              "      <td>131</td>\n",
              "      <td>3</td>\n",
              "      <td>37</td>\n",
              "      <td>0</td>\n",
              "      <td>20</td>\n",
              "      <td>9</td>\n",
              "      <td>-0.894651</td>\n",
              "      <td>1.884111</td>\n",
              "      <td>4.574546</td>\n",
              "      <td>False</td>\n",
              "    </tr>\n",
              "  </tbody>\n",
              "</table>\n",
              "<p>5 rows × 26 columns</p>\n",
              "</div>\n",
              "      <button class=\"colab-df-convert\" onclick=\"convertToInteractive('df-66d0483d-409e-4956-9cfc-2415456f1c32')\"\n",
              "              title=\"Convert this dataframe to an interactive table.\"\n",
              "              style=\"display:none;\">\n",
              "        \n",
              "  <svg xmlns=\"http://www.w3.org/2000/svg\" height=\"24px\"viewBox=\"0 0 24 24\"\n",
              "       width=\"24px\">\n",
              "    <path d=\"M0 0h24v24H0V0z\" fill=\"none\"/>\n",
              "    <path d=\"M18.56 5.44l.94 2.06.94-2.06 2.06-.94-2.06-.94-.94-2.06-.94 2.06-2.06.94zm-11 1L8.5 8.5l.94-2.06 2.06-.94-2.06-.94L8.5 2.5l-.94 2.06-2.06.94zm10 10l.94 2.06.94-2.06 2.06-.94-2.06-.94-.94-2.06-.94 2.06-2.06.94z\"/><path d=\"M17.41 7.96l-1.37-1.37c-.4-.4-.92-.59-1.43-.59-.52 0-1.04.2-1.43.59L10.3 9.45l-7.72 7.72c-.78.78-.78 2.05 0 2.83L4 21.41c.39.39.9.59 1.41.59.51 0 1.02-.2 1.41-.59l7.78-7.78 2.81-2.81c.8-.78.8-2.07 0-2.86zM5.41 20L4 18.59l7.72-7.72 1.47 1.35L5.41 20z\"/>\n",
              "  </svg>\n",
              "      </button>\n",
              "      \n",
              "  <style>\n",
              "    .colab-df-container {\n",
              "      display:flex;\n",
              "      flex-wrap:wrap;\n",
              "      gap: 12px;\n",
              "    }\n",
              "\n",
              "    .colab-df-convert {\n",
              "      background-color: #E8F0FE;\n",
              "      border: none;\n",
              "      border-radius: 50%;\n",
              "      cursor: pointer;\n",
              "      display: none;\n",
              "      fill: #1967D2;\n",
              "      height: 32px;\n",
              "      padding: 0 0 0 0;\n",
              "      width: 32px;\n",
              "    }\n",
              "\n",
              "    .colab-df-convert:hover {\n",
              "      background-color: #E2EBFA;\n",
              "      box-shadow: 0px 1px 2px rgba(60, 64, 67, 0.3), 0px 1px 3px 1px rgba(60, 64, 67, 0.15);\n",
              "      fill: #174EA6;\n",
              "    }\n",
              "\n",
              "    [theme=dark] .colab-df-convert {\n",
              "      background-color: #3B4455;\n",
              "      fill: #D2E3FC;\n",
              "    }\n",
              "\n",
              "    [theme=dark] .colab-df-convert:hover {\n",
              "      background-color: #434B5C;\n",
              "      box-shadow: 0px 1px 3px 1px rgba(0, 0, 0, 0.15);\n",
              "      filter: drop-shadow(0px 1px 2px rgba(0, 0, 0, 0.3));\n",
              "      fill: #FFFFFF;\n",
              "    }\n",
              "  </style>\n",
              "\n",
              "      <script>\n",
              "        const buttonEl =\n",
              "          document.querySelector('#df-66d0483d-409e-4956-9cfc-2415456f1c32 button.colab-df-convert');\n",
              "        buttonEl.style.display =\n",
              "          google.colab.kernel.accessAllowed ? 'block' : 'none';\n",
              "\n",
              "        async function convertToInteractive(key) {\n",
              "          const element = document.querySelector('#df-66d0483d-409e-4956-9cfc-2415456f1c32');\n",
              "          const dataTable =\n",
              "            await google.colab.kernel.invokeFunction('convertToInteractive',\n",
              "                                                     [key], {});\n",
              "          if (!dataTable) return;\n",
              "\n",
              "          const docLinkHtml = 'Like what you see? Visit the ' +\n",
              "            '<a target=\"_blank\" href=https://colab.research.google.com/notebooks/data_table.ipynb>data table notebook</a>'\n",
              "            + ' to learn more about interactive tables.';\n",
              "          element.innerHTML = '';\n",
              "          dataTable['output_type'] = 'display_data';\n",
              "          await google.colab.output.renderOutput(dataTable, element);\n",
              "          const docLink = document.createElement('div');\n",
              "          docLink.innerHTML = docLinkHtml;\n",
              "          element.appendChild(docLink);\n",
              "        }\n",
              "      </script>\n",
              "    </div>\n",
              "  </div>\n",
              "  "
            ]
          },
          "metadata": {},
          "execution_count": 6
        }
      ]
    },
    {
      "cell_type": "code",
      "source": [
        "x, y = df.iloc[:, 1:-1], df.iloc[:, -1]\n",
        "x.head()"
      ],
      "metadata": {
        "colab": {
          "base_uri": "https://localhost:8080/",
          "height": 235
        },
        "id": "7ZkT0BlZo6qy",
        "outputId": "dc48f50e-85b2-48f1-f60f-566d07557a4f"
      },
      "execution_count": 7,
      "outputs": [
        {
          "output_type": "execute_result",
          "data": {
            "text/plain": [
              "   ALD  ATFD  CALIN  CC  CCL  CDISP  CEXT  CINT  CM  CYCLO  ...  LAA  LOC  \\\n",
              "0    1     0      0   0    2   0.00     0     0   0      2  ...  1.0    5   \n",
              "1    1     0      1   0    2   0.00     0     0   0      2  ...  1.0    6   \n",
              "2    0     0     32   0    3   0.00     0     0   0     16  ...  1.0  118   \n",
              "3    0     0     17   0    3   0.17     1     6   0     17  ...  1.0   76   \n",
              "4    0     0     22   0    3   0.00     0     0   0      9  ...  1.0  131   \n",
              "\n",
              "   MAXNESTING  NOAV  NOEU  NOLV  NOP  word2vec  word2vec2  word2vec3  \n",
              "0           1     2     0     0   14  0.766091   0.295311  -0.482078  \n",
              "1           1     3     0     0   13  0.350905   0.692511   0.782078  \n",
              "2           3    34     0    27   11 -0.064280   1.089711   2.046234  \n",
              "3           3    16     0    13   10 -0.479466   1.486911   3.310390  \n",
              "4           3    37     0    20    9 -0.894651   1.884111   4.574546  \n",
              "\n",
              "[5 rows x 24 columns]"
            ],
            "text/html": [
              "\n",
              "  <div id=\"df-554a875a-16a2-4612-bac4-facb44f8ecbb\">\n",
              "    <div class=\"colab-df-container\">\n",
              "      <div>\n",
              "<style scoped>\n",
              "    .dataframe tbody tr th:only-of-type {\n",
              "        vertical-align: middle;\n",
              "    }\n",
              "\n",
              "    .dataframe tbody tr th {\n",
              "        vertical-align: top;\n",
              "    }\n",
              "\n",
              "    .dataframe thead th {\n",
              "        text-align: right;\n",
              "    }\n",
              "</style>\n",
              "<table border=\"1\" class=\"dataframe\">\n",
              "  <thead>\n",
              "    <tr style=\"text-align: right;\">\n",
              "      <th></th>\n",
              "      <th>ALD</th>\n",
              "      <th>ATFD</th>\n",
              "      <th>CALIN</th>\n",
              "      <th>CC</th>\n",
              "      <th>CCL</th>\n",
              "      <th>CDISP</th>\n",
              "      <th>CEXT</th>\n",
              "      <th>CINT</th>\n",
              "      <th>CM</th>\n",
              "      <th>CYCLO</th>\n",
              "      <th>...</th>\n",
              "      <th>LAA</th>\n",
              "      <th>LOC</th>\n",
              "      <th>MAXNESTING</th>\n",
              "      <th>NOAV</th>\n",
              "      <th>NOEU</th>\n",
              "      <th>NOLV</th>\n",
              "      <th>NOP</th>\n",
              "      <th>word2vec</th>\n",
              "      <th>word2vec2</th>\n",
              "      <th>word2vec3</th>\n",
              "    </tr>\n",
              "  </thead>\n",
              "  <tbody>\n",
              "    <tr>\n",
              "      <th>0</th>\n",
              "      <td>1</td>\n",
              "      <td>0</td>\n",
              "      <td>0</td>\n",
              "      <td>0</td>\n",
              "      <td>2</td>\n",
              "      <td>0.00</td>\n",
              "      <td>0</td>\n",
              "      <td>0</td>\n",
              "      <td>0</td>\n",
              "      <td>2</td>\n",
              "      <td>...</td>\n",
              "      <td>1.0</td>\n",
              "      <td>5</td>\n",
              "      <td>1</td>\n",
              "      <td>2</td>\n",
              "      <td>0</td>\n",
              "      <td>0</td>\n",
              "      <td>14</td>\n",
              "      <td>0.766091</td>\n",
              "      <td>0.295311</td>\n",
              "      <td>-0.482078</td>\n",
              "    </tr>\n",
              "    <tr>\n",
              "      <th>1</th>\n",
              "      <td>1</td>\n",
              "      <td>0</td>\n",
              "      <td>1</td>\n",
              "      <td>0</td>\n",
              "      <td>2</td>\n",
              "      <td>0.00</td>\n",
              "      <td>0</td>\n",
              "      <td>0</td>\n",
              "      <td>0</td>\n",
              "      <td>2</td>\n",
              "      <td>...</td>\n",
              "      <td>1.0</td>\n",
              "      <td>6</td>\n",
              "      <td>1</td>\n",
              "      <td>3</td>\n",
              "      <td>0</td>\n",
              "      <td>0</td>\n",
              "      <td>13</td>\n",
              "      <td>0.350905</td>\n",
              "      <td>0.692511</td>\n",
              "      <td>0.782078</td>\n",
              "    </tr>\n",
              "    <tr>\n",
              "      <th>2</th>\n",
              "      <td>0</td>\n",
              "      <td>0</td>\n",
              "      <td>32</td>\n",
              "      <td>0</td>\n",
              "      <td>3</td>\n",
              "      <td>0.00</td>\n",
              "      <td>0</td>\n",
              "      <td>0</td>\n",
              "      <td>0</td>\n",
              "      <td>16</td>\n",
              "      <td>...</td>\n",
              "      <td>1.0</td>\n",
              "      <td>118</td>\n",
              "      <td>3</td>\n",
              "      <td>34</td>\n",
              "      <td>0</td>\n",
              "      <td>27</td>\n",
              "      <td>11</td>\n",
              "      <td>-0.064280</td>\n",
              "      <td>1.089711</td>\n",
              "      <td>2.046234</td>\n",
              "    </tr>\n",
              "    <tr>\n",
              "      <th>3</th>\n",
              "      <td>0</td>\n",
              "      <td>0</td>\n",
              "      <td>17</td>\n",
              "      <td>0</td>\n",
              "      <td>3</td>\n",
              "      <td>0.17</td>\n",
              "      <td>1</td>\n",
              "      <td>6</td>\n",
              "      <td>0</td>\n",
              "      <td>17</td>\n",
              "      <td>...</td>\n",
              "      <td>1.0</td>\n",
              "      <td>76</td>\n",
              "      <td>3</td>\n",
              "      <td>16</td>\n",
              "      <td>0</td>\n",
              "      <td>13</td>\n",
              "      <td>10</td>\n",
              "      <td>-0.479466</td>\n",
              "      <td>1.486911</td>\n",
              "      <td>3.310390</td>\n",
              "    </tr>\n",
              "    <tr>\n",
              "      <th>4</th>\n",
              "      <td>0</td>\n",
              "      <td>0</td>\n",
              "      <td>22</td>\n",
              "      <td>0</td>\n",
              "      <td>3</td>\n",
              "      <td>0.00</td>\n",
              "      <td>0</td>\n",
              "      <td>0</td>\n",
              "      <td>0</td>\n",
              "      <td>9</td>\n",
              "      <td>...</td>\n",
              "      <td>1.0</td>\n",
              "      <td>131</td>\n",
              "      <td>3</td>\n",
              "      <td>37</td>\n",
              "      <td>0</td>\n",
              "      <td>20</td>\n",
              "      <td>9</td>\n",
              "      <td>-0.894651</td>\n",
              "      <td>1.884111</td>\n",
              "      <td>4.574546</td>\n",
              "    </tr>\n",
              "  </tbody>\n",
              "</table>\n",
              "<p>5 rows × 24 columns</p>\n",
              "</div>\n",
              "      <button class=\"colab-df-convert\" onclick=\"convertToInteractive('df-554a875a-16a2-4612-bac4-facb44f8ecbb')\"\n",
              "              title=\"Convert this dataframe to an interactive table.\"\n",
              "              style=\"display:none;\">\n",
              "        \n",
              "  <svg xmlns=\"http://www.w3.org/2000/svg\" height=\"24px\"viewBox=\"0 0 24 24\"\n",
              "       width=\"24px\">\n",
              "    <path d=\"M0 0h24v24H0V0z\" fill=\"none\"/>\n",
              "    <path d=\"M18.56 5.44l.94 2.06.94-2.06 2.06-.94-2.06-.94-.94-2.06-.94 2.06-2.06.94zm-11 1L8.5 8.5l.94-2.06 2.06-.94-2.06-.94L8.5 2.5l-.94 2.06-2.06.94zm10 10l.94 2.06.94-2.06 2.06-.94-2.06-.94-.94-2.06-.94 2.06-2.06.94z\"/><path d=\"M17.41 7.96l-1.37-1.37c-.4-.4-.92-.59-1.43-.59-.52 0-1.04.2-1.43.59L10.3 9.45l-7.72 7.72c-.78.78-.78 2.05 0 2.83L4 21.41c.39.39.9.59 1.41.59.51 0 1.02-.2 1.41-.59l7.78-7.78 2.81-2.81c.8-.78.8-2.07 0-2.86zM5.41 20L4 18.59l7.72-7.72 1.47 1.35L5.41 20z\"/>\n",
              "  </svg>\n",
              "      </button>\n",
              "      \n",
              "  <style>\n",
              "    .colab-df-container {\n",
              "      display:flex;\n",
              "      flex-wrap:wrap;\n",
              "      gap: 12px;\n",
              "    }\n",
              "\n",
              "    .colab-df-convert {\n",
              "      background-color: #E8F0FE;\n",
              "      border: none;\n",
              "      border-radius: 50%;\n",
              "      cursor: pointer;\n",
              "      display: none;\n",
              "      fill: #1967D2;\n",
              "      height: 32px;\n",
              "      padding: 0 0 0 0;\n",
              "      width: 32px;\n",
              "    }\n",
              "\n",
              "    .colab-df-convert:hover {\n",
              "      background-color: #E2EBFA;\n",
              "      box-shadow: 0px 1px 2px rgba(60, 64, 67, 0.3), 0px 1px 3px 1px rgba(60, 64, 67, 0.15);\n",
              "      fill: #174EA6;\n",
              "    }\n",
              "\n",
              "    [theme=dark] .colab-df-convert {\n",
              "      background-color: #3B4455;\n",
              "      fill: #D2E3FC;\n",
              "    }\n",
              "\n",
              "    [theme=dark] .colab-df-convert:hover {\n",
              "      background-color: #434B5C;\n",
              "      box-shadow: 0px 1px 3px 1px rgba(0, 0, 0, 0.15);\n",
              "      filter: drop-shadow(0px 1px 2px rgba(0, 0, 0, 0.3));\n",
              "      fill: #FFFFFF;\n",
              "    }\n",
              "  </style>\n",
              "\n",
              "      <script>\n",
              "        const buttonEl =\n",
              "          document.querySelector('#df-554a875a-16a2-4612-bac4-facb44f8ecbb button.colab-df-convert');\n",
              "        buttonEl.style.display =\n",
              "          google.colab.kernel.accessAllowed ? 'block' : 'none';\n",
              "\n",
              "        async function convertToInteractive(key) {\n",
              "          const element = document.querySelector('#df-554a875a-16a2-4612-bac4-facb44f8ecbb');\n",
              "          const dataTable =\n",
              "            await google.colab.kernel.invokeFunction('convertToInteractive',\n",
              "                                                     [key], {});\n",
              "          if (!dataTable) return;\n",
              "\n",
              "          const docLinkHtml = 'Like what you see? Visit the ' +\n",
              "            '<a target=\"_blank\" href=https://colab.research.google.com/notebooks/data_table.ipynb>data table notebook</a>'\n",
              "            + ' to learn more about interactive tables.';\n",
              "          element.innerHTML = '';\n",
              "          dataTable['output_type'] = 'display_data';\n",
              "          await google.colab.output.renderOutput(dataTable, element);\n",
              "          const docLink = document.createElement('div');\n",
              "          docLink.innerHTML = docLinkHtml;\n",
              "          element.appendChild(docLink);\n",
              "        }\n",
              "      </script>\n",
              "    </div>\n",
              "  </div>\n",
              "  "
            ]
          },
          "metadata": {},
          "execution_count": 7
        }
      ]
    },
    {
      "cell_type": "code",
      "source": [
        "x_train, x_test, y_train, y_test = train_test_split(x, y, test_size=0.2, random_state=0)"
      ],
      "metadata": {
        "id": "aBxJmNbDpBLp"
      },
      "execution_count": 8,
      "outputs": []
    },
    {
      "cell_type": "code",
      "source": [
        "x_train = x_train.values.reshape((x_train.shape[0],x_train.shape[1],1))\n",
        "x_test = x_test.values.reshape((x_test.shape[0], x_test.shape[1],1))"
      ],
      "metadata": {
        "id": "WsZtru_upCWZ"
      },
      "execution_count": 9,
      "outputs": []
    },
    {
      "cell_type": "code",
      "source": [
        "onehot = OneHotEncoder(sparse=False)\n",
        "y_train = onehot.fit_transform(y_train.values.reshape(len(y_train), 1))\n",
        "y_test = onehot.fit_transform(y_test.values.reshape(len(y_test), 1))\n",
        "\n",
        "print(x_train.shape)\n",
        "print(y_train.shape)"
      ],
      "metadata": {
        "colab": {
          "base_uri": "https://localhost:8080/"
        },
        "id": "hn-PAFe_pDyJ",
        "outputId": "81fd79ba-64a6-4102-d3d8-70c6f2954834"
      },
      "execution_count": 10,
      "outputs": [
        {
          "output_type": "stream",
          "name": "stdout",
          "text": [
            "(72252, 24, 1)\n",
            "(72252, 2)\n"
          ]
        }
      ]
    },
    {
      "cell_type": "code",
      "source": [
        "x_train.shape[1:]"
      ],
      "metadata": {
        "colab": {
          "base_uri": "https://localhost:8080/"
        },
        "id": "vqM4wqf4pFSp",
        "outputId": "89033579-b2b1-4acd-c402-8c1d5af487ad"
      },
      "execution_count": 11,
      "outputs": [
        {
          "output_type": "execute_result",
          "data": {
            "text/plain": [
              "(24, 1)"
            ]
          },
          "metadata": {},
          "execution_count": 11
        }
      ]
    },
    {
      "cell_type": "code",
      "source": [
        "units = 1\n",
        "inp=Input(shape=(x_train.shape[1:]))\n",
        "\n",
        "x = Conv1D(32, 6, padding = \"same\", activation='tanh')(inp)\n",
        "x = BatchNormalization()(x)\n",
        "x = Conv1D(64, kernel_size=6, strides=1, padding='same',activation='relu')(x)\n",
        "x = Conv1D(64, 6, strides=1, padding='same',activation='relu')(x)\n",
        "x = LeakyReLU(alpha=0.33)(x)\n",
        "x = Dropout(0.5)(x)\n",
        "x = BatchNormalization()(x)\n",
        "x = Conv1D(128, kernel_size=6, strides=1, padding='same',activation='relu')(x)\n",
        "x = Conv1D(128, 6, strides=1, padding='same',activation='relu')(x)\n",
        "x = LeakyReLU(alpha=0.33)(x)\n",
        "x = Dropout(0.5)(x)\n",
        "x = BatchNormalization()(x)\n",
        "x = Conv1D(256, kernel_size=6, strides=1, padding='same',activation='relu')(x)\n",
        "x = Conv1D(256, 6, strides=1, padding='same',activation='relu')(x)\n",
        "x = LeakyReLU(alpha=0.33)(x)\n",
        "x = BatchNormalization()(x)\n",
        "x = Conv1D(512, kernel_size=6, strides=1, padding='same',activation='relu')(x)\n",
        "x = Conv1D(512, 6, strides=1, padding='same',activation='relu')(x)\n",
        "x = LeakyReLU(alpha=0.33)(x)\n",
        "x = Dropout(0.5)(x)\n",
        "x = BatchNormalization()(x)\n",
        "x = Dropout(0.5)(x)\n",
        "x = Dense(512,activation='relu',kernel_regularizer=regularizers.l2(0.001))(x)\n",
        "g = Flatten()(x)\n",
        "\n",
        "activations = Bidirectional(GRU(units,return_sequences = True,dropout=0.2,recurrent_dropout=0.2))(inp)\n",
        "attention = Dense(1,activation='tanh')(activations)\n",
        "attention = Flatten()(attention)\n",
        "attention = Activation('softmax')(attention)\n",
        "attention = RepeatVector(units*2)(attention)\n",
        "attention = Permute([2,1])(attention)\n",
        "sent_representation = layers.Multiply()( [activations,attention])\n",
        "sent_representation = layers.Lambda(lambda xin: K.sum(xin,axis=-2),output_shape=(units*2,))(sent_representation)\n",
        "\n",
        "l=Dense(128,activation=\"relu\")(sent_representation)\n",
        "l=Dropout(0.3)(l)\n",
        "d = Flatten()(l)\n",
        "\n",
        "\n",
        "g2=concatenate([g,d],axis=1)\n",
        "q=Dense(128)(g2)\n",
        "q=LeakyReLU(alpha=0.33)(q)\n",
        "q=LeakyReLU(alpha=0.33)(q)\n",
        "q=LeakyReLU(alpha=0.33)(q)\n",
        "q=Dropout(0.5)(q)\n",
        "q=Dense(256,activation=\"tanh\")(q)\n",
        "\n",
        "output = Dense(2, kernel_regularizer=tf.keras.regularizers.l2(0.01),activation='linear')(q)\n",
        "model = Model(inputs=inp,outputs=output)"
      ],
      "metadata": {
        "id": "q9EOiHwapH7J"
      },
      "execution_count": 12,
      "outputs": []
    },
    {
      "cell_type": "code",
      "source": [
        "model.summary()"
      ],
      "metadata": {
        "colab": {
          "base_uri": "https://localhost:8080/"
        },
        "id": "igxE4qIRpKBq",
        "outputId": "4a2ea53f-957f-45a6-ec48-6912d0052594"
      },
      "execution_count": 13,
      "outputs": [
        {
          "output_type": "stream",
          "name": "stdout",
          "text": [
            "Model: \"model\"\n",
            "__________________________________________________________________________________________________\n",
            " Layer (type)                   Output Shape         Param #     Connected to                     \n",
            "==================================================================================================\n",
            " input_1 (InputLayer)           [(None, 24, 1)]      0           []                               \n",
            "                                                                                                  \n",
            " conv1d (Conv1D)                (None, 24, 32)       224         ['input_1[0][0]']                \n",
            "                                                                                                  \n",
            " batch_normalization (BatchNorm  (None, 24, 32)      128         ['conv1d[0][0]']                 \n",
            " alization)                                                                                       \n",
            "                                                                                                  \n",
            " conv1d_1 (Conv1D)              (None, 24, 64)       12352       ['batch_normalization[0][0]']    \n",
            "                                                                                                  \n",
            " conv1d_2 (Conv1D)              (None, 24, 64)       24640       ['conv1d_1[0][0]']               \n",
            "                                                                                                  \n",
            " leaky_re_lu (LeakyReLU)        (None, 24, 64)       0           ['conv1d_2[0][0]']               \n",
            "                                                                                                  \n",
            " dropout (Dropout)              (None, 24, 64)       0           ['leaky_re_lu[0][0]']            \n",
            "                                                                                                  \n",
            " batch_normalization_1 (BatchNo  (None, 24, 64)      256         ['dropout[0][0]']                \n",
            " rmalization)                                                                                     \n",
            "                                                                                                  \n",
            " conv1d_3 (Conv1D)              (None, 24, 128)      49280       ['batch_normalization_1[0][0]']  \n",
            "                                                                                                  \n",
            " conv1d_4 (Conv1D)              (None, 24, 128)      98432       ['conv1d_3[0][0]']               \n",
            "                                                                                                  \n",
            " leaky_re_lu_1 (LeakyReLU)      (None, 24, 128)      0           ['conv1d_4[0][0]']               \n",
            "                                                                                                  \n",
            " dropout_1 (Dropout)            (None, 24, 128)      0           ['leaky_re_lu_1[0][0]']          \n",
            "                                                                                                  \n",
            " batch_normalization_2 (BatchNo  (None, 24, 128)     512         ['dropout_1[0][0]']              \n",
            " rmalization)                                                                                     \n",
            "                                                                                                  \n",
            " conv1d_5 (Conv1D)              (None, 24, 256)      196864      ['batch_normalization_2[0][0]']  \n",
            "                                                                                                  \n",
            " conv1d_6 (Conv1D)              (None, 24, 256)      393472      ['conv1d_5[0][0]']               \n",
            "                                                                                                  \n",
            " bidirectional (Bidirectional)  (None, 24, 2)        24          ['input_1[0][0]']                \n",
            "                                                                                                  \n",
            " leaky_re_lu_2 (LeakyReLU)      (None, 24, 256)      0           ['conv1d_6[0][0]']               \n",
            "                                                                                                  \n",
            " dense_1 (Dense)                (None, 24, 1)        3           ['bidirectional[0][0]']          \n",
            "                                                                                                  \n",
            " batch_normalization_3 (BatchNo  (None, 24, 256)     1024        ['leaky_re_lu_2[0][0]']          \n",
            " rmalization)                                                                                     \n",
            "                                                                                                  \n",
            " flatten_1 (Flatten)            (None, 24)           0           ['dense_1[0][0]']                \n",
            "                                                                                                  \n",
            " conv1d_7 (Conv1D)              (None, 24, 512)      786944      ['batch_normalization_3[0][0]']  \n",
            "                                                                                                  \n",
            " activation (Activation)        (None, 24)           0           ['flatten_1[0][0]']              \n",
            "                                                                                                  \n",
            " conv1d_8 (Conv1D)              (None, 24, 512)      1573376     ['conv1d_7[0][0]']               \n",
            "                                                                                                  \n",
            " repeat_vector (RepeatVector)   (None, 2, 24)        0           ['activation[0][0]']             \n",
            "                                                                                                  \n",
            " leaky_re_lu_3 (LeakyReLU)      (None, 24, 512)      0           ['conv1d_8[0][0]']               \n",
            "                                                                                                  \n",
            " permute (Permute)              (None, 24, 2)        0           ['repeat_vector[0][0]']          \n",
            "                                                                                                  \n",
            " dropout_2 (Dropout)            (None, 24, 512)      0           ['leaky_re_lu_3[0][0]']          \n",
            "                                                                                                  \n",
            " multiply (Multiply)            (None, 24, 2)        0           ['bidirectional[0][0]',          \n",
            "                                                                  'permute[0][0]']                \n",
            "                                                                                                  \n",
            " batch_normalization_4 (BatchNo  (None, 24, 512)     2048        ['dropout_2[0][0]']              \n",
            " rmalization)                                                                                     \n",
            "                                                                                                  \n",
            " lambda (Lambda)                (None, 2)            0           ['multiply[0][0]']               \n",
            "                                                                                                  \n",
            " dropout_3 (Dropout)            (None, 24, 512)      0           ['batch_normalization_4[0][0]']  \n",
            "                                                                                                  \n",
            " dense_2 (Dense)                (None, 128)          384         ['lambda[0][0]']                 \n",
            "                                                                                                  \n",
            " dense (Dense)                  (None, 24, 512)      262656      ['dropout_3[0][0]']              \n",
            "                                                                                                  \n",
            " dropout_4 (Dropout)            (None, 128)          0           ['dense_2[0][0]']                \n",
            "                                                                                                  \n",
            " flatten (Flatten)              (None, 12288)        0           ['dense[0][0]']                  \n",
            "                                                                                                  \n",
            " flatten_2 (Flatten)            (None, 128)          0           ['dropout_4[0][0]']              \n",
            "                                                                                                  \n",
            " concatenate (Concatenate)      (None, 12416)        0           ['flatten[0][0]',                \n",
            "                                                                  'flatten_2[0][0]']              \n",
            "                                                                                                  \n",
            " dense_3 (Dense)                (None, 128)          1589376     ['concatenate[0][0]']            \n",
            "                                                                                                  \n",
            " leaky_re_lu_4 (LeakyReLU)      (None, 128)          0           ['dense_3[0][0]']                \n",
            "                                                                                                  \n",
            " leaky_re_lu_5 (LeakyReLU)      (None, 128)          0           ['leaky_re_lu_4[0][0]']          \n",
            "                                                                                                  \n",
            " leaky_re_lu_6 (LeakyReLU)      (None, 128)          0           ['leaky_re_lu_5[0][0]']          \n",
            "                                                                                                  \n",
            " dropout_5 (Dropout)            (None, 128)          0           ['leaky_re_lu_6[0][0]']          \n",
            "                                                                                                  \n",
            " dense_4 (Dense)                (None, 256)          33024       ['dropout_5[0][0]']              \n",
            "                                                                                                  \n",
            " dense_5 (Dense)                (None, 2)            514         ['dense_4[0][0]']                \n",
            "                                                                                                  \n",
            "==================================================================================================\n",
            "Total params: 5,025,533\n",
            "Trainable params: 5,023,549\n",
            "Non-trainable params: 1,984\n",
            "__________________________________________________________________________________________________\n"
          ]
        }
      ]
    },
    {
      "cell_type": "code",
      "source": [
        "model.compile(optimizer = tf.keras.optimizers.Adam(0.001),  #优化器\n",
        "              loss ='hinge',\n",
        "#               loss ='squared_hinge',\n",
        "#               loss = 'categorical_crossentropy', #损失函数\n",
        "              metrics = ['accuracy']\n",
        "             )"
      ],
      "metadata": {
        "id": "qtosKutppL8p"
      },
      "execution_count": 14,
      "outputs": []
    },
    {
      "cell_type": "code",
      "source": [
        "import os \n",
        "log_dir = os.path.join('logs',datetime.datetime.now().strftime(\"%Y%m%d-%H%M%S\")) "
      ],
      "metadata": {
        "id": "i5kPHngPpPbp"
      },
      "execution_count": 15,
      "outputs": []
    },
    {
      "cell_type": "code",
      "source": [
        "tensorboard_callback = tf.keras.callbacks.TensorBoard(log_dir,histogram_freq=1)"
      ],
      "metadata": {
        "id": "y3GYy2vvpRc5"
      },
      "execution_count": 16,
      "outputs": []
    },
    {
      "cell_type": "code",
      "source": [
        "lr_reduce=keras.callbacks.ReduceLROnPlateau('val_loss',patience=3,factor=0.5,min_lr=0.000001)"
      ],
      "metadata": {
        "id": "I18UyHfwpUFx"
      },
      "execution_count": 17,
      "outputs": []
    },
    {
      "cell_type": "code",
      "source": [
        "history = model.fit(x_train,\n",
        "                    y_train,\n",
        "                    epochs=5,\n",
        "                    callbacks = [lr_reduce,tensorboard_callback],\n",
        "                    batch_size= 16,\n",
        "                    validation_data = (x_test,y_test),\n",
        "                    shuffle=True)"
      ],
      "metadata": {
        "colab": {
          "base_uri": "https://localhost:8080/"
        },
        "id": "59Am23eupUMB",
        "outputId": "a2f7171d-47ce-4ae1-b06e-11113d07bf38"
      },
      "execution_count": 18,
      "outputs": [
        {
          "output_type": "stream",
          "name": "stdout",
          "text": [
            "Epoch 1/5\n",
            "4516/4516 [==============================] - 1004s 221ms/step - loss: nan - accuracy: 0.8417 - val_loss: nan - val_accuracy: 0.8445 - lr: 0.0010\n",
            "Epoch 2/5\n",
            "4516/4516 [==============================] - 984s 218ms/step - loss: nan - accuracy: 0.8418 - val_loss: nan - val_accuracy: 0.8445 - lr: 0.0010\n",
            "Epoch 3/5\n",
            "4516/4516 [==============================] - 984s 218ms/step - loss: nan - accuracy: 0.8418 - val_loss: nan - val_accuracy: 0.8445 - lr: 0.0010\n",
            "Epoch 4/5\n",
            "4516/4516 [==============================] - 946s 209ms/step - loss: nan - accuracy: 0.8418 - val_loss: nan - val_accuracy: 0.8445 - lr: 5.0000e-04\n",
            "Epoch 5/5\n",
            "4516/4516 [==============================] - 988s 219ms/step - loss: nan - accuracy: 0.8418 - val_loss: nan - val_accuracy: 0.8445 - lr: 5.0000e-04\n"
          ]
        }
      ]
    },
    {
      "cell_type": "code",
      "source": [
        "score = model.evaluate(x_train, y_train, verbose=0)\n",
        "print('train loss:', score[0])\n",
        "print('train accuracy:', score[1])"
      ],
      "metadata": {
        "colab": {
          "base_uri": "https://localhost:8080/"
        },
        "id": "5_X_8w_Qpafp",
        "outputId": "9df630f5-c3fc-4505-dff9-d6c178f3472e"
      },
      "execution_count": 19,
      "outputs": [
        {
          "output_type": "stream",
          "name": "stdout",
          "text": [
            "train loss: nan\n",
            "train accuracy: 0.8417621850967407\n"
          ]
        }
      ]
    },
    {
      "cell_type": "code",
      "source": [
        "print(model.evaluate(x_test,y_test))"
      ],
      "metadata": {
        "colab": {
          "base_uri": "https://localhost:8080/"
        },
        "id": "VQj41lptpb2i",
        "outputId": "15e2258d-53cc-4441-d94f-44947fb363c2"
      },
      "execution_count": 20,
      "outputs": [
        {
          "output_type": "stream",
          "name": "stdout",
          "text": [
            "565/565 [==============================] - 41s 73ms/step - loss: nan - accuracy: 0.8445\n",
            "[nan, 0.8444887399673462]\n"
          ]
        }
      ]
    },
    {
      "cell_type": "code",
      "source": [
        "import matplotlib.pyplot as plt\n",
        "%matplotlib inline\n",
        "plt.plot(history.epoch, history.history.get('accuracy'),label='accuracy')\n",
        "plt.plot(history.epoch, history.history.get('val_accuracy'),label='val_accuracy')\n",
        "plt.legend()"
      ],
      "metadata": {
        "colab": {
          "base_uri": "https://localhost:8080/",
          "height": 282
        },
        "id": "R9-ubJzHpdRb",
        "outputId": "c8657d56-d31c-4927-a184-9055b591d25b"
      },
      "execution_count": 21,
      "outputs": [
        {
          "output_type": "execute_result",
          "data": {
            "text/plain": [
              "<matplotlib.legend.Legend at 0x7fde049f2460>"
            ]
          },
          "metadata": {},
          "execution_count": 21
        },
        {
          "output_type": "display_data",
          "data": {
            "text/plain": [
              "<Figure size 432x288 with 1 Axes>"
            ],
            "image/png": "[encoded data removed]"
          },
          "metadata": {
            "needs_background": "light"
          }
        }
      ]
    },
    {
      "cell_type": "code",
      "source": [
        "plt.plot(history.epoch, history.history.get('loss'),label='loss')\n",
        "plt.plot(history.epoch, history.history.get('val_loss'),label='val_loss')\n",
        "plt.legend()"
      ],
      "metadata": {
        "colab": {
          "base_uri": "https://localhost:8080/",
          "height": 282
        },
        "id": "WniWe_TGpeYx",
        "outputId": "c8c989ca-b5b0-4551-b1c0-89be9d761e47"
      },
      "execution_count": 22,
      "outputs": [
        {
          "output_type": "execute_result",
          "data": {
            "text/plain": [
              "<matplotlib.legend.Legend at 0x7fde0b4ff070>"
            ]
          },
          "metadata": {},
          "execution_count": 22
        },
        {
          "output_type": "display_data",
          "data": {
            "text/plain": [
              "<Figure size 432x288 with 1 Axes>"
            ],
            "image/png": "[encoded data removed]"
          },
          "metadata": {
            "needs_background": "light"
          }
        }
      ]
    },
    {
      "cell_type": "code",
      "source": [
        "from sklearn.metrics import classification_report\n",
        "\n",
        "Y_test = np.argmax(y_test, axis=1) # Convert one-hot to index\n",
        "predict = model.predict(x_test)\n",
        "y_pred=np.argmax(predict,axis=1)\n",
        "print(classification_report(Y_test, y_pred))"
      ],
      "metadata": {
        "colab": {
          "base_uri": "https://localhost:8080/"
        },
        "id": "sqVW-0XapfoJ",
        "outputId": "646119e1-31cc-47f2-b923-aff7ac4226e1"
      },
      "execution_count": 23,
      "outputs": [
        {
          "output_type": "stream",
          "name": "stdout",
          "text": [
            "565/565 [==============================] - 41s 72ms/step\n",
            "              precision    recall  f1-score   support\n",
            "\n",
            "           0       0.84      1.00      0.92     15254\n",
            "           1       0.00      0.00      0.00      2809\n",
            "\n",
            "    accuracy                           0.84     18063\n",
            "   macro avg       0.42      0.50      0.46     18063\n",
            "weighted avg       0.71      0.84      0.77     18063\n",
            "\n"
          ]
        },
        {
          "output_type": "stream",
          "name": "stderr",
          "text": [
            "/usr/local/lib/python3.8/dist-packages/sklearn/metrics/_classification.py:1318: UndefinedMetricWarning: Precision and F-score are ill-defined and being set to 0.0 in labels with no predicted samples. Use `zero_division` parameter to control this behavior.\n",
            "  _warn_prf(average, modifier, msg_start, len(result))\n",
            "/usr/local/lib/python3.8/dist-packages/sklearn/metrics/_classification.py:1318: UndefinedMetricWarning: Precision and F-score are ill-defined and being set to 0.0 in labels with no predicted samples. Use `zero_division` parameter to control this behavior.\n",
            "  _warn_prf(average, modifier, msg_start, len(result))\n",
            "/usr/local/lib/python3.8/dist-packages/sklearn/metrics/_classification.py:1318: UndefinedMetricWarning: Precision and F-score are ill-defined and being set to 0.0 in labels with no predicted samples. Use `zero_division` parameter to control this behavior.\n",
            "  _warn_prf(average, modifier, msg_start, len(result))\n"
          ]
        }
      ]
    }
  ]
}