{
  "nbformat": 4,
  "nbformat_minor": 0,
  "metadata": {
    "colab": {
      "provenance": [],
      "authorship_tag": "ABX9TyPjib1lEtnLxUcPEwKfNh4M",
      "include_colab_link": true
    },
    "kernelspec": {
      "name": "python3",
      "display_name": "Python 3"
    },
    "language_info": {
      "name": "python"
    }
  },
  "cells": [
    {
      "cell_type": "markdown",
      "metadata": {
        "id": "view-in-github",
        "colab_type": "text"
      },
      "source": [
        "<a href=\"https://colab.research.google.com/github/tarvt/DeleSmell_SA_G5/blob/main/dataset_class/minitwit-master/minitwit.ipynb\" target=\"_parent\"><img src=\"https://colab.research.google.com/assets/colab-badge.svg\" alt=\"Open In Colab\"/></a>"
      ]
    },
    {
      "cell_type": "code",
      "execution_count": 1,
      "metadata": {
        "colab": {
          "base_uri": "https://localhost:8080/"
        },
        "id": "l1AslIBc7EO1",
        "outputId": "2b2b8055-d1ea-4ac1-db3b-5f44b274b81a"
      },
      "outputs": [
        {
          "output_type": "stream",
          "name": "stdout",
          "text": [
            "Looking in indexes: https://pypi.org/simple, https://us-python.pkg.dev/colab-wheels/public/simple/\n",
            "Collecting docx\n",
            "  Downloading docx-0.2.4.tar.gz (54 kB)\n",
            "\u001b[2K     \u001b[90m━━━━━━━━━━━━━━━━━━━━━━━━━━━━━━━━━━━━━━━━\u001b[0m \u001b[32m54.9/54.9 KB\u001b[0m \u001b[31m3.4 MB/s\u001b[0m eta \u001b[36m0:00:00\u001b[0m\n",
            "\u001b[?25h  Preparing metadata (setup.py) ... \u001b[?25l\u001b[?25hdone\n",
            "Requirement already satisfied: lxml in /usr/local/lib/python3.8/dist-packages (from docx) (4.9.2)\n",
            "Requirement already satisfied: Pillow>=2.0 in /usr/local/lib/python3.8/dist-packages (from docx) (7.1.2)\n",
            "Building wheels for collected packages: docx\n",
            "  Building wheel for docx (setup.py) ... \u001b[?25l\u001b[?25hdone\n",
            "  Created wheel for docx: filename=docx-0.2.4-py3-none-any.whl size=53924 sha256=988059360a4c340879ea9013ed07c783f2f8aa4e8c633e9efd822073de2dc7f6\n",
            "  Stored in directory: /root/.cache/pip/wheels/78/ae/2e/5ce789557ca59281a463dabe9d6522e429be240322148e5379\n",
            "Successfully built docx\n",
            "Installing collected packages: docx\n",
            "Successfully installed docx-0.2.4\n"
          ]
        }
      ],
      "source": [
        "!pip install docx"
      ]
    },
    {
      "cell_type": "code",
      "source": [
        "!pip install exceptions"
      ],
      "metadata": {
        "colab": {
          "base_uri": "https://localhost:8080/"
        },
        "id": "WMsAoETN7h8U",
        "outputId": "2d58f626-5a2b-4573-9b5c-308389460074"
      },
      "execution_count": 2,
      "outputs": [
        {
          "output_type": "stream",
          "name": "stdout",
          "text": [
            "Looking in indexes: https://pypi.org/simple, https://us-python.pkg.dev/colab-wheels/public/simple/\n",
            "\u001b[31mERROR: Could not find a version that satisfies the requirement exceptions (from versions: none)\u001b[0m\u001b[31m\n",
            "\u001b[0m\u001b[31mERROR: No matching distribution found for exceptions\u001b[0m\u001b[31m\n",
            "\u001b[0m"
          ]
        }
      ]
    },
    {
      "cell_type": "code",
      "source": [
        "import pandas as pd\n",
        "import os\n",
        "import numpy as np\n",
        "import re\n",
        "from string import punctuation\n",
        "import pandas as pd\n",
        "import csv\n",
        "from sklearn.feature_extraction.text import CountVectorizer\n",
        "from sklearn.feature_extraction.text import TfidfVectorizer\n",
        "from sklearn.decomposition import TruncatedSVD"
      ],
      "metadata": {
        "id": "-dY9eCq17npu"
      },
      "execution_count": 3,
      "outputs": []
    },
    {
      "cell_type": "code",
      "source": [
        "from google.colab import drive\n",
        "drive.mount('/content/drive')"
      ],
      "metadata": {
        "colab": {
          "base_uri": "https://localhost:8080/"
        },
        "id": "GFpLgasr7oyu",
        "outputId": "00eaa955-fa00-4368-ed76-582a57847bb2"
      },
      "execution_count": 4,
      "outputs": [
        {
          "output_type": "stream",
          "name": "stdout",
          "text": [
            "Mounted at /content/drive\n"
          ]
        }
      ]
    },
    {
      "cell_type": "code",
      "source": [
        "save_file_csv = 'minitwit-master_class_all.csv'\n",
        "file_csv =  'minitwit-master.csv'\n",
        "file_dir = '/content/drive/MyDrive/delesmell/dataset_class/minitwit-master'"
      ],
      "metadata": {
        "id": "DQ82uJ3-7yqn"
      },
      "execution_count": 5,
      "outputs": []
    },
    {
      "cell_type": "code",
      "source": [
        "fileList = []\n",
        "def file_name(file_dir):\n",
        "    for root, dirs, files in os.walk(file_dir):\n",
        "#       print(root) #current directory path\n",
        "#       print(files) #All non-directory subfiles in the current path\n",
        "         for file in files:\n",
        "            if file[-4:] == '.txt':\n",
        "                fileList.append(os.path.join(root, file))"
      ],
      "metadata": {
        "id": "DOItH3Y38Mg8"
      },
      "execution_count": 6,
      "outputs": []
    },
    {
      "cell_type": "code",
      "source": [
        "file_name(file_dir)"
      ],
      "metadata": {
        "id": "8EYD8_kK8Ok3"
      },
      "execution_count": 7,
      "outputs": []
    },
    {
      "cell_type": "code",
      "source": [
        "fileList"
      ],
      "metadata": {
        "colab": {
          "base_uri": "https://localhost:8080/"
        },
        "id": "CjzTmG8W8RjL",
        "outputId": "7359a6e4-bcf6-4525-dcda-6384bbbef4da"
      },
      "execution_count": 8,
      "outputs": [
        {
          "output_type": "execute_result",
          "data": {
            "text/plain": [
              "['/content/drive/MyDrive/delesmell/dataset_class/minitwit-master/User.txt',\n",
              " '/content/drive/MyDrive/delesmell/dataset_class/minitwit-master/PasswordUtil.txt',\n",
              " '/content/drive/MyDrive/delesmell/dataset_class/minitwit-master/MessageDaoImpl.txt',\n",
              " '/content/drive/MyDrive/delesmell/dataset_class/minitwit-master/Message.txt',\n",
              " '/content/drive/MyDrive/delesmell/dataset_class/minitwit-master/MiniTwitService.txt',\n",
              " '/content/drive/MyDrive/delesmell/dataset_class/minitwit-master/GravatarUtil.txt',\n",
              " '/content/drive/MyDrive/delesmell/dataset_class/minitwit-master/WebConfig.txt',\n",
              " '/content/drive/MyDrive/delesmell/dataset_class/minitwit-master/App.txt',\n",
              " '/content/drive/MyDrive/delesmell/dataset_class/minitwit-master/LoginResult.txt',\n",
              " '/content/drive/MyDrive/delesmell/dataset_class/minitwit-master/UserDaoImpl.txt',\n",
              " '/content/drive/MyDrive/delesmell/dataset_class/minitwit-master/DatabaseConfig.txt']"
            ]
          },
          "metadata": {},
          "execution_count": 8
        }
      ]
    },
    {
      "cell_type": "code",
      "source": [
        "# stopwords\n",
        "stopwords = ['abstract', 'java','assert', 'boolean', 'break', 'byte', 'case', 'catch', 'class','char', 'continue', 'default', 'do', 'double', 'else', 'enum', 'extends', 'final', 'finally', 'float', 'for', 'if', 'implements', 'import', 'int', 'interface', 'long', 'native', 'new', 'package','private','public', 'protected',  'return', 'short', 'static', 'strictfp', 'super', 'switch', 'synchronized', 'this', 'throw', 'transient', 'try', 'void', 'volatile', 'while']\n",
        "dicts = {'\\n': '','!': '', '\"': '','：':'', '#': '', '$': '', '%': '', '&': '', \"'\": '', '(': '', ')': '', '*': '', '+': '', ',': '', '-': '', '.': '', '/': '', ':': '', ';': '', '<': '', '=': '', '>': '', '?': '', '@': '', '[': '', '\\\\': '', ']': '', '^': '', '_': '', '`': '', '{': '', '|': '', '}': '', '~': ''}\n",
        "# stopwords = {'abstract':'', 'java':'','assert':'', 'boolean':'', 'break':'', 'byte':'', 'case':'', 'catch':'', 'class':'','char':'', 'continue':'', 'default':'', 'do':'', 'double':'', 'else':'', 'enum':'', 'extends':'', 'final':'', 'finally':'', 'float':'', 'for':'', 'if':'', 'implements':'', 'import':'', 'int':'', 'interface':'', 'long':'', 'native':'', 'new':'', 'package':'','private':'','public':'', 'protected':'',  'return':'', 'short':'', 'static':'', 'strictfp':'', 'super':'', 'switch':'', 'synchronized':'', 'this':'', 'throw':'', 'transient':'', 'try':'','void':'', 'volatile':'', 'while':''}"
      ],
      "metadata": {
        "id": "yAHddY4E8TeU"
      },
      "execution_count": 9,
      "outputs": []
    },
    {
      "cell_type": "code",
      "source": [
        "def lm_find_unchinese(line):\n",
        "    pattern = re.compile(r'[\\u4e00-\\u9fa5]')\n",
        "    unchinese = re.sub(pattern,\"\",line)\n",
        "    unchinese = re.sub('[{}]'.format(punctuation),\"\",unchinese)\n",
        "    #print(\"unchinese:\",unchinese)\n",
        "    return unchinese"
      ],
      "metadata": {
        "id": "aW-TZV9Q8ZWt"
      },
      "execution_count": 10,
      "outputs": []
    },
    {
      "cell_type": "code",
      "source": [
        "def del_stopwords(line):\n",
        "\n",
        "    punc_table = str.maketrans(dicts)\n",
        "    new_line = line.translate(punc_table)\n",
        "\n",
        "\n",
        "    return new_line\n"
      ],
      "metadata": {
        "id": "k0Fe91wj8d1H"
      },
      "execution_count": 11,
      "outputs": []
    },
    {
      "cell_type": "code",
      "source": [
        "index = []\n",
        "index_all = []\n",
        "class_name = []\n",
        "Brain_Class = []\n",
        "for i, f in enumerate(fileList):\n",
        "    with open(f,encoding='gb18030',errors='ignore') as file:\n",
        "        list = []\n",
        "        list2 = []\n",
        "        is_brain = 0\n",
        "        filename = os.path.basename(file.name)\n",
        "        name = filename[:-4]\n",
        "        class_name.append(name)\n",
        "        list.append(name)\n",
        "        list2.append(name)\n",
        "        \n",
        "        for line in file.readlines():\n",
        "            line = lm_find_unchinese(line)\n",
        "            line = del_stopwords(line)\n",
        "            values = line.split(' ')\n",
        "            coefs = values[1:-1]\n",
        "            coefs = [i for i in coefs if i != '']\n",
        "            keyword_brain = 'hongshuai'            \n",
        "\n",
        "            if  keyword_brain in line:\n",
        "                is_brain = 1\n",
        "            if len(coefs) != 0:\n",
        "                if coefs != ' ':\n",
        "                    if coefs != '\\n':\n",
        "                        for i in coefs:\n",
        "                            list.append(i)\n",
        "\n",
        "        index.append(list)\n",
        "        \n",
        "        if is_brain == 0:\n",
        "            list2.append(False)\n",
        "        else :\n",
        "            list2.append(True)\n",
        "            print('T')\n",
        "        \n",
        "#         print (list2)\n",
        "        \n",
        "        Brain_Class.append(list2)\n",
        "            \n"
      ],
      "metadata": {
        "id": "Ayjb7zWQ8iI3"
      },
      "execution_count": 12,
      "outputs": []
    },
    {
      "cell_type": "code",
      "source": [
        "Brain_Class = np.array(Brain_Class)\n",
        "Brain_Class"
      ],
      "metadata": {
        "colab": {
          "base_uri": "https://localhost:8080/"
        },
        "id": "ZqAcIMmT8mWg",
        "outputId": "907a88c4-9185-4169-d008-2bc002bebe53"
      },
      "execution_count": 13,
      "outputs": [
        {
          "output_type": "execute_result",
          "data": {
            "text/plain": [
              "array([['User', 'False'],\n",
              "       ['PasswordUtil', 'False'],\n",
              "       ['MessageDaoImpl', 'False'],\n",
              "       ['Message', 'False'],\n",
              "       ['MiniTwitService', 'False'],\n",
              "       ['GravatarUtil', 'False'],\n",
              "       ['WebConfig', 'False'],\n",
              "       ['App', 'False'],\n",
              "       ['LoginResult', 'False'],\n",
              "       ['UserDaoImpl', 'False'],\n",
              "       ['DatabaseConfig', 'False']], dtype='<U15')"
            ]
          },
          "metadata": {},
          "execution_count": 13
        }
      ]
    },
    {
      "cell_type": "code",
      "source": [
        "def additem(list):\n",
        "    if len(list)<3:\n",
        "        q = len(list)-1\n",
        "        str = '_1'\n",
        "        str2 = '_2'\n",
        "        item = ''.join([list[q], str])\n",
        "        item_2 = ''.join([list[q], str2])\n",
        "        # item = list[q]\n",
        "        list.append(item)\n",
        "        list.append(item_2)\n",
        "        # print(list)\n",
        "    return list\n",
        "\n",
        "for item in index_all:\n",
        "    # print(item)\n",
        "    item = additem(item)\n",
        "    # print(item)"
      ],
      "metadata": {
        "id": "eyMx9KkJ8pMi"
      },
      "execution_count": 14,
      "outputs": []
    },
    {
      "cell_type": "code",
      "source": [
        "news_df = np.array(index,dtype=object)\n",
        "print(news_df)"
      ],
      "metadata": {
        "colab": {
          "base_uri": "https://localhost:8080/"
        },
        "id": "FbrYL6cH8ts8",
        "outputId": "780a3f8c-ee6a-4dea-a99e-cc6b0ba31503"
      },
      "execution_count": 15,
      "outputs": [
        {
          "output_type": "stream",
          "name": "stdout",
          "text": [
            "[list(['User', 'String', 'return', 'int', 'return', 'String', 'return', 'String', 'return', 'String', 'return', 'void', 'setEmailString', 'void', 'setIdint', 'void', 'setPassword2String', 'void', 'setPasswordString', 'void', 'setUsernameString', 'String', 'String', 'if', 'StringUtilsisEmptyusername', 'errorYou', 'have', 'to', 'enter', 'a', 'else', 'if', 'EMAILADDRESSREGEXmatcheremailmatches', 'errorYou', 'have', 'to', 'enter', 'a', 'valid', 'email', 'else', 'if', 'StringUtilsisEmptypassword', 'errorYou', 'have', 'to', 'enter', 'a', 'else', 'if', 'passwordequalspassword2', 'errorThe', 'two', 'passwords', 'do', 'not', 'return'])\n",
            " list(['PasswordUtil', 'static', 'String', 'hashPasswordString', 'String', 'return', 'static', 'boolean', 'verifyPasswordString', 'pwdString', 'boolean', 'return'])\n",
            " list(['MessageDaoImpl', 'public', 'void', 'insertMessageMessage', 'MapStringObject', 'paramsnew', 'String', 'sqlinsert', 'into', 'message', 'authorid', 'text', 'pubdate', 'values', 'userId', 'text', 'public', 'MessageDaoImplDataSource', 'templatenew'])\n",
            " list(['Message', 'String', 'return', 'Date', 'return', 'String', 'return', 'String', 'return', 'int', 'return', 'void', 'setGravatarString', 'void', 'setPubDateDate', 'if', 'pubDate', 'null', 'pubDateStrnew', 'SimpleDateFormatyyyyMMdd', 'void', 'setTextString', 'void', 'setUserIdint'])\n",
            " list(['MiniTwitService', 'void', 'addMessageMessage', 'LoginResult', 'checkUserUser', 'LoginResult', 'resultnew', 'User', 'if', 'userFound', 'null', 'resultsetErrorInvalid', 'else', 'if', 'PasswordUtilverifyPasswordusergetPassworduserFoundgetPassword', 'resultsetErrorInvalid', 'else', 'return', 'void', 'followUserUser', 'followerUser', 'ListMessage', 'return', 'User', 'getUserbyUsernameString', 'return', 'ListMessage', 'getUserFullTimelineMessagesUser', 'return', 'ListMessage', 'getUserTimelineMessagesUser', 'return', 'boolean', 'isUserFollowerUser', 'followerUser', 'return', 'void', 'registerUserUser', 'void', 'setMessageDaoMessageDao', 'void', 'setUserDaoUserDao', 'void', 'unfollowUserUser', 'followerUser'])\n",
            " list(['GravatarUtil', 'static', 'String', 'gravatarURLString', 'emailString', 'defaultImageint', 'return', 'static', 'String', 'hexbyte', 'StringBuffer', 'sbnew', 'for', 'int', 'i0', 'i', 'arraylength', 'i', 'sbappendIntegertoHexStringarrayi', '0xFF', 'return', 'static', 'String', 'md5HexString', 'try', 'MessageDigest', 'return', 'catch', 'NoSuchAlgorithmException', 'e', 'UnsupportedEncodingException', 'e', 'return'])\n",
            " list(['WebConfig', 'void', 'addAuthenticatedUserRequest', 'requestUser', 'User', 'getAuthenticatedUserRequest', 'return', 'void', 'removeAuthenticatedUserRequest', 'void', 'getreqres', 'User', 'MapStringObject', 'mapnew', 'ListMessage', 'return', 'new', 'beforereqres', 'User', 'if', 'user', 'null', 'getpublicreqres', 'User', 'MapStringObject', 'mapnew', 'mapputpageTitlePublic', 'ListMessage', 'return', 'new', 'gettusernamereqres', 'String', 'User', 'User', 'boolean', 'if', 'authUser', 'null', 'ListMessage', 'MapStringObject', 'mapnew', 'mapputpageTitleusername', 's', 'return', 'new', 'beforetusernamereqres', 'String', 'User', 'if', 'profileUser', 'null', 'halt404User', 'not', 'gettusernamefollowreqres', 'String', 'User', 'User', 'resredirectt', 'return', 'beforetusernamefollowreqres', 'String', 'User', 'User', 'if', 'authUser', 'null', 'else', 'if', 'profileUser', 'null', 'halt404User', 'not', 'gettusernameunfollowreqres', 'String', 'User', 'User', 'resredirectt', 'return', 'beforetusernameunfollowreqres', 'String', 'User', 'User', 'if', 'authUser', 'null', 'else', 'if', 'profileUser', 'null', 'halt404User', 'not', 'getloginreqres', 'MapStringObject', 'mapnew', 'if', 'reqqueryParamsr', 'null', 'mapputmessageYou', 'were', 'successfully', 'registered', 'and', 'can', 'login', 'return', 'new', 'postloginreqres', 'MapStringObject', 'mapnew', 'User', 'usernew', 'try', 'MultiMapString', 'paramsnew', 'catch', 'Exception', 'e', 'return', 'LoginResult', 'if', 'resultgetUser', 'null', 'else', 'return', 'new', 'beforeloginreqres', 'User', 'if', 'authUser', 'null', 'getregisterreqres', 'MapStringObject', 'mapnew', 'return', 'new', 'postregisterreqres', 'MapStringObject', 'mapnew', 'User', 'usernew', 'try', 'MultiMapString', 'paramsnew', 'catch', 'Exception', 'e', 'return', 'String', 'if', 'StringUtilsisEmptyerror', 'User', 'if', 'existingUser', 'null', 'else', 'errorThe', 'username', 'is', 'already', 'return', 'new', 'beforeregisterreqres', 'User', 'if', 'authUser', 'null', 'postmessagereqres', 'User', 'MultiMapString', 'paramsnew', 'Message', 'mnew', 'msetPubDatenew', 'return', 'beforemessagereqres', 'User', 'if', 'authUser', 'null', 'getlogoutreqres', 'return', 'WebConfigMiniTwitService'])\n",
            " list(['App', 'static', 'void', 'mainString', 'AnnotationConfigApplicationContext', 'ctxnew', 'new'])\n",
            " list(['LoginResult', 'String', 'return', 'User', 'return', 'void', 'setErrorString', 'void', 'setUserUser'])\n",
            " list(['UserDaoImpl', 'public', 'void', 'deleteFollowerUser', 'followerUser', 'MapStringObject', 'paramsnew', 'String', 'sqldelete', 'from', 'follower', 'where', 'followerid', 'follower', 'and', 'followeeid', 'public', 'void', 'insertFollowerUser', 'followerUser', 'MapStringObject', 'paramsnew', 'String', 'sqlinsert', 'into', 'follower', 'followerid', 'followeeid', 'values', 'follower', 'public', 'UserDaoImplDataSource', 'templatenew'])\n",
            " list(['DatabaseConfig', 'public', 'DataSource', 'EmbeddedDatabaseBuilder', 'buildernew', 'EmbeddedDatabase', 'return'])]\n"
          ]
        }
      ]
    },
    {
      "cell_type": "code",
      "source": [
        "\n",
        "def f_lsa(news_df, n):\n",
        "    vectorizer = CountVectorizer()\n",
        "    X = vectorizer.fit_transform(news_df)\n",
        "  \n",
        "    n_cap = 1\n",
        "    svd_model = TruncatedSVD(n_components=n_cap) \n",
        "    X2 = svd_model.fit_transform(X) \n",
        "    terms = vectorizer.get_feature_names()\n",
        "    for i, comp in enumerate(svd_model.components_):\n",
        "        terms_comp = zip(terms, comp)\n",
        "        sorted_terms = sorted(terms_comp, key=lambda x: x[1], reverse=True)[:7]\n",
        "        # print(\"Topic \" + str(i) + \": \")\n",
        "        for t in sorted_terms:\n",
        "            print(t[0])\n",
        "    print(\" \")\n",
        "\n",
        "    D = svd_model.components_\n",
        "    T = X2\n",
        "    S = np.diagflat(svd_model.singular_values_)\n",
        "\n",
        "    X = np.dot(T, S)\n",
        "    X = np.dot(X, D)\n",
        "    c = np.dot(X, X.T)\n",
        "\n",
        "    acsm = None\n",
        "    sum = 0\n",
        "    for i in c:\n",
        "        for j in i:\n",
        "            if j < 0:\n",
        "                j = 0\n",
        "            sum += j\n",
        "        acsm = sum / n / n\n",
        "\n",
        "    return acsm"
      ],
      "metadata": {
        "id": "oonx1nuk8v7m"
      },
      "execution_count": 16,
      "outputs": []
    },
    {
      "cell_type": "code",
      "source": [
        "q = 0\n",
        "acsm= []\n",
        "for i in index:\n",
        "    lists = []\n",
        "    print(\"*************\",i,\"****************\")\n",
        "    for j in i:\n",
        "        lists.append(j)\n",
        "    if len(lists) > 1:\n",
        "        acsm.append(f_lsa(lists,len(i)))\n",
        "    else :\n",
        "        acsm.append(1)"
      ],
      "metadata": {
        "colab": {
          "base_uri": "https://localhost:8080/"
        },
        "id": "uAPelcQw9Air",
        "outputId": "a10fe6f2-74a9-4b7e-9f8b-c11001179cf4"
      },
      "execution_count": 17,
      "outputs": [
        {
          "output_type": "stream",
          "name": "stdout",
          "text": [
            "************* ['User', 'String', 'return', 'int', 'return', 'String', 'return', 'String', 'return', 'String', 'return', 'void', 'setEmailString', 'void', 'setIdint', 'void', 'setPassword2String', 'void', 'setPasswordString', 'void', 'setUsernameString', 'String', 'String', 'if', 'StringUtilsisEmptyusername', 'errorYou', 'have', 'to', 'enter', 'a', 'else', 'if', 'EMAILADDRESSREGEXmatcheremailmatches', 'errorYou', 'have', 'to', 'enter', 'a', 'valid', 'email', 'else', 'if', 'StringUtilsisEmptypassword', 'errorYou', 'have', 'to', 'enter', 'a', 'else', 'if', 'passwordequalspassword2', 'errorThe', 'two', 'passwords', 'do', 'not', 'return'] ****************\n",
            "string\n",
            "int\n",
            "setpassword2string\n",
            "user\n",
            "errorthe\n",
            "stringutilsisemptyusername\n",
            "setusernamestring\n",
            " \n",
            "************* ['PasswordUtil', 'static', 'String', 'hashPasswordString', 'String', 'return', 'static', 'boolean', 'verifyPasswordString', 'pwdString', 'boolean', 'return'] ****************\n",
            "static\n",
            "hashpasswordstring\n",
            "string\n",
            "passwordutil\n",
            "boolean\n",
            "return\n",
            "verifypasswordstring\n",
            " \n",
            "************* ['MessageDaoImpl', 'public', 'void', 'insertMessageMessage', 'MapStringObject', 'paramsnew', 'String', 'sqlinsert', 'into', 'message', 'authorid', 'text', 'pubdate', 'values', 'userId', 'text', 'public', 'MessageDaoImplDataSource', 'templatenew'] ****************\n",
            "public\n",
            "message\n",
            "values\n",
            "userid\n",
            "messagedaoimpl\n",
            "string\n",
            "authorid\n",
            " \n",
            "************* ['Message', 'String', 'return', 'Date', 'return', 'String', 'return', 'String', 'return', 'int', 'return', 'void', 'setGravatarString', 'void', 'setPubDateDate', 'if', 'pubDate', 'null', 'pubDateStrnew', 'SimpleDateFormatyyyyMMdd', 'void', 'setTextString', 'void', 'setUserIdint'] ****************\n",
            "return\n",
            "pubdatestrnew\n",
            "setgravatarstring\n",
            "date\n",
            "simpledateformatyyyymmdd\n",
            "message\n",
            "setuseridint\n",
            " \n",
            "************* ['MiniTwitService', 'void', 'addMessageMessage', 'LoginResult', 'checkUserUser', 'LoginResult', 'resultnew', 'User', 'if', 'userFound', 'null', 'resultsetErrorInvalid', 'else', 'if', 'PasswordUtilverifyPasswordusergetPassworduserFoundgetPassword', 'resultsetErrorInvalid', 'else', 'return', 'void', 'followUserUser', 'followerUser', 'ListMessage', 'return', 'User', 'getUserbyUsernameString', 'return', 'ListMessage', 'getUserFullTimelineMessagesUser', 'return', 'ListMessage', 'getUserTimelineMessagesUser', 'return', 'boolean', 'isUserFollowerUser', 'followerUser', 'return', 'void', 'registerUserUser', 'void', 'setMessageDaoMessageDao', 'void', 'setUserDaoUserDao', 'void', 'unfollowUserUser', 'followerUser'] ****************\n",
            "return\n",
            "resultnew\n",
            "getuserbyusernamestring\n",
            "boolean\n",
            "getusertimelinemessagesuser\n",
            "getuserfulltimelinemessagesuser\n",
            "addmessagemessage\n",
            " \n",
            "************* ['GravatarUtil', 'static', 'String', 'gravatarURLString', 'emailString', 'defaultImageint', 'return', 'static', 'String', 'hexbyte', 'StringBuffer', 'sbnew', 'for', 'int', 'i0', 'i', 'arraylength', 'i', 'sbappendIntegertoHexStringarrayi', '0xFF', 'return', 'static', 'String', 'md5HexString', 'try', 'MessageDigest', 'return', 'catch', 'NoSuchAlgorithmException', 'e', 'UnsupportedEncodingException', 'e', 'return'] ****************\n",
            "return\n",
            "sbnew\n",
            "gravatarurlstring\n",
            "catch\n",
            "nosuchalgorithmexception\n",
            "for\n",
            "sbappendintegertohexstringarrayi\n",
            " \n",
            "************* ['WebConfig', 'void', 'addAuthenticatedUserRequest', 'requestUser', 'User', 'getAuthenticatedUserRequest', 'return', 'void', 'removeAuthenticatedUserRequest', 'void', 'getreqres', 'User', 'MapStringObject', 'mapnew', 'ListMessage', 'return', 'new', 'beforereqres', 'User', 'if', 'user', 'null', 'getpublicreqres', 'User', 'MapStringObject', 'mapnew', 'mapputpageTitlePublic', 'ListMessage', 'return', 'new', 'gettusernamereqres', 'String', 'User', 'User', 'boolean', 'if', 'authUser', 'null', 'ListMessage', 'MapStringObject', 'mapnew', 'mapputpageTitleusername', 's', 'return', 'new', 'beforetusernamereqres', 'String', 'User', 'if', 'profileUser', 'null', 'halt404User', 'not', 'gettusernamefollowreqres', 'String', 'User', 'User', 'resredirectt', 'return', 'beforetusernamefollowreqres', 'String', 'User', 'User', 'if', 'authUser', 'null', 'else', 'if', 'profileUser', 'null', 'halt404User', 'not', 'gettusernameunfollowreqres', 'String', 'User', 'User', 'resredirectt', 'return', 'beforetusernameunfollowreqres', 'String', 'User', 'User', 'if', 'authUser', 'null', 'else', 'if', 'profileUser', 'null', 'halt404User', 'not', 'getloginreqres', 'MapStringObject', 'mapnew', 'if', 'reqqueryParamsr', 'null', 'mapputmessageYou', 'were', 'successfully', 'registered', 'and', 'can', 'login', 'return', 'new', 'postloginreqres', 'MapStringObject', 'mapnew', 'User', 'usernew', 'try', 'MultiMapString', 'paramsnew', 'catch', 'Exception', 'e', 'return', 'LoginResult', 'if', 'resultgetUser', 'null', 'else', 'return', 'new', 'beforeloginreqres', 'User', 'if', 'authUser', 'null', 'getregisterreqres', 'MapStringObject', 'mapnew', 'return', 'new', 'postregisterreqres', 'MapStringObject', 'mapnew', 'User', 'usernew', 'try', 'MultiMapString', 'paramsnew', 'catch', 'Exception', 'e', 'return', 'String', 'if', 'StringUtilsisEmptyerror', 'User', 'if', 'existingUser', 'null', 'else', 'errorThe', 'username', 'is', 'already', 'return', 'new', 'beforeregisterreqres', 'User', 'if', 'authUser', 'null', 'postmessagereqres', 'User', 'MultiMapString', 'paramsnew', 'Message', 'mnew', 'msetPubDatenew', 'return', 'beforemessagereqres', 'User', 'if', 'authUser', 'null', 'getlogoutreqres', 'return', 'WebConfigMiniTwitService'] ****************\n",
            "user\n",
            "void\n",
            "resredirectt\n",
            "usernew\n",
            "try\n",
            "mapstringobject\n",
            "halt404user\n",
            " \n"
          ]
        },
        {
          "output_type": "stream",
          "name": "stderr",
          "text": [
            "/usr/local/lib/python3.8/dist-packages/sklearn/utils/deprecation.py:87: FutureWarning: Function get_feature_names is deprecated; get_feature_names is deprecated in 1.0 and will be removed in 1.2. Please use get_feature_names_out instead.\n",
            "  warnings.warn(msg, category=FutureWarning)\n"
          ]
        },
        {
          "output_type": "stream",
          "name": "stdout",
          "text": [
            "************* ['App', 'static', 'void', 'mainString', 'AnnotationConfigApplicationContext', 'ctxnew', 'new'] ****************\n",
            "static\n",
            "ctxnew\n",
            "mainstring\n",
            "void\n",
            "app\n",
            "annotationconfigapplicationcontext\n",
            "new\n",
            " \n",
            "************* ['LoginResult', 'String', 'return', 'User', 'return', 'void', 'setErrorString', 'void', 'setUserUser'] ****************\n",
            "return\n",
            "loginresult\n",
            "seterrorstring\n",
            "setuseruser\n",
            "user\n",
            "string\n",
            "void\n",
            " \n",
            "************* ['UserDaoImpl', 'public', 'void', 'deleteFollowerUser', 'followerUser', 'MapStringObject', 'paramsnew', 'String', 'sqldelete', 'from', 'follower', 'where', 'followerid', 'follower', 'and', 'followeeid', 'public', 'void', 'insertFollowerUser', 'followerUser', 'MapStringObject', 'paramsnew', 'String', 'sqlinsert', 'into', 'follower', 'followerid', 'followeeid', 'values', 'follower', 'public', 'UserDaoImplDataSource', 'templatenew'] ****************\n",
            "follower\n",
            "templatenew\n",
            "into\n",
            "userdaoimpl\n",
            "userdaoimpldatasource\n",
            "sqlinsert\n",
            "from\n",
            " \n",
            "************* ['DatabaseConfig', 'public', 'DataSource', 'EmbeddedDatabaseBuilder', 'buildernew', 'EmbeddedDatabase', 'return'] ****************\n",
            "embeddeddatabase\n",
            "return\n",
            "datasource\n",
            "embeddeddatabasebuilder\n",
            "buildernew\n",
            "databaseconfig\n",
            "public\n",
            " \n"
          ]
        }
      ]
    },
    {
      "cell_type": "code",
      "source": [
        "c = []\n",
        "for i in range(len(class_name)):\n",
        "      for j in range(len(acsm)):\n",
        "        if i==j:\n",
        "            t=[class_name[i],acsm[j]]\n",
        "            c.append(t)\n",
        "c = np.array(c)\n"
      ],
      "metadata": {
        "id": "T9zYEnFT9GRH"
      },
      "execution_count": 18,
      "outputs": []
    },
    {
      "cell_type": "code",
      "source": [
        "from tensorflow.keras.layers import Input\n",
        "from keras.models import Model\n",
        "from keras.layers import Dense"
      ],
      "metadata": {
        "id": "9W8pnQSH9Lrr"
      },
      "execution_count": 20,
      "outputs": []
    },
    {
      "cell_type": "code",
      "source": [
        "def word2vec_train(index):\n",
        "    list = []\n",
        "    list.append(index[0])\n",
        "    words = []\n",
        "\n",
        "    additem(index)\n",
        "    print(index)\n",
        "    for word in index:\n",
        "        if word not in words:\n",
        "            words.append(word)\n",
        "\n",
        "    word2int = {}\n",
        "    for i,word in enumerate(words):\n",
        "        word2int[word] = i\n",
        "    print(word2int)\n",
        "\n",
        "\n",
        "\n",
        "    WINDOW_SIZE=2\n",
        "    data = []\n",
        "    for idx,word in enumerate(index):\n",
        "        for neighbor in index[max(idx - WINDOW_SIZE,0) : min(idx + WINDOW_SIZE,len(index))+ 1]:\n",
        "            if neighbor != word:\n",
        "                data.append([word, neighbor])\n",
        "    df = pd.DataFrame(data,columns=['input','label'])\n",
        "\n",
        "\n",
        "    ONE_HOT_DIM = len(words)\n",
        "    def to_one_hot_encoding(data_point_index):\n",
        "        one_hot_encoding = np.zeros(ONE_HOT_DIM)\n",
        "        one_hot_encoding[data_point_index] = 1\n",
        "        return one_hot_encoding\n",
        "\n",
        "    X = []\n",
        "    Y = []\n",
        "\n",
        "    for x, y in zip(df['input'],df['label']):\n",
        "        X.append(to_one_hot_encoding(word2int[x]))\n",
        "        Y.append(to_one_hot_encoding(word2int[y]))\n",
        "\n",
        "    x_train = np.array(X)\n",
        "    y_train = np.array(Y)\n",
        "    embed_size = 3\n",
        "    xx = Input(shape=(x_train.shape[1],))\n",
        "    yy = Dense(units=embed_size, activation='linear')(xx)\n",
        "    yy =Dense(units=y_train.shape[1],activation='softmax')(yy)\n",
        "    model = Model(inputs=xx, outputs=yy)\n",
        "    model.compile(loss = 'categorical_crossentropy',optimizer = 'adam')\n",
        "    model.fit(x=x_train,y=y_train,\n",
        "            batch_size=16,\n",
        "            epochs=10\n",
        "    )\n",
        "    weights = model.get_weights()[0]\n",
        "\n",
        "    for word in words:\n",
        "        q = weights[df.get(word)]\n",
        "\n",
        "        arr_new = np.sum(q, axis=1)\n",
        "        print('-----------------------')\n",
        "        print(arr_new.shape)\n",
        "        print('-----------------------')\n",
        "        arr_new = arr_new.tolist()\n",
        "\n",
        "        list.append(arr_new)\n",
        "\n",
        "        break\n",
        "    return list\n"
      ],
      "metadata": {
        "id": "Nt_YOKSY9OLT"
      },
      "execution_count": 22,
      "outputs": []
    },
    {
      "cell_type": "code",
      "source": [
        "embedding = []\n",
        "for item in index:\n",
        "    embedding.append(word2vec_train(item))\n",
        "print(embedding)"
      ],
      "metadata": {
        "colab": {
          "base_uri": "https://localhost:8080/"
        },
        "id": "ke8z9lFA9pD7",
        "outputId": "64a2a71f-c5a2-483f-8dd2-3294cf4e230c"
      },
      "execution_count": 23,
      "outputs": [
        {
          "output_type": "stream",
          "name": "stdout",
          "text": [
            "['User', 'String', 'return', 'int', 'return', 'String', 'return', 'String', 'return', 'String', 'return', 'void', 'setEmailString', 'void', 'setIdint', 'void', 'setPassword2String', 'void', 'setPasswordString', 'void', 'setUsernameString', 'String', 'String', 'if', 'StringUtilsisEmptyusername', 'errorYou', 'have', 'to', 'enter', 'a', 'else', 'if', 'EMAILADDRESSREGEXmatcheremailmatches', 'errorYou', 'have', 'to', 'enter', 'a', 'valid', 'email', 'else', 'if', 'StringUtilsisEmptypassword', 'errorYou', 'have', 'to', 'enter', 'a', 'else', 'if', 'passwordequalspassword2', 'errorThe', 'two', 'passwords', 'do', 'not', 'return']\n",
            "{'User': 0, 'String': 1, 'return': 2, 'int': 3, 'void': 4, 'setEmailString': 5, 'setIdint': 6, 'setPassword2String': 7, 'setPasswordString': 8, 'setUsernameString': 9, 'if': 10, 'StringUtilsisEmptyusername': 11, 'errorYou': 12, 'have': 13, 'to': 14, 'enter': 15, 'a': 16, 'else': 17, 'EMAILADDRESSREGEXmatcheremailmatches': 18, 'valid': 19, 'email': 20, 'StringUtilsisEmptypassword': 21, 'passwordequalspassword2': 22, 'errorThe': 23, 'two': 24, 'passwords': 25, 'do': 26, 'not': 27}\n",
            "Epoch 1/10\n",
            "13/13 [==============================] - 1s 7ms/step - loss: 3.3352\n",
            "Epoch 2/10\n",
            "13/13 [==============================] - 0s 4ms/step - loss: 3.3283\n",
            "Epoch 3/10\n",
            "13/13 [==============================] - 0s 4ms/step - loss: 3.3222\n",
            "Epoch 4/10\n",
            "13/13 [==============================] - 0s 6ms/step - loss: 3.3166\n",
            "Epoch 5/10\n",
            "13/13 [==============================] - 0s 3ms/step - loss: 3.3108\n",
            "Epoch 6/10\n",
            "13/13 [==============================] - 0s 3ms/step - loss: 3.3052\n",
            "Epoch 7/10\n",
            "13/13 [==============================] - 0s 2ms/step - loss: 3.2995\n",
            "Epoch 8/10\n",
            "13/13 [==============================] - 0s 2ms/step - loss: 3.2940\n",
            "Epoch 9/10\n",
            "13/13 [==============================] - 0s 2ms/step - loss: 3.2886\n",
            "Epoch 10/10\n",
            "13/13 [==============================] - 0s 2ms/step - loss: 3.2830\n",
            "-----------------------\n",
            "(1, 3)\n",
            "-----------------------\n",
            "['PasswordUtil', 'static', 'String', 'hashPasswordString', 'String', 'return', 'static', 'boolean', 'verifyPasswordString', 'pwdString', 'boolean', 'return']\n",
            "{'PasswordUtil': 0, 'static': 1, 'String': 2, 'hashPasswordString': 3, 'return': 4, 'boolean': 5, 'verifyPasswordString': 6, 'pwdString': 7}\n",
            "Epoch 1/10\n",
            "3/3 [==============================] - 0s 4ms/step - loss: 2.0474\n",
            "Epoch 2/10\n",
            "3/3 [==============================] - 0s 5ms/step - loss: 2.0448\n",
            "Epoch 3/10\n",
            "3/3 [==============================] - 0s 5ms/step - loss: 2.0431\n",
            "Epoch 4/10\n",
            "3/3 [==============================] - 0s 4ms/step - loss: 2.0414\n",
            "Epoch 5/10\n",
            "3/3 [==============================] - 0s 4ms/step - loss: 2.0398\n",
            "Epoch 6/10\n",
            "3/3 [==============================] - 0s 4ms/step - loss: 2.0380\n",
            "Epoch 7/10\n",
            "3/3 [==============================] - 0s 4ms/step - loss: 2.0363\n",
            "Epoch 8/10\n",
            "3/3 [==============================] - 0s 5ms/step - loss: 2.0347\n",
            "Epoch 9/10\n",
            "3/3 [==============================] - 0s 4ms/step - loss: 2.0331\n",
            "Epoch 10/10\n",
            "3/3 [==============================] - 0s 4ms/step - loss: 2.0315\n",
            "-----------------------\n",
            "(1, 3)\n",
            "-----------------------\n",
            "['MessageDaoImpl', 'public', 'void', 'insertMessageMessage', 'MapStringObject', 'paramsnew', 'String', 'sqlinsert', 'into', 'message', 'authorid', 'text', 'pubdate', 'values', 'userId', 'text', 'public', 'MessageDaoImplDataSource', 'templatenew']\n",
            "{'MessageDaoImpl': 0, 'public': 1, 'void': 2, 'insertMessageMessage': 3, 'MapStringObject': 4, 'paramsnew': 5, 'String': 6, 'sqlinsert': 7, 'into': 8, 'message': 9, 'authorid': 10, 'text': 11, 'pubdate': 12, 'values': 13, 'userId': 14, 'MessageDaoImplDataSource': 15, 'templatenew': 16}\n",
            "Epoch 1/10\n",
            "5/5 [==============================] - 0s 3ms/step - loss: 2.8724\n",
            "Epoch 2/10\n",
            "5/5 [==============================] - 0s 3ms/step - loss: 2.8694\n",
            "Epoch 3/10\n",
            "5/5 [==============================] - 0s 3ms/step - loss: 2.8671\n",
            "Epoch 4/10\n",
            "5/5 [==============================] - 0s 3ms/step - loss: 2.8646\n",
            "Epoch 5/10\n",
            "5/5 [==============================] - 0s 3ms/step - loss: 2.8624\n",
            "Epoch 6/10\n",
            "5/5 [==============================] - 0s 3ms/step - loss: 2.8601\n",
            "Epoch 7/10\n",
            "5/5 [==============================] - 0s 4ms/step - loss: 2.8578\n",
            "Epoch 8/10\n",
            "5/5 [==============================] - 0s 5ms/step - loss: 2.8554\n",
            "Epoch 9/10\n",
            "5/5 [==============================] - 0s 3ms/step - loss: 2.8534\n",
            "Epoch 10/10\n",
            "5/5 [==============================] - 0s 3ms/step - loss: 2.8511\n",
            "-----------------------\n",
            "(1, 3)\n",
            "-----------------------\n",
            "['Message', 'String', 'return', 'Date', 'return', 'String', 'return', 'String', 'return', 'int', 'return', 'void', 'setGravatarString', 'void', 'setPubDateDate', 'if', 'pubDate', 'null', 'pubDateStrnew', 'SimpleDateFormatyyyyMMdd', 'void', 'setTextString', 'void', 'setUserIdint']\n",
            "{'Message': 0, 'String': 1, 'return': 2, 'Date': 3, 'int': 4, 'void': 5, 'setGravatarString': 6, 'setPubDateDate': 7, 'if': 8, 'pubDate': 9, 'null': 10, 'pubDateStrnew': 11, 'SimpleDateFormatyyyyMMdd': 12, 'setTextString': 13, 'setUserIdint': 14}\n",
            "Epoch 1/10\n",
            "5/5 [==============================] - 0s 3ms/step - loss: 2.7310\n",
            "Epoch 2/10\n",
            "5/5 [==============================] - 0s 3ms/step - loss: 2.7268\n",
            "Epoch 3/10\n",
            "5/5 [==============================] - 0s 3ms/step - loss: 2.7231\n",
            "Epoch 4/10\n",
            "5/5 [==============================] - 0s 3ms/step - loss: 2.7198\n",
            "Epoch 5/10\n",
            "5/5 [==============================] - 0s 4ms/step - loss: 2.7163\n",
            "Epoch 6/10\n",
            "5/5 [==============================] - 0s 3ms/step - loss: 2.7130\n",
            "Epoch 7/10\n",
            "5/5 [==============================] - 0s 3ms/step - loss: 2.7094\n",
            "Epoch 8/10\n",
            "5/5 [==============================] - 0s 3ms/step - loss: 2.7061\n",
            "Epoch 9/10\n",
            "5/5 [==============================] - 0s 3ms/step - loss: 2.7031\n",
            "Epoch 10/10\n",
            "5/5 [==============================] - 0s 3ms/step - loss: 2.6996\n",
            "-----------------------\n",
            "(1, 3)\n",
            "-----------------------\n",
            "['MiniTwitService', 'void', 'addMessageMessage', 'LoginResult', 'checkUserUser', 'LoginResult', 'resultnew', 'User', 'if', 'userFound', 'null', 'resultsetErrorInvalid', 'else', 'if', 'PasswordUtilverifyPasswordusergetPassworduserFoundgetPassword', 'resultsetErrorInvalid', 'else', 'return', 'void', 'followUserUser', 'followerUser', 'ListMessage', 'return', 'User', 'getUserbyUsernameString', 'return', 'ListMessage', 'getUserFullTimelineMessagesUser', 'return', 'ListMessage', 'getUserTimelineMessagesUser', 'return', 'boolean', 'isUserFollowerUser', 'followerUser', 'return', 'void', 'registerUserUser', 'void', 'setMessageDaoMessageDao', 'void', 'setUserDaoUserDao', 'void', 'unfollowUserUser', 'followerUser']\n",
            "{'MiniTwitService': 0, 'void': 1, 'addMessageMessage': 2, 'LoginResult': 3, 'checkUserUser': 4, 'resultnew': 5, 'User': 6, 'if': 7, 'userFound': 8, 'null': 9, 'resultsetErrorInvalid': 10, 'else': 11, 'PasswordUtilverifyPasswordusergetPassworduserFoundgetPassword': 12, 'return': 13, 'followUserUser': 14, 'followerUser': 15, 'ListMessage': 16, 'getUserbyUsernameString': 17, 'getUserFullTimelineMessagesUser': 18, 'getUserTimelineMessagesUser': 19, 'boolean': 20, 'isUserFollowerUser': 21, 'registerUserUser': 22, 'setMessageDaoMessageDao': 23, 'setUserDaoUserDao': 24, 'unfollowUserUser': 25}\n",
            "Epoch 1/10\n",
            "11/11 [==============================] - 0s 3ms/step - loss: 3.2694\n",
            "Epoch 2/10\n",
            "11/11 [==============================] - 0s 2ms/step - loss: 3.2621\n",
            "Epoch 3/10\n",
            "11/11 [==============================] - 0s 2ms/step - loss: 3.2554\n",
            "Epoch 4/10\n",
            "11/11 [==============================] - 0s 3ms/step - loss: 3.2492\n",
            "Epoch 5/10\n",
            "11/11 [==============================] - 0s 3ms/step - loss: 3.2433\n",
            "Epoch 6/10\n",
            "11/11 [==============================] - 0s 3ms/step - loss: 3.2374\n",
            "Epoch 7/10\n",
            "11/11 [==============================] - 0s 2ms/step - loss: 3.2311\n",
            "Epoch 8/10\n",
            "11/11 [==============================] - 0s 3ms/step - loss: 3.2254\n",
            "Epoch 9/10\n",
            "11/11 [==============================] - 0s 2ms/step - loss: 3.2194\n",
            "Epoch 10/10\n",
            "11/11 [==============================] - 0s 3ms/step - loss: 3.2137\n",
            "-----------------------\n",
            "(1, 3)\n",
            "-----------------------\n",
            "['GravatarUtil', 'static', 'String', 'gravatarURLString', 'emailString', 'defaultImageint', 'return', 'static', 'String', 'hexbyte', 'StringBuffer', 'sbnew', 'for', 'int', 'i0', 'i', 'arraylength', 'i', 'sbappendIntegertoHexStringarrayi', '0xFF', 'return', 'static', 'String', 'md5HexString', 'try', 'MessageDigest', 'return', 'catch', 'NoSuchAlgorithmException', 'e', 'UnsupportedEncodingException', 'e', 'return']\n",
            "{'GravatarUtil': 0, 'static': 1, 'String': 2, 'gravatarURLString': 3, 'emailString': 4, 'defaultImageint': 5, 'return': 6, 'hexbyte': 7, 'StringBuffer': 8, 'sbnew': 9, 'for': 10, 'int': 11, 'i0': 12, 'i': 13, 'arraylength': 14, 'sbappendIntegertoHexStringarrayi': 15, '0xFF': 16, 'md5HexString': 17, 'try': 18, 'MessageDigest': 19, 'catch': 20, 'NoSuchAlgorithmException': 21, 'e': 22, 'UnsupportedEncodingException': 23}\n",
            "Epoch 1/10\n",
            "8/8 [==============================] - 0s 2ms/step - loss: 3.1946\n",
            "Epoch 2/10\n",
            "8/8 [==============================] - 0s 2ms/step - loss: 3.1907\n",
            "Epoch 3/10\n",
            "8/8 [==============================] - 0s 2ms/step - loss: 3.1872\n",
            "Epoch 4/10\n",
            "8/8 [==============================] - 0s 3ms/step - loss: 3.1841\n",
            "Epoch 5/10\n",
            "8/8 [==============================] - 0s 3ms/step - loss: 3.1809\n",
            "Epoch 6/10\n",
            "8/8 [==============================] - 0s 2ms/step - loss: 3.1778\n",
            "Epoch 7/10\n",
            "8/8 [==============================] - 0s 2ms/step - loss: 3.1747\n",
            "Epoch 8/10\n",
            "8/8 [==============================] - 0s 2ms/step - loss: 3.1716\n",
            "Epoch 9/10\n",
            "8/8 [==============================] - 0s 2ms/step - loss: 3.1686\n",
            "Epoch 10/10\n",
            "8/8 [==============================] - 0s 2ms/step - loss: 3.1656\n",
            "-----------------------\n",
            "(1, 3)\n",
            "-----------------------\n",
            "['WebConfig', 'void', 'addAuthenticatedUserRequest', 'requestUser', 'User', 'getAuthenticatedUserRequest', 'return', 'void', 'removeAuthenticatedUserRequest', 'void', 'getreqres', 'User', 'MapStringObject', 'mapnew', 'ListMessage', 'return', 'new', 'beforereqres', 'User', 'if', 'user', 'null', 'getpublicreqres', 'User', 'MapStringObject', 'mapnew', 'mapputpageTitlePublic', 'ListMessage', 'return', 'new', 'gettusernamereqres', 'String', 'User', 'User', 'boolean', 'if', 'authUser', 'null', 'ListMessage', 'MapStringObject', 'mapnew', 'mapputpageTitleusername', 's', 'return', 'new', 'beforetusernamereqres', 'String', 'User', 'if', 'profileUser', 'null', 'halt404User', 'not', 'gettusernamefollowreqres', 'String', 'User', 'User', 'resredirectt', 'return', 'beforetusernamefollowreqres', 'String', 'User', 'User', 'if', 'authUser', 'null', 'else', 'if', 'profileUser', 'null', 'halt404User', 'not', 'gettusernameunfollowreqres', 'String', 'User', 'User', 'resredirectt', 'return', 'beforetusernameunfollowreqres', 'String', 'User', 'User', 'if', 'authUser', 'null', 'else', 'if', 'profileUser', 'null', 'halt404User', 'not', 'getloginreqres', 'MapStringObject', 'mapnew', 'if', 'reqqueryParamsr', 'null', 'mapputmessageYou', 'were', 'successfully', 'registered', 'and', 'can', 'login', 'return', 'new', 'postloginreqres', 'MapStringObject', 'mapnew', 'User', 'usernew', 'try', 'MultiMapString', 'paramsnew', 'catch', 'Exception', 'e', 'return', 'LoginResult', 'if', 'resultgetUser', 'null', 'else', 'return', 'new', 'beforeloginreqres', 'User', 'if', 'authUser', 'null', 'getregisterreqres', 'MapStringObject', 'mapnew', 'return', 'new', 'postregisterreqres', 'MapStringObject', 'mapnew', 'User', 'usernew', 'try', 'MultiMapString', 'paramsnew', 'catch', 'Exception', 'e', 'return', 'String', 'if', 'StringUtilsisEmptyerror', 'User', 'if', 'existingUser', 'null', 'else', 'errorThe', 'username', 'is', 'already', 'return', 'new', 'beforeregisterreqres', 'User', 'if', 'authUser', 'null', 'postmessagereqres', 'User', 'MultiMapString', 'paramsnew', 'Message', 'mnew', 'msetPubDatenew', 'return', 'beforemessagereqres', 'User', 'if', 'authUser', 'null', 'getlogoutreqres', 'return', 'WebConfigMiniTwitService']\n",
            "{'WebConfig': 0, 'void': 1, 'addAuthenticatedUserRequest': 2, 'requestUser': 3, 'User': 4, 'getAuthenticatedUserRequest': 5, 'return': 6, 'removeAuthenticatedUserRequest': 7, 'getreqres': 8, 'MapStringObject': 9, 'mapnew': 10, 'ListMessage': 11, 'new': 12, 'beforereqres': 13, 'if': 14, 'user': 15, 'null': 16, 'getpublicreqres': 17, 'mapputpageTitlePublic': 18, 'gettusernamereqres': 19, 'String': 20, 'boolean': 21, 'authUser': 22, 'mapputpageTitleusername': 23, 's': 24, 'beforetusernamereqres': 25, 'profileUser': 26, 'halt404User': 27, 'not': 28, 'gettusernamefollowreqres': 29, 'resredirectt': 30, 'beforetusernamefollowreqres': 31, 'else': 32, 'gettusernameunfollowreqres': 33, 'beforetusernameunfollowreqres': 34, 'getloginreqres': 35, 'reqqueryParamsr': 36, 'mapputmessageYou': 37, 'were': 38, 'successfully': 39, 'registered': 40, 'and': 41, 'can': 42, 'login': 43, 'postloginreqres': 44, 'usernew': 45, 'try': 46, 'MultiMapString': 47, 'paramsnew': 48, 'catch': 49, 'Exception': 50, 'e': 51, 'LoginResult': 52, 'resultgetUser': 53, 'beforeloginreqres': 54, 'getregisterreqres': 55, 'postregisterreqres': 56, 'StringUtilsisEmptyerror': 57, 'existingUser': 58, 'errorThe': 59, 'username': 60, 'is': 61, 'already': 62, 'beforeregisterreqres': 63, 'postmessagereqres': 64, 'Message': 65, 'mnew': 66, 'msetPubDatenew': 67, 'beforemessagereqres': 68, 'getlogoutreqres': 69, 'WebConfigMiniTwitService': 70}\n",
            "Epoch 1/10\n",
            "45/45 [==============================] - 0s 2ms/step - loss: 4.2598\n",
            "Epoch 2/10\n",
            "45/45 [==============================] - 0s 2ms/step - loss: 4.2362\n",
            "Epoch 3/10\n",
            "45/45 [==============================] - 0s 2ms/step - loss: 4.2133\n",
            "Epoch 4/10\n",
            "45/45 [==============================] - 0s 2ms/step - loss: 4.1900\n",
            "Epoch 5/10\n",
            "45/45 [==============================] - 0s 2ms/step - loss: 4.1650\n",
            "Epoch 6/10\n",
            "45/45 [==============================] - 0s 2ms/step - loss: 4.1359\n",
            "Epoch 7/10\n",
            "45/45 [==============================] - 0s 2ms/step - loss: 4.1015\n",
            "Epoch 8/10\n",
            "45/45 [==============================] - 0s 3ms/step - loss: 4.0596\n",
            "Epoch 9/10\n",
            "45/45 [==============================] - 0s 3ms/step - loss: 4.0093\n",
            "Epoch 10/10\n",
            "45/45 [==============================] - 0s 2ms/step - loss: 3.9528\n",
            "-----------------------\n",
            "(1, 3)\n",
            "-----------------------\n",
            "['App', 'static', 'void', 'mainString', 'AnnotationConfigApplicationContext', 'ctxnew', 'new']\n",
            "{'App': 0, 'static': 1, 'void': 2, 'mainString': 3, 'AnnotationConfigApplicationContext': 4, 'ctxnew': 5, 'new': 6}\n",
            "Epoch 1/10\n",
            "2/2 [==============================] - 0s 6ms/step - loss: 1.9587\n",
            "Epoch 2/10\n",
            "2/2 [==============================] - 0s 9ms/step - loss: 1.9570\n",
            "Epoch 3/10\n",
            "2/2 [==============================] - 0s 6ms/step - loss: 1.9559\n",
            "Epoch 4/10\n",
            "2/2 [==============================] - 0s 5ms/step - loss: 1.9546\n",
            "Epoch 5/10\n",
            "2/2 [==============================] - 0s 8ms/step - loss: 1.9535\n",
            "Epoch 6/10\n",
            "2/2 [==============================] - 0s 6ms/step - loss: 1.9527\n",
            "Epoch 7/10\n",
            "2/2 [==============================] - 0s 7ms/step - loss: 1.9516\n",
            "Epoch 8/10\n",
            "2/2 [==============================] - 0s 9ms/step - loss: 1.9506\n",
            "Epoch 9/10\n",
            "2/2 [==============================] - 0s 6ms/step - loss: 1.9496\n",
            "Epoch 10/10\n",
            "2/2 [==============================] - 0s 6ms/step - loss: 1.9488\n",
            "-----------------------\n",
            "(1, 3)\n",
            "-----------------------\n",
            "['LoginResult', 'String', 'return', 'User', 'return', 'void', 'setErrorString', 'void', 'setUserUser']\n",
            "{'LoginResult': 0, 'String': 1, 'return': 2, 'User': 3, 'void': 4, 'setErrorString': 5, 'setUserUser': 6}\n",
            "Epoch 1/10\n",
            "2/2 [==============================] - 0s 9ms/step - loss: 2.0718\n",
            "Epoch 2/10\n",
            "2/2 [==============================] - 0s 6ms/step - loss: 2.0686\n",
            "Epoch 3/10\n",
            "2/2 [==============================] - 0s 8ms/step - loss: 2.0654\n",
            "Epoch 4/10\n",
            "2/2 [==============================] - 0s 7ms/step - loss: 2.0632\n",
            "Epoch 5/10\n",
            "2/2 [==============================] - 0s 5ms/step - loss: 2.0603\n",
            "Epoch 6/10\n",
            "2/2 [==============================] - 0s 7ms/step - loss: 2.0579\n",
            "Epoch 7/10\n",
            "2/2 [==============================] - 0s 8ms/step - loss: 2.0548\n",
            "Epoch 8/10\n",
            "2/2 [==============================] - 0s 7ms/step - loss: 2.0524\n",
            "Epoch 9/10\n",
            "2/2 [==============================] - 0s 12ms/step - loss: 2.0503\n",
            "Epoch 10/10\n",
            "2/2 [==============================] - 0s 9ms/step - loss: 2.0476\n",
            "-----------------------\n",
            "(1, 3)\n",
            "-----------------------\n",
            "['UserDaoImpl', 'public', 'void', 'deleteFollowerUser', 'followerUser', 'MapStringObject', 'paramsnew', 'String', 'sqldelete', 'from', 'follower', 'where', 'followerid', 'follower', 'and', 'followeeid', 'public', 'void', 'insertFollowerUser', 'followerUser', 'MapStringObject', 'paramsnew', 'String', 'sqlinsert', 'into', 'follower', 'followerid', 'followeeid', 'values', 'follower', 'public', 'UserDaoImplDataSource', 'templatenew']\n",
            "{'UserDaoImpl': 0, 'public': 1, 'void': 2, 'deleteFollowerUser': 3, 'followerUser': 4, 'MapStringObject': 5, 'paramsnew': 6, 'String': 7, 'sqldelete': 8, 'from': 9, 'follower': 10, 'where': 11, 'followerid': 12, 'and': 13, 'followeeid': 14, 'insertFollowerUser': 15, 'sqlinsert': 16, 'into': 17, 'values': 18, 'UserDaoImplDataSource': 19, 'templatenew': 20}\n",
            "Epoch 1/10\n",
            "8/8 [==============================] - 0s 2ms/step - loss: 3.0661\n",
            "Epoch 2/10\n",
            "8/8 [==============================] - 0s 2ms/step - loss: 3.0616\n",
            "Epoch 3/10\n",
            "8/8 [==============================] - 0s 3ms/step - loss: 3.0578\n",
            "Epoch 4/10\n",
            "8/8 [==============================] - 0s 3ms/step - loss: 3.0540\n",
            "Epoch 5/10\n",
            "8/8 [==============================] - 0s 3ms/step - loss: 3.0502\n",
            "Epoch 6/10\n",
            "8/8 [==============================] - 0s 4ms/step - loss: 3.0470\n",
            "Epoch 7/10\n",
            "8/8 [==============================] - 0s 3ms/step - loss: 3.0433\n",
            "Epoch 8/10\n",
            "8/8 [==============================] - 0s 3ms/step - loss: 3.0400\n",
            "Epoch 9/10\n",
            "8/8 [==============================] - 0s 3ms/step - loss: 3.0366\n",
            "Epoch 10/10\n",
            "8/8 [==============================] - 0s 3ms/step - loss: 3.0333\n",
            "-----------------------\n",
            "(1, 3)\n",
            "-----------------------\n",
            "['DatabaseConfig', 'public', 'DataSource', 'EmbeddedDatabaseBuilder', 'buildernew', 'EmbeddedDatabase', 'return']\n",
            "{'DatabaseConfig': 0, 'public': 1, 'DataSource': 2, 'EmbeddedDatabaseBuilder': 3, 'buildernew': 4, 'EmbeddedDatabase': 5, 'return': 6}\n",
            "Epoch 1/10\n",
            "2/2 [==============================] - 0s 9ms/step - loss: 1.9650\n",
            "Epoch 2/10\n",
            "2/2 [==============================] - 0s 11ms/step - loss: 1.9628\n",
            "Epoch 3/10\n",
            "2/2 [==============================] - 0s 11ms/step - loss: 1.9612\n",
            "Epoch 4/10\n",
            "2/2 [==============================] - 0s 13ms/step - loss: 1.9599\n",
            "Epoch 5/10\n",
            "2/2 [==============================] - 0s 8ms/step - loss: 1.9584\n",
            "Epoch 6/10\n",
            "2/2 [==============================] - 0s 6ms/step - loss: 1.9575\n",
            "Epoch 7/10\n",
            "2/2 [==============================] - 0s 9ms/step - loss: 1.9559\n",
            "Epoch 8/10\n",
            "2/2 [==============================] - 0s 5ms/step - loss: 1.9548\n",
            "Epoch 9/10\n",
            "2/2 [==============================] - 0s 10ms/step - loss: 1.9536\n",
            "Epoch 10/10\n",
            "2/2 [==============================] - 0s 11ms/step - loss: 1.9522\n",
            "-----------------------\n",
            "(1, 3)\n",
            "-----------------------\n",
            "[['User', [[1.2962735891342163, 0.16354641318321228, -1.041110634803772]]], ['PasswordUtil', [[0.0786430835723877, -0.7868704795837402, 1.8373239040374756]]], ['MessageDaoImpl', [[2.2616400718688965, -0.2186679095029831, 1.922260046005249]]], ['Message', [[-0.8794382810592651, -2.2091736793518066, 1.7925269603729248]]], ['MiniTwitService', [[0.8079283833503723, 1.187026023864746, -1.954716682434082]]], ['GravatarUtil', [[-0.28398996591567993, 1.5102334022521973, 1.1534993648529053]]], ['WebConfig', [[-2.300699472427368, -0.6562130451202393, -2.6025209426879883]]], ['App', [[-0.46651896834373474, 0.18667840957641602, -2.442998170852661]]], ['LoginResult', [[-2.154491662979126, 0.4988941252231598, -1.070984125137329]]], ['UserDaoImpl', [[-1.3756475448608398, -1.7135554552078247, -0.4772516191005707]]], ['DatabaseConfig', [[0.31890326738357544, -0.7010241150856018, 0.8390819430351257]]]]\n"
          ]
        }
      ]
    },
    {
      "cell_type": "code",
      "source": [
        "df =pd.read_csv('/content/drive/MyDrive/delesmell/dataset_class/minitwit-master/minitwit_class_all.csv') "
      ],
      "metadata": {
        "id": "yJqroBT29wk2"
      },
      "execution_count": 26,
      "outputs": []
    },
    {
      "cell_type": "code",
      "source": [
        "x= df.iloc[:, 0]"
      ],
      "metadata": {
        "id": "E71l2rAa-H1j"
      },
      "execution_count": 27,
      "outputs": []
    },
    {
      "cell_type": "code",
      "source": [
        "ngList = []"
      ],
      "metadata": {
        "id": "VuucsEnN-uDX"
      },
      "execution_count": 28,
      "outputs": []
    },
    {
      "cell_type": "code",
      "source": [
        "for index in x:\n",
        "    q = 1\n",
        "    for i in range(0,len(embedding)):\n",
        "        st = str(embedding[i][0])\n",
        "        st = st[1:]\n",
        "        if index == st:\n",
        "            ngList.append(embedding[i][1])\n",
        "            q = 0\n",
        "    if q==1 :\n",
        "        ngList.append([[1, 1, 1]])\n",
        "\n",
        "\n",
        "\n",
        "word2vec = []\n",
        "list1 = []\n",
        "list2 = []\n",
        "list3 = []\n",
        "for i in range(0,len(ngList)):\n",
        "    word2vec.append(ngList[i][0])\n",
        "\n",
        "for i in range(0,len(word2vec)):\n",
        "    list1.append(word2vec[i][0])\n",
        "for i in range(0,len(word2vec)):\n",
        "    list2.append(word2vec[i][1])\n",
        "for i in range(0,len(word2vec)):\n",
        "    list3.append(word2vec[i][2])\n"
      ],
      "metadata": {
        "id": "y9d5RphO-wLG"
      },
      "execution_count": 29,
      "outputs": []
    },
    {
      "cell_type": "code",
      "source": [
        "for i in range(0,len(Brain_Class)):\n",
        "    if 'False' == Brain_Class[i][1]:\n",
        "        q = 1\n",
        "    else :\n",
        "        print('*')"
      ],
      "metadata": {
        "id": "zFFFn-8K-2gu"
      },
      "execution_count": 30,
      "outputs": []
    },
    {
      "cell_type": "code",
      "source": [
        "len(Brain_Class[0][0])"
      ],
      "metadata": {
        "colab": {
          "base_uri": "https://localhost:8080/"
        },
        "id": "N4WrixEJ-5Me",
        "outputId": "63711ac7-90fe-44f2-be03-4ff350656b6c"
      },
      "execution_count": 31,
      "outputs": [
        {
          "output_type": "execute_result",
          "data": {
            "text/plain": [
              "4"
            ]
          },
          "metadata": {},
          "execution_count": 31
        }
      ]
    },
    {
      "cell_type": "code",
      "source": [
        "\n",
        "ngList=[]\n",
        "\n",
        "for index in x:\n",
        "    q = 1\n",
        "    for i in range(0,len(c)):\n",
        "        st = str(c[i][0])\n",
        "        st = st[1:]\n",
        "        if index == st:\n",
        "            ngList.append(c[i][1])\n",
        "            q = 0\n",
        "    if q==1 :\n",
        "        ngList.append(1)\n",
        "        "
      ],
      "metadata": {
        "id": "vn3k9gVi-7NW"
      },
      "execution_count": 32,
      "outputs": []
    },
    {
      "cell_type": "code",
      "source": [
        "brainList=[]\n",
        "\n",
        "for index in x:\n",
        "    q = 1\n",
        "    for i in range(0,len(c)):\n",
        "        st = str(Brain_Class[i][0])\n",
        "        st = st[1:]\n",
        "        if index == st:\n",
        "            brainList.append(Brain_Class[i][1])\n",
        "            q = 0\n",
        "    if q==1 :\n",
        "        brainList.append('0')\n",
        "        \n",
        "        \n",
        "print(len(brainList))\n",
        "print(len(x))"
      ],
      "metadata": {
        "colab": {
          "base_uri": "https://localhost:8080/"
        },
        "id": "bwxiPx4j_AyO",
        "outputId": "dcde0b86-6357-43f0-adc0-6051271eb9f0"
      },
      "execution_count": 33,
      "outputs": [
        {
          "output_type": "stream",
          "name": "stdout",
          "text": [
            "10\n",
            "10\n"
          ]
        }
      ]
    },
    {
      "cell_type": "code",
      "source": [
        "column=df.columns.tolist()"
      ],
      "metadata": {
        "id": "X--4YbFx_FMa"
      },
      "execution_count": 34,
      "outputs": []
    },
    {
      "cell_type": "code",
      "source": [
        "df['acsm'] = ngList\n",
        "df['word2vec'] = list1\n",
        "df['word2vec2'] = list2\n",
        "df['word2vec3'] = list3\n",
        "df['is_brain'] = brainList\n",
        "df.to_csv(save_file_csv,mode = 'a',index =False)"
      ],
      "metadata": {
        "id": "dDQiY7c0_Htj"
      },
      "execution_count": 35,
      "outputs": []
    },
    {
      "cell_type": "code",
      "source": [
        "df.head()"
      ],
      "metadata": {
        "colab": {
          "base_uri": "https://localhost:8080/",
          "height": 235
        },
        "id": "nSbJOks2_Jid",
        "outputId": "e5a50541-e4fc-4d3a-823d-d55c156d847b"
      },
      "execution_count": 36,
      "outputs": [
        {
          "output_type": "execute_result",
          "data": {
            "text/plain": [
              "             NAME   AMW  ATDF  BOVM  BUR  CBO  CC  CM  CRIX  DAC  ...  NOM  \\\n",
              "0             App  1.00     0     0    1    0   0   0   0.0    0  ...    1   \n",
              "1  DatabaseConfig  1.00     0     0    1    0   0   0   0.0    0  ...    1   \n",
              "2    GravatarUtil  1.33     0     0    1    0   0   0   0.0    0  ...    3   \n",
              "3    PasswordUtil  1.00     0     0    1    0   0   0   0.0    0  ...    2   \n",
              "4      MessageDao  0.00     0     0    1    0   1   4   0.0    0  ...    4   \n",
              "\n",
              "   NOPA  TCC  WMC  WOC  acsm  word2vec  word2vec2  word2vec3  is_brain  \n",
              "0     0  1.0    1  1.0     1         1          1          1         0  \n",
              "1     0  1.0    1  1.0     1         1          1          1         0  \n",
              "2     0  0.0    4  1.0     1         1          1          1         0  \n",
              "3     0  0.0    2  1.0     1         1          1          1         0  \n",
              "4     0  0.0    0  1.0     1         1          1          1         0  \n",
              "\n",
              "[5 rows x 30 columns]"
            ],
            "text/html": [
              "\n",
              "  <div id=\"df-134e9897-4101-4420-a94e-b063d5b5a10f\">\n",
              "    <div class=\"colab-df-container\">\n",
              "      <div>\n",
              "<style scoped>\n",
              "    .dataframe tbody tr th:only-of-type {\n",
              "        vertical-align: middle;\n",
              "    }\n",
              "\n",
              "    .dataframe tbody tr th {\n",
              "        vertical-align: top;\n",
              "    }\n",
              "\n",
              "    .dataframe thead th {\n",
              "        text-align: right;\n",
              "    }\n",
              "</style>\n",
              "<table border=\"1\" class=\"dataframe\">\n",
              "  <thead>\n",
              "    <tr style=\"text-align: right;\">\n",
              "      <th></th>\n",
              "      <th>NAME</th>\n",
              "      <th>AMW</th>\n",
              "      <th>ATDF</th>\n",
              "      <th>BOVM</th>\n",
              "      <th>BUR</th>\n",
              "      <th>CBO</th>\n",
              "      <th>CC</th>\n",
              "      <th>CM</th>\n",
              "      <th>CRIX</th>\n",
              "      <th>DAC</th>\n",
              "      <th>...</th>\n",
              "      <th>NOM</th>\n",
              "      <th>NOPA</th>\n",
              "      <th>TCC</th>\n",
              "      <th>WMC</th>\n",
              "      <th>WOC</th>\n",
              "      <th>acsm</th>\n",
              "      <th>word2vec</th>\n",
              "      <th>word2vec2</th>\n",
              "      <th>word2vec3</th>\n",
              "      <th>is_brain</th>\n",
              "    </tr>\n",
              "  </thead>\n",
              "  <tbody>\n",
              "    <tr>\n",
              "      <th>0</th>\n",
              "      <td>App</td>\n",
              "      <td>1.00</td>\n",
              "      <td>0</td>\n",
              "      <td>0</td>\n",
              "      <td>1</td>\n",
              "      <td>0</td>\n",
              "      <td>0</td>\n",
              "      <td>0</td>\n",
              "      <td>0.0</td>\n",
              "      <td>0</td>\n",
              "      <td>...</td>\n",
              "      <td>1</td>\n",
              "      <td>0</td>\n",
              "      <td>1.0</td>\n",
              "      <td>1</td>\n",
              "      <td>1.0</td>\n",
              "      <td>1</td>\n",
              "      <td>1</td>\n",
              "      <td>1</td>\n",
              "      <td>1</td>\n",
              "      <td>0</td>\n",
              "    </tr>\n",
              "    <tr>\n",
              "      <th>1</th>\n",
              "      <td>DatabaseConfig</td>\n",
              "      <td>1.00</td>\n",
              "      <td>0</td>\n",
              "      <td>0</td>\n",
              "      <td>1</td>\n",
              "      <td>0</td>\n",
              "      <td>0</td>\n",
              "      <td>0</td>\n",
              "      <td>0.0</td>\n",
              "      <td>0</td>\n",
              "      <td>...</td>\n",
              "      <td>1</td>\n",
              "      <td>0</td>\n",
              "      <td>1.0</td>\n",
              "      <td>1</td>\n",
              "      <td>1.0</td>\n",
              "      <td>1</td>\n",
              "      <td>1</td>\n",
              "      <td>1</td>\n",
              "      <td>1</td>\n",
              "      <td>0</td>\n",
              "    </tr>\n",
              "    <tr>\n",
              "      <th>2</th>\n",
              "      <td>GravatarUtil</td>\n",
              "      <td>1.33</td>\n",
              "      <td>0</td>\n",
              "      <td>0</td>\n",
              "      <td>1</td>\n",
              "      <td>0</td>\n",
              "      <td>0</td>\n",
              "      <td>0</td>\n",
              "      <td>0.0</td>\n",
              "      <td>0</td>\n",
              "      <td>...</td>\n",
              "      <td>3</td>\n",
              "      <td>0</td>\n",
              "      <td>0.0</td>\n",
              "      <td>4</td>\n",
              "      <td>1.0</td>\n",
              "      <td>1</td>\n",
              "      <td>1</td>\n",
              "      <td>1</td>\n",
              "      <td>1</td>\n",
              "      <td>0</td>\n",
              "    </tr>\n",
              "    <tr>\n",
              "      <th>3</th>\n",
              "      <td>PasswordUtil</td>\n",
              "      <td>1.00</td>\n",
              "      <td>0</td>\n",
              "      <td>0</td>\n",
              "      <td>1</td>\n",
              "      <td>0</td>\n",
              "      <td>0</td>\n",
              "      <td>0</td>\n",
              "      <td>0.0</td>\n",
              "      <td>0</td>\n",
              "      <td>...</td>\n",
              "      <td>2</td>\n",
              "      <td>0</td>\n",
              "      <td>0.0</td>\n",
              "      <td>2</td>\n",
              "      <td>1.0</td>\n",
              "      <td>1</td>\n",
              "      <td>1</td>\n",
              "      <td>1</td>\n",
              "      <td>1</td>\n",
              "      <td>0</td>\n",
              "    </tr>\n",
              "    <tr>\n",
              "      <th>4</th>\n",
              "      <td>MessageDao</td>\n",
              "      <td>0.00</td>\n",
              "      <td>0</td>\n",
              "      <td>0</td>\n",
              "      <td>1</td>\n",
              "      <td>0</td>\n",
              "      <td>1</td>\n",
              "      <td>4</td>\n",
              "      <td>0.0</td>\n",
              "      <td>0</td>\n",
              "      <td>...</td>\n",
              "      <td>4</td>\n",
              "      <td>0</td>\n",
              "      <td>0.0</td>\n",
              "      <td>0</td>\n",
              "      <td>1.0</td>\n",
              "      <td>1</td>\n",
              "      <td>1</td>\n",
              "      <td>1</td>\n",
              "      <td>1</td>\n",
              "      <td>0</td>\n",
              "    </tr>\n",
              "  </tbody>\n",
              "</table>\n",
              "<p>5 rows × 30 columns</p>\n",
              "</div>\n",
              "      <button class=\"colab-df-convert\" onclick=\"convertToInteractive('df-134e9897-4101-4420-a94e-b063d5b5a10f')\"\n",
              "              title=\"Convert this dataframe to an interactive table.\"\n",
              "              style=\"display:none;\">\n",
              "        \n",
              "  <svg xmlns=\"http://www.w3.org/2000/svg\" height=\"24px\"viewBox=\"0 0 24 24\"\n",
              "       width=\"24px\">\n",
              "    <path d=\"M0 0h24v24H0V0z\" fill=\"none\"/>\n",
              "    <path d=\"M18.56 5.44l.94 2.06.94-2.06 2.06-.94-2.06-.94-.94-2.06-.94 2.06-2.06.94zm-11 1L8.5 8.5l.94-2.06 2.06-.94-2.06-.94L8.5 2.5l-.94 2.06-2.06.94zm10 10l.94 2.06.94-2.06 2.06-.94-2.06-.94-.94-2.06-.94 2.06-2.06.94z\"/><path d=\"M17.41 7.96l-1.37-1.37c-.4-.4-.92-.59-1.43-.59-.52 0-1.04.2-1.43.59L10.3 9.45l-7.72 7.72c-.78.78-.78 2.05 0 2.83L4 21.41c.39.39.9.59 1.41.59.51 0 1.02-.2 1.41-.59l7.78-7.78 2.81-2.81c.8-.78.8-2.07 0-2.86zM5.41 20L4 18.59l7.72-7.72 1.47 1.35L5.41 20z\"/>\n",
              "  </svg>\n",
              "      </button>\n",
              "      \n",
              "  <style>\n",
              "    .colab-df-container {\n",
              "      display:flex;\n",
              "      flex-wrap:wrap;\n",
              "      gap: 12px;\n",
              "    }\n",
              "\n",
              "    .colab-df-convert {\n",
              "      background-color: #E8F0FE;\n",
              "      border: none;\n",
              "      border-radius: 50%;\n",
              "      cursor: pointer;\n",
              "      display: none;\n",
              "      fill: #1967D2;\n",
              "      height: 32px;\n",
              "      padding: 0 0 0 0;\n",
              "      width: 32px;\n",
              "    }\n",
              "\n",
              "    .colab-df-convert:hover {\n",
              "      background-color: #E2EBFA;\n",
              "      box-shadow: 0px 1px 2px rgba(60, 64, 67, 0.3), 0px 1px 3px 1px rgba(60, 64, 67, 0.15);\n",
              "      fill: #174EA6;\n",
              "    }\n",
              "\n",
              "    [theme=dark] .colab-df-convert {\n",
              "      background-color: #3B4455;\n",
              "      fill: #D2E3FC;\n",
              "    }\n",
              "\n",
              "    [theme=dark] .colab-df-convert:hover {\n",
              "      background-color: #434B5C;\n",
              "      box-shadow: 0px 1px 3px 1px rgba(0, 0, 0, 0.15);\n",
              "      filter: drop-shadow(0px 1px 2px rgba(0, 0, 0, 0.3));\n",
              "      fill: #FFFFFF;\n",
              "    }\n",
              "  </style>\n",
              "\n",
              "      <script>\n",
              "        const buttonEl =\n",
              "          document.querySelector('#df-134e9897-4101-4420-a94e-b063d5b5a10f button.colab-df-convert');\n",
              "        buttonEl.style.display =\n",
              "          google.colab.kernel.accessAllowed ? 'block' : 'none';\n",
              "\n",
              "        async function convertToInteractive(key) {\n",
              "          const element = document.querySelector('#df-134e9897-4101-4420-a94e-b063d5b5a10f');\n",
              "          const dataTable =\n",
              "            await google.colab.kernel.invokeFunction('convertToInteractive',\n",
              "                                                     [key], {});\n",
              "          if (!dataTable) return;\n",
              "\n",
              "          const docLinkHtml = 'Like what you see? Visit the ' +\n",
              "            '<a target=\"_blank\" href=https://colab.research.google.com/notebooks/data_table.ipynb>data table notebook</a>'\n",
              "            + ' to learn more about interactive tables.';\n",
              "          element.innerHTML = '';\n",
              "          dataTable['output_type'] = 'display_data';\n",
              "          await google.colab.output.renderOutput(dataTable, element);\n",
              "          const docLink = document.createElement('div');\n",
              "          docLink.innerHTML = docLinkHtml;\n",
              "          element.appendChild(docLink);\n",
              "        }\n",
              "      </script>\n",
              "    </div>\n",
              "  </div>\n",
              "  "
            ]
          },
          "metadata": {},
          "execution_count": 36
        }
      ]
    },
    {
      "cell_type": "code",
      "source": [],
      "metadata": {
        "id": "VxfO9mOb_Lg8"
      },
      "execution_count": null,
      "outputs": []
    }
  ]
}