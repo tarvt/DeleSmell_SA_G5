{
  "nbformat": 4,
  "nbformat_minor": 0,
  "metadata": {
    "colab": {
      "provenance": [],
      "authorship_tag": "ABX9TyNu84oGuVi33/aJ0dqc7Snn",
      "include_colab_link": true
    },
    "kernelspec": {
      "name": "python3",
      "display_name": "Python 3"
    },
    "language_info": {
      "name": "python"
    }
  },
  "cells": [
    {
      "cell_type": "markdown",
      "metadata": {
        "id": "view-in-github",
        "colab_type": "text"
      },
      "source": [
        "<a href=\"https://colab.research.google.com/github/tarvt/DeleSmell_SA_G5/blob/main/dataset_class/Blue-Block/blue_semantic.ipynb\" target=\"_parent\"><img src=\"https://colab.research.google.com/assets/colab-badge.svg\" alt=\"Open In Colab\"/></a>"
      ]
    },
    {
      "cell_type": "code",
      "execution_count": 2,
      "metadata": {
        "colab": {
          "base_uri": "https://localhost:8080/"
        },
        "id": "TiSsV9GSvpUe",
        "outputId": "40f1bdff-8e47-429f-e717-9e73006f42d9"
      },
      "outputs": [
        {
          "output_type": "stream",
          "name": "stdout",
          "text": [
            "Looking in indexes: https://pypi.org/simple, https://us-python.pkg.dev/colab-wheels/public/simple/\n",
            "Collecting docx\n",
            "  Downloading docx-0.2.4.tar.gz (54 kB)\n",
            "\u001b[K     |████████████████████████████████| 54 kB 3.3 MB/s \n",
            "\u001b[?25hRequirement already satisfied: lxml in /usr/local/lib/python3.8/dist-packages (from docx) (4.9.2)\n",
            "Requirement already satisfied: Pillow>=2.0 in /usr/local/lib/python3.8/dist-packages (from docx) (7.1.2)\n",
            "Building wheels for collected packages: docx\n",
            "  Building wheel for docx (setup.py) ... \u001b[?25l\u001b[?25hdone\n",
            "  Created wheel for docx: filename=docx-0.2.4-py3-none-any.whl size=53924 sha256=0471cdbacc96ff5fe10473c8d4f6b5aaf5eb25926885ccdc497bff7bb38250cf\n",
            "  Stored in directory: /root/.cache/pip/wheels/78/ae/2e/5ce789557ca59281a463dabe9d6522e429be240322148e5379\n",
            "Successfully built docx\n",
            "Installing collected packages: docx\n",
            "Successfully installed docx-0.2.4\n"
          ]
        }
      ],
      "source": [
        "!pip install docx"
      ]
    },
    {
      "cell_type": "code",
      "source": [
        "!pip install exceptions"
      ],
      "metadata": {
        "colab": {
          "base_uri": "https://localhost:8080/"
        },
        "id": "MsW61xIRwLiO",
        "outputId": "6212d157-f9bc-4c78-9058-d486a1b0e572"
      },
      "execution_count": 4,
      "outputs": [
        {
          "output_type": "stream",
          "name": "stdout",
          "text": [
            "Looking in indexes: https://pypi.org/simple, https://us-python.pkg.dev/colab-wheels/public/simple/\n",
            "\u001b[31mERROR: Could not find a version that satisfies the requirement exceptions (from versions: none)\u001b[0m\n",
            "\u001b[31mERROR: No matching distribution found for exceptions\u001b[0m\n"
          ]
        }
      ]
    },
    {
      "cell_type": "code",
      "source": [
        "import pandas as pd\n",
        "import os\n",
        "#from docx import Document\n",
        "#from docx.oxml.ns import qn\n",
        "#from docx.shared import Pt\n",
        "import numpy as np\n",
        "import re\n",
        "from string import punctuation\n",
        "import pandas as pd\n",
        "import csv\n",
        "from sklearn.feature_extraction.text import CountVectorizer\n",
        "from sklearn.feature_extraction.text import TfidfVectorizer\n",
        "from sklearn.decomposition import TruncatedSVD"
      ],
      "metadata": {
        "id": "ZhEVI7PsvynH"
      },
      "execution_count": 6,
      "outputs": []
    },
    {
      "cell_type": "code",
      "source": [
        "from google.colab import drive\n",
        "drive.mount('/content/drive')"
      ],
      "metadata": {
        "colab": {
          "base_uri": "https://localhost:8080/"
        },
        "id": "-b2YW1moxykP",
        "outputId": "825f4802-69f1-499e-ad58-691414973dfe"
      },
      "execution_count": 7,
      "outputs": [
        {
          "output_type": "stream",
          "name": "stdout",
          "text": [
            "Mounted at /content/drive\n"
          ]
        }
      ]
    },
    {
      "cell_type": "code",
      "source": [
        "save_file_csv = 'blue2.csv'\n",
        "file_csv =  'blue.csv'\n",
        "file_dir = '/content/drive/MyDrive/delesmell/dataset_class/Blue-Block' #Newly stored class address\n"
      ],
      "metadata": {
        "id": "B2gTa8MpyB62"
      },
      "execution_count": 8,
      "outputs": []
    },
    {
      "cell_type": "code",
      "source": [
        "fileList = []\n",
        "def file_name(file_dir):\n",
        "    for root, dirs, files in os.walk(file_dir):\n",
        "#       print(root) #current directory path\n",
        "#       print(files) #All non-directory subfiles in the current path\n",
        "         for file in files:\n",
        "            if file[-4:] == '.txt':\n",
        "                fileList.append(os.path.join(root, file))"
      ],
      "metadata": {
        "id": "VuuquDY6yiFe"
      },
      "execution_count": 9,
      "outputs": []
    },
    {
      "cell_type": "code",
      "source": [
        "file_name(file_dir)"
      ],
      "metadata": {
        "id": "nSG3m-eV11Tw"
      },
      "execution_count": 10,
      "outputs": []
    },
    {
      "cell_type": "code",
      "source": [
        "fileList"
      ],
      "metadata": {
        "colab": {
          "base_uri": "https://localhost:8080/"
        },
        "id": "_OpR-AI118oO",
        "outputId": "c827a471-32cc-4572-bb53-04c482db88a4"
      },
      "execution_count": 11,
      "outputs": [
        {
          "output_type": "execute_result",
          "data": {
            "text/plain": [
              "['/content/drive/MyDrive/delesmell/dataset_class/Blue-Block/Ground.txt',\n",
              " '/content/drive/MyDrive/delesmell/dataset_class/Blue-Block/PowerUp.txt',\n",
              " '/content/drive/MyDrive/delesmell/dataset_class/Blue-Block/Locator.txt',\n",
              " '/content/drive/MyDrive/delesmell/dataset_class/Blue-Block/InfoWindow.txt',\n",
              " '/content/drive/MyDrive/delesmell/dataset_class/Blue-Block/ResourceManager.txt',\n",
              " '/content/drive/MyDrive/delesmell/dataset_class/Blue-Block/GroundType.txt',\n",
              " '/content/drive/MyDrive/delesmell/dataset_class/Blue-Block/InfoPanel.txt',\n",
              " '/content/drive/MyDrive/delesmell/dataset_class/Blue-Block/Menu.txt',\n",
              " '/content/drive/MyDrive/delesmell/dataset_class/Blue-Block/Settings.txt',\n",
              " '/content/drive/MyDrive/delesmell/dataset_class/Blue-Block/Main.txt',\n",
              " '/content/drive/MyDrive/delesmell/dataset_class/Blue-Block/Options.txt',\n",
              " '/content/drive/MyDrive/delesmell/dataset_class/Blue-Block/Game.txt',\n",
              " '/content/drive/MyDrive/delesmell/dataset_class/Blue-Block/Human.txt']"
            ]
          },
          "metadata": {},
          "execution_count": 11
        }
      ]
    },
    {
      "cell_type": "code",
      "source": [
        "# stopwords\n",
        "stopwords = ['abstract', 'java','assert', 'boolean', 'break', 'byte', 'case', 'catch', 'class','char', 'continue', 'default', 'do', 'double', 'else', 'enum', 'extends', 'final', 'finally', 'float', 'for', 'if', 'implements', 'import', 'int', 'interface', 'long', 'native', 'new', 'package','private','public', 'protected',  'return', 'short', 'static', 'strictfp', 'super', 'switch', 'synchronized', 'this', 'throw', 'transient', 'try', 'void', 'volatile', 'while']\n",
        "dicts = {'\\n': '','!': '', '\"': '','：':'', '#': '', '$': '', '%': '', '&': '', \"'\": '', '(': '', ')': '', '*': '', '+': '', ',': '', '-': '', '.': '', '/': '', ':': '', ';': '', '<': '', '=': '', '>': '', '?': '', '@': '', '[': '', '\\\\': '', ']': '', '^': '', '_': '', '`': '', '{': '', '|': '', '}': '', '~': ''}\n",
        "# stopwords = {'abstract':'', 'java':'','assert':'', 'boolean':'', 'break':'', 'byte':'', 'case':'', 'catch':'', 'class':'','char':'', 'continue':'', 'default':'', 'do':'', 'double':'', 'else':'', 'enum':'', 'extends':'', 'final':'', 'finally':'', 'float':'', 'for':'', 'if':'', 'implements':'', 'import':'', 'int':'', 'interface':'', 'long':'', 'native':'', 'new':'', 'package':'','private':'','public':'', 'protected':'',  'return':'', 'short':'', 'static':'', 'strictfp':'', 'super':'', 'switch':'', 'synchronized':'', 'this':'', 'throw':'', 'transient':'', 'try':'','void':'', 'volatile':'', 'while':''}"
      ],
      "metadata": {
        "id": "5HfT4GVh2Un_"
      },
      "execution_count": 12,
      "outputs": []
    },
    {
      "cell_type": "code",
      "source": [
        "def lm_find_unchinese(line):\n",
        "    pattern = re.compile(r'[\\u4e00-\\u9fa5]')\n",
        "    unchinese = re.sub(pattern,\"\",line) #Exclude Chinese characters\n",
        "    unchinese = re.sub('[{}]'.format(punctuation),\"\",unchinese) #Exclude Chinese characters\n",
        "    #print(\"unchinese:\",unchinese)\n",
        "    return unchinese"
      ],
      "metadata": {
        "id": "XIQeVkdq2wgY"
      },
      "execution_count": 13,
      "outputs": []
    },
    {
      "cell_type": "code",
      "source": [
        "def del_stopwords(line):\n",
        "#     for line in file.readlines():\n",
        "#     dicts = {i: '' for i in punctuation}\n",
        "    punc_table = str.maketrans(dicts)\n",
        "    new_line = line.translate(punc_table)\n",
        "\n",
        "#     for word in stopwords:\n",
        "#           new_line = new_line.replace(word, '')\n",
        "\n",
        "    return new_line\n"
      ],
      "metadata": {
        "id": "WpeEASq63D3P"
      },
      "execution_count": 14,
      "outputs": []
    },
    {
      "cell_type": "code",
      "source": [
        "index = []\n",
        "index_all = []\n",
        "class_name = []\n",
        "Brain_Class = []\n",
        "for i, f in enumerate(fileList):\n",
        "    with open(f,encoding='gb18030',errors='ignore') as file:\n",
        "        list = []\n",
        "        list2 = []\n",
        "        is_brain = 0\n",
        "        filename = os.path.basename(file.name)\n",
        "        name = filename[:-4]\n",
        "        class_name.append(name)\n",
        "        list.append(name)\n",
        "        list2.append(name)\n",
        "        \n",
        "        for line in file.readlines():\n",
        "            line = lm_find_unchinese(line)\n",
        "            line = del_stopwords(line)\n",
        "            values = line.split(' ')\n",
        "            coefs = values[1:-1]\n",
        "            coefs = [i for i in coefs if i != '']\n",
        "            keyword_brain = 'hongshuai'            \n",
        "\n",
        "            if  keyword_brain in line:\n",
        "                is_brain = 1\n",
        "            if len(coefs) != 0:\n",
        "                if coefs != ' ':\n",
        "                    if coefs != '\\n':\n",
        "                        for i in coefs:\n",
        "                            list.append(i)\n",
        "\n",
        "        index.append(list)\n",
        "        \n",
        "        if is_brain == 0:\n",
        "            list2.append(False)\n",
        "        else :\n",
        "            list2.append(True)\n",
        "            print('T')\n",
        "        \n",
        "#         print (list2)\n",
        "        \n",
        "        Brain_Class.append(list2)"
      ],
      "metadata": {
        "colab": {
          "base_uri": "https://localhost:8080/"
        },
        "id": "xR0AD1ed3NVf",
        "outputId": "208baf8b-e2b0-493b-f285-30c956159d91"
      },
      "execution_count": 15,
      "outputs": [
        {
          "output_type": "stream",
          "name": "stdout",
          "text": [
            "T\n"
          ]
        }
      ]
    },
    {
      "cell_type": "code",
      "source": [
        "Brain_Class = np.array(Brain_Class)\n",
        "Brain_Class"
      ],
      "metadata": {
        "colab": {
          "base_uri": "https://localhost:8080/"
        },
        "id": "N3FKq85f3WCG",
        "outputId": "7c347227-8f54-4527-b3d0-f70b176f34ea"
      },
      "execution_count": 16,
      "outputs": [
        {
          "output_type": "execute_result",
          "data": {
            "text/plain": [
              "array([['Ground', 'False'],\n",
              "       ['PowerUp', 'True'],\n",
              "       ['Locator', 'False'],\n",
              "       ['InfoWindow', 'False'],\n",
              "       ['ResourceManager', 'False'],\n",
              "       ['GroundType', 'False'],\n",
              "       ['InfoPanel', 'False'],\n",
              "       ['Menu', 'False'],\n",
              "       ['Settings', 'False'],\n",
              "       ['Main', 'False'],\n",
              "       ['Options', 'False'],\n",
              "       ['Game', 'False'],\n",
              "       ['Human', 'False']], dtype='<U15')"
            ]
          },
          "metadata": {},
          "execution_count": 16
        }
      ]
    },
    {
      "cell_type": "code",
      "source": [
        "def additem(list):\n",
        "    if len(list)<3:\n",
        "        q = len(list)-1\n",
        "        str = '_1'\n",
        "        str2 = '_2'\n",
        "        item = ''.join([list[q], str])\n",
        "        item_2 = ''.join([list[q], str2])\n",
        "        # item = list[q]\n",
        "        list.append(item)\n",
        "        list.append(item_2)\n",
        "        # print(list)\n",
        "    return list\n",
        "\n",
        "for item in index_all:\n",
        "    # print(item)\n",
        "    item = additem(item)\n",
        "    # print(item)"
      ],
      "metadata": {
        "id": "WEgnT-ta3bof"
      },
      "execution_count": 17,
      "outputs": []
    },
    {
      "cell_type": "code",
      "source": [
        "news_df = np.array(index,dtype=object)\n",
        "print(news_df)"
      ],
      "metadata": {
        "colab": {
          "base_uri": "https://localhost:8080/"
        },
        "id": "UKgvxKmw3d_m",
        "outputId": "9a198e2f-021e-41d1-8519-38590a67f275"
      },
      "execution_count": 18,
      "outputs": [
        {
          "output_type": "stream",
          "name": "stdout",
          "text": [
            "[list(['Ground', 'GroundType', 'return', 'int', 'return', 'int', 'return', 'GroundGame', 'gameint', 'xint', 'yGroundType', 'void', 'void', 'SetGroundTypeGroundType', 'if', 'Type', 'null'])\n",
            " list(['PowerUp', 'boolean', 'return', 'void', 'int', 'int', 'void', 'NewPositionint', 'xint', 'Ground', 'GroundType', 'if', 'grtIsWall', 'grtIsDeadly', 'gameLocatorGetHumanxy', 'null', 'int', 'int', 'if', 'grtIsPoison', 'PowerUpGame', 'void', 'TakeEffectHuman', 'SystemoutprintlnPowerUp', 'GetType', 'Human', 'human2', 'gameHumans'])\n",
            " list(['Locator', 'void', 'backgroundColorint', 'pos1int', 'Ground', 'if', 'groundGetType', 'GroundTypeFloor', 'void', 'checkKillsHuman', 'if', 'SettingsEnablePlayerKills', 'for', 'Human', 'other', 'gameHumans', 'if', 'other', 'human', 'otherGetX', 'humanGetX', 'otherGetY', 'humanGetY', 'void', 'checkPowerupsHuman', 'PowerUp', 'if', 'PU', 'null', 'Ground', 'GetGroundint', 'xint', 'if', 'x', '0', 'y', '0', 'x', 'gameWidth', 'y', 'gameHeight', 'return', 'return', 'Human', 'GetHumanint', 'xint', 'for', 'Human', 'human', 'gameHumans', 'if', 'humanGetX', 'x', 'humanGetY', 'y', 'return', 'return', 'PowerUp', 'GetPowerupint', 'xint', 'for', 'PowerUp', 'powerup', 'gamePowerUpList', 'if', 'powerupGetX', 'x', 'powerupGetY', 'y', 'return', 'return', 'boolean', 'isFreeint', 'xint', 'return', 'GetGroundxyGetTypeIsWall', 'SettingsEnablePlayerKills', 'GetHumanxy', 'LocatorGame', 'void', 'MovePlayerHuman', 'hint', 'playerString', 'int', 'int', 'int', 'int', 'direction', 'if', 'pos2', '0', 'isFreepos1pos2', '1', 'else', 'SystemoutprintlnPlayer', 'player', 'hit', 'an', 'pos2', '1', 'gameHeight', 'isFreepos1pos2', '1', 'else', 'SystemoutprintlnPlayer', 'player', 'hit', 'an', 'pos1', '0', 'isFreepos1', '1pos2', 'else', 'player', 'hit', 'an', 'pos1', '1', 'gameWidth', 'isFreepos1', '1pos2', 'else', 'player', 'hit', 'an', 'int', 'i0', 'i', 'PowerUpTypeslength', 'i', 'gameTypesActivei', 'gameTypesDurationi', '0', 'gameTypesActivei', 'gameTypesActive5', 'Human', 'human', 'gameHumans', 'old1', 'pos1', 'old2', 'pos2', 'player', 'pos', 'pos1'])\n",
            " list(['InfoWindow', 'InfoWindowfinal', 'Main', 'infoWindownew', 'JFrameBlue', 'Block', 'infoWindowsetLocationResourceManagerScreenWidth', '2', '350ResourceManagerScreenHeight', '2', 'Font', 'fontnew', 'JButton', 'NewGamenew', 'NewGameaddActionListenernew', 'Override', 'public', 'void', 'actionPerformed', 'ActionEvent', 'InfoLognew', 'Font', 'font2new', 'Scorenew', 'ScoresetMarginnew', 'panelsnew', 'for', 'int', 'i0', 'i', 'SettingsMaxPlayerCount', 'i', 'InfoPanel', 'panelnew', 'InfoPaneli10255', 'i', 'void', 'Game', 'String', 'for', 'InfoPanel', 'panel', 'panels', 'TextScoren', 'for', 'int', 'i0', 'i', 'SettingsPlayerCount', 'i', 'int', 'mouseScoregameMouseLava', 'gameMouseWall', '2', 'gameMouseAcid', 'TextScoren', 'ResourceManagerLanguageStringsgetMouse'])\n",
            " list(['ResourceManager', 'static', 'void', 'loadLanguageString', 'File', 'langFilenew', 'Filelang', 'if', 'langFileexists', 'try', 'FileReader', 'frnew', 'BufferedReader', 'brnew', 'while', 'brready', 'String', 'SystemoutprintlnLoaded', 'language', 'lang', 'catch', 'IOException', 'e', 'SystemoutprintlnFailed', 'to', 'load', 'language', 'Fallback', 'to', 'else', 'SystemoutprintlnUnable', 'to', 'find', 'language', 'file', 'lang', 'txt', 'fallback', 'to', 'static', 'void', 'DisplayMode', 'String', 'static', 'Color', 'PlayerColorint', 'final', 'Color', 'colorsColorBLUEnew', 'return', 'static', 'String', 'PlayerNameint', 'String', 'return', 'static', 'Color', 'PlayerPoisonColorint', 'final', 'Color', 'colorsnew', 'Color00200new', 'Color1012010new', 'Color0155155new', 'return'])\n",
            " list(['GroundType', 'Color', 'return', 'GroundType', 'return', 'GroundTypeColor', 'colorString', 'typeGroundType', 'type', 'TYPE', 'boolean', 'return', 'boolean', 'return', 'boolean', 'return', 'boolean', 'return'])\n",
            " list(['InfoPanel', 'String', 'return', 'name', 'ResourceManagerLanguageStringsgetPlayer', 'InfoPanelint', 'playerint', 'xPosint', 'yPosFont', 'setMarginnew', 'void', 'UpdateHuman', 'blockInfoWindow', 'if', 'dead', 'block', 'null', 'String', 'textname', 'ResourceManagerLanguageStringsgetPlayer', 'if', 'blockLives', 'if', 'blockPoisoned', 'else', 'if', 'blockSecured', 'if', 'windowcurrentRank', '1', 'else', 'scoreblockKills', '300', 'blockSteps', 'blockSuperScore', '50', 'blockPowerUps', 'setTexttext', 'n', 'ResourceManagerLanguageStringsgetRank', 'rank', '0', 'rank', 'n', 'ResourceManagerLanguageStringsgetKills'])\n",
            " list(['Menu', 'menunew', 'JFrameBlue', 'Block', 'optionsnew', 'menusetBoundsResourceManagerScreenWidth', '2', '200ResourceManagerScreenHeight', '2', 'Font', 'fontnew', 'startnew', 'startaddActionListenernew', 'Override', 'public', 'void', 'actionPerformed', 'ActionEvent', 'gamenew', 'startaddMouseListenernew', 'Override', 'public', 'void', 'mouseReleased', 'MouseEvent', 'Override', 'public', 'void', 'mousePressed', 'MouseEvent', 'Override', 'public', 'void', 'mouseExited', 'MouseEvent', 'Override', 'public', 'void', 'mouseEntered', 'MouseEvent', 'Override', 'public', 'void', 'mouseClicked', 'MouseEvent', 'optionsButtonnew', 'optionsButtonaddActionListenernew', 'Override', 'public', 'void', 'actionPerformed', 'ActionEvent', 'optionsButtonaddMouseListenernew', 'Override', 'public', 'void', 'mouseReleased', 'MouseEvent', 'Override', 'public', 'void', 'mousePressed', 'MouseEvent', 'Override', 'public', 'void', 'mouseExited', 'MouseEvent', 'Override', 'public', 'void', 'mouseEntered', 'MouseEvent', 'Override', 'public', 'void', 'mouseClicked', 'MouseEvent', 'closenew', 'closeaddActionListenernew', 'Override', 'public', 'void', 'actionPerformed', 'ActionEvent', 'closeaddMouseListenernew', 'Override', 'public', 'void', 'mouseReleased', 'MouseEvent', 'Override', 'public', 'void', 'mousePressed', 'MouseEvent', 'Override', 'public', 'void', 'mouseExited', 'MouseEvent', 'Override', 'public', 'void', 'mouseEntered', 'MouseEvent', 'Override', 'public', 'void', 'mouseClicked', 'MouseEvent', 'JLabel', 'Bgnew'])\n",
            " list(['Settings', 'static', 'void', 'if', 'Width', 'Height', 'SystemoutprintlnUnable', 'to', 'use', 'width', 'and', 'height', 'when', 'not', 'equal', 'because', 'Java', 'Fallback', 'to', 'width', 'static', 'void', 'ArrayListString', 'linesnew', 'try', 'FileReader', 'frnew', 'BufferedReader', 'brnew', 'while', 'brready', 'SystemoutprintlnLoaded', 'catch', 'IOException', 'e', 'SystemoutprintlnFailed', 'to', 'load', 'Settings', 'Fallback', 'to', 'default', 'for', 'String', 'line', 'lines', 'String', 'tuple0', 'line', 'in', 'settings'])\n",
            " list(['Main', 'void', 'ChangeColorint', 'xint', 'yColor', 'if', 'GameTypesActive6', 'void', 'ClearColor', 'for', 'int', 'x0', 'x', 'SettingsWidth', 'x', 'for', 'int', 'y0', 'y', 'SettingsHeight', 'y', 'void', 'EndGameboolean', 'if', 'toMenu', 'new', 'public', 'void', 'keyPressedKeyEvent', 'public', 'void', 'keyReleasedKeyEvent', 'public', 'void', 'keyTypedKeyEvent', 'if', 'StopGame', 'Mainboolean', 'windownew', 'windowsetLocationResourceManagerScreenWidth', '2', '350ResourceManagerScreenHeight', '2', 'infoWindownew', 'static', 'void', 'mainString', 'new', 'void', 'mouseClickedMouseEvent', 'String', 'String', 'if', 'splitlength', '2', 'int', 'int', 'if', 'StopGame', 'public', 'void', 'mouseEnteredMouseEvent', 'public', 'void', 'mouseExitedMouseEvent', 'public', 'void', 'mousePressedMouseEvent', 'public', 'void', 'mouseReleasedMouseEvent', 'void', 'Gamenew', 'void', 'SetMapBoundsint', 'wint', 'if', 'labels', 'null', 'for', 'int', 'y0', 'y', 'labelHeight', 'y', 'for', 'int', 'x0', 'x', 'labelWidth', 'x', 'windowsetLayoutnew', 'windowsetSize700int700', 'h', 'labelsnew', 'for', 'int', 'y0', 'y', 'h', 'y', 'for', 'int', 'x0', 'x', 'w', 'x', 'Label', 'labelnew', 'labelsetNamex', 'String', 'SettingsPlayerCount', 'titleBLUE', 'GREEN', 'CYAN', 'and', 'MAGENTA', 'GREEN', 'and', 'CYAN', 'and', 'GREEN', 'poor', 'alone', 'BLUE', 'title', 'On', 'Github'])\n",
            " list(['Options', 'Optionsfinal', 'Menu', 'optionsnew', 'JFrameBlue', 'Block', 'optionssetBoundsResourceManagerScreenWidth', '2', '225ResourceManagerScreenHeight', '2', 'Font', 'fontnew', 'JLabel', 'widthLabelnew', 'JLabelResourceManagerLanguageStringsgetWidth', 'textFieldWidthnew', 'JLabel', 'heightLabelnew', 'JLabelResourceManagerLanguageStringsgetHeight', 'textFieldHeightnew', 'JLabel', 'playerTextnew', 'JLabelResourceManagerLanguageStringsgetPlayers', 'playerCountSelectornew', 'for', 'int', 'i1', 'i', '5', 'i', 'playerCountSelectoraddi', 'playerCountSelectorselectplayerCountSelector', 'JLabel', 'powerUpLabelnew', 'JLabelResourceManagerLanguageStringsgetPowerups', 'powerUpCountSelectornew', 'for', 'int', 'i0', 'i', '11', 'i', 'powerUpCountSelectoraddi', 'powerUpCountSelectorselectSettingsPowerupCount', 'mouseCheckboxnew', 'killCheckboxnew', 'Font', 'harringtonnew', 'savenew', 'saveaddActionListenernew', 'Override', 'public', 'void', 'actionPerformed', 'ActionEvent', 'resetnew', 'resetaddActionListenernew', 'Override', 'public', 'void', 'actionPerformed', 'ActionEvent', 'playerCountSelectorselectSettingsDefPlayerCount', 'powerUpCountSelectorselectSettingsDefPowerupCount', 'abortnew', 'abortaddActionListenernew', 'Override', 'public', 'void', 'actionPerformed', 'ActionEvent', 'void', 'void', 'setOpenboolean', 'if', 'open', 'textFieldWidthsetTextSettingsWidth', 'textFieldHeightsetTextSettingsHeight', 'playerCountSelectorselectSettingsPlayerCount', 'powerUpCountSelectorselectSettingsPowerupCount'])\n",
            " list(['Game', 'void', 'ActivateEffectint', 'numberint', 'GameMain', 'GroundTilesnew', 'Locatornew', 'PowerUpListnew', 'Humansnew', 'void', 'HandleKeyInputchar', 'final', 'char', 'boolean', 'for', 'int', 'i0', 'i', 'SettingsPlayerCount', 'i', 'if', 'key', 'keysi0', 'HumansiGoconfused', 'right', 'else', 'if', 'key', 'keysi1', 'HumansiGoconfused', 'left', 'else', 'if', 'key', 'keysi2', 'HumansiGoconfused', 'down', 'else', 'if', 'key', 'keysi3', 'HumansiGoconfused', 'up', 'void', 'HandleMouseInputint', 'buttonint', 'xint', 'if', 'SettingsEnableMouse', 'if', 'TypesActive4', 'LocatorGetHumanxy', 'null', 'LocatorGetPowerupxy', 'null', 'Ground', 'GroundType', 'if', 'button', '1', 'if', 'typeIsDeadly', 'else', 'else', 'if', 'button', '3', 'if', 'typeIsPoison', 'else', 'else', 'if', 'typeIsWall', 'else', 'void', 'for', 'int', 'x0', 'x', 'Width', 'x', 'for', 'int', 'y0', 'y', 'Height', 'y', 'Ground', 'groundnew', 'for', 'int', 'i0', 'i', 'Height', 'i', 'LocatorGetGroundWidth', 'for', 'int', 'i0', 'i', 'Width', 'i', 'LocatorGetGroundiHeight', 'for', 'int', 'i0', 'i', 'SettingsPlayerCount', 'i', 'i', 'final', 'Human', 'H1new', 'Human', 'H2new', 'HumanthisWidth', '2Height', 'Human', 'H3new', 'Humanthis1Height', 'Human', 'H4new', 'HumanthisWidth', 'int', 'i0', 'i', 'SettingsPowerupCount', 'i', 'PowerUpListinew'])\n",
            " list(['Human', 'int', 'return', 'void', 'GoString', 'if', 'Lives', 'Ground', 'if', 'groundGetTypeIsDeadly', 'if', 'armored', 'else', 'else', 'if', 'groundGetTypeIsPoison', 'if', 'armored', 'else', 'if', 'poisoned', 'HumanGame', 'gameint', 'pos1int', 'pos2int', 'SystemoutprintlnPlayer', 'player', 'void', 'IsLivingboolean', 'if', 'lives', 'boolean', 'return', 'void', 'if', 'lives', 'boolean', 'return', 'boolean', 'return', 'void', 'SetArmorboolean', 'void', 'if', 'Lives', 'if', 'gameTypesActive5', 'void', 'SetPoisonedboolean', 'colorpoisoned', 'ResourceManagerPlayerPoisonColorplayer', 'void', 'SetPositionint', 'xint'])]\n"
          ]
        }
      ]
    },
    {
      "cell_type": "code",
      "source": [
        "# #training phase\n",
        "def f_lsa(news_df, n):\n",
        "    vectorizer = CountVectorizer()\n",
        "    X = vectorizer.fit_transform(news_df)\n",
        "    # print(vectorizer.get_feature_names())#Get the vocabulary found by the model directly analyzing the data（collection of words above）\n",
        "    # print(X.toarray())# Printing X directly outputs the position of each word\n",
        "    #     print(X)\n",
        "\n",
        "    n_cap = 1\n",
        "    svd_model = TruncatedSVD(n_components=n_cap)  # Latent semantic analysis, set 4 topics\n",
        "    X2 = svd_model.fit_transform(X)  # train and convert\n",
        "\n",
        "    # print(\"--------lsa Singular Value---------\")\n",
        "    # print(svd_model.singular_values_)\n",
        "    # print(\"--------Representation of text in topic vector space Left singular matrix---------\")\n",
        "    # print(X2)\n",
        "\n",
        "    terms = vectorizer.get_feature_names()\n",
        "    # print(\"-------- Topics and keywords ---------\")\n",
        "    for i, comp in enumerate(svd_model.components_):\n",
        "        terms_comp = zip(terms, comp)\n",
        "        sorted_terms = sorted(terms_comp, key=lambda x: x[1], reverse=True)[:7]\n",
        "        # print(\"Topic \" + str(i) + \": \")\n",
        "        for t in sorted_terms:\n",
        "            print(t[0])\n",
        "    print(\" \")\n",
        "\n",
        "    D = svd_model.components_\n",
        "    T = X2\n",
        "    S = np.diagflat(svd_model.singular_values_)\n",
        "\n",
        "    X = np.dot(T, S)\n",
        "    X = np.dot(X, D)\n",
        "    c = np.dot(X, X.T)\n",
        "\n",
        "    acsm = None\n",
        "    sum = 0\n",
        "    for i in c:\n",
        "        for j in i:\n",
        "            if j < 0:\n",
        "                j = 0\n",
        "            sum += j\n",
        "        acsm = sum / n / n\n",
        "    # print(\"-------------acsm----------------------\")\n",
        "    # print(acsm)\n",
        "\n",
        "    return acsm"
      ],
      "metadata": {
        "id": "0CZxK-yU3lrv"
      },
      "execution_count": 19,
      "outputs": []
    },
    {
      "cell_type": "code",
      "source": [
        "q = 0\n",
        "acsm= []\n",
        "for i in index:\n",
        "    lists = []\n",
        "    print(\"*************\",i,\"****************\")\n",
        "    # print(\"------------------------------------------------------------------\")\n",
        "    for j in i:\n",
        "        lists.append(j)\n",
        "    # lists = deleteDuplicatedElementFromList(lists)\n",
        "    if len(lists) > 1:\n",
        "        acsm.append(f_lsa(lists,len(i)))\n",
        "    else :\n",
        "        acsm.append(1)\n",
        "#\n",
        "\n",
        "# print(type(class_name))\n",
        "# print(type(acsm))"
      ],
      "metadata": {
        "colab": {
          "base_uri": "https://localhost:8080/"
        },
        "id": "s-Fj-qW04K2x",
        "outputId": "0061f281-c5dc-4a0e-b6f8-9d3712d22396"
      },
      "execution_count": 20,
      "outputs": [
        {
          "output_type": "stream",
          "name": "stdout",
          "text": [
            "************* ['Ground', 'GroundType', 'return', 'int', 'return', 'int', 'return', 'GroundGame', 'gameint', 'xint', 'yGroundType', 'void', 'void', 'SetGroundTypeGroundType', 'if', 'Type', 'null'] ****************\n",
            "return\n",
            "ygroundtype\n",
            "xint\n",
            "gameint\n",
            "groundtype\n",
            "type\n",
            "if\n",
            " \n",
            "************* ['PowerUp', 'boolean', 'return', 'void', 'int', 'int', 'void', 'NewPositionint', 'xint', 'Ground', 'GroundType', 'if', 'grtIsWall', 'grtIsDeadly', 'gameLocatorGetHumanxy', 'null', 'int', 'int', 'if', 'grtIsPoison', 'PowerUpGame', 'void', 'TakeEffectHuman', 'SystemoutprintlnPowerUp', 'GetType', 'Human', 'human2', 'gameHumans'] ****************\n",
            "int\n",
            "gamelocatorgethumanxy\n",
            "groundtype\n",
            "gamehumans\n",
            "systemoutprintlnpowerup\n",
            "null\n",
            "powerupgame\n",
            " \n",
            "************* ['Locator', 'void', 'backgroundColorint', 'pos1int', 'Ground', 'if', 'groundGetType', 'GroundTypeFloor', 'void', 'checkKillsHuman', 'if', 'SettingsEnablePlayerKills', 'for', 'Human', 'other', 'gameHumans', 'if', 'other', 'human', 'otherGetX', 'humanGetX', 'otherGetY', 'humanGetY', 'void', 'checkPowerupsHuman', 'PowerUp', 'if', 'PU', 'null', 'Ground', 'GetGroundint', 'xint', 'if', 'x', '0', 'y', '0', 'x', 'gameWidth', 'y', 'gameHeight', 'return', 'return', 'Human', 'GetHumanint', 'xint', 'for', 'Human', 'human', 'gameHumans', 'if', 'humanGetX', 'x', 'humanGetY', 'y', 'return', 'return', 'PowerUp', 'GetPowerupint', 'xint', 'for', 'PowerUp', 'powerup', 'gamePowerUpList', 'if', 'powerupGetX', 'x', 'powerupGetY', 'y', 'return', 'return', 'boolean', 'isFreeint', 'xint', 'return', 'GetGroundxyGetTypeIsWall', 'SettingsEnablePlayerKills', 'GetHumanxy', 'LocatorGame', 'void', 'MovePlayerHuman', 'hint', 'playerString', 'int', 'int', 'int', 'int', 'direction', 'if', 'pos2', '0', 'isFreepos1pos2', '1', 'else', 'SystemoutprintlnPlayer', 'player', 'hit', 'an', 'pos2', '1', 'gameHeight', 'isFreepos1pos2', '1', 'else', 'SystemoutprintlnPlayer', 'player', 'hit', 'an', 'pos1', '0', 'isFreepos1', '1pos2', 'else', 'player', 'hit', 'an', 'pos1', '1', 'gameWidth', 'isFreepos1', '1pos2', 'else', 'player', 'hit', 'an', 'int', 'i0', 'i', 'PowerUpTypeslength', 'i', 'gameTypesActivei', 'gameTypesDurationi', '0', 'gameTypesActivei', 'gameTypesActive5', 'Human', 'human', 'gameHumans', 'old1', 'pos1', 'old2', 'pos2', 'player', 'pos', 'pos1'] ****************\n",
            "if\n",
            "powerup\n",
            "hit\n",
            "xint\n",
            "void\n",
            "pos1\n",
            "humangety\n",
            " \n",
            "************* ['InfoWindow', 'InfoWindowfinal', 'Main', 'infoWindownew', 'JFrameBlue', 'Block', 'infoWindowsetLocationResourceManagerScreenWidth', '2', '350ResourceManagerScreenHeight', '2', 'Font', 'fontnew', 'JButton', 'NewGamenew', 'NewGameaddActionListenernew', 'Override', 'public', 'void', 'actionPerformed', 'ActionEvent', 'InfoLognew', 'Font', 'font2new', 'Scorenew', 'ScoresetMarginnew', 'panelsnew', 'for', 'int', 'i0', 'i', 'SettingsMaxPlayerCount', 'i', 'InfoPanel', 'panelnew', 'InfoPaneli10255', 'i', 'void', 'Game', 'String', 'for', 'InfoPanel', 'panel', 'panels', 'TextScoren', 'for', 'int', 'i0', 'i', 'SettingsPlayerCount', 'i', 'int', 'mouseScoregameMouseLava', 'gameMouseWall', '2', 'gameMouseAcid', 'TextScoren', 'ResourceManagerLanguageStringsgetMouse'] ****************\n",
            "for\n",
            "infolognew\n",
            "gamemousewall\n",
            "gamemouseacid\n",
            "newgameaddactionlistenernew\n",
            "infowindowsetlocationresourcemanagerscreenwidth\n",
            "settingsplayercount\n",
            " \n",
            "************* ['ResourceManager', 'static', 'void', 'loadLanguageString', 'File', 'langFilenew', 'Filelang', 'if', 'langFileexists', 'try', 'FileReader', 'frnew', 'BufferedReader', 'brnew', 'while', 'brready', 'String', 'SystemoutprintlnLoaded', 'language', 'lang', 'catch', 'IOException', 'e', 'SystemoutprintlnFailed', 'to', 'load', 'language', 'Fallback', 'to', 'else', 'SystemoutprintlnUnable', 'to', 'find', 'language', 'file', 'lang', 'txt', 'fallback', 'to', 'static', 'void', 'DisplayMode', 'String', 'static', 'Color', 'PlayerColorint', 'final', 'Color', 'colorsColorBLUEnew', 'return', 'static', 'String', 'PlayerNameint', 'String', 'return', 'static', 'Color', 'PlayerPoisonColorint', 'final', 'Color', 'colorsnew', 'Color00200new', 'Color1012010new', 'Color0155155new', 'return'] ****************\n",
            "static\n",
            "brnew\n",
            "else\n",
            "try\n",
            "txt\n",
            "systemoutprintlnfailed\n",
            "ioexception\n",
            " \n",
            "************* ['GroundType', 'Color', 'return', 'GroundType', 'return', 'GroundTypeColor', 'colorString', 'typeGroundType', 'type', 'TYPE', 'boolean', 'return', 'boolean', 'return', 'boolean', 'return', 'boolean', 'return'] ****************\n",
            "return\n",
            "type\n",
            "color\n",
            "typegroundtype\n",
            "groundtypecolor\n",
            "boolean\n",
            "colorstring\n",
            " \n",
            "************* ['InfoPanel', 'String', 'return', 'name', 'ResourceManagerLanguageStringsgetPlayer', 'InfoPanelint', 'playerint', 'xPosint', 'yPosFont', 'setMarginnew', 'void', 'UpdateHuman', 'blockInfoWindow', 'if', 'dead', 'block', 'null', 'String', 'textname', 'ResourceManagerLanguageStringsgetPlayer', 'if', 'blockLives', 'if', 'blockPoisoned', 'else', 'if', 'blockSecured', 'if', 'windowcurrentRank', '1', 'else', 'scoreblockKills', '300', 'blockSteps', 'blockSuperScore', '50', 'blockPowerUps', 'setTexttext', 'n', 'ResourceManagerLanguageStringsgetRank', 'rank', '0', 'rank', 'n', 'ResourceManagerLanguageStringsgetKills'] ****************\n",
            "if\n",
            "blockinfowindow\n",
            "blockpowerups\n",
            "updatehuman\n",
            "yposfont\n",
            "xposint\n",
            "blocksteps\n",
            " \n",
            "************* ['Menu', 'menunew', 'JFrameBlue', 'Block', 'optionsnew', 'menusetBoundsResourceManagerScreenWidth', '2', '200ResourceManagerScreenHeight', '2', 'Font', 'fontnew', 'startnew', 'startaddActionListenernew', 'Override', 'public', 'void', 'actionPerformed', 'ActionEvent', 'gamenew', 'startaddMouseListenernew', 'Override', 'public', 'void', 'mouseReleased', 'MouseEvent', 'Override', 'public', 'void', 'mousePressed', 'MouseEvent', 'Override', 'public', 'void', 'mouseExited', 'MouseEvent', 'Override', 'public', 'void', 'mouseEntered', 'MouseEvent', 'Override', 'public', 'void', 'mouseClicked', 'MouseEvent', 'optionsButtonnew', 'optionsButtonaddActionListenernew', 'Override', 'public', 'void', 'actionPerformed', 'ActionEvent', 'optionsButtonaddMouseListenernew', 'Override', 'public', 'void', 'mouseReleased', 'MouseEvent', 'Override', 'public', 'void', 'mousePressed', 'MouseEvent', 'Override', 'public', 'void', 'mouseExited', 'MouseEvent', 'Override', 'public', 'void', 'mouseEntered', 'MouseEvent', 'Override', 'public', 'void', 'mouseClicked', 'MouseEvent', 'closenew', 'closeaddActionListenernew', 'Override', 'public', 'void', 'actionPerformed', 'ActionEvent', 'closeaddMouseListenernew', 'Override', 'public', 'void', 'mouseReleased', 'MouseEvent', 'Override', 'public', 'void', 'mousePressed', 'MouseEvent', 'Override', 'public', 'void', 'mouseExited', 'MouseEvent', 'Override', 'public', 'void', 'mouseEntered', 'MouseEvent', 'Override', 'public', 'void', 'mouseClicked', 'MouseEvent', 'JLabel', 'Bgnew'] ****************\n",
            "void\n",
            "override\n",
            "public\n",
            "startaddmouselistenernew\n",
            "menunew\n",
            "closeaddmouselistenernew\n",
            "menu\n",
            " \n",
            "************* ['Settings', 'static', 'void', 'if', 'Width', 'Height', 'SystemoutprintlnUnable', 'to', 'use', 'width', 'and', 'height', 'when', 'not', 'equal', 'because', 'Java', 'Fallback', 'to', 'width', 'static', 'void', 'ArrayListString', 'linesnew', 'try', 'FileReader', 'frnew', 'BufferedReader', 'brnew', 'while', 'brready', 'SystemoutprintlnLoaded', 'catch', 'IOException', 'e', 'SystemoutprintlnFailed', 'to', 'load', 'Settings', 'Fallback', 'to', 'default', 'for', 'String', 'line', 'lines', 'String', 'tuple0', 'line', 'in', 'settings'] ****************\n",
            "to\n",
            "lines\n",
            "tuple0\n",
            "brnew\n",
            "and\n",
            "catch\n",
            "systemoutprintlnfailed\n",
            " \n",
            "************* ['Main', 'void', 'ChangeColorint', 'xint', 'yColor', 'if', 'GameTypesActive6', 'void', 'ClearColor', 'for', 'int', 'x0', 'x', 'SettingsWidth', 'x', 'for', 'int', 'y0', 'y', 'SettingsHeight', 'y', 'void', 'EndGameboolean', 'if', 'toMenu', 'new', 'public', 'void', 'keyPressedKeyEvent', 'public', 'void', 'keyReleasedKeyEvent', 'public', 'void', 'keyTypedKeyEvent', 'if', 'StopGame', 'Mainboolean', 'windownew', 'windowsetLocationResourceManagerScreenWidth', '2', '350ResourceManagerScreenHeight', '2', 'infoWindownew', 'static', 'void', 'mainString', 'new', 'void', 'mouseClickedMouseEvent', 'String', 'String', 'if', 'splitlength', '2', 'int', 'int', 'if', 'StopGame', 'public', 'void', 'mouseEnteredMouseEvent', 'public', 'void', 'mouseExitedMouseEvent', 'public', 'void', 'mousePressedMouseEvent', 'public', 'void', 'mouseReleasedMouseEvent', 'void', 'Gamenew', 'void', 'SetMapBoundsint', 'wint', 'if', 'labels', 'null', 'for', 'int', 'y0', 'y', 'labelHeight', 'y', 'for', 'int', 'x0', 'x', 'labelWidth', 'x', 'windowsetLayoutnew', 'windowsetSize700int700', 'h', 'labelsnew', 'for', 'int', 'y0', 'y', 'h', 'y', 'for', 'int', 'x0', 'x', 'w', 'x', 'Label', 'labelnew', 'labelsetNamex', 'String', 'SettingsPlayerCount', 'titleBLUE', 'GREEN', 'CYAN', 'and', 'MAGENTA', 'GREEN', 'and', 'CYAN', 'and', 'GREEN', 'poor', 'alone', 'BLUE', 'title', 'On', 'Github'] ****************\n",
            "void\n",
            "stopgame\n",
            "new\n",
            "cyan\n",
            "green\n",
            "mainboolean\n",
            "setmapboundsint\n",
            " \n"
          ]
        },
        {
          "output_type": "stream",
          "name": "stderr",
          "text": [
            "/usr/local/lib/python3.8/dist-packages/sklearn/utils/deprecation.py:87: FutureWarning: Function get_feature_names is deprecated; get_feature_names is deprecated in 1.0 and will be removed in 1.2. Please use get_feature_names_out instead.\n",
            "  warnings.warn(msg, category=FutureWarning)\n"
          ]
        },
        {
          "output_type": "stream",
          "name": "stdout",
          "text": [
            "************* ['Options', 'Optionsfinal', 'Menu', 'optionsnew', 'JFrameBlue', 'Block', 'optionssetBoundsResourceManagerScreenWidth', '2', '225ResourceManagerScreenHeight', '2', 'Font', 'fontnew', 'JLabel', 'widthLabelnew', 'JLabelResourceManagerLanguageStringsgetWidth', 'textFieldWidthnew', 'JLabel', 'heightLabelnew', 'JLabelResourceManagerLanguageStringsgetHeight', 'textFieldHeightnew', 'JLabel', 'playerTextnew', 'JLabelResourceManagerLanguageStringsgetPlayers', 'playerCountSelectornew', 'for', 'int', 'i1', 'i', '5', 'i', 'playerCountSelectoraddi', 'playerCountSelectorselectplayerCountSelector', 'JLabel', 'powerUpLabelnew', 'JLabelResourceManagerLanguageStringsgetPowerups', 'powerUpCountSelectornew', 'for', 'int', 'i0', 'i', '11', 'i', 'powerUpCountSelectoraddi', 'powerUpCountSelectorselectSettingsPowerupCount', 'mouseCheckboxnew', 'killCheckboxnew', 'Font', 'harringtonnew', 'savenew', 'saveaddActionListenernew', 'Override', 'public', 'void', 'actionPerformed', 'ActionEvent', 'resetnew', 'resetaddActionListenernew', 'Override', 'public', 'void', 'actionPerformed', 'ActionEvent', 'playerCountSelectorselectSettingsDefPlayerCount', 'powerUpCountSelectorselectSettingsDefPowerupCount', 'abortnew', 'abortaddActionListenernew', 'Override', 'public', 'void', 'actionPerformed', 'ActionEvent', 'void', 'void', 'setOpenboolean', 'if', 'open', 'textFieldWidthsetTextSettingsWidth', 'textFieldHeightsetTextSettingsHeight', 'playerCountSelectorselectSettingsPlayerCount', 'powerUpCountSelectorselectSettingsPowerupCount'] ****************\n",
            "void\n",
            "widthlabelnew\n",
            "for\n",
            "textfieldheightnew\n",
            "menu\n",
            "setopenboolean\n",
            "savenew\n",
            " \n",
            "************* ['Game', 'void', 'ActivateEffectint', 'numberint', 'GameMain', 'GroundTilesnew', 'Locatornew', 'PowerUpListnew', 'Humansnew', 'void', 'HandleKeyInputchar', 'final', 'char', 'boolean', 'for', 'int', 'i0', 'i', 'SettingsPlayerCount', 'i', 'if', 'key', 'keysi0', 'HumansiGoconfused', 'right', 'else', 'if', 'key', 'keysi1', 'HumansiGoconfused', 'left', 'else', 'if', 'key', 'keysi2', 'HumansiGoconfused', 'down', 'else', 'if', 'key', 'keysi3', 'HumansiGoconfused', 'up', 'void', 'HandleMouseInputint', 'buttonint', 'xint', 'if', 'SettingsEnableMouse', 'if', 'TypesActive4', 'LocatorGetHumanxy', 'null', 'LocatorGetPowerupxy', 'null', 'Ground', 'GroundType', 'if', 'button', '1', 'if', 'typeIsDeadly', 'else', 'else', 'if', 'button', '3', 'if', 'typeIsPoison', 'else', 'else', 'if', 'typeIsWall', 'else', 'void', 'for', 'int', 'x0', 'x', 'Width', 'x', 'for', 'int', 'y0', 'y', 'Height', 'y', 'Ground', 'groundnew', 'for', 'int', 'i0', 'i', 'Height', 'i', 'LocatorGetGroundWidth', 'for', 'int', 'i0', 'i', 'Width', 'i', 'LocatorGetGroundiHeight', 'for', 'int', 'i0', 'i', 'SettingsPlayerCount', 'i', 'i', 'final', 'Human', 'H1new', 'Human', 'H2new', 'HumanthisWidth', '2Height', 'Human', 'H3new', 'Humanthis1Height', 'Human', 'H4new', 'HumanthisWidth', 'int', 'i0', 'i', 'SettingsPowerupCount', 'i', 'PowerUpListinew'] ****************\n",
            "if\n",
            "ground\n",
            "width\n",
            "settingsplayercount\n",
            "button\n",
            "humanthiswidth\n",
            "null\n",
            " \n",
            "************* ['Human', 'int', 'return', 'void', 'GoString', 'if', 'Lives', 'Ground', 'if', 'groundGetTypeIsDeadly', 'if', 'armored', 'else', 'else', 'if', 'groundGetTypeIsPoison', 'if', 'armored', 'else', 'if', 'poisoned', 'HumanGame', 'gameint', 'pos1int', 'pos2int', 'SystemoutprintlnPlayer', 'player', 'void', 'IsLivingboolean', 'if', 'lives', 'boolean', 'return', 'void', 'if', 'lives', 'boolean', 'return', 'boolean', 'return', 'void', 'SetArmorboolean', 'void', 'if', 'Lives', 'if', 'gameTypesActive5', 'void', 'SetPoisonedboolean', 'colorpoisoned', 'ResourceManagerPlayerPoisonColorplayer', 'void', 'SetPositionint', 'xint'] ****************\n",
            "if\n",
            "xint\n",
            "human\n",
            "int\n",
            "gameint\n",
            "gametypesactive5\n",
            "setarmorboolean\n",
            " \n"
          ]
        }
      ]
    },
    {
      "cell_type": "code",
      "source": [
        "c = []\n",
        "for i in range(len(class_name)):\n",
        "      for j in range(len(acsm)):\n",
        "        if i==j:\n",
        "            t=[class_name[i],acsm[j]]\n",
        "            c.append(t)\n",
        "\n",
        "# c = list(zip(class_name,acsm))\n",
        "# print(type(c))\n",
        "c = np.array(c)\n",
        "# print(c)\n",
        "# print(c[0][0])"
      ],
      "metadata": {
        "id": "9Izi6xt24Qp3"
      },
      "execution_count": 21,
      "outputs": []
    },
    {
      "cell_type": "code",
      "source": [
        "c"
      ],
      "metadata": {
        "colab": {
          "base_uri": "https://localhost:8080/"
        },
        "id": "pSJzTgTn5DXf",
        "outputId": "0d56b334-b4f9-4c15-950a-cc55de2c385b"
      },
      "execution_count": 23,
      "outputs": [
        {
          "output_type": "execute_result",
          "data": {
            "text/plain": [
              "array([['Ground', '0.09350965437944614'],\n",
              "       ['PowerUp', '0.08166457757109888'],\n",
              "       ['Locator', '0.024461898435713104'],\n",
              "       ['InfoWindow', '0.008331384216452646'],\n",
              "       ['ResourceManager', '0.029594318048441197'],\n",
              "       ['GroundType', '0.6666666666666667'],\n",
              "       ['InfoPanel', '0.06173598534173795'],\n",
              "       ['Menu', '0.8145419273893149'],\n",
              "       ['Settings', '0.02463108093757165'],\n",
              "       ['Main', '0.16748079210765243'],\n",
              "       ['Options', '0.01954373444961729'],\n",
              "       ['Game', '0.07998493375146248'],\n",
              "       ['Human', '0.3429356522942449']], dtype='<U32')"
            ]
          },
          "metadata": {},
          "execution_count": 23
        }
      ]
    },
    {
      "cell_type": "code",
      "source": [
        "df =pd.read_csv(\"/content/drive/MyDrive/delesmell/dataset_class/Blue-Block/blue.csv\") "
      ],
      "metadata": {
        "id": "sW8aTruN4TMn"
      },
      "execution_count": 24,
      "outputs": []
    },
    {
      "cell_type": "code",
      "source": [
        "x= df.iloc[:, 0]"
      ],
      "metadata": {
        "id": "G4cbEmsw5iNX"
      },
      "execution_count": 25,
      "outputs": []
    },
    {
      "cell_type": "code",
      "source": [
        "Brain_Class"
      ],
      "metadata": {
        "colab": {
          "base_uri": "https://localhost:8080/"
        },
        "id": "HNcdHX715kG4",
        "outputId": "63268381-527c-4307-e3ee-0627c3467810"
      },
      "execution_count": 26,
      "outputs": [
        {
          "output_type": "execute_result",
          "data": {
            "text/plain": [
              "array([['Ground', 'False'],\n",
              "       ['PowerUp', 'True'],\n",
              "       ['Locator', 'False'],\n",
              "       ['InfoWindow', 'False'],\n",
              "       ['ResourceManager', 'False'],\n",
              "       ['GroundType', 'False'],\n",
              "       ['InfoPanel', 'False'],\n",
              "       ['Menu', 'False'],\n",
              "       ['Settings', 'False'],\n",
              "       ['Main', 'False'],\n",
              "       ['Options', 'False'],\n",
              "       ['Game', 'False'],\n",
              "       ['Human', 'False']], dtype='<U15')"
            ]
          },
          "metadata": {},
          "execution_count": 26
        }
      ]
    },
    {
      "cell_type": "code",
      "source": [
        "for i in range(0,len(Brain_Class)):\n",
        "    if 'False' == Brain_Class[i][1]:\n",
        "        q = 1\n",
        "    else :\n",
        "        print('*')"
      ],
      "metadata": {
        "colab": {
          "base_uri": "https://localhost:8080/"
        },
        "id": "hvN-AWaB5mSw",
        "outputId": "73ace7ca-d839-4846-c40e-cc6653c58b58"
      },
      "execution_count": 27,
      "outputs": [
        {
          "output_type": "stream",
          "name": "stdout",
          "text": [
            "*\n"
          ]
        }
      ]
    },
    {
      "cell_type": "code",
      "source": [
        "#add new column\n",
        "ngList=[] #Prepare a list and store the data of the new column in it\n",
        "\n",
        "for index in x:\n",
        "#     print(index)\n",
        "    q = 1\n",
        "    for i in range(0,len(c)):\n",
        "        st = str(c[i][0])\n",
        "        st = st[1:]\n",
        "#         print(st)\n",
        "        if index == st:\n",
        "            ngList.append(c[i][1])\n",
        "            q = 0\n",
        "#             print('*')\n",
        "    if q==1 :\n",
        "        ngList.append(1)"
      ],
      "metadata": {
        "id": "S5HuVkWa5mbY"
      },
      "execution_count": 28,
      "outputs": []
    },
    {
      "cell_type": "code",
      "source": [
        "brainList=[] #Prepare a list and store the data of the new column in it\n",
        "\n",
        "for index in x:\n",
        "#     print(index)\n",
        "    q = 1\n",
        "    for i in range(0,len(c)):\n",
        "        st = str(Brain_Class[i][0])\n",
        "        st = st[1:]\n",
        "        if index == st:\n",
        "            brainList.append(Brain_Class[i][1])\n",
        "            q = 0\n",
        "    if q==1 :\n",
        "        brainList.append('0')\n",
        "        \n",
        "        \n",
        "print(len(brainList))\n",
        "print(len(x))"
      ],
      "metadata": {
        "colab": {
          "base_uri": "https://localhost:8080/"
        },
        "id": "REeid7uI51TQ",
        "outputId": "1c225ddd-0c55-4695-88cd-12f0ec7f749f"
      },
      "execution_count": 29,
      "outputs": [
        {
          "output_type": "stream",
          "name": "stdout",
          "text": [
            "14\n",
            "14\n"
          ]
        }
      ]
    },
    {
      "cell_type": "code",
      "source": [
        "column=df.columns.tolist()"
      ],
      "metadata": {
        "id": "IYbaX0mY58uH"
      },
      "execution_count": 30,
      "outputs": []
    },
    {
      "cell_type": "code",
      "source": [
        "df['acsm'] = ngList \n",
        "df['is_brain'] = brainList \n",
        "df.to_csv(save_file_csv,mode = 'a',index =False)"
      ],
      "metadata": {
        "id": "PK8NUcxw5-en"
      },
      "execution_count": 31,
      "outputs": []
    },
    {
      "cell_type": "code",
      "source": [
        "df.head()"
      ],
      "metadata": {
        "colab": {
          "base_uri": "https://localhost:8080/",
          "height": 235
        },
        "id": "kBcd5lnH6Amu",
        "outputId": "f85d68ff-7a96-47f8-ead9-3ebf3f66df1f"
      },
      "execution_count": 32,
      "outputs": [
        {
          "output_type": "execute_result",
          "data": {
            "text/plain": [
              "         NAME   AMW  ATDF  BOVM  BUR  CBO  CC  CM  CRIX  DAC  ...  NOA  NOAM  \\\n",
              "0     Locator  4.78    18     0    1    7   3   4   2.5    1  ...    1     0   \n",
              "1   InfoPanel  3.33     5     0    1    3   1   1   0.0    0  ...    5     0   \n",
              "2           1  1.00     0     0    1    2   0   0   0.0    0  ...    0     0   \n",
              "3        Main  1.94     6     0    1    5   6   9   0.0    2  ...    7     0   \n",
              "4  InfoWindow  1.67     8     0    1    5   1   5   0.0    4  ...    6     0   \n",
              "\n",
              "   NOD  NOM  NOPA   TCC  WMC   WOC  acsm  is_brain  \n",
              "0    0    9     0  0.57   43  1.00     1         0  \n",
              "1    0    3     0  1.00   10  1.00     1         0  \n",
              "2    0    1     0  1.00    1  1.00     1         0  \n",
              "3    0   17     3  0.11   33  0.83     1         0  \n",
              "4    0    3     1  0.00    5  0.67     1         0  \n",
              "\n",
              "[5 rows x 27 columns]"
            ],
            "text/html": [
              "\n",
              "  <div id=\"df-798518b2-1a8e-463a-8e07-baffcd6f58c6\">\n",
              "    <div class=\"colab-df-container\">\n",
              "      <div>\n",
              "<style scoped>\n",
              "    .dataframe tbody tr th:only-of-type {\n",
              "        vertical-align: middle;\n",
              "    }\n",
              "\n",
              "    .dataframe tbody tr th {\n",
              "        vertical-align: top;\n",
              "    }\n",
              "\n",
              "    .dataframe thead th {\n",
              "        text-align: right;\n",
              "    }\n",
              "</style>\n",
              "<table border=\"1\" class=\"dataframe\">\n",
              "  <thead>\n",
              "    <tr style=\"text-align: right;\">\n",
              "      <th></th>\n",
              "      <th>NAME</th>\n",
              "      <th>AMW</th>\n",
              "      <th>ATDF</th>\n",
              "      <th>BOVM</th>\n",
              "      <th>BUR</th>\n",
              "      <th>CBO</th>\n",
              "      <th>CC</th>\n",
              "      <th>CM</th>\n",
              "      <th>CRIX</th>\n",
              "      <th>DAC</th>\n",
              "      <th>...</th>\n",
              "      <th>NOA</th>\n",
              "      <th>NOAM</th>\n",
              "      <th>NOD</th>\n",
              "      <th>NOM</th>\n",
              "      <th>NOPA</th>\n",
              "      <th>TCC</th>\n",
              "      <th>WMC</th>\n",
              "      <th>WOC</th>\n",
              "      <th>acsm</th>\n",
              "      <th>is_brain</th>\n",
              "    </tr>\n",
              "  </thead>\n",
              "  <tbody>\n",
              "    <tr>\n",
              "      <th>0</th>\n",
              "      <td>Locator</td>\n",
              "      <td>4.78</td>\n",
              "      <td>18</td>\n",
              "      <td>0</td>\n",
              "      <td>1</td>\n",
              "      <td>7</td>\n",
              "      <td>3</td>\n",
              "      <td>4</td>\n",
              "      <td>2.5</td>\n",
              "      <td>1</td>\n",
              "      <td>...</td>\n",
              "      <td>1</td>\n",
              "      <td>0</td>\n",
              "      <td>0</td>\n",
              "      <td>9</td>\n",
              "      <td>0</td>\n",
              "      <td>0.57</td>\n",
              "      <td>43</td>\n",
              "      <td>1.00</td>\n",
              "      <td>1</td>\n",
              "      <td>0</td>\n",
              "    </tr>\n",
              "    <tr>\n",
              "      <th>1</th>\n",
              "      <td>InfoPanel</td>\n",
              "      <td>3.33</td>\n",
              "      <td>5</td>\n",
              "      <td>0</td>\n",
              "      <td>1</td>\n",
              "      <td>3</td>\n",
              "      <td>1</td>\n",
              "      <td>1</td>\n",
              "      <td>0.0</td>\n",
              "      <td>0</td>\n",
              "      <td>...</td>\n",
              "      <td>5</td>\n",
              "      <td>0</td>\n",
              "      <td>0</td>\n",
              "      <td>3</td>\n",
              "      <td>0</td>\n",
              "      <td>1.00</td>\n",
              "      <td>10</td>\n",
              "      <td>1.00</td>\n",
              "      <td>1</td>\n",
              "      <td>0</td>\n",
              "    </tr>\n",
              "    <tr>\n",
              "      <th>2</th>\n",
              "      <td>1</td>\n",
              "      <td>1.00</td>\n",
              "      <td>0</td>\n",
              "      <td>0</td>\n",
              "      <td>1</td>\n",
              "      <td>2</td>\n",
              "      <td>0</td>\n",
              "      <td>0</td>\n",
              "      <td>0.0</td>\n",
              "      <td>0</td>\n",
              "      <td>...</td>\n",
              "      <td>0</td>\n",
              "      <td>0</td>\n",
              "      <td>0</td>\n",
              "      <td>1</td>\n",
              "      <td>0</td>\n",
              "      <td>1.00</td>\n",
              "      <td>1</td>\n",
              "      <td>1.00</td>\n",
              "      <td>1</td>\n",
              "      <td>0</td>\n",
              "    </tr>\n",
              "    <tr>\n",
              "      <th>3</th>\n",
              "      <td>Main</td>\n",
              "      <td>1.94</td>\n",
              "      <td>6</td>\n",
              "      <td>0</td>\n",
              "      <td>1</td>\n",
              "      <td>5</td>\n",
              "      <td>6</td>\n",
              "      <td>9</td>\n",
              "      <td>0.0</td>\n",
              "      <td>2</td>\n",
              "      <td>...</td>\n",
              "      <td>7</td>\n",
              "      <td>0</td>\n",
              "      <td>0</td>\n",
              "      <td>17</td>\n",
              "      <td>3</td>\n",
              "      <td>0.11</td>\n",
              "      <td>33</td>\n",
              "      <td>0.83</td>\n",
              "      <td>1</td>\n",
              "      <td>0</td>\n",
              "    </tr>\n",
              "    <tr>\n",
              "      <th>4</th>\n",
              "      <td>InfoWindow</td>\n",
              "      <td>1.67</td>\n",
              "      <td>8</td>\n",
              "      <td>0</td>\n",
              "      <td>1</td>\n",
              "      <td>5</td>\n",
              "      <td>1</td>\n",
              "      <td>5</td>\n",
              "      <td>0.0</td>\n",
              "      <td>4</td>\n",
              "      <td>...</td>\n",
              "      <td>6</td>\n",
              "      <td>0</td>\n",
              "      <td>0</td>\n",
              "      <td>3</td>\n",
              "      <td>1</td>\n",
              "      <td>0.00</td>\n",
              "      <td>5</td>\n",
              "      <td>0.67</td>\n",
              "      <td>1</td>\n",
              "      <td>0</td>\n",
              "    </tr>\n",
              "  </tbody>\n",
              "</table>\n",
              "<p>5 rows × 27 columns</p>\n",
              "</div>\n",
              "      <button class=\"colab-df-convert\" onclick=\"convertToInteractive('df-798518b2-1a8e-463a-8e07-baffcd6f58c6')\"\n",
              "              title=\"Convert this dataframe to an interactive table.\"\n",
              "              style=\"display:none;\">\n",
              "        \n",
              "  <svg xmlns=\"http://www.w3.org/2000/svg\" height=\"24px\"viewBox=\"0 0 24 24\"\n",
              "       width=\"24px\">\n",
              "    <path d=\"M0 0h24v24H0V0z\" fill=\"none\"/>\n",
              "    <path d=\"M18.56 5.44l.94 2.06.94-2.06 2.06-.94-2.06-.94-.94-2.06-.94 2.06-2.06.94zm-11 1L8.5 8.5l.94-2.06 2.06-.94-2.06-.94L8.5 2.5l-.94 2.06-2.06.94zm10 10l.94 2.06.94-2.06 2.06-.94-2.06-.94-.94-2.06-.94 2.06-2.06.94z\"/><path d=\"M17.41 7.96l-1.37-1.37c-.4-.4-.92-.59-1.43-.59-.52 0-1.04.2-1.43.59L10.3 9.45l-7.72 7.72c-.78.78-.78 2.05 0 2.83L4 21.41c.39.39.9.59 1.41.59.51 0 1.02-.2 1.41-.59l7.78-7.78 2.81-2.81c.8-.78.8-2.07 0-2.86zM5.41 20L4 18.59l7.72-7.72 1.47 1.35L5.41 20z\"/>\n",
              "  </svg>\n",
              "      </button>\n",
              "      \n",
              "  <style>\n",
              "    .colab-df-container {\n",
              "      display:flex;\n",
              "      flex-wrap:wrap;\n",
              "      gap: 12px;\n",
              "    }\n",
              "\n",
              "    .colab-df-convert {\n",
              "      background-color: #E8F0FE;\n",
              "      border: none;\n",
              "      border-radius: 50%;\n",
              "      cursor: pointer;\n",
              "      display: none;\n",
              "      fill: #1967D2;\n",
              "      height: 32px;\n",
              "      padding: 0 0 0 0;\n",
              "      width: 32px;\n",
              "    }\n",
              "\n",
              "    .colab-df-convert:hover {\n",
              "      background-color: #E2EBFA;\n",
              "      box-shadow: 0px 1px 2px rgba(60, 64, 67, 0.3), 0px 1px 3px 1px rgba(60, 64, 67, 0.15);\n",
              "      fill: #174EA6;\n",
              "    }\n",
              "\n",
              "    [theme=dark] .colab-df-convert {\n",
              "      background-color: #3B4455;\n",
              "      fill: #D2E3FC;\n",
              "    }\n",
              "\n",
              "    [theme=dark] .colab-df-convert:hover {\n",
              "      background-color: #434B5C;\n",
              "      box-shadow: 0px 1px 3px 1px rgba(0, 0, 0, 0.15);\n",
              "      filter: drop-shadow(0px 1px 2px rgba(0, 0, 0, 0.3));\n",
              "      fill: #FFFFFF;\n",
              "    }\n",
              "  </style>\n",
              "\n",
              "      <script>\n",
              "        const buttonEl =\n",
              "          document.querySelector('#df-798518b2-1a8e-463a-8e07-baffcd6f58c6 button.colab-df-convert');\n",
              "        buttonEl.style.display =\n",
              "          google.colab.kernel.accessAllowed ? 'block' : 'none';\n",
              "\n",
              "        async function convertToInteractive(key) {\n",
              "          const element = document.querySelector('#df-798518b2-1a8e-463a-8e07-baffcd6f58c6');\n",
              "          const dataTable =\n",
              "            await google.colab.kernel.invokeFunction('convertToInteractive',\n",
              "                                                     [key], {});\n",
              "          if (!dataTable) return;\n",
              "\n",
              "          const docLinkHtml = 'Like what you see? Visit the ' +\n",
              "            '<a target=\"_blank\" href=https://colab.research.google.com/notebooks/data_table.ipynb>data table notebook</a>'\n",
              "            + ' to learn more about interactive tables.';\n",
              "          element.innerHTML = '';\n",
              "          dataTable['output_type'] = 'display_data';\n",
              "          await google.colab.output.renderOutput(dataTable, element);\n",
              "          const docLink = document.createElement('div');\n",
              "          docLink.innerHTML = docLinkHtml;\n",
              "          element.appendChild(docLink);\n",
              "        }\n",
              "      </script>\n",
              "    </div>\n",
              "  </div>\n",
              "  "
            ]
          },
          "metadata": {},
          "execution_count": 32
        }
      ]
    }
  ]
}