{
  "nbformat": 4,
  "nbformat_minor": 0,
  "metadata": {
    "colab": {
      "provenance": [],
      "authorship_tag": "ABX9TyNz/DisgaL1B1yii0JLZl56",
      "include_colab_link": true
    },
    "kernelspec": {
      "name": "python3",
      "display_name": "Python 3"
    },
    "language_info": {
      "name": "python"
    }
  },
  "cells": [
    {
      "cell_type": "markdown",
      "metadata": {
        "id": "view-in-github",
        "colab_type": "text"
      },
      "source": [
        "<a href=\"https://colab.research.google.com/github/tarvt/DeleSmell_SA_G5/blob/main/dataset_class/mmseg4j/mmseg4j.ipynb\" target=\"_parent\"><img src=\"https://colab.research.google.com/assets/colab-badge.svg\" alt=\"Open In Colab\"/></a>"
      ]
    },
    {
      "cell_type": "code",
      "execution_count": 1,
      "metadata": {
        "colab": {
          "base_uri": "https://localhost:8080/"
        },
        "id": "bSvQbLlRCkgM",
        "outputId": "6434cb7e-6241-4aea-e15d-ebba31550838"
      },
      "outputs": [
        {
          "output_type": "stream",
          "name": "stdout",
          "text": [
            "Looking in indexes: https://pypi.org/simple, https://us-python.pkg.dev/colab-wheels/public/simple/\n",
            "Collecting docx\n",
            "  Downloading docx-0.2.4.tar.gz (54 kB)\n",
            "\u001b[2K     \u001b[90m━━━━━━━━━━━━━━━━━━━━━━━━━━━━━━━━━━━━━━━━\u001b[0m \u001b[32m54.9/54.9 KB\u001b[0m \u001b[31m3.2 MB/s\u001b[0m eta \u001b[36m0:00:00\u001b[0m\n",
            "\u001b[?25h  Preparing metadata (setup.py) ... \u001b[?25l\u001b[?25hdone\n",
            "Requirement already satisfied: lxml in /usr/local/lib/python3.8/dist-packages (from docx) (4.9.2)\n",
            "Requirement already satisfied: Pillow>=2.0 in /usr/local/lib/python3.8/dist-packages (from docx) (7.1.2)\n",
            "Building wheels for collected packages: docx\n",
            "  Building wheel for docx (setup.py) ... \u001b[?25l\u001b[?25hdone\n",
            "  Created wheel for docx: filename=docx-0.2.4-py3-none-any.whl size=53924 sha256=9b33a4c989d794971ec70351689e8ba13f39cbae3fb5f03a7a32538cd9b6a83c\n",
            "  Stored in directory: /root/.cache/pip/wheels/78/ae/2e/5ce789557ca59281a463dabe9d6522e429be240322148e5379\n",
            "Successfully built docx\n",
            "Installing collected packages: docx\n",
            "Successfully installed docx-0.2.4\n"
          ]
        }
      ],
      "source": [
        "!pip install docx"
      ]
    },
    {
      "cell_type": "code",
      "source": [
        "!pip install exceptions"
      ],
      "metadata": {
        "colab": {
          "base_uri": "https://localhost:8080/"
        },
        "id": "EIXeC_OTCsTq",
        "outputId": "e5655664-4c15-4d71-983b-e9e2caba7183"
      },
      "execution_count": 2,
      "outputs": [
        {
          "output_type": "stream",
          "name": "stdout",
          "text": [
            "Looking in indexes: https://pypi.org/simple, https://us-python.pkg.dev/colab-wheels/public/simple/\n",
            "\u001b[31mERROR: Could not find a version that satisfies the requirement exceptions (from versions: none)\u001b[0m\u001b[31m\n",
            "\u001b[0m\u001b[31mERROR: No matching distribution found for exceptions\u001b[0m\u001b[31m\n",
            "\u001b[0m"
          ]
        }
      ]
    },
    {
      "cell_type": "code",
      "source": [
        "import pandas as pd\n",
        "import os\n",
        "import numpy as np\n",
        "import re\n",
        "from string import punctuation\n",
        "import pandas as pd\n",
        "import csv\n",
        "from sklearn.feature_extraction.text import CountVectorizer\n",
        "from sklearn.feature_extraction.text import TfidfVectorizer\n",
        "from sklearn.decomposition import TruncatedSVD"
      ],
      "metadata": {
        "id": "8NSDNO3MCxO6"
      },
      "execution_count": 3,
      "outputs": []
    },
    {
      "cell_type": "code",
      "source": [
        "from google.colab import drive\n",
        "drive.mount('/content/drive')"
      ],
      "metadata": {
        "colab": {
          "base_uri": "https://localhost:8080/"
        },
        "id": "j1Ckj6JiC0he",
        "outputId": "a224ba6d-c406-49db-a4f6-6ab602aa116a"
      },
      "execution_count": 4,
      "outputs": [
        {
          "output_type": "stream",
          "name": "stdout",
          "text": [
            "Mounted at /content/drive\n"
          ]
        }
      ]
    },
    {
      "cell_type": "code",
      "source": [
        "save_file_csv = 'anthelion-master_class_all.csv'\n",
        "file_csv =  'anthelion-master.csv'\n",
        "file_dir = '/content/drive/MyDrive/delesmell/dataset_class/mmseg4j'"
      ],
      "metadata": {
        "id": "CarKCzN9DBE1"
      },
      "execution_count": 14,
      "outputs": []
    },
    {
      "cell_type": "code",
      "source": [
        "fileList = []\n",
        "def file_name(file_dir):\n",
        "    for root, dirs, files in os.walk(file_dir):\n",
        "         for file in files:\n",
        "            if file[-4:] == '.txt':\n",
        "                fileList.append(os.path.join(root, file))"
      ],
      "metadata": {
        "id": "luevF01aDiHU"
      },
      "execution_count": 15,
      "outputs": []
    },
    {
      "cell_type": "code",
      "source": [
        "file_name(file_dir)"
      ],
      "metadata": {
        "id": "saiztWERDlN7"
      },
      "execution_count": 16,
      "outputs": []
    },
    {
      "cell_type": "code",
      "source": [
        "fileList"
      ],
      "metadata": {
        "colab": {
          "base_uri": "https://localhost:8080/"
        },
        "id": "VPjyhjgdDovP",
        "outputId": "0554c094-77fa-4e54-fe86-87f23443f5a9"
      },
      "execution_count": 17,
      "outputs": [
        {
          "output_type": "execute_result",
          "data": {
            "text/plain": [
              "['/content/drive/MyDrive/delesmell/dataset_class/mmseg4j/MaxWordSeg.txt',\n",
              " '/content/drive/MyDrive/delesmell/dataset_class/mmseg4j/ComplexSeg.txt',\n",
              " '/content/drive/MyDrive/delesmell/dataset_class/mmseg4j/Chunk.txt',\n",
              " '/content/drive/MyDrive/delesmell/dataset_class/mmseg4j/Simple.txt',\n",
              " '/content/drive/MyDrive/delesmell/dataset_class/mmseg4j/Word.txt',\n",
              " '/content/drive/MyDrive/delesmell/dataset_class/mmseg4j/MaxMatchRule.txt',\n",
              " '/content/drive/MyDrive/delesmell/dataset_class/mmseg4j/Sentence.txt',\n",
              " '/content/drive/MyDrive/delesmell/dataset_class/mmseg4j/SimpleSeg.txt',\n",
              " '/content/drive/MyDrive/delesmell/dataset_class/mmseg4j/Dictionary.txt',\n",
              " '/content/drive/MyDrive/delesmell/dataset_class/mmseg4j/CharNode.txt',\n",
              " '/content/drive/MyDrive/delesmell/dataset_class/mmseg4j/Seg.txt',\n",
              " '/content/drive/MyDrive/delesmell/dataset_class/mmseg4j/Rule.txt',\n",
              " '/content/drive/MyDrive/delesmell/dataset_class/mmseg4j/MMSeg.txt']"
            ]
          },
          "metadata": {},
          "execution_count": 17
        }
      ]
    },
    {
      "cell_type": "code",
      "source": [
        "# stopwords\n",
        "stopwords = ['abstract', 'java','assert', 'boolean', 'break', 'byte', 'case', 'catch', 'class','char', 'continue', 'default', 'do', 'double', 'else', 'enum', 'extends', 'final', 'finally', 'float', 'for', 'if', 'implements', 'import', 'int', 'interface', 'long', 'native', 'new', 'package','private','public', 'protected',  'return', 'short', 'static', 'strictfp', 'super', 'switch', 'synchronized', 'this', 'throw', 'transient', 'try', 'void', 'volatile', 'while']\n",
        "dicts = {'\\n': '','!': '', '\"': '','：':'', '#': '', '$': '', '%': '', '&': '', \"'\": '', '(': '', ')': '', '*': '', '+': '', ',': '', '-': '', '.': '', '/': '', ':': '', ';': '', '<': '', '=': '', '>': '', '?': '', '@': '', '[': '', '\\\\': '', ']': '', '^': '', '_': '', '`': '', '{': '', '|': '', '}': '', '~': ''}\n",
        "# stopwords = {'abstract':'', 'java':'','assert':'', 'boolean':'', 'break':'', 'byte':'', 'case':'', 'catch':'', 'class':'','char':'', 'continue':'', 'default':'', 'do':'', 'double':'', 'else':'', 'enum':'', 'extends':'', 'final':'', 'finally':'', 'float':'', 'for':'', 'if':'', 'implements':'', 'import':'', 'int':'', 'interface':'', 'long':'', 'native':'', 'new':'', 'package':'','private':'','public':'', 'protected':'',  'return':'', 'short':'', 'static':'', 'strictfp':'', 'super':'', 'switch':'', 'synchronized':'', 'this':'', 'throw':'', 'transient':'', 'try':'','void':'', 'volatile':'', 'while':''}"
      ],
      "metadata": {
        "id": "BCsA9lUKDqlE"
      },
      "execution_count": 18,
      "outputs": []
    },
    {
      "cell_type": "code",
      "source": [
        "def lm_find_unchinese(line):\n",
        "    pattern = re.compile(r'[\\u4e00-\\u9fa5]')\n",
        "    unchinese = re.sub(pattern,\"\",line)\n",
        "    unchinese = re.sub('[{}]'.format(punctuation),\"\",unchinese)\n",
        "    #print(\"unchinese:\",unchinese)\n",
        "    return unchinese"
      ],
      "metadata": {
        "id": "1jZrHkxAEM0y"
      },
      "execution_count": 19,
      "outputs": []
    },
    {
      "cell_type": "code",
      "source": [
        "def del_stopwords(line):\n",
        "\n",
        "    punc_table = str.maketrans(dicts)\n",
        "    new_line = line.translate(punc_table)\n",
        "\n",
        "\n",
        "    return new_line\n"
      ],
      "metadata": {
        "id": "vAosWIIuEQov"
      },
      "execution_count": 20,
      "outputs": []
    },
    {
      "cell_type": "code",
      "source": [
        "index = []\n",
        "index_all = []\n",
        "class_name = []\n",
        "Brain_Class = []\n",
        "for i, f in enumerate(fileList):\n",
        "    with open(f,encoding='gb18030',errors='ignore') as file:\n",
        "        list = []\n",
        "        list2 = []\n",
        "        is_brain = 0\n",
        "        filename = os.path.basename(file.name)\n",
        "        name = filename[:-4]\n",
        "        class_name.append(name)\n",
        "        list.append(name)\n",
        "        list2.append(name)\n",
        "        \n",
        "        for line in file.readlines():\n",
        "            line = lm_find_unchinese(line)\n",
        "            line = del_stopwords(line)\n",
        "            values = line.split(' ')\n",
        "            coefs = values[1:-1]\n",
        "            coefs = [i for i in coefs if i != '']\n",
        "            keyword_brain = 'hongshuai'            \n",
        "\n",
        "            if  keyword_brain in line:\n",
        "                is_brain = 1\n",
        "            if len(coefs) != 0:\n",
        "                if coefs != ' ':\n",
        "                    if coefs != '\\n':\n",
        "                        for i in coefs:\n",
        "                            list.append(i)\n",
        "\n",
        "        index.append(list)\n",
        "        \n",
        "        if is_brain == 0:\n",
        "            list2.append(False)\n",
        "        else :\n",
        "            list2.append(True)\n",
        "            print('T')\n",
        "        \n",
        "#         print (list2)\n",
        "        \n",
        "        Brain_Class.append(list2)\n",
        "            \n"
      ],
      "metadata": {
        "id": "VHcdxyTUETKT"
      },
      "execution_count": 21,
      "outputs": []
    },
    {
      "cell_type": "code",
      "source": [
        "Brain_Class = np.array(Brain_Class)\n",
        "Brain_Class"
      ],
      "metadata": {
        "colab": {
          "base_uri": "https://localhost:8080/"
        },
        "id": "j1v6-IGQEVSm",
        "outputId": "b9471bb1-c80b-4a4d-be70-24a88bf42480"
      },
      "execution_count": 22,
      "outputs": [
        {
          "output_type": "execute_result",
          "data": {
            "text/plain": [
              "array([['MaxWordSeg', 'False'],\n",
              "       ['ComplexSeg', 'False'],\n",
              "       ['Chunk', 'False'],\n",
              "       ['Simple', 'False'],\n",
              "       ['Word', 'False'],\n",
              "       ['MaxMatchRule', 'False'],\n",
              "       ['Sentence', 'False'],\n",
              "       ['SimpleSeg', 'False'],\n",
              "       ['Dictionary', 'False'],\n",
              "       ['CharNode', 'False'],\n",
              "       ['Seg', 'False'],\n",
              "       ['Rule', 'False'],\n",
              "       ['MMSeg', 'False']], dtype='<U12')"
            ]
          },
          "metadata": {},
          "execution_count": 22
        }
      ]
    },
    {
      "cell_type": "code",
      "source": [
        "def additem(list):\n",
        "    if len(list)<3:\n",
        "        q = len(list)-1\n",
        "        str = '_1'\n",
        "        str2 = '_2'\n",
        "        item = ''.join([list[q], str])\n",
        "        item_2 = ''.join([list[q], str2])\n",
        "        # item = list[q]\n",
        "        list.append(item)\n",
        "        list.append(item_2)\n",
        "        # print(list)\n",
        "    return list\n",
        "\n",
        "for item in index_all:\n",
        "    # print(item)\n",
        "    item = additem(item)\n",
        "    # print(item)"
      ],
      "metadata": {
        "id": "OtPOu_T9EYhF"
      },
      "execution_count": 23,
      "outputs": []
    },
    {
      "cell_type": "code",
      "source": [
        "news_df = np.array(index,dtype=object)\n",
        "print(news_df)"
      ],
      "metadata": {
        "colab": {
          "base_uri": "https://localhost:8080/"
        },
        "id": "u2q9z_KgEb-h",
        "outputId": "a311ac25-ac9b-42ac-9a6b-c73a599835fb"
      },
      "execution_count": 24,
      "outputs": [
        {
          "output_type": "stream",
          "name": "stdout",
          "text": [
            "[list(['MaxWordSeg', 'MaxWordSegDictionary'])\n",
            " list(['ComplexSeg', 'ComplexSegDictionary', 'otherRulesaddnew', 'otherRulesaddnew', 'otherRulesaddnew', 'Chunk', 'createChunkSentence', 'senchar', 'chsint', 'tailLenint', 'offsetsCharNode', 'Chunk', 'cknew', 'for', 'int', 'i0', 'i', '3', 'i', 'if', 'offsetsi', 'chslength', 'ckwordsinew', 'WordchssengetStartOffsetoffsetsitailLeni', 'if', 'tailLeni', '0', 'CharNode', 'if', 'cn', 'null', 'return', 'static', 'boolean', 'return', 'static', 'void', 'setShowChunkboolean'])\n",
            " list(['Chunk', 'Largest', 'Average', 'Word', 'double', 'if', 'avgLen', '0', 'avgLendoublegetLen', 'return', 'int', 'if', 'count', '0', 'for', 'Word', 'word', 'words', 'if', 'word', 'null', 'return', 'Word', 'int', 'if', 'len', '0', 'for', 'Word', 'word', 'words', 'if', 'word', 'null', 'return', 'Sum', 'of', 'Degree', 'of', 'Morphemic', 'Freedom', 'of', 'int', 'if', 'sumDegree', '0', 'int', 'for', 'Word', 'word', 'words', 'if', 'word', 'null', 'wordgetDegree', '1', 'return', 'Variance', 'of', 'Word', 'double', 'if', 'variance', '0', 'double', 'for', 'Word', 'word', 'words', 'if', 'word', 'null', 'sumMathpowwordgetLength', 'variancesum', 'return', 'Word', 'return', 'void', 'setWordsWord', 'String', 'StringBuilder', 'sbnew', 'sbappendlenappendgetLenappend', 'sbappendavgLenappendgetAvgLenappend', 'sbappendvarianceappendgetVarianceappend', 'return', 'public', 'String', 'StringBuilder', 'sbnew', 'for', 'Word', 'word', 'words', 'if', 'word', 'null', 'return'])\n",
            " list(['Simple', 'Seg', 'return', 'new', 'static', 'void', 'mainString', 'args', 'throws', 'IOException', 'new', 'void', 'Systemoutprintnmmseg4j', 'thisgetClassgetSimpleNametoLowerCase', 'void', 'run', 'throws', 'IOException', 'String', 'for', 'String', 'str', 'arr', 'String', 'BufferedReader', 'brnew', 'BufferedReadernew', 'while', 'inputStrbrreadLine', 'null', 'if', 'inputStrequalsQUIT', 'inputStrequalsEXIT', 'else', 'if', 'equalsinputStr', 'else', 'Systemoutprintnmmseg4j', 'thisgetClassgetSimpleNametoLowerCase', 'String', 'segWordsReader', 'inputString', 'wordSpilt', 'throws', 'IOException', 'StringBuilder', 'sbnew', 'Seg', 'MMSeg', 'mmSegnew', 'Word', 'boolean', 'while', 'wordmmSegnext', 'null', 'SystemoutprintlnwordgetStartOffset', 'wordgetLength', 'wordgetEndOffset', 'wordgetWordOffset', 'wordgetString', 'if', 'first', 'String', 'return', 'String', 'segWordsString', 'txtString', 'wordSpilt', 'throws', 'IOException', 'return', 'segWordsnew'])\n",
            " list(['Word', 'int', 'return', 'int', 'return', 'getStartOffset', 'int', 'return', 'char', 'return', 'String', 'return', 'new', 'String', 'return', 'char', 'sen', 'see', 'int', 'return', 'void', 'setDegreeint', 'void', 'setTypeString', 'param', 'startOffset', 'Wordchar', 'wordint', 'senoffset', 'param', 'senStartOffset', 'param', 'offset', 'param', 'Wordchar', 'senint', 'senStartOffsetint', 'offsetint', 'param', 'startOffset', 'Wordchar', 'wordint', 'startOffsetString'])\n",
            " list(['MaxMatchRule', 'void', 'addChunkChunk', 'if', 'chunkgetLen', 'maxLen', 'protected', 'boolean', 'isRemoveChunk', 'return', 'chunkgetLen', 'void'])\n",
            " list(['Sentence', 'void', 'addOffsetint', 'offset', 'int', 'return', 'int', 'return', 'char', 'return', 'boolean', 'return', 'offset', 'void', 'reinitchar', 'textint', 'thistextnew', 'Sentencechar', 'textint', 'void', 'setOffsetint', 'void', 'setStartOffsetint'])\n",
            " list(['SimpleSeg', 'Chunk', 'segSentence', 'CharNode', 'char', 'Chunk', 'chunknew', 'char', 'for', 'int', 'k0', 'k', '3', 'senisFinish', 'k', 'int', 'int', 'if', 'maxLen', '0', 'MMSegisLetterOrDigitch', 'int', 'if', 'cnt', '0', 'chunkwordsknew', 'WordchssengetStartOffsetoffsetmaxLen', 'offsetmaxLen', 'return', 'SimpleSegDictionary'])\n",
            " list(['Dictionary', 'wordsFile', 'param', 'wordsFile', 'synchronized', 'void', 'addLastTimeFile', 'if', 'wordsFile', 'null', 'param', 'return', '℃', 'static', 'Dictionary', 'clearFile', 'File', 'return', 'see', 'static', 'Dictionary', 'clearString', 'return', 'clearnew', 'DictionaryFile', 'void', 'finalize', 'throws', 'Throwable', 'static', 'File', 'if', 'defalutPath', 'null', 'String', 'loginfolook', 'up', 'in', 'mmsegdicpath', 'if', 'defPath', 'null', 'URL', 'if', 'url', 'null', 'loginfolook', 'up', 'in', 'classpath', 'else', 'defPathSystemgetPropertyuserdir', 'loginfolook', 'up', 'in', 'userdir', 'defalutPathnew', 'if', 'defalutPathexists', 'logwarningdefalut', 'dic', 'path', 'defalutPath', 'not', 'return', 'File', 'return', 'MapCharacterCharNode', 'return', 'static', 'Dictionary', 'File', 'return', 'param', 'path', 'static', 'Dictionary', 'getInstanceFile', 'loginfotry', 'to', 'load', 'dir', 'File', 'Dictionary', 'if', 'dic', 'null', 'dicnew', 'return', 'param', 'path', 'static', 'Dictionary', 'getInstanceString', 'return', 'getInstancenew', 'long', 'return', 'CharNode', 'headchar', 'return', 'void', 'initFile', 'wordsLastTimenew', 'static', 'boolean', 'isStopWordString', 'return', 'boolean', 'isUnitCharacter', 'return', 'File', 'return', 'dicPathlistFilesnew', 'public', 'boolean', 'accept', 'File', 'dir', 'String', 'return', 'namestartsWithwords', 'MapCharacterCharNode', 'loadDicFile', 'wordsPath', 'throws', 'IOException', 'InputStream', 'File', 'charsFilenew', 'if', 'charsFileexists', 'charsInnew', 'else', 'charsFilenew', 'final', 'MapCharacterCharNode', 'dicnew', 'int', 'long', 'long', 'lineNumloadcharsInnew', 'public', 'void', 'row', 'String', 'line', 'int', 'if', 'linelength', '1', 'String', 'wlinesplit', 'CharNode', 'cnnew', 'wlength', 'try', 'cnsetFreqintMathlogIntegerparseIntw1', 'catch', 'NumberFormatException', 'e', 'loaded', 'time', 'now', 's', 'ms', 'line', 'lineNum', 'on', 'file', 'useDefault', 'String', 'dicName', 'dicInJar', 'words', 'null', 'File', 'wordsFile', 'words', 'loadWordnew', 'all', 'dic', 'use', 'time', 'now', 'ss', 'SetString', 'loadStopFile', 'dicPath', 'throws', 'IOException', 'final', 'SetString', 'retnew', 'InputStream', 'File', 'stopnew', 'if', 'stopexists', 'finnew', 'else', 'if', 'fin', 'null', 'stopnew', 'if', 'fin', 'null', 'long', 'int', 'lineNumloadfinnew', 'public', 'void', 'row', 'String', 'line', 'int', 'loginfostop', 'loaded', 'time', 'now', 's', 'ms', 'line', 'lineNum', 'on', 'file', 'return', 'MapCharacterObject', 'loadUnitFile', 'path', 'throws', 'IOException', 'InputStream', 'File', 'unitFilenew', 'if', 'unitFileexists', 'finnew', 'else', 'unitFilenew', 'final', 'MapCharacterObject', 'unitnew', 'long', 'int', 'lineNumloadfinnew', 'public', 'void', 'row', 'String', 'line', 'int', 'if', 'linelength', '1', 'loginfounit', 'loaded', 'time', 'now', 's', 'ms', 'line', 'lineNum', 'on', 'file', 'return', 'void', 'loadWordsFromJarString', 'fileNameMapCharacterCharNode', 'InputStream', 'if', 'wordsDicIn', 'null', 'File', 'wordsDicnew', 'try', 'catch', 'Exception', 'e', 'logwarningload', 'fileName', 'meet', 'param', 'is', 'param', 'dic', 'param', 'wordsFile', 'throws', 'IOException', 'from', 'link', 'void', 'loadWordInputStream', 'isMapCharacterCharNode', 'dicFile', 'wordsFile', 'throws', 'IOException', 'long', 'int', 'lineNumloadisnew', 'loginfowords', 'loaded', 'time', 'now', 's', 'ms', 'line', 'lineNum', 'on', 'file', 'static', 'int', 'loadInputStream', 'finFileLoading', 'loading', 'throws', 'IOException', 'BufferedReader', 'brnew', 'BufferedReadernew', 'InputStreamReadernew', 'String', 'int', 'while', 'linebrreadLine', 'null', 'if', 'line', 'null', 'linestartsWith', 'return', 'word', 'author', 'chenlb', '200933', 'boolean', 'matchString', 'if', 'word', 'null', 'wordlength', '2', 'return', 'CharNode', 'return', 'searchcnwordtoCharArray0wordlength', '1', 'int', 'maxMatchchar', 'senint', 'CharNode', 'return', 'ArrayListInteger', 'maxMatchCharNode', 'nodeArrayListInteger', 'tailLenschar', 'senint', 'if', 'node', 'null', 'return', 'nodemaxMatchtailLenssenoffset', 'return', 'int', 'maxMatchCharNode', 'nodechar', 'senint', 'if', 'node', 'null', 'return', 'nodemaxMatchsenoffset', 'return', 'static', 'File', 'normalizeFileFile', 'if', 'file', 'defalutPath', 'return', 'try', 'return', 'catch', 'IOException', 'e', 'throw', 'new', 'RuntimeExceptionnormalize', 'file', 'file', 'static', 'long', 'return', 'synchronized', 'boolean', 'MapFileLong', 'oldWordsLastTimenew', 'MapCharacterCharNode', 'MapCharacterObject', 'try', 'catch', 'IOException', 'e', 'if', 'logisLoggableLevelWARNING', 'loglogLevelWARNINGreload', 'dic', 'error', 'dic', 'dicPath', 'and', 'return', 'return', 'static', 'void', 'setUseDefaultboolean', 'author', 'chenlb', 'static', 'char', 'tailString', 'char', 'csnew', 'charstrlength', 'return', 'synchronized', 'boolean', 'for', 'EntryFileLong', 'flt', 'wordsLastTimeentrySet', 'File', 'if', 'wordscanRead', 'return', 'if', 'wordslastModified', 'fltgetValue', 'return', 'File', 'if', 'words', 'null', 'for', 'File', 'wordsFile', 'words', 'if', 'wordsLastTimecontainsKeywordsFile', 'return', 'return'])\n",
            " list(['CharNode', 'void', 'addWordTailchar', 'if', 'wordTaillength', 'maxLen', 'int', 'return', 'int', 'return', 'int', 'indexOfchar', 'senint', 'offsetint', 'return', 'keyTreeWordTailsmatchsenoffset', '1tailLen', '1', 'ArrayListInteger', 'maxMatchArrayListInteger', 'tailLenschar', 'senint', 'return', 'void', 'setFreqint', 'void', 'setMaxLenint', 'int', 'return'])\n",
            " list(['Seg', 'see', 'boolean', 'isUnitint', 'return', 'int', 'maxMatchCharNode', 'cnsint', 'cnIdxchar', 'chsint', 'CharNode', 'char', 'if', 'offset', 'chslength', 'int', 'if', 'len', '0', 'MMSegisLetterOrDigitch', 'int', 'if', 'cnt', '0', 'return', 'return', 'void', 'maxMatchCharNode', 'cnsint', 'idxchar', 'chsint', 'offsetArrayListInteger', 'tailLensint', 'CharNode', 'char', 'if', 'offset', 'chslength', 'if', 'tailLenstailLensIdxsize', '1', 'tailLenstailLensIdxget0', '0', 'MMSegisLetterOrDigitch', 'int', 'if', 'cnt', '0', 'void', 'printChunkListChunk', 'for', 'Chunk', 'ck', 'chunks', 'Systemoutprintlnck', 'int', 'searchchar', 'chsint', 'offsetint', 'if', 'tailLen', '0', 'return', 'CharNode', 'return', 'int', 'searchCharNode', 'cnchar', 'chsint', 'offsetint', 'if', 'tailLen', '0', 'cn', 'null', 'return', 'return', 'SegDictionary', 'skipCharschar', 'chsint', 'int', 'ReadCharByAsciiOrDigit', 'rcadnew', 'for', 'int', 'ioffset', '1', 'i', 'chslength', 'i', 'int', 'if', 'rcadisReadd', 'passcontainsStringvalueOfd', 'else', 'int', 'if', 'dicisUnitcharm', 'else', 'return'])\n",
            " list(['Rule', 'void', 'addChunksListChunk', 'for', 'Chunk', 'chunk', 'chunks', 'author', 'chenlb', 'ListChunk', 'for', 'IteratorChunk', 'itchunksiterator', 'ithasNext', 'Chunk', 'if', 'isRemovechunk', 'return'])\n",
            " list(['MMSeg', 'Sentence', 'createSentenceStringBuilder', 'return', 'new', 'Word', 'createWordStringBuilder', 'bufSentenceint', 'startIdxString', 'return', 'new', 'Word', 'createWordStringBuilder', 'sentenceBufferString', 'return', 'new', 'NationLetter', 'getNationint', 'if', 'isAsciiLettercodePoint', 'return', 'if', 'isRussiaLettercodePoint', 'return', 'if', 'isGreeceLettercodePoint', 'return', 'return', 'static', 'boolean', 'isAsciiLetterint', 'return', 'codePoint', 'A', 'codePoint', 'Z', 'codePoint', 'a', 'codePoint', 'boolean', 'isCJKint', 'return', 'type', 'boolean', 'isDigitint', 'return', 'type', 'boolean', 'isDotint', 'return', 'type', 'static', 'boolean', 'isGreeceLetterint', 'return', 'codePoint', 'codePoint', 'codePoint', 'codePoint', 'static', 'boolean', 'isLetterOrDigitchar', 'return', 'c', '97', 'c', '122', 'c', '90', 'c', '65', 'c', '57', 'c', 'boolean', 'isLetterint', 'return', 'type', 'CharacterMODIFIERLETTER', 'type', 'static', 'boolean', 'isRussiaLetterint', 'return', 'codePoint', 'codePoint', 'codePoint', 'codePoint', 'MMSegReader', 'inputSeg', 'Word', 'next', 'throws', 'IOException', 'Word', 'if', 'word', 'null', 'int', 'boolean', 'while', 'read', 'datareadNext', '1', 'int', 'type', 'NationLetter', 'if', 'nl', 'NationLetterUNKNOW', 'nl', 'readCharssentenceBuffernew', 'readCharssentenceBuffernew', 'd', '1', 'segisUnitd', 'else', 'readCharssentenceBuffernew', 'ReadCharByAsciiOrDigit', '0', 'int', 'i0', 'i', 'sentenceBufferlength', 'i', 'Wordnew', 'currentSentence', 'null', 'int', 'i0', 'i', 'chunkgetCount', 'i', 'wgetStringtrimlength', '0', 'DictionaryisStopWordwgetStringtrim', 'while', 'void', 'pushBackint', 'data', 'throws', 'IOException', 'param', 'param', 'return', 'int', 'readCharsStringBuilder', 'sentenceBufferReadChar', 'readChar', 'throws', 'IOException', 'int', 'int', 'while', 'datareadNext', '1', 'int', 'if', 'readCharisReadd', 'passcontainsStringvalueOfd', 'else', 'return', 'int', 'readNext', 'throws', 'IOException', 'int', 'if', 'd', '1', 'return', 'void', 'resetReader', 'thisreadernew', 'PushbackReadernew', 'thiswordBuffernew', 'int', 'startIdxStringBuilder', 'return', 'readIndex', 'sentenceBufferlength', 'int', 'toAsciiint', 'if', 'codePoint', '65296', 'codePoint', '65305', 'codePoint', '65313', 'codePoint', '65338', 'codePoint', '65345', 'codePoint', '65370', 'return', 'static', 'char', 'toCharsStringBuilder', 'char', 'chsnew', 'return'])]\n"
          ]
        }
      ]
    },
    {
      "cell_type": "code",
      "source": [
        "\n",
        "def f_lsa(news_df, n):\n",
        "    vectorizer = CountVectorizer()\n",
        "    X = vectorizer.fit_transform(news_df)\n",
        "  \n",
        "    n_cap = 1\n",
        "    svd_model = TruncatedSVD(n_components=n_cap) \n",
        "    X2 = svd_model.fit_transform(X) \n",
        "    terms = vectorizer.get_feature_names()\n",
        "    for i, comp in enumerate(svd_model.components_):\n",
        "        terms_comp = zip(terms, comp)\n",
        "        sorted_terms = sorted(terms_comp, key=lambda x: x[1], reverse=True)[:7]\n",
        "        # print(\"Topic \" + str(i) + \": \")\n",
        "        for t in sorted_terms:\n",
        "            print(t[0])\n",
        "    print(\" \")\n",
        "\n",
        "    D = svd_model.components_\n",
        "    T = X2\n",
        "    S = np.diagflat(svd_model.singular_values_)\n",
        "\n",
        "    X = np.dot(T, S)\n",
        "    X = np.dot(X, D)\n",
        "    c = np.dot(X, X.T)\n",
        "\n",
        "    acsm = None\n",
        "    sum = 0\n",
        "    for i in c:\n",
        "        for j in i:\n",
        "            if j < 0:\n",
        "                j = 0\n",
        "            sum += j\n",
        "        acsm = sum / n / n\n",
        "\n",
        "    return acsm"
      ],
      "metadata": {
        "id": "Jg6-It_dEerD"
      },
      "execution_count": 25,
      "outputs": []
    },
    {
      "cell_type": "code",
      "source": [
        "q = 0\n",
        "acsm= []\n",
        "for i in index:\n",
        "    lists = []\n",
        "    print(\"*************\",i,\"****************\")\n",
        "    for j in i:\n",
        "        lists.append(j)\n",
        "    if len(lists) > 1:\n",
        "        acsm.append(f_lsa(lists,len(i)))\n",
        "    else :\n",
        "        acsm.append(1)"
      ],
      "metadata": {
        "colab": {
          "base_uri": "https://localhost:8080/"
        },
        "id": "pUdLLQ3IEhXe",
        "outputId": "8c3524cb-8589-46d9-a370-ff6221cb9056"
      },
      "execution_count": 26,
      "outputs": [
        {
          "output_type": "stream",
          "name": "stdout",
          "text": [
            "************* ['MaxWordSeg', 'MaxWordSegDictionary'] ****************\n",
            "maxwordsegdictionary\n",
            "maxwordseg\n",
            " \n",
            "************* ['ComplexSeg', 'ComplexSegDictionary', 'otherRulesaddnew', 'otherRulesaddnew', 'otherRulesaddnew', 'Chunk', 'createChunkSentence', 'senchar', 'chsint', 'tailLenint', 'offsetsCharNode', 'Chunk', 'cknew', 'for', 'int', 'i0', 'i', '3', 'i', 'if', 'offsetsi', 'chslength', 'ckwordsinew', 'WordchssengetStartOffsetoffsetsitailLeni', 'if', 'tailLeni', '0', 'CharNode', 'if', 'cn', 'null', 'return', 'static', 'boolean', 'return', 'static', 'void', 'setShowChunkboolean'] ****************\n",
            "if\n",
            "i0\n",
            "complexseg\n",
            "null\n",
            "tailleni\n",
            "boolean\n",
            "charnode\n",
            " \n",
            "************* ['Chunk', 'Largest', 'Average', 'Word', 'double', 'if', 'avgLen', '0', 'avgLendoublegetLen', 'return', 'int', 'if', 'count', '0', 'for', 'Word', 'word', 'words', 'if', 'word', 'null', 'return', 'Word', 'int', 'if', 'len', '0', 'for', 'Word', 'word', 'words', 'if', 'word', 'null', 'return', 'Sum', 'of', 'Degree', 'of', 'Morphemic', 'Freedom', 'of', 'int', 'if', 'sumDegree', '0', 'int', 'for', 'Word', 'word', 'words', 'if', 'word', 'null', 'wordgetDegree', '1', 'return', 'Variance', 'of', 'Word', 'double', 'if', 'variance', '0', 'double', 'for', 'Word', 'word', 'words', 'if', 'word', 'null', 'sumMathpowwordgetLength', 'variancesum', 'return', 'Word', 'return', 'void', 'setWordsWord', 'String', 'StringBuilder', 'sbnew', 'sbappendlenappendgetLenappend', 'sbappendavgLenappendgetAvgLenappend', 'sbappendvarianceappendgetVarianceappend', 'return', 'public', 'String', 'StringBuilder', 'sbnew', 'for', 'Word', 'word', 'words', 'if', 'word', 'null', 'return'] ****************\n",
            "word\n",
            "sbnew\n",
            "double\n",
            "sbappendvarianceappendgetvarianceappend\n",
            "chunk\n",
            "sumdegree\n",
            "int\n",
            " \n",
            "************* ['Simple', 'Seg', 'return', 'new', 'static', 'void', 'mainString', 'args', 'throws', 'IOException', 'new', 'void', 'Systemoutprintnmmseg4j', 'thisgetClassgetSimpleNametoLowerCase', 'void', 'run', 'throws', 'IOException', 'String', 'for', 'String', 'str', 'arr', 'String', 'BufferedReader', 'brnew', 'BufferedReadernew', 'while', 'inputStrbrreadLine', 'null', 'if', 'inputStrequalsQUIT', 'inputStrequalsEXIT', 'else', 'if', 'equalsinputStr', 'else', 'Systemoutprintnmmseg4j', 'thisgetClassgetSimpleNametoLowerCase', 'String', 'segWordsReader', 'inputString', 'wordSpilt', 'throws', 'IOException', 'StringBuilder', 'sbnew', 'Seg', 'MMSeg', 'mmSegnew', 'Word', 'boolean', 'while', 'wordmmSegnext', 'null', 'SystemoutprintlnwordgetStartOffset', 'wordgetLength', 'wordgetEndOffset', 'wordgetWordOffset', 'wordgetString', 'if', 'first', 'String', 'return', 'String', 'segWordsString', 'txtString', 'wordSpilt', 'throws', 'IOException', 'return', 'segWordsnew'] ****************\n"
          ]
        },
        {
          "output_type": "stream",
          "name": "stderr",
          "text": [
            "/usr/local/lib/python3.8/dist-packages/sklearn/utils/deprecation.py:87: FutureWarning: Function get_feature_names is deprecated; get_feature_names is deprecated in 1.0 and will be removed in 1.2. Please use get_feature_names_out instead.\n",
            "  warnings.warn(msg, category=FutureWarning)\n"
          ]
        },
        {
          "output_type": "stream",
          "name": "stdout",
          "text": [
            "string\n",
            "systemoutprintnmmseg4j\n",
            "seg\n",
            "return\n",
            "boolean\n",
            "simple\n",
            "txtstring\n",
            " \n",
            "************* ['Word', 'int', 'return', 'int', 'return', 'getStartOffset', 'int', 'return', 'char', 'return', 'String', 'return', 'new', 'String', 'return', 'char', 'sen', 'see', 'int', 'return', 'void', 'setDegreeint', 'void', 'setTypeString', 'param', 'startOffset', 'Wordchar', 'wordint', 'senoffset', 'param', 'senStartOffset', 'param', 'offset', 'param', 'Wordchar', 'senint', 'senStartOffsetint', 'offsetint', 'param', 'startOffset', 'Wordchar', 'wordint', 'startOffsetString'] ****************\n",
            "return\n",
            "setdegreeint\n",
            "word\n",
            "getstartoffset\n",
            "offsetint\n",
            "void\n",
            "settypestring\n",
            " \n",
            "************* ['MaxMatchRule', 'void', 'addChunkChunk', 'if', 'chunkgetLen', 'maxLen', 'protected', 'boolean', 'isRemoveChunk', 'return', 'chunkgetLen', 'void'] ****************\n",
            "void\n",
            "boolean\n",
            "addchunkchunk\n",
            "return\n",
            "isremovechunk\n",
            "if\n",
            "maxlen\n",
            " \n",
            "************* ['Sentence', 'void', 'addOffsetint', 'offset', 'int', 'return', 'int', 'return', 'char', 'return', 'boolean', 'return', 'offset', 'void', 'reinitchar', 'textint', 'thistextnew', 'Sentencechar', 'textint', 'void', 'setOffsetint', 'void', 'setStartOffsetint'] ****************\n",
            "return\n",
            "void\n",
            "thistextnew\n",
            "addoffsetint\n",
            "offset\n",
            "textint\n",
            "boolean\n",
            " \n",
            "************* ['SimpleSeg', 'Chunk', 'segSentence', 'CharNode', 'char', 'Chunk', 'chunknew', 'char', 'for', 'int', 'k0', 'k', '3', 'senisFinish', 'k', 'int', 'int', 'if', 'maxLen', '0', 'MMSegisLetterOrDigitch', 'int', 'if', 'cnt', '0', 'chunkwordsknew', 'WordchssengetStartOffsetoffsetmaxLen', 'offsetmaxLen', 'return', 'SimpleSegDictionary'] ****************\n",
            "int\n",
            "return\n",
            "segsentence\n",
            "maxlen\n",
            "chunknew\n",
            "simpleseg\n",
            "cnt\n",
            " \n",
            "************* ['Dictionary', 'wordsFile', 'param', 'wordsFile', 'synchronized', 'void', 'addLastTimeFile', 'if', 'wordsFile', 'null', 'param', 'return', '℃', 'static', 'Dictionary', 'clearFile', 'File', 'return', 'see', 'static', 'Dictionary', 'clearString', 'return', 'clearnew', 'DictionaryFile', 'void', 'finalize', 'throws', 'Throwable', 'static', 'File', 'if', 'defalutPath', 'null', 'String', 'loginfolook', 'up', 'in', 'mmsegdicpath', 'if', 'defPath', 'null', 'URL', 'if', 'url', 'null', 'loginfolook', 'up', 'in', 'classpath', 'else', 'defPathSystemgetPropertyuserdir', 'loginfolook', 'up', 'in', 'userdir', 'defalutPathnew', 'if', 'defalutPathexists', 'logwarningdefalut', 'dic', 'path', 'defalutPath', 'not', 'return', 'File', 'return', 'MapCharacterCharNode', 'return', 'static', 'Dictionary', 'File', 'return', 'param', 'path', 'static', 'Dictionary', 'getInstanceFile', 'loginfotry', 'to', 'load', 'dir', 'File', 'Dictionary', 'if', 'dic', 'null', 'dicnew', 'return', 'param', 'path', 'static', 'Dictionary', 'getInstanceString', 'return', 'getInstancenew', 'long', 'return', 'CharNode', 'headchar', 'return', 'void', 'initFile', 'wordsLastTimenew', 'static', 'boolean', 'isStopWordString', 'return', 'boolean', 'isUnitCharacter', 'return', 'File', 'return', 'dicPathlistFilesnew', 'public', 'boolean', 'accept', 'File', 'dir', 'String', 'return', 'namestartsWithwords', 'MapCharacterCharNode', 'loadDicFile', 'wordsPath', 'throws', 'IOException', 'InputStream', 'File', 'charsFilenew', 'if', 'charsFileexists', 'charsInnew', 'else', 'charsFilenew', 'final', 'MapCharacterCharNode', 'dicnew', 'int', 'long', 'long', 'lineNumloadcharsInnew', 'public', 'void', 'row', 'String', 'line', 'int', 'if', 'linelength', '1', 'String', 'wlinesplit', 'CharNode', 'cnnew', 'wlength', 'try', 'cnsetFreqintMathlogIntegerparseIntw1', 'catch', 'NumberFormatException', 'e', 'loaded', 'time', 'now', 's', 'ms', 'line', 'lineNum', 'on', 'file', 'useDefault', 'String', 'dicName', 'dicInJar', 'words', 'null', 'File', 'wordsFile', 'words', 'loadWordnew', 'all', 'dic', 'use', 'time', 'now', 'ss', 'SetString', 'loadStopFile', 'dicPath', 'throws', 'IOException', 'final', 'SetString', 'retnew', 'InputStream', 'File', 'stopnew', 'if', 'stopexists', 'finnew', 'else', 'if', 'fin', 'null', 'stopnew', 'if', 'fin', 'null', 'long', 'int', 'lineNumloadfinnew', 'public', 'void', 'row', 'String', 'line', 'int', 'loginfostop', 'loaded', 'time', 'now', 's', 'ms', 'line', 'lineNum', 'on', 'file', 'return', 'MapCharacterObject', 'loadUnitFile', 'path', 'throws', 'IOException', 'InputStream', 'File', 'unitFilenew', 'if', 'unitFileexists', 'finnew', 'else', 'unitFilenew', 'final', 'MapCharacterObject', 'unitnew', 'long', 'int', 'lineNumloadfinnew', 'public', 'void', 'row', 'String', 'line', 'int', 'if', 'linelength', '1', 'loginfounit', 'loaded', 'time', 'now', 's', 'ms', 'line', 'lineNum', 'on', 'file', 'return', 'void', 'loadWordsFromJarString', 'fileNameMapCharacterCharNode', 'InputStream', 'if', 'wordsDicIn', 'null', 'File', 'wordsDicnew', 'try', 'catch', 'Exception', 'e', 'logwarningload', 'fileName', 'meet', 'param', 'is', 'param', 'dic', 'param', 'wordsFile', 'throws', 'IOException', 'from', 'link', 'void', 'loadWordInputStream', 'isMapCharacterCharNode', 'dicFile', 'wordsFile', 'throws', 'IOException', 'long', 'int', 'lineNumloadisnew', 'loginfowords', 'loaded', 'time', 'now', 's', 'ms', 'line', 'lineNum', 'on', 'file', 'static', 'int', 'loadInputStream', 'finFileLoading', 'loading', 'throws', 'IOException', 'BufferedReader', 'brnew', 'BufferedReadernew', 'InputStreamReadernew', 'String', 'int', 'while', 'linebrreadLine', 'null', 'if', 'line', 'null', 'linestartsWith', 'return', 'word', 'author', 'chenlb', '200933', 'boolean', 'matchString', 'if', 'word', 'null', 'wordlength', '2', 'return', 'CharNode', 'return', 'searchcnwordtoCharArray0wordlength', '1', 'int', 'maxMatchchar', 'senint', 'CharNode', 'return', 'ArrayListInteger', 'maxMatchCharNode', 'nodeArrayListInteger', 'tailLenschar', 'senint', 'if', 'node', 'null', 'return', 'nodemaxMatchtailLenssenoffset', 'return', 'int', 'maxMatchCharNode', 'nodechar', 'senint', 'if', 'node', 'null', 'return', 'nodemaxMatchsenoffset', 'return', 'static', 'File', 'normalizeFileFile', 'if', 'file', 'defalutPath', 'return', 'try', 'return', 'catch', 'IOException', 'e', 'throw', 'new', 'RuntimeExceptionnormalize', 'file', 'file', 'static', 'long', 'return', 'synchronized', 'boolean', 'MapFileLong', 'oldWordsLastTimenew', 'MapCharacterCharNode', 'MapCharacterObject', 'try', 'catch', 'IOException', 'e', 'if', 'logisLoggableLevelWARNING', 'loglogLevelWARNINGreload', 'dic', 'error', 'dic', 'dicPath', 'and', 'return', 'return', 'static', 'void', 'setUseDefaultboolean', 'author', 'chenlb', 'static', 'char', 'tailString', 'char', 'csnew', 'charstrlength', 'return', 'synchronized', 'boolean', 'for', 'EntryFileLong', 'flt', 'wordsLastTimeentrySet', 'File', 'if', 'wordscanRead', 'return', 'if', 'wordslastModified', 'fltgetValue', 'return', 'File', 'if', 'words', 'null', 'for', 'File', 'wordsFile', 'words', 'if', 'wordsLastTimecontainsKeywordsFile', 'return', 'return'] ****************\n",
            "return\n",
            "long\n",
            "string\n",
            "boolean\n",
            "dic\n",
            "int\n",
            "time\n",
            " \n",
            "************* ['CharNode', 'void', 'addWordTailchar', 'if', 'wordTaillength', 'maxLen', 'int', 'return', 'int', 'return', 'int', 'indexOfchar', 'senint', 'offsetint', 'return', 'keyTreeWordTailsmatchsenoffset', '1tailLen', '1', 'ArrayListInteger', 'maxMatchArrayListInteger', 'tailLenschar', 'senint', 'return', 'void', 'setFreqint', 'void', 'setMaxLenint', 'int', 'return'] ****************\n",
            "return\n",
            "indexofchar\n",
            "addwordtailchar\n",
            "if\n",
            "keytreewordtailsmatchsenoffset\n",
            "setfreqint\n",
            "setmaxlenint\n",
            " \n",
            "************* ['Seg', 'see', 'boolean', 'isUnitint', 'return', 'int', 'maxMatchCharNode', 'cnsint', 'cnIdxchar', 'chsint', 'CharNode', 'char', 'if', 'offset', 'chslength', 'int', 'if', 'len', '0', 'MMSegisLetterOrDigitch', 'int', 'if', 'cnt', '0', 'return', 'return', 'void', 'maxMatchCharNode', 'cnsint', 'idxchar', 'chsint', 'offsetArrayListInteger', 'tailLensint', 'CharNode', 'char', 'if', 'offset', 'chslength', 'if', 'tailLenstailLensIdxsize', '1', 'tailLenstailLensIdxget0', '0', 'MMSegisLetterOrDigitch', 'int', 'if', 'cnt', '0', 'void', 'printChunkListChunk', 'for', 'Chunk', 'ck', 'chunks', 'Systemoutprintlnck', 'int', 'searchchar', 'chsint', 'offsetint', 'if', 'tailLen', '0', 'return', 'CharNode', 'return', 'int', 'searchCharNode', 'cnchar', 'chsint', 'offsetint', 'if', 'tailLen', '0', 'cn', 'null', 'return', 'return', 'SegDictionary', 'skipCharschar', 'chsint', 'int', 'ReadCharByAsciiOrDigit', 'rcadnew', 'for', 'int', 'ioffset', '1', 'i', 'chslength', 'i', 'int', 'if', 'rcadisReadd', 'passcontainsStringvalueOfd', 'else', 'int', 'if', 'dicisUnitcharm', 'else', 'return'] ****************\n",
            "if\n",
            "int\n",
            "char\n",
            "mmsegisletterordigitch\n",
            "taillen\n",
            "cnt\n",
            "else\n",
            " \n",
            "************* ['Rule', 'void', 'addChunksListChunk', 'for', 'Chunk', 'chunk', 'chunks', 'author', 'chenlb', 'ListChunk', 'for', 'IteratorChunk', 'itchunksiterator', 'ithasNext', 'Chunk', 'if', 'isRemovechunk', 'return'] ****************\n",
            "chunk\n",
            "return\n",
            "isremovechunk\n",
            "if\n",
            "addchunkslistchunk\n",
            "author\n",
            "void\n",
            " \n",
            "************* ['MMSeg', 'Sentence', 'createSentenceStringBuilder', 'return', 'new', 'Word', 'createWordStringBuilder', 'bufSentenceint', 'startIdxString', 'return', 'new', 'Word', 'createWordStringBuilder', 'sentenceBufferString', 'return', 'new', 'NationLetter', 'getNationint', 'if', 'isAsciiLettercodePoint', 'return', 'if', 'isRussiaLettercodePoint', 'return', 'if', 'isGreeceLettercodePoint', 'return', 'return', 'static', 'boolean', 'isAsciiLetterint', 'return', 'codePoint', 'A', 'codePoint', 'Z', 'codePoint', 'a', 'codePoint', 'boolean', 'isCJKint', 'return', 'type', 'boolean', 'isDigitint', 'return', 'type', 'boolean', 'isDotint', 'return', 'type', 'static', 'boolean', 'isGreeceLetterint', 'return', 'codePoint', 'codePoint', 'codePoint', 'codePoint', 'static', 'boolean', 'isLetterOrDigitchar', 'return', 'c', '97', 'c', '122', 'c', '90', 'c', '65', 'c', '57', 'c', 'boolean', 'isLetterint', 'return', 'type', 'CharacterMODIFIERLETTER', 'type', 'static', 'boolean', 'isRussiaLetterint', 'return', 'codePoint', 'codePoint', 'codePoint', 'codePoint', 'MMSegReader', 'inputSeg', 'Word', 'next', 'throws', 'IOException', 'Word', 'if', 'word', 'null', 'int', 'boolean', 'while', 'read', 'datareadNext', '1', 'int', 'type', 'NationLetter', 'if', 'nl', 'NationLetterUNKNOW', 'nl', 'readCharssentenceBuffernew', 'readCharssentenceBuffernew', 'd', '1', 'segisUnitd', 'else', 'readCharssentenceBuffernew', 'ReadCharByAsciiOrDigit', '0', 'int', 'i0', 'i', 'sentenceBufferlength', 'i', 'Wordnew', 'currentSentence', 'null', 'int', 'i0', 'i', 'chunkgetCount', 'i', 'wgetStringtrimlength', '0', 'DictionaryisStopWordwgetStringtrim', 'while', 'void', 'pushBackint', 'data', 'throws', 'IOException', 'param', 'param', 'return', 'int', 'readCharsStringBuilder', 'sentenceBufferReadChar', 'readChar', 'throws', 'IOException', 'int', 'int', 'while', 'datareadNext', '1', 'int', 'if', 'readCharisReadd', 'passcontainsStringvalueOfd', 'else', 'return', 'int', 'readNext', 'throws', 'IOException', 'int', 'if', 'd', '1', 'return', 'void', 'resetReader', 'thisreadernew', 'PushbackReadernew', 'thiswordBuffernew', 'int', 'startIdxStringBuilder', 'return', 'readIndex', 'sentenceBufferlength', 'int', 'toAsciiint', 'if', 'codePoint', '65296', 'codePoint', '65305', 'codePoint', '65313', 'codePoint', '65338', 'codePoint', '65345', 'codePoint', '65370', 'return', 'static', 'char', 'toCharsStringBuilder', 'char', 'chsnew', 'return'] ****************\n",
            "return\n",
            "readcharssentencebuffernew\n",
            "new\n",
            "null\n",
            "i0\n",
            "ioexception\n",
            "datareadnext\n",
            " \n"
          ]
        }
      ]
    },
    {
      "cell_type": "code",
      "source": [
        "c = []\n",
        "for i in range(len(class_name)):\n",
        "      for j in range(len(acsm)):\n",
        "        if i==j:\n",
        "            t=[class_name[i],acsm[j]]\n",
        "            c.append(t)\n",
        "c = np.array(c)\n"
      ],
      "metadata": {
        "id": "lWlcWqzjEkUQ"
      },
      "execution_count": 27,
      "outputs": []
    },
    {
      "cell_type": "code",
      "source": [
        "from tensorflow.keras.layers import Input\n",
        "from keras.models import Model\n",
        "from keras.layers import Dense"
      ],
      "metadata": {
        "id": "GZJEKO5NEoKZ"
      },
      "execution_count": 28,
      "outputs": []
    },
    {
      "cell_type": "code",
      "source": [
        "def word2vec_train(index):\n",
        "    list = []\n",
        "    list.append(index[0])\n",
        "    words = []\n",
        "\n",
        "    additem(index)\n",
        "    print(index)\n",
        "    for word in index:\n",
        "        if word not in words:\n",
        "            words.append(word)\n",
        "\n",
        "    word2int = {}\n",
        "    for i,word in enumerate(words):\n",
        "        word2int[word] = i\n",
        "    print(word2int)\n",
        "\n",
        "\n",
        "\n",
        "    WINDOW_SIZE=2\n",
        "    data = []\n",
        "    for idx,word in enumerate(index):\n",
        "        for neighbor in index[max(idx - WINDOW_SIZE,0) : min(idx + WINDOW_SIZE,len(index))+ 1]:\n",
        "            if neighbor != word:\n",
        "                data.append([word, neighbor])\n",
        "    df = pd.DataFrame(data,columns=['input','label'])\n",
        "\n",
        "\n",
        "    ONE_HOT_DIM = len(words)\n",
        "    def to_one_hot_encoding(data_point_index):\n",
        "        one_hot_encoding = np.zeros(ONE_HOT_DIM)\n",
        "        one_hot_encoding[data_point_index] = 1\n",
        "        return one_hot_encoding\n",
        "\n",
        "    X = []\n",
        "    Y = []\n",
        "\n",
        "    for x, y in zip(df['input'],df['label']):\n",
        "        X.append(to_one_hot_encoding(word2int[x]))\n",
        "        Y.append(to_one_hot_encoding(word2int[y]))\n",
        "\n",
        "    x_train = np.array(X)\n",
        "    y_train = np.array(Y)\n",
        "    embed_size = 3\n",
        "    xx = Input(shape=(x_train.shape[1],))\n",
        "    yy = Dense(units=embed_size, activation='linear')(xx)\n",
        "    yy =Dense(units=y_train.shape[1],activation='softmax')(yy)\n",
        "    model = Model(inputs=xx, outputs=yy)\n",
        "    model.compile(loss = 'categorical_crossentropy',optimizer = 'adam')\n",
        "    model.fit(x=x_train,y=y_train,\n",
        "            batch_size=16,\n",
        "            epochs=10\n",
        "    )\n",
        "    weights = model.get_weights()[0]\n",
        "\n",
        "    for word in words:\n",
        "        q = weights[df.get(word)]\n",
        "\n",
        "        arr_new = np.sum(q, axis=1)\n",
        "        print('-----------------------')\n",
        "        print(arr_new.shape)\n",
        "        print('-----------------------')\n",
        "        arr_new = arr_new.tolist()\n",
        "\n",
        "        list.append(arr_new)\n",
        "\n",
        "        break\n",
        "    return list\n"
      ],
      "metadata": {
        "id": "-JPyPltSEqJe"
      },
      "execution_count": 29,
      "outputs": []
    },
    {
      "cell_type": "code",
      "source": [
        "embedding = []\n",
        "for item in index:\n",
        "    embedding.append(word2vec_train(item))\n",
        "print(embedding)"
      ],
      "metadata": {
        "colab": {
          "base_uri": "https://localhost:8080/"
        },
        "id": "W5Q_pY59EtXP",
        "outputId": "fd5413f1-4f77-4823-84d8-c6ce38d8f963"
      },
      "execution_count": 30,
      "outputs": [
        {
          "output_type": "stream",
          "name": "stdout",
          "text": [
            "['MaxWordSeg', 'MaxWordSegDictionary', 'MaxWordSegDictionary_1', 'MaxWordSegDictionary_2']\n",
            "{'MaxWordSeg': 0, 'MaxWordSegDictionary': 1, 'MaxWordSegDictionary_1': 2, 'MaxWordSegDictionary_2': 3}\n",
            "Epoch 1/10\n",
            "1/1 [==============================] - 1s 1s/step - loss: 1.4404\n",
            "Epoch 2/10\n",
            "1/1 [==============================] - 0s 20ms/step - loss: 1.4389\n",
            "Epoch 3/10\n",
            "1/1 [==============================] - 0s 27ms/step - loss: 1.4375\n",
            "Epoch 4/10\n",
            "1/1 [==============================] - 0s 12ms/step - loss: 1.4360\n",
            "Epoch 5/10\n",
            "1/1 [==============================] - 0s 9ms/step - loss: 1.4345\n",
            "Epoch 6/10\n",
            "1/1 [==============================] - 0s 10ms/step - loss: 1.4331\n",
            "Epoch 7/10\n",
            "1/1 [==============================] - 0s 18ms/step - loss: 1.4316\n",
            "Epoch 8/10\n",
            "1/1 [==============================] - 0s 14ms/step - loss: 1.4302\n",
            "Epoch 9/10\n",
            "1/1 [==============================] - 0s 13ms/step - loss: 1.4288\n",
            "Epoch 10/10\n",
            "1/1 [==============================] - 0s 8ms/step - loss: 1.4273\n",
            "-----------------------\n",
            "(1, 3)\n",
            "-----------------------\n",
            "['ComplexSeg', 'ComplexSegDictionary', 'otherRulesaddnew', 'otherRulesaddnew', 'otherRulesaddnew', 'Chunk', 'createChunkSentence', 'senchar', 'chsint', 'tailLenint', 'offsetsCharNode', 'Chunk', 'cknew', 'for', 'int', 'i0', 'i', '3', 'i', 'if', 'offsetsi', 'chslength', 'ckwordsinew', 'WordchssengetStartOffsetoffsetsitailLeni', 'if', 'tailLeni', '0', 'CharNode', 'if', 'cn', 'null', 'return', 'static', 'boolean', 'return', 'static', 'void', 'setShowChunkboolean']\n",
            "{'ComplexSeg': 0, 'ComplexSegDictionary': 1, 'otherRulesaddnew': 2, 'Chunk': 3, 'createChunkSentence': 4, 'senchar': 5, 'chsint': 6, 'tailLenint': 7, 'offsetsCharNode': 8, 'cknew': 9, 'for': 10, 'int': 11, 'i0': 12, 'i': 13, '3': 14, 'if': 15, 'offsetsi': 16, 'chslength': 17, 'ckwordsinew': 18, 'WordchssengetStartOffsetoffsetsitailLeni': 19, 'tailLeni': 20, '0': 21, 'CharNode': 22, 'cn': 23, 'null': 24, 'return': 25, 'static': 26, 'boolean': 27, 'void': 28, 'setShowChunkboolean': 29}\n",
            "Epoch 1/10\n",
            "9/9 [==============================] - 0s 2ms/step - loss: 3.4179\n",
            "Epoch 2/10\n",
            "9/9 [==============================] - 0s 2ms/step - loss: 3.4142\n",
            "Epoch 3/10\n",
            "9/9 [==============================] - 0s 2ms/step - loss: 3.4112\n",
            "Epoch 4/10\n",
            "9/9 [==============================] - 0s 3ms/step - loss: 3.4082\n",
            "Epoch 5/10\n",
            "9/9 [==============================] - 0s 3ms/step - loss: 3.4053\n",
            "Epoch 6/10\n",
            "9/9 [==============================] - 0s 3ms/step - loss: 3.4025\n",
            "Epoch 7/10\n",
            "9/9 [==============================] - 0s 3ms/step - loss: 3.3997\n",
            "Epoch 8/10\n",
            "9/9 [==============================] - 0s 2ms/step - loss: 3.3969\n",
            "Epoch 9/10\n",
            "9/9 [==============================] - 0s 3ms/step - loss: 3.3941\n",
            "Epoch 10/10\n",
            "9/9 [==============================] - 0s 2ms/step - loss: 3.3914\n",
            "-----------------------\n",
            "(1, 3)\n",
            "-----------------------\n",
            "['Chunk', 'Largest', 'Average', 'Word', 'double', 'if', 'avgLen', '0', 'avgLendoublegetLen', 'return', 'int', 'if', 'count', '0', 'for', 'Word', 'word', 'words', 'if', 'word', 'null', 'return', 'Word', 'int', 'if', 'len', '0', 'for', 'Word', 'word', 'words', 'if', 'word', 'null', 'return', 'Sum', 'of', 'Degree', 'of', 'Morphemic', 'Freedom', 'of', 'int', 'if', 'sumDegree', '0', 'int', 'for', 'Word', 'word', 'words', 'if', 'word', 'null', 'wordgetDegree', '1', 'return', 'Variance', 'of', 'Word', 'double', 'if', 'variance', '0', 'double', 'for', 'Word', 'word', 'words', 'if', 'word', 'null', 'sumMathpowwordgetLength', 'variancesum', 'return', 'Word', 'return', 'void', 'setWordsWord', 'String', 'StringBuilder', 'sbnew', 'sbappendlenappendgetLenappend', 'sbappendavgLenappendgetAvgLenappend', 'sbappendvarianceappendgetVarianceappend', 'return', 'public', 'String', 'StringBuilder', 'sbnew', 'for', 'Word', 'word', 'words', 'if', 'word', 'null', 'return']\n",
            "{'Chunk': 0, 'Largest': 1, 'Average': 2, 'Word': 3, 'double': 4, 'if': 5, 'avgLen': 6, '0': 7, 'avgLendoublegetLen': 8, 'return': 9, 'int': 10, 'count': 11, 'for': 12, 'word': 13, 'words': 14, 'null': 15, 'len': 16, 'Sum': 17, 'of': 18, 'Degree': 19, 'Morphemic': 20, 'Freedom': 21, 'sumDegree': 22, 'wordgetDegree': 23, '1': 24, 'Variance': 25, 'variance': 26, 'sumMathpowwordgetLength': 27, 'variancesum': 28, 'void': 29, 'setWordsWord': 30, 'String': 31, 'StringBuilder': 32, 'sbnew': 33, 'sbappendlenappendgetLenappend': 34, 'sbappendavgLenappendgetAvgLenappend': 35, 'sbappendvarianceappendgetVarianceappend': 36, 'public': 37}\n",
            "Epoch 1/10\n",
            "24/24 [==============================] - 1s 3ms/step - loss: 3.6406\n",
            "Epoch 2/10\n",
            "24/24 [==============================] - 0s 3ms/step - loss: 3.6257\n",
            "Epoch 3/10\n",
            "24/24 [==============================] - 0s 3ms/step - loss: 3.6124\n",
            "Epoch 4/10\n",
            "24/24 [==============================] - 0s 3ms/step - loss: 3.5988\n",
            "Epoch 5/10\n",
            "24/24 [==============================] - 0s 2ms/step - loss: 3.5855\n",
            "Epoch 6/10\n",
            "24/24 [==============================] - 0s 3ms/step - loss: 3.5720\n",
            "Epoch 7/10\n",
            "24/24 [==============================] - 0s 3ms/step - loss: 3.5587\n",
            "Epoch 8/10\n",
            "24/24 [==============================] - 0s 2ms/step - loss: 3.5445\n",
            "Epoch 9/10\n",
            "24/24 [==============================] - 0s 2ms/step - loss: 3.5304\n",
            "Epoch 10/10\n",
            "24/24 [==============================] - 0s 2ms/step - loss: 3.5157\n",
            "-----------------------\n",
            "(1, 3)\n",
            "-----------------------\n",
            "['Simple', 'Seg', 'return', 'new', 'static', 'void', 'mainString', 'args', 'throws', 'IOException', 'new', 'void', 'Systemoutprintnmmseg4j', 'thisgetClassgetSimpleNametoLowerCase', 'void', 'run', 'throws', 'IOException', 'String', 'for', 'String', 'str', 'arr', 'String', 'BufferedReader', 'brnew', 'BufferedReadernew', 'while', 'inputStrbrreadLine', 'null', 'if', 'inputStrequalsQUIT', 'inputStrequalsEXIT', 'else', 'if', 'equalsinputStr', 'else', 'Systemoutprintnmmseg4j', 'thisgetClassgetSimpleNametoLowerCase', 'String', 'segWordsReader', 'inputString', 'wordSpilt', 'throws', 'IOException', 'StringBuilder', 'sbnew', 'Seg', 'MMSeg', 'mmSegnew', 'Word', 'boolean', 'while', 'wordmmSegnext', 'null', 'SystemoutprintlnwordgetStartOffset', 'wordgetLength', 'wordgetEndOffset', 'wordgetWordOffset', 'wordgetString', 'if', 'first', 'String', 'return', 'String', 'segWordsString', 'txtString', 'wordSpilt', 'throws', 'IOException', 'return', 'segWordsnew']\n",
            "{'Simple': 0, 'Seg': 1, 'return': 2, 'new': 3, 'static': 4, 'void': 5, 'mainString': 6, 'args': 7, 'throws': 8, 'IOException': 9, 'Systemoutprintnmmseg4j': 10, 'thisgetClassgetSimpleNametoLowerCase': 11, 'run': 12, 'String': 13, 'for': 14, 'str': 15, 'arr': 16, 'BufferedReader': 17, 'brnew': 18, 'BufferedReadernew': 19, 'while': 20, 'inputStrbrreadLine': 21, 'null': 22, 'if': 23, 'inputStrequalsQUIT': 24, 'inputStrequalsEXIT': 25, 'else': 26, 'equalsinputStr': 27, 'segWordsReader': 28, 'inputString': 29, 'wordSpilt': 30, 'StringBuilder': 31, 'sbnew': 32, 'MMSeg': 33, 'mmSegnew': 34, 'Word': 35, 'boolean': 36, 'wordmmSegnext': 37, 'SystemoutprintlnwordgetStartOffset': 38, 'wordgetLength': 39, 'wordgetEndOffset': 40, 'wordgetWordOffset': 41, 'wordgetString': 42, 'first': 43, 'segWordsString': 44, 'txtString': 45, 'segWordsnew': 46}\n",
            "Epoch 1/10\n",
            "18/18 [==============================] - 0s 2ms/step - loss: 3.8545\n",
            "Epoch 2/10\n",
            "18/18 [==============================] - 0s 2ms/step - loss: 3.8485\n",
            "Epoch 3/10\n",
            "18/18 [==============================] - 0s 2ms/step - loss: 3.8432\n",
            "Epoch 4/10\n",
            "18/18 [==============================] - 0s 2ms/step - loss: 3.8383\n",
            "Epoch 5/10\n",
            "18/18 [==============================] - 0s 2ms/step - loss: 3.8332\n",
            "Epoch 6/10\n",
            "18/18 [==============================] - 0s 2ms/step - loss: 3.8284\n",
            "Epoch 7/10\n",
            "18/18 [==============================] - 0s 2ms/step - loss: 3.8235\n",
            "Epoch 8/10\n",
            "18/18 [==============================] - 0s 2ms/step - loss: 3.8189\n",
            "Epoch 9/10\n",
            "18/18 [==============================] - 0s 3ms/step - loss: 3.8143\n",
            "Epoch 10/10\n",
            "18/18 [==============================] - 0s 2ms/step - loss: 3.8094\n",
            "-----------------------\n",
            "(1, 3)\n",
            "-----------------------\n",
            "['Word', 'int', 'return', 'int', 'return', 'getStartOffset', 'int', 'return', 'char', 'return', 'String', 'return', 'new', 'String', 'return', 'char', 'sen', 'see', 'int', 'return', 'void', 'setDegreeint', 'void', 'setTypeString', 'param', 'startOffset', 'Wordchar', 'wordint', 'senoffset', 'param', 'senStartOffset', 'param', 'offset', 'param', 'Wordchar', 'senint', 'senStartOffsetint', 'offsetint', 'param', 'startOffset', 'Wordchar', 'wordint', 'startOffsetString']\n",
            "{'Word': 0, 'int': 1, 'return': 2, 'getStartOffset': 3, 'char': 4, 'String': 5, 'new': 6, 'sen': 7, 'see': 8, 'void': 9, 'setDegreeint': 10, 'setTypeString': 11, 'param': 12, 'startOffset': 13, 'Wordchar': 14, 'wordint': 15, 'senoffset': 16, 'senStartOffset': 17, 'offset': 18, 'senint': 19, 'senStartOffsetint': 20, 'offsetint': 21, 'startOffsetString': 22}\n",
            "Epoch 1/10\n",
            "10/10 [==============================] - 0s 2ms/step - loss: 3.1473\n",
            "Epoch 2/10\n",
            "10/10 [==============================] - 0s 2ms/step - loss: 3.1411\n",
            "Epoch 3/10\n",
            "10/10 [==============================] - 0s 2ms/step - loss: 3.1354\n",
            "Epoch 4/10\n",
            "10/10 [==============================] - 0s 2ms/step - loss: 3.1302\n",
            "Epoch 5/10\n",
            "10/10 [==============================] - 0s 2ms/step - loss: 3.1250\n",
            "Epoch 6/10\n",
            "10/10 [==============================] - 0s 3ms/step - loss: 3.1200\n",
            "Epoch 7/10\n",
            "10/10 [==============================] - 0s 2ms/step - loss: 3.1149\n",
            "Epoch 8/10\n",
            "10/10 [==============================] - 0s 2ms/step - loss: 3.1099\n",
            "Epoch 9/10\n",
            "10/10 [==============================] - 0s 2ms/step - loss: 3.1052\n",
            "Epoch 10/10\n",
            "10/10 [==============================] - 0s 3ms/step - loss: 3.1003\n",
            "-----------------------\n",
            "(1, 3)\n",
            "-----------------------\n",
            "['MaxMatchRule', 'void', 'addChunkChunk', 'if', 'chunkgetLen', 'maxLen', 'protected', 'boolean', 'isRemoveChunk', 'return', 'chunkgetLen', 'void']\n",
            "{'MaxMatchRule': 0, 'void': 1, 'addChunkChunk': 2, 'if': 3, 'chunkgetLen': 4, 'maxLen': 5, 'protected': 6, 'boolean': 7, 'isRemoveChunk': 8, 'return': 9}\n",
            "Epoch 1/10\n",
            "3/3 [==============================] - 0s 5ms/step - loss: 2.3575\n",
            "Epoch 2/10\n",
            "3/3 [==============================] - 0s 4ms/step - loss: 2.3552\n",
            "Epoch 3/10\n",
            "3/3 [==============================] - 0s 5ms/step - loss: 2.3533\n",
            "Epoch 4/10\n",
            "3/3 [==============================] - 0s 5ms/step - loss: 2.3515\n",
            "Epoch 5/10\n",
            "3/3 [==============================] - 0s 5ms/step - loss: 2.3500\n",
            "Epoch 6/10\n",
            "3/3 [==============================] - 0s 6ms/step - loss: 2.3481\n",
            "Epoch 7/10\n",
            "3/3 [==============================] - 0s 5ms/step - loss: 2.3464\n",
            "Epoch 8/10\n",
            "3/3 [==============================] - 0s 4ms/step - loss: 2.3448\n",
            "Epoch 9/10\n",
            "3/3 [==============================] - 0s 4ms/step - loss: 2.3432\n",
            "Epoch 10/10\n",
            "3/3 [==============================] - 0s 4ms/step - loss: 2.3416\n",
            "-----------------------\n",
            "(1, 3)\n",
            "-----------------------\n",
            "['Sentence', 'void', 'addOffsetint', 'offset', 'int', 'return', 'int', 'return', 'char', 'return', 'boolean', 'return', 'offset', 'void', 'reinitchar', 'textint', 'thistextnew', 'Sentencechar', 'textint', 'void', 'setOffsetint', 'void', 'setStartOffsetint']\n",
            "{'Sentence': 0, 'void': 1, 'addOffsetint': 2, 'offset': 3, 'int': 4, 'return': 5, 'char': 6, 'boolean': 7, 'reinitchar': 8, 'textint': 9, 'thistextnew': 10, 'Sentencechar': 11, 'setOffsetint': 12, 'setStartOffsetint': 13}\n",
            "Epoch 1/10\n",
            "5/5 [==============================] - 0s 3ms/step - loss: 2.6917\n",
            "Epoch 2/10\n",
            "5/5 [==============================] - 0s 4ms/step - loss: 2.6874\n",
            "Epoch 3/10\n",
            "5/5 [==============================] - 0s 3ms/step - loss: 2.6840\n",
            "Epoch 4/10\n",
            "5/5 [==============================] - 0s 3ms/step - loss: 2.6805\n",
            "Epoch 5/10\n",
            "5/5 [==============================] - 0s 3ms/step - loss: 2.6769\n",
            "Epoch 6/10\n",
            "5/5 [==============================] - 0s 3ms/step - loss: 2.6735\n",
            "Epoch 7/10\n",
            "5/5 [==============================] - 0s 3ms/step - loss: 2.6702\n",
            "Epoch 8/10\n",
            "5/5 [==============================] - 0s 3ms/step - loss: 2.6670\n",
            "Epoch 9/10\n",
            "5/5 [==============================] - 0s 3ms/step - loss: 2.6638\n",
            "Epoch 10/10\n",
            "5/5 [==============================] - 0s 3ms/step - loss: 2.6607\n",
            "-----------------------\n",
            "(1, 3)\n",
            "-----------------------\n",
            "['SimpleSeg', 'Chunk', 'segSentence', 'CharNode', 'char', 'Chunk', 'chunknew', 'char', 'for', 'int', 'k0', 'k', '3', 'senisFinish', 'k', 'int', 'int', 'if', 'maxLen', '0', 'MMSegisLetterOrDigitch', 'int', 'if', 'cnt', '0', 'chunkwordsknew', 'WordchssengetStartOffsetoffsetmaxLen', 'offsetmaxLen', 'return', 'SimpleSegDictionary']\n",
            "{'SimpleSeg': 0, 'Chunk': 1, 'segSentence': 2, 'CharNode': 3, 'char': 4, 'chunknew': 5, 'for': 6, 'int': 7, 'k0': 8, 'k': 9, '3': 10, 'senisFinish': 11, 'if': 12, 'maxLen': 13, '0': 14, 'MMSegisLetterOrDigitch': 15, 'cnt': 16, 'chunkwordsknew': 17, 'WordchssengetStartOffsetoffsetmaxLen': 18, 'offsetmaxLen': 19, 'return': 20, 'SimpleSegDictionary': 21}\n",
            "Epoch 1/10\n",
            "7/7 [==============================] - 0s 2ms/step - loss: 3.0989\n",
            "Epoch 2/10\n",
            "7/7 [==============================] - 0s 2ms/step - loss: 3.0944\n",
            "Epoch 3/10\n",
            "7/7 [==============================] - 0s 4ms/step - loss: 3.0906\n",
            "Epoch 4/10\n",
            "7/7 [==============================] - 0s 2ms/step - loss: 3.0869\n",
            "Epoch 5/10\n",
            "7/7 [==============================] - 0s 2ms/step - loss: 3.0835\n",
            "Epoch 6/10\n",
            "7/7 [==============================] - 0s 2ms/step - loss: 3.0801\n",
            "Epoch 7/10\n",
            "7/7 [==============================] - 0s 2ms/step - loss: 3.0767\n",
            "Epoch 8/10\n",
            "7/7 [==============================] - 0s 3ms/step - loss: 3.0733\n",
            "Epoch 9/10\n",
            "7/7 [==============================] - 0s 3ms/step - loss: 3.0700\n",
            "Epoch 10/10\n",
            "7/7 [==============================] - 0s 2ms/step - loss: 3.0669\n",
            "-----------------------\n",
            "(1, 3)\n",
            "-----------------------\n",
            "['Dictionary', 'wordsFile', 'param', 'wordsFile', 'synchronized', 'void', 'addLastTimeFile', 'if', 'wordsFile', 'null', 'param', 'return', '℃', 'static', 'Dictionary', 'clearFile', 'File', 'return', 'see', 'static', 'Dictionary', 'clearString', 'return', 'clearnew', 'DictionaryFile', 'void', 'finalize', 'throws', 'Throwable', 'static', 'File', 'if', 'defalutPath', 'null', 'String', 'loginfolook', 'up', 'in', 'mmsegdicpath', 'if', 'defPath', 'null', 'URL', 'if', 'url', 'null', 'loginfolook', 'up', 'in', 'classpath', 'else', 'defPathSystemgetPropertyuserdir', 'loginfolook', 'up', 'in', 'userdir', 'defalutPathnew', 'if', 'defalutPathexists', 'logwarningdefalut', 'dic', 'path', 'defalutPath', 'not', 'return', 'File', 'return', 'MapCharacterCharNode', 'return', 'static', 'Dictionary', 'File', 'return', 'param', 'path', 'static', 'Dictionary', 'getInstanceFile', 'loginfotry', 'to', 'load', 'dir', 'File', 'Dictionary', 'if', 'dic', 'null', 'dicnew', 'return', 'param', 'path', 'static', 'Dictionary', 'getInstanceString', 'return', 'getInstancenew', 'long', 'return', 'CharNode', 'headchar', 'return', 'void', 'initFile', 'wordsLastTimenew', 'static', 'boolean', 'isStopWordString', 'return', 'boolean', 'isUnitCharacter', 'return', 'File', 'return', 'dicPathlistFilesnew', 'public', 'boolean', 'accept', 'File', 'dir', 'String', 'return', 'namestartsWithwords', 'MapCharacterCharNode', 'loadDicFile', 'wordsPath', 'throws', 'IOException', 'InputStream', 'File', 'charsFilenew', 'if', 'charsFileexists', 'charsInnew', 'else', 'charsFilenew', 'final', 'MapCharacterCharNode', 'dicnew', 'int', 'long', 'long', 'lineNumloadcharsInnew', 'public', 'void', 'row', 'String', 'line', 'int', 'if', 'linelength', '1', 'String', 'wlinesplit', 'CharNode', 'cnnew', 'wlength', 'try', 'cnsetFreqintMathlogIntegerparseIntw1', 'catch', 'NumberFormatException', 'e', 'loaded', 'time', 'now', 's', 'ms', 'line', 'lineNum', 'on', 'file', 'useDefault', 'String', 'dicName', 'dicInJar', 'words', 'null', 'File', 'wordsFile', 'words', 'loadWordnew', 'all', 'dic', 'use', 'time', 'now', 'ss', 'SetString', 'loadStopFile', 'dicPath', 'throws', 'IOException', 'final', 'SetString', 'retnew', 'InputStream', 'File', 'stopnew', 'if', 'stopexists', 'finnew', 'else', 'if', 'fin', 'null', 'stopnew', 'if', 'fin', 'null', 'long', 'int', 'lineNumloadfinnew', 'public', 'void', 'row', 'String', 'line', 'int', 'loginfostop', 'loaded', 'time', 'now', 's', 'ms', 'line', 'lineNum', 'on', 'file', 'return', 'MapCharacterObject', 'loadUnitFile', 'path', 'throws', 'IOException', 'InputStream', 'File', 'unitFilenew', 'if', 'unitFileexists', 'finnew', 'else', 'unitFilenew', 'final', 'MapCharacterObject', 'unitnew', 'long', 'int', 'lineNumloadfinnew', 'public', 'void', 'row', 'String', 'line', 'int', 'if', 'linelength', '1', 'loginfounit', 'loaded', 'time', 'now', 's', 'ms', 'line', 'lineNum', 'on', 'file', 'return', 'void', 'loadWordsFromJarString', 'fileNameMapCharacterCharNode', 'InputStream', 'if', 'wordsDicIn', 'null', 'File', 'wordsDicnew', 'try', 'catch', 'Exception', 'e', 'logwarningload', 'fileName', 'meet', 'param', 'is', 'param', 'dic', 'param', 'wordsFile', 'throws', 'IOException', 'from', 'link', 'void', 'loadWordInputStream', 'isMapCharacterCharNode', 'dicFile', 'wordsFile', 'throws', 'IOException', 'long', 'int', 'lineNumloadisnew', 'loginfowords', 'loaded', 'time', 'now', 's', 'ms', 'line', 'lineNum', 'on', 'file', 'static', 'int', 'loadInputStream', 'finFileLoading', 'loading', 'throws', 'IOException', 'BufferedReader', 'brnew', 'BufferedReadernew', 'InputStreamReadernew', 'String', 'int', 'while', 'linebrreadLine', 'null', 'if', 'line', 'null', 'linestartsWith', 'return', 'word', 'author', 'chenlb', '200933', 'boolean', 'matchString', 'if', 'word', 'null', 'wordlength', '2', 'return', 'CharNode', 'return', 'searchcnwordtoCharArray0wordlength', '1', 'int', 'maxMatchchar', 'senint', 'CharNode', 'return', 'ArrayListInteger', 'maxMatchCharNode', 'nodeArrayListInteger', 'tailLenschar', 'senint', 'if', 'node', 'null', 'return', 'nodemaxMatchtailLenssenoffset', 'return', 'int', 'maxMatchCharNode', 'nodechar', 'senint', 'if', 'node', 'null', 'return', 'nodemaxMatchsenoffset', 'return', 'static', 'File', 'normalizeFileFile', 'if', 'file', 'defalutPath', 'return', 'try', 'return', 'catch', 'IOException', 'e', 'throw', 'new', 'RuntimeExceptionnormalize', 'file', 'file', 'static', 'long', 'return', 'synchronized', 'boolean', 'MapFileLong', 'oldWordsLastTimenew', 'MapCharacterCharNode', 'MapCharacterObject', 'try', 'catch', 'IOException', 'e', 'if', 'logisLoggableLevelWARNING', 'loglogLevelWARNINGreload', 'dic', 'error', 'dic', 'dicPath', 'and', 'return', 'return', 'static', 'void', 'setUseDefaultboolean', 'author', 'chenlb', 'static', 'char', 'tailString', 'char', 'csnew', 'charstrlength', 'return', 'synchronized', 'boolean', 'for', 'EntryFileLong', 'flt', 'wordsLastTimeentrySet', 'File', 'if', 'wordscanRead', 'return', 'if', 'wordslastModified', 'fltgetValue', 'return', 'File', 'if', 'words', 'null', 'for', 'File', 'wordsFile', 'words', 'if', 'wordsLastTimecontainsKeywordsFile', 'return', 'return']\n",
            "{'Dictionary': 0, 'wordsFile': 1, 'param': 2, 'synchronized': 3, 'void': 4, 'addLastTimeFile': 5, 'if': 6, 'null': 7, 'return': 8, '℃': 9, 'static': 10, 'clearFile': 11, 'File': 12, 'see': 13, 'clearString': 14, 'clearnew': 15, 'DictionaryFile': 16, 'finalize': 17, 'throws': 18, 'Throwable': 19, 'defalutPath': 20, 'String': 21, 'loginfolook': 22, 'up': 23, 'in': 24, 'mmsegdicpath': 25, 'defPath': 26, 'URL': 27, 'url': 28, 'classpath': 29, 'else': 30, 'defPathSystemgetPropertyuserdir': 31, 'userdir': 32, 'defalutPathnew': 33, 'defalutPathexists': 34, 'logwarningdefalut': 35, 'dic': 36, 'path': 37, 'not': 38, 'MapCharacterCharNode': 39, 'getInstanceFile': 40, 'loginfotry': 41, 'to': 42, 'load': 43, 'dir': 44, 'dicnew': 45, 'getInstanceString': 46, 'getInstancenew': 47, 'long': 48, 'CharNode': 49, 'headchar': 50, 'initFile': 51, 'wordsLastTimenew': 52, 'boolean': 53, 'isStopWordString': 54, 'isUnitCharacter': 55, 'dicPathlistFilesnew': 56, 'public': 57, 'accept': 58, 'namestartsWithwords': 59, 'loadDicFile': 60, 'wordsPath': 61, 'IOException': 62, 'InputStream': 63, 'charsFilenew': 64, 'charsFileexists': 65, 'charsInnew': 66, 'final': 67, 'int': 68, 'lineNumloadcharsInnew': 69, 'row': 70, 'line': 71, 'linelength': 72, '1': 73, 'wlinesplit': 74, 'cnnew': 75, 'wlength': 76, 'try': 77, 'cnsetFreqintMathlogIntegerparseIntw1': 78, 'catch': 79, 'NumberFormatException': 80, 'e': 81, 'loaded': 82, 'time': 83, 'now': 84, 's': 85, 'ms': 86, 'lineNum': 87, 'on': 88, 'file': 89, 'useDefault': 90, 'dicName': 91, 'dicInJar': 92, 'words': 93, 'loadWordnew': 94, 'all': 95, 'use': 96, 'ss': 97, 'SetString': 98, 'loadStopFile': 99, 'dicPath': 100, 'retnew': 101, 'stopnew': 102, 'stopexists': 103, 'finnew': 104, 'fin': 105, 'lineNumloadfinnew': 106, 'loginfostop': 107, 'MapCharacterObject': 108, 'loadUnitFile': 109, 'unitFilenew': 110, 'unitFileexists': 111, 'unitnew': 112, 'loginfounit': 113, 'loadWordsFromJarString': 114, 'fileNameMapCharacterCharNode': 115, 'wordsDicIn': 116, 'wordsDicnew': 117, 'Exception': 118, 'logwarningload': 119, 'fileName': 120, 'meet': 121, 'is': 122, 'from': 123, 'link': 124, 'loadWordInputStream': 125, 'isMapCharacterCharNode': 126, 'dicFile': 127, 'lineNumloadisnew': 128, 'loginfowords': 129, 'loadInputStream': 130, 'finFileLoading': 131, 'loading': 132, 'BufferedReader': 133, 'brnew': 134, 'BufferedReadernew': 135, 'InputStreamReadernew': 136, 'while': 137, 'linebrreadLine': 138, 'linestartsWith': 139, 'word': 140, 'author': 141, 'chenlb': 142, '200933': 143, 'matchString': 144, 'wordlength': 145, '2': 146, 'searchcnwordtoCharArray0wordlength': 147, 'maxMatchchar': 148, 'senint': 149, 'ArrayListInteger': 150, 'maxMatchCharNode': 151, 'nodeArrayListInteger': 152, 'tailLenschar': 153, 'node': 154, 'nodemaxMatchtailLenssenoffset': 155, 'nodechar': 156, 'nodemaxMatchsenoffset': 157, 'normalizeFileFile': 158, 'throw': 159, 'new': 160, 'RuntimeExceptionnormalize': 161, 'MapFileLong': 162, 'oldWordsLastTimenew': 163, 'logisLoggableLevelWARNING': 164, 'loglogLevelWARNINGreload': 165, 'error': 166, 'and': 167, 'setUseDefaultboolean': 168, 'char': 169, 'tailString': 170, 'csnew': 171, 'charstrlength': 172, 'for': 173, 'EntryFileLong': 174, 'flt': 175, 'wordsLastTimeentrySet': 176, 'wordscanRead': 177, 'wordslastModified': 178, 'fltgetValue': 179, 'wordsLastTimecontainsKeywordsFile': 180}\n",
            "Epoch 1/10\n",
            "112/112 [==============================] - 1s 2ms/step - loss: 5.1794\n",
            "Epoch 2/10\n",
            "112/112 [==============================] - 0s 2ms/step - loss: 5.1352\n",
            "Epoch 3/10\n",
            "112/112 [==============================] - 0s 2ms/step - loss: 5.0700\n",
            "Epoch 4/10\n",
            "112/112 [==============================] - 0s 2ms/step - loss: 4.9745\n",
            "Epoch 5/10\n",
            "112/112 [==============================] - 0s 2ms/step - loss: 4.8611\n",
            "Epoch 6/10\n",
            "112/112 [==============================] - 0s 2ms/step - loss: 4.7620\n",
            "Epoch 7/10\n",
            "112/112 [==============================] - 0s 2ms/step - loss: 4.6976\n",
            "Epoch 8/10\n",
            "112/112 [==============================] - 0s 2ms/step - loss: 4.6639\n",
            "Epoch 9/10\n",
            "112/112 [==============================] - 0s 2ms/step - loss: 4.6457\n",
            "Epoch 10/10\n",
            "112/112 [==============================] - 0s 2ms/step - loss: 4.6344\n",
            "-----------------------\n",
            "(1, 3)\n",
            "-----------------------\n",
            "['CharNode', 'void', 'addWordTailchar', 'if', 'wordTaillength', 'maxLen', 'int', 'return', 'int', 'return', 'int', 'indexOfchar', 'senint', 'offsetint', 'return', 'keyTreeWordTailsmatchsenoffset', '1tailLen', '1', 'ArrayListInteger', 'maxMatchArrayListInteger', 'tailLenschar', 'senint', 'return', 'void', 'setFreqint', 'void', 'setMaxLenint', 'int', 'return']\n",
            "{'CharNode': 0, 'void': 1, 'addWordTailchar': 2, 'if': 3, 'wordTaillength': 4, 'maxLen': 5, 'int': 6, 'return': 7, 'indexOfchar': 8, 'senint': 9, 'offsetint': 10, 'keyTreeWordTailsmatchsenoffset': 11, '1tailLen': 12, '1': 13, 'ArrayListInteger': 14, 'maxMatchArrayListInteger': 15, 'tailLenschar': 16, 'setFreqint': 17, 'setMaxLenint': 18}\n",
            "Epoch 1/10\n",
            "7/7 [==============================] - 0s 3ms/step - loss: 2.9521\n",
            "Epoch 2/10\n",
            "7/7 [==============================] - 0s 3ms/step - loss: 2.9476\n",
            "Epoch 3/10\n",
            "7/7 [==============================] - 0s 3ms/step - loss: 2.9440\n",
            "Epoch 4/10\n",
            "7/7 [==============================] - 0s 3ms/step - loss: 2.9408\n",
            "Epoch 5/10\n",
            "7/7 [==============================] - 0s 3ms/step - loss: 2.9373\n",
            "Epoch 6/10\n",
            "7/7 [==============================] - 0s 3ms/step - loss: 2.9341\n",
            "Epoch 7/10\n",
            "7/7 [==============================] - 0s 3ms/step - loss: 2.9310\n",
            "Epoch 8/10\n",
            "7/7 [==============================] - 0s 3ms/step - loss: 2.9279\n",
            "Epoch 9/10\n",
            "7/7 [==============================] - 0s 2ms/step - loss: 2.9248\n",
            "Epoch 10/10\n",
            "7/7 [==============================] - 0s 3ms/step - loss: 2.9218\n",
            "-----------------------\n",
            "(1, 3)\n",
            "-----------------------\n",
            "['Seg', 'see', 'boolean', 'isUnitint', 'return', 'int', 'maxMatchCharNode', 'cnsint', 'cnIdxchar', 'chsint', 'CharNode', 'char', 'if', 'offset', 'chslength', 'int', 'if', 'len', '0', 'MMSegisLetterOrDigitch', 'int', 'if', 'cnt', '0', 'return', 'return', 'void', 'maxMatchCharNode', 'cnsint', 'idxchar', 'chsint', 'offsetArrayListInteger', 'tailLensint', 'CharNode', 'char', 'if', 'offset', 'chslength', 'if', 'tailLenstailLensIdxsize', '1', 'tailLenstailLensIdxget0', '0', 'MMSegisLetterOrDigitch', 'int', 'if', 'cnt', '0', 'void', 'printChunkListChunk', 'for', 'Chunk', 'ck', 'chunks', 'Systemoutprintlnck', 'int', 'searchchar', 'chsint', 'offsetint', 'if', 'tailLen', '0', 'return', 'CharNode', 'return', 'int', 'searchCharNode', 'cnchar', 'chsint', 'offsetint', 'if', 'tailLen', '0', 'cn', 'null', 'return', 'return', 'SegDictionary', 'skipCharschar', 'chsint', 'int', 'ReadCharByAsciiOrDigit', 'rcadnew', 'for', 'int', 'ioffset', '1', 'i', 'chslength', 'i', 'int', 'if', 'rcadisReadd', 'passcontainsStringvalueOfd', 'else', 'int', 'if', 'dicisUnitcharm', 'else', 'return']\n",
            "{'Seg': 0, 'see': 1, 'boolean': 2, 'isUnitint': 3, 'return': 4, 'int': 5, 'maxMatchCharNode': 6, 'cnsint': 7, 'cnIdxchar': 8, 'chsint': 9, 'CharNode': 10, 'char': 11, 'if': 12, 'offset': 13, 'chslength': 14, 'len': 15, '0': 16, 'MMSegisLetterOrDigitch': 17, 'cnt': 18, 'void': 19, 'idxchar': 20, 'offsetArrayListInteger': 21, 'tailLensint': 22, 'tailLenstailLensIdxsize': 23, '1': 24, 'tailLenstailLensIdxget0': 25, 'printChunkListChunk': 26, 'for': 27, 'Chunk': 28, 'ck': 29, 'chunks': 30, 'Systemoutprintlnck': 31, 'searchchar': 32, 'offsetint': 33, 'tailLen': 34, 'searchCharNode': 35, 'cnchar': 36, 'cn': 37, 'null': 38, 'SegDictionary': 39, 'skipCharschar': 40, 'ReadCharByAsciiOrDigit': 41, 'rcadnew': 42, 'ioffset': 43, 'i': 44, 'rcadisReadd': 45, 'passcontainsStringvalueOfd': 46, 'else': 47, 'dicisUnitcharm': 48}\n",
            "Epoch 1/10\n",
            "25/25 [==============================] - 0s 2ms/step - loss: 3.8981\n",
            "Epoch 2/10\n",
            "25/25 [==============================] - 0s 2ms/step - loss: 3.8863\n",
            "Epoch 3/10\n",
            "25/25 [==============================] - 0s 2ms/step - loss: 3.8753\n",
            "Epoch 4/10\n",
            "25/25 [==============================] - 0s 2ms/step - loss: 3.8650\n",
            "Epoch 5/10\n",
            "25/25 [==============================] - 0s 2ms/step - loss: 3.8548\n",
            "Epoch 6/10\n",
            "25/25 [==============================] - 0s 2ms/step - loss: 3.8437\n",
            "Epoch 7/10\n",
            "25/25 [==============================] - 0s 2ms/step - loss: 3.8324\n",
            "Epoch 8/10\n",
            "25/25 [==============================] - 0s 2ms/step - loss: 3.8209\n",
            "Epoch 9/10\n",
            "25/25 [==============================] - 0s 2ms/step - loss: 3.8087\n",
            "Epoch 10/10\n",
            "25/25 [==============================] - 0s 2ms/step - loss: 3.7966\n",
            "-----------------------\n",
            "(1, 3)\n",
            "-----------------------\n",
            "['Rule', 'void', 'addChunksListChunk', 'for', 'Chunk', 'chunk', 'chunks', 'author', 'chenlb', 'ListChunk', 'for', 'IteratorChunk', 'itchunksiterator', 'ithasNext', 'Chunk', 'if', 'isRemovechunk', 'return']\n",
            "{'Rule': 0, 'void': 1, 'addChunksListChunk': 2, 'for': 3, 'Chunk': 4, 'chunk': 5, 'chunks': 6, 'author': 7, 'chenlb': 8, 'ListChunk': 9, 'IteratorChunk': 10, 'itchunksiterator': 11, 'ithasNext': 12, 'if': 13, 'isRemovechunk': 14, 'return': 15}\n",
            "Epoch 1/10\n",
            "5/5 [==============================] - 0s 3ms/step - loss: 2.7848\n",
            "Epoch 2/10\n",
            "5/5 [==============================] - 0s 3ms/step - loss: 2.7818\n",
            "Epoch 3/10\n",
            "5/5 [==============================] - 0s 4ms/step - loss: 2.7794\n",
            "Epoch 4/10\n",
            "5/5 [==============================] - 0s 4ms/step - loss: 2.7773\n",
            "Epoch 5/10\n",
            "5/5 [==============================] - 0s 5ms/step - loss: 2.7753\n",
            "Epoch 6/10\n",
            "5/5 [==============================] - 0s 5ms/step - loss: 2.7732\n",
            "Epoch 7/10\n",
            "5/5 [==============================] - 0s 3ms/step - loss: 2.7712\n",
            "Epoch 8/10\n",
            "5/5 [==============================] - 0s 3ms/step - loss: 2.7694\n",
            "Epoch 9/10\n",
            "5/5 [==============================] - 0s 3ms/step - loss: 2.7676\n",
            "Epoch 10/10\n",
            "5/5 [==============================] - 0s 3ms/step - loss: 2.7658\n",
            "-----------------------\n",
            "(1, 3)\n",
            "-----------------------\n",
            "['MMSeg', 'Sentence', 'createSentenceStringBuilder', 'return', 'new', 'Word', 'createWordStringBuilder', 'bufSentenceint', 'startIdxString', 'return', 'new', 'Word', 'createWordStringBuilder', 'sentenceBufferString', 'return', 'new', 'NationLetter', 'getNationint', 'if', 'isAsciiLettercodePoint', 'return', 'if', 'isRussiaLettercodePoint', 'return', 'if', 'isGreeceLettercodePoint', 'return', 'return', 'static', 'boolean', 'isAsciiLetterint', 'return', 'codePoint', 'A', 'codePoint', 'Z', 'codePoint', 'a', 'codePoint', 'boolean', 'isCJKint', 'return', 'type', 'boolean', 'isDigitint', 'return', 'type', 'boolean', 'isDotint', 'return', 'type', 'static', 'boolean', 'isGreeceLetterint', 'return', 'codePoint', 'codePoint', 'codePoint', 'codePoint', 'static', 'boolean', 'isLetterOrDigitchar', 'return', 'c', '97', 'c', '122', 'c', '90', 'c', '65', 'c', '57', 'c', 'boolean', 'isLetterint', 'return', 'type', 'CharacterMODIFIERLETTER', 'type', 'static', 'boolean', 'isRussiaLetterint', 'return', 'codePoint', 'codePoint', 'codePoint', 'codePoint', 'MMSegReader', 'inputSeg', 'Word', 'next', 'throws', 'IOException', 'Word', 'if', 'word', 'null', 'int', 'boolean', 'while', 'read', 'datareadNext', '1', 'int', 'type', 'NationLetter', 'if', 'nl', 'NationLetterUNKNOW', 'nl', 'readCharssentenceBuffernew', 'readCharssentenceBuffernew', 'd', '1', 'segisUnitd', 'else', 'readCharssentenceBuffernew', 'ReadCharByAsciiOrDigit', '0', 'int', 'i0', 'i', 'sentenceBufferlength', 'i', 'Wordnew', 'currentSentence', 'null', 'int', 'i0', 'i', 'chunkgetCount', 'i', 'wgetStringtrimlength', '0', 'DictionaryisStopWordwgetStringtrim', 'while', 'void', 'pushBackint', 'data', 'throws', 'IOException', 'param', 'param', 'return', 'int', 'readCharsStringBuilder', 'sentenceBufferReadChar', 'readChar', 'throws', 'IOException', 'int', 'int', 'while', 'datareadNext', '1', 'int', 'if', 'readCharisReadd', 'passcontainsStringvalueOfd', 'else', 'return', 'int', 'readNext', 'throws', 'IOException', 'int', 'if', 'd', '1', 'return', 'void', 'resetReader', 'thisreadernew', 'PushbackReadernew', 'thiswordBuffernew', 'int', 'startIdxStringBuilder', 'return', 'readIndex', 'sentenceBufferlength', 'int', 'toAsciiint', 'if', 'codePoint', '65296', 'codePoint', '65305', 'codePoint', '65313', 'codePoint', '65338', 'codePoint', '65345', 'codePoint', '65370', 'return', 'static', 'char', 'toCharsStringBuilder', 'char', 'chsnew', 'return']\n",
            "{'MMSeg': 0, 'Sentence': 1, 'createSentenceStringBuilder': 2, 'return': 3, 'new': 4, 'Word': 5, 'createWordStringBuilder': 6, 'bufSentenceint': 7, 'startIdxString': 8, 'sentenceBufferString': 9, 'NationLetter': 10, 'getNationint': 11, 'if': 12, 'isAsciiLettercodePoint': 13, 'isRussiaLettercodePoint': 14, 'isGreeceLettercodePoint': 15, 'static': 16, 'boolean': 17, 'isAsciiLetterint': 18, 'codePoint': 19, 'A': 20, 'Z': 21, 'a': 22, 'isCJKint': 23, 'type': 24, 'isDigitint': 25, 'isDotint': 26, 'isGreeceLetterint': 27, 'isLetterOrDigitchar': 28, 'c': 29, '97': 30, '122': 31, '90': 32, '65': 33, '57': 34, 'isLetterint': 35, 'CharacterMODIFIERLETTER': 36, 'isRussiaLetterint': 37, 'MMSegReader': 38, 'inputSeg': 39, 'next': 40, 'throws': 41, 'IOException': 42, 'word': 43, 'null': 44, 'int': 45, 'while': 46, 'read': 47, 'datareadNext': 48, '1': 49, 'nl': 50, 'NationLetterUNKNOW': 51, 'readCharssentenceBuffernew': 52, 'd': 53, 'segisUnitd': 54, 'else': 55, 'ReadCharByAsciiOrDigit': 56, '0': 57, 'i0': 58, 'i': 59, 'sentenceBufferlength': 60, 'Wordnew': 61, 'currentSentence': 62, 'chunkgetCount': 63, 'wgetStringtrimlength': 64, 'DictionaryisStopWordwgetStringtrim': 65, 'void': 66, 'pushBackint': 67, 'data': 68, 'param': 69, 'readCharsStringBuilder': 70, 'sentenceBufferReadChar': 71, 'readChar': 72, 'readCharisReadd': 73, 'passcontainsStringvalueOfd': 74, 'readNext': 75, 'resetReader': 76, 'thisreadernew': 77, 'PushbackReadernew': 78, 'thiswordBuffernew': 79, 'startIdxStringBuilder': 80, 'readIndex': 81, 'toAsciiint': 82, '65296': 83, '65305': 84, '65313': 85, '65338': 86, '65345': 87, '65370': 88, 'char': 89, 'toCharsStringBuilder': 90, 'chsnew': 91}\n",
            "Epoch 1/10\n",
            "47/47 [==============================] - 0s 2ms/step - loss: 4.5117\n",
            "Epoch 2/10\n",
            "47/47 [==============================] - 0s 2ms/step - loss: 4.4899\n",
            "Epoch 3/10\n",
            "47/47 [==============================] - 0s 2ms/step - loss: 4.4670\n",
            "Epoch 4/10\n",
            "47/47 [==============================] - 0s 2ms/step - loss: 4.4405\n",
            "Epoch 5/10\n",
            "47/47 [==============================] - 0s 2ms/step - loss: 4.4097\n",
            "Epoch 6/10\n",
            "47/47 [==============================] - 0s 2ms/step - loss: 4.3748\n",
            "Epoch 7/10\n",
            "47/47 [==============================] - 0s 2ms/step - loss: 4.3364\n",
            "Epoch 8/10\n",
            "47/47 [==============================] - 0s 3ms/step - loss: 4.2960\n",
            "Epoch 9/10\n",
            "47/47 [==============================] - 0s 2ms/step - loss: 4.2539\n",
            "Epoch 10/10\n",
            "47/47 [==============================] - 0s 2ms/step - loss: 4.2133\n",
            "-----------------------\n",
            "(1, 3)\n",
            "-----------------------\n",
            "[['MaxWordSeg', [[-1.3834106922149658, 0.9081556797027588, 0.1941145658493042]]], ['ComplexSeg', [[-0.35222938656806946, -1.1486510038375854, 1.4510754346847534]]], ['Chunk', [[0.8653130531311035, 0.902301013469696, -0.6727631688117981]]], ['Simple', [[0.45420992374420166, 0.11418890953063965, 0.2502918839454651]]], ['Word', [[-1.8774750232696533, 0.5219640135765076, -3.0889580249786377]]], ['MaxMatchRule', [[-1.9149506092071533, 1.268134593963623, -0.6624835729598999]]], ['Sentence', [[0.5830773711204529, 0.4401540756225586, 1.3306825160980225]]], ['SimpleSeg', [[0.21244855225086212, -0.4797116219997406, -2.5080041885375977]]], ['Dictionary', [[15.414937019348145, -9.624924659729004, 15.79393196105957]]], ['CharNode', [[2.6407833099365234, 2.3788490295410156, 0.8637369871139526]]], ['Seg', [[1.5606569051742554, -0.6164470911026001, -0.447083055973053]]], ['Rule', [[-1.671836018562317, -0.7589883804321289, -0.4560529589653015]]], ['MMSeg', [[-8.280548095703125, 9.81702709197998, -1.279304027557373]]]]\n"
          ]
        }
      ]
    },
    {
      "cell_type": "code",
      "source": [
        "read_file = pd.read_excel (\"/content/drive/MyDrive/delesmell/dataset_class/mmseg4j/mmseg4j.xls\")\n",
        "read_file.to_csv (\"/content/drive/MyDrive/delesmell/dataset_class/mmseg4j/mmseg4j.csv\", \n",
        "                  index = None,\n",
        "                  header=True)\n",
        "df =pd.read_csv('/content/drive/MyDrive/delesmell/dataset_class/mmseg4j/mmseg4j.csv') "
      ],
      "metadata": {
        "id": "NVtN5kE4Ev7t"
      },
      "execution_count": 33,
      "outputs": []
    },
    {
      "cell_type": "code",
      "source": [
        "x= df.iloc[:, 0]"
      ],
      "metadata": {
        "id": "oRjHubXDGBno"
      },
      "execution_count": 34,
      "outputs": []
    },
    {
      "cell_type": "code",
      "source": [
        "ngList = []"
      ],
      "metadata": {
        "id": "axSiFFZ4GT2Y"
      },
      "execution_count": 35,
      "outputs": []
    },
    {
      "cell_type": "code",
      "source": [
        "for index in x:\n",
        "    q = 1\n",
        "    for i in range(0,len(embedding)):\n",
        "        st = str(embedding[i][0])\n",
        "        st = st[1:]\n",
        "        if index == st:\n",
        "            ngList.append(embedding[i][1])\n",
        "            q = 0\n",
        "    if q==1 :\n",
        "        ngList.append([[1, 1, 1]])\n",
        "\n",
        "\n",
        "\n",
        "word2vec = []\n",
        "list1 = []\n",
        "list2 = []\n",
        "list3 = []\n",
        "for i in range(0,len(ngList)):\n",
        "    word2vec.append(ngList[i][0])\n",
        "\n",
        "for i in range(0,len(word2vec)):\n",
        "    list1.append(word2vec[i][0])\n",
        "for i in range(0,len(word2vec)):\n",
        "    list2.append(word2vec[i][1])\n",
        "for i in range(0,len(word2vec)):\n",
        "    list3.append(word2vec[i][2])\n"
      ],
      "metadata": {
        "id": "Fax1lGnGGYNy"
      },
      "execution_count": 36,
      "outputs": []
    },
    {
      "cell_type": "code",
      "source": [
        "for i in range(0,len(Brain_Class)):\n",
        "    if 'False' == Brain_Class[i][1]:\n",
        "        q = 1\n",
        "    else :\n",
        "        print('*')"
      ],
      "metadata": {
        "id": "8KEvFZTOGbGu"
      },
      "execution_count": 37,
      "outputs": []
    },
    {
      "cell_type": "code",
      "source": [
        "len(Brain_Class[0][0])"
      ],
      "metadata": {
        "colab": {
          "base_uri": "https://localhost:8080/"
        },
        "id": "kxvIVQ0pGdee",
        "outputId": "55f977e5-04cc-4da5-eb73-d4c16e413f33"
      },
      "execution_count": 38,
      "outputs": [
        {
          "output_type": "execute_result",
          "data": {
            "text/plain": [
              "10"
            ]
          },
          "metadata": {},
          "execution_count": 38
        }
      ]
    },
    {
      "cell_type": "code",
      "source": [
        "\n",
        "ngList=[]\n",
        "\n",
        "for index in x:\n",
        "    q = 1\n",
        "    for i in range(0,len(c)):\n",
        "        st = str(c[i][0])\n",
        "        st = st[1:]\n",
        "        if index == st:\n",
        "            ngList.append(c[i][1])\n",
        "            q = 0\n",
        "    if q==1 :\n",
        "        ngList.append(1)\n",
        "        "
      ],
      "metadata": {
        "id": "QUO6q0yEGgJJ"
      },
      "execution_count": 39,
      "outputs": []
    },
    {
      "cell_type": "code",
      "source": [
        "brainList=[]\n",
        "\n",
        "for index in x:\n",
        "    q = 1\n",
        "    for i in range(0,len(c)):\n",
        "        st = str(Brain_Class[i][0])\n",
        "        st = st[1:]\n",
        "        if index == st:\n",
        "            brainList.append(Brain_Class[i][1])\n",
        "            q = 0\n",
        "    if q==1 :\n",
        "        brainList.append('0')\n",
        "        \n",
        "        \n",
        "print(len(brainList))\n",
        "print(len(x))"
      ],
      "metadata": {
        "colab": {
          "base_uri": "https://localhost:8080/"
        },
        "id": "i5BhdOEyGi0F",
        "outputId": "27a20721-0a70-4408-d494-49d4d40eec77"
      },
      "execution_count": 40,
      "outputs": [
        {
          "output_type": "stream",
          "name": "stdout",
          "text": [
            "18\n",
            "18\n"
          ]
        }
      ]
    },
    {
      "cell_type": "code",
      "source": [
        "column=df.columns.tolist()"
      ],
      "metadata": {
        "id": "HgOM4JnSGlMN"
      },
      "execution_count": 41,
      "outputs": []
    },
    {
      "cell_type": "code",
      "source": [
        "df['acsm'] = ngList\n",
        "df['word2vec'] = list1\n",
        "df['word2vec2'] = list2\n",
        "df['word2vec3'] = list3\n",
        "df['is_brain'] = brainList\n",
        "df.to_csv(save_file_csv,mode = 'a',index =False)"
      ],
      "metadata": {
        "id": "thr_qF0jGny3"
      },
      "execution_count": 42,
      "outputs": []
    },
    {
      "cell_type": "code",
      "source": [
        "df.head()"
      ],
      "metadata": {
        "colab": {
          "base_uri": "https://localhost:8080/",
          "height": 235
        },
        "id": "bBwLZ-OoGxIG",
        "outputId": "d6bf16ac-0ec3-4c88-ac81-56634468e378"
      },
      "execution_count": 43,
      "outputs": [
        {
          "output_type": "execute_result",
          "data": {
            "text/plain": [
              "                NAME   AMW  ATDF  BOVM   BUR  CBO  CC  CM  CRIX  DAC  ...  \\\n",
              "0         ComplexSeg  4.40    18     0  0.43    9   0   0   1.0    1  ...   \n",
              "1         MaxWordSeg  5.50     6     0  1.00    2   0   0   0.5    0  ...   \n",
              "2          SimpleSeg  3.50     5     0  0.14    3   0   0   1.0    0  ...   \n",
              "3       MaxMatchRule  1.33     0     0  1.00    1   1   1   0.0    0  ...   \n",
              "4  LargestAvgLenRule  1.00     0     0  1.00    1   0   0   0.0    0  ...   \n",
              "\n",
              "   NOM  NOPA  TCC  WMC  WOC  acsm  word2vec  word2vec2  word2vec3  is_brain  \n",
              "0    5     0  0.5   22  1.0     1         1          1          1         0  \n",
              "1    2     0  1.0   11  1.0     1         1          1          1         0  \n",
              "2    2     0  1.0    7  1.0     1         1          1          1         0  \n",
              "3    3     0  1.0    4  1.0     1         1          1          1         0  \n",
              "4    4     0  1.0    4  1.0     1         1          1          1         0  \n",
              "\n",
              "[5 rows x 30 columns]"
            ],
            "text/html": [
              "\n",
              "  <div id=\"df-90aae7cf-7f0c-4d49-b51e-ae9a71836437\">\n",
              "    <div class=\"colab-df-container\">\n",
              "      <div>\n",
              "<style scoped>\n",
              "    .dataframe tbody tr th:only-of-type {\n",
              "        vertical-align: middle;\n",
              "    }\n",
              "\n",
              "    .dataframe tbody tr th {\n",
              "        vertical-align: top;\n",
              "    }\n",
              "\n",
              "    .dataframe thead th {\n",
              "        text-align: right;\n",
              "    }\n",
              "</style>\n",
              "<table border=\"1\" class=\"dataframe\">\n",
              "  <thead>\n",
              "    <tr style=\"text-align: right;\">\n",
              "      <th></th>\n",
              "      <th>NAME</th>\n",
              "      <th>AMW</th>\n",
              "      <th>ATDF</th>\n",
              "      <th>BOVM</th>\n",
              "      <th>BUR</th>\n",
              "      <th>CBO</th>\n",
              "      <th>CC</th>\n",
              "      <th>CM</th>\n",
              "      <th>CRIX</th>\n",
              "      <th>DAC</th>\n",
              "      <th>...</th>\n",
              "      <th>NOM</th>\n",
              "      <th>NOPA</th>\n",
              "      <th>TCC</th>\n",
              "      <th>WMC</th>\n",
              "      <th>WOC</th>\n",
              "      <th>acsm</th>\n",
              "      <th>word2vec</th>\n",
              "      <th>word2vec2</th>\n",
              "      <th>word2vec3</th>\n",
              "      <th>is_brain</th>\n",
              "    </tr>\n",
              "  </thead>\n",
              "  <tbody>\n",
              "    <tr>\n",
              "      <th>0</th>\n",
              "      <td>ComplexSeg</td>\n",
              "      <td>4.40</td>\n",
              "      <td>18</td>\n",
              "      <td>0</td>\n",
              "      <td>0.43</td>\n",
              "      <td>9</td>\n",
              "      <td>0</td>\n",
              "      <td>0</td>\n",
              "      <td>1.0</td>\n",
              "      <td>1</td>\n",
              "      <td>...</td>\n",
              "      <td>5</td>\n",
              "      <td>0</td>\n",
              "      <td>0.5</td>\n",
              "      <td>22</td>\n",
              "      <td>1.0</td>\n",
              "      <td>1</td>\n",
              "      <td>1</td>\n",
              "      <td>1</td>\n",
              "      <td>1</td>\n",
              "      <td>0</td>\n",
              "    </tr>\n",
              "    <tr>\n",
              "      <th>1</th>\n",
              "      <td>MaxWordSeg</td>\n",
              "      <td>5.50</td>\n",
              "      <td>6</td>\n",
              "      <td>0</td>\n",
              "      <td>1.00</td>\n",
              "      <td>2</td>\n",
              "      <td>0</td>\n",
              "      <td>0</td>\n",
              "      <td>0.5</td>\n",
              "      <td>0</td>\n",
              "      <td>...</td>\n",
              "      <td>2</td>\n",
              "      <td>0</td>\n",
              "      <td>1.0</td>\n",
              "      <td>11</td>\n",
              "      <td>1.0</td>\n",
              "      <td>1</td>\n",
              "      <td>1</td>\n",
              "      <td>1</td>\n",
              "      <td>1</td>\n",
              "      <td>0</td>\n",
              "    </tr>\n",
              "    <tr>\n",
              "      <th>2</th>\n",
              "      <td>SimpleSeg</td>\n",
              "      <td>3.50</td>\n",
              "      <td>5</td>\n",
              "      <td>0</td>\n",
              "      <td>0.14</td>\n",
              "      <td>3</td>\n",
              "      <td>0</td>\n",
              "      <td>0</td>\n",
              "      <td>1.0</td>\n",
              "      <td>0</td>\n",
              "      <td>...</td>\n",
              "      <td>2</td>\n",
              "      <td>0</td>\n",
              "      <td>1.0</td>\n",
              "      <td>7</td>\n",
              "      <td>1.0</td>\n",
              "      <td>1</td>\n",
              "      <td>1</td>\n",
              "      <td>1</td>\n",
              "      <td>1</td>\n",
              "      <td>0</td>\n",
              "    </tr>\n",
              "    <tr>\n",
              "      <th>3</th>\n",
              "      <td>MaxMatchRule</td>\n",
              "      <td>1.33</td>\n",
              "      <td>0</td>\n",
              "      <td>0</td>\n",
              "      <td>1.00</td>\n",
              "      <td>1</td>\n",
              "      <td>1</td>\n",
              "      <td>1</td>\n",
              "      <td>0.0</td>\n",
              "      <td>0</td>\n",
              "      <td>...</td>\n",
              "      <td>3</td>\n",
              "      <td>0</td>\n",
              "      <td>1.0</td>\n",
              "      <td>4</td>\n",
              "      <td>1.0</td>\n",
              "      <td>1</td>\n",
              "      <td>1</td>\n",
              "      <td>1</td>\n",
              "      <td>1</td>\n",
              "      <td>0</td>\n",
              "    </tr>\n",
              "    <tr>\n",
              "      <th>4</th>\n",
              "      <td>LargestAvgLenRule</td>\n",
              "      <td>1.00</td>\n",
              "      <td>0</td>\n",
              "      <td>0</td>\n",
              "      <td>1.00</td>\n",
              "      <td>1</td>\n",
              "      <td>0</td>\n",
              "      <td>0</td>\n",
              "      <td>0.0</td>\n",
              "      <td>0</td>\n",
              "      <td>...</td>\n",
              "      <td>4</td>\n",
              "      <td>0</td>\n",
              "      <td>1.0</td>\n",
              "      <td>4</td>\n",
              "      <td>1.0</td>\n",
              "      <td>1</td>\n",
              "      <td>1</td>\n",
              "      <td>1</td>\n",
              "      <td>1</td>\n",
              "      <td>0</td>\n",
              "    </tr>\n",
              "  </tbody>\n",
              "</table>\n",
              "<p>5 rows × 30 columns</p>\n",
              "</div>\n",
              "      <button class=\"colab-df-convert\" onclick=\"convertToInteractive('df-90aae7cf-7f0c-4d49-b51e-ae9a71836437')\"\n",
              "              title=\"Convert this dataframe to an interactive table.\"\n",
              "              style=\"display:none;\">\n",
              "        \n",
              "  <svg xmlns=\"http://www.w3.org/2000/svg\" height=\"24px\"viewBox=\"0 0 24 24\"\n",
              "       width=\"24px\">\n",
              "    <path d=\"M0 0h24v24H0V0z\" fill=\"none\"/>\n",
              "    <path d=\"M18.56 5.44l.94 2.06.94-2.06 2.06-.94-2.06-.94-.94-2.06-.94 2.06-2.06.94zm-11 1L8.5 8.5l.94-2.06 2.06-.94-2.06-.94L8.5 2.5l-.94 2.06-2.06.94zm10 10l.94 2.06.94-2.06 2.06-.94-2.06-.94-.94-2.06-.94 2.06-2.06.94z\"/><path d=\"M17.41 7.96l-1.37-1.37c-.4-.4-.92-.59-1.43-.59-.52 0-1.04.2-1.43.59L10.3 9.45l-7.72 7.72c-.78.78-.78 2.05 0 2.83L4 21.41c.39.39.9.59 1.41.59.51 0 1.02-.2 1.41-.59l7.78-7.78 2.81-2.81c.8-.78.8-2.07 0-2.86zM5.41 20L4 18.59l7.72-7.72 1.47 1.35L5.41 20z\"/>\n",
              "  </svg>\n",
              "      </button>\n",
              "      \n",
              "  <style>\n",
              "    .colab-df-container {\n",
              "      display:flex;\n",
              "      flex-wrap:wrap;\n",
              "      gap: 12px;\n",
              "    }\n",
              "\n",
              "    .colab-df-convert {\n",
              "      background-color: #E8F0FE;\n",
              "      border: none;\n",
              "      border-radius: 50%;\n",
              "      cursor: pointer;\n",
              "      display: none;\n",
              "      fill: #1967D2;\n",
              "      height: 32px;\n",
              "      padding: 0 0 0 0;\n",
              "      width: 32px;\n",
              "    }\n",
              "\n",
              "    .colab-df-convert:hover {\n",
              "      background-color: #E2EBFA;\n",
              "      box-shadow: 0px 1px 2px rgba(60, 64, 67, 0.3), 0px 1px 3px 1px rgba(60, 64, 67, 0.15);\n",
              "      fill: #174EA6;\n",
              "    }\n",
              "\n",
              "    [theme=dark] .colab-df-convert {\n",
              "      background-color: #3B4455;\n",
              "      fill: #D2E3FC;\n",
              "    }\n",
              "\n",
              "    [theme=dark] .colab-df-convert:hover {\n",
              "      background-color: #434B5C;\n",
              "      box-shadow: 0px 1px 3px 1px rgba(0, 0, 0, 0.15);\n",
              "      filter: drop-shadow(0px 1px 2px rgba(0, 0, 0, 0.3));\n",
              "      fill: #FFFFFF;\n",
              "    }\n",
              "  </style>\n",
              "\n",
              "      <script>\n",
              "        const buttonEl =\n",
              "          document.querySelector('#df-90aae7cf-7f0c-4d49-b51e-ae9a71836437 button.colab-df-convert');\n",
              "        buttonEl.style.display =\n",
              "          google.colab.kernel.accessAllowed ? 'block' : 'none';\n",
              "\n",
              "        async function convertToInteractive(key) {\n",
              "          const element = document.querySelector('#df-90aae7cf-7f0c-4d49-b51e-ae9a71836437');\n",
              "          const dataTable =\n",
              "            await google.colab.kernel.invokeFunction('convertToInteractive',\n",
              "                                                     [key], {});\n",
              "          if (!dataTable) return;\n",
              "\n",
              "          const docLinkHtml = 'Like what you see? Visit the ' +\n",
              "            '<a target=\"_blank\" href=https://colab.research.google.com/notebooks/data_table.ipynb>data table notebook</a>'\n",
              "            + ' to learn more about interactive tables.';\n",
              "          element.innerHTML = '';\n",
              "          dataTable['output_type'] = 'display_data';\n",
              "          await google.colab.output.renderOutput(dataTable, element);\n",
              "          const docLink = document.createElement('div');\n",
              "          docLink.innerHTML = docLinkHtml;\n",
              "          element.appendChild(docLink);\n",
              "        }\n",
              "      </script>\n",
              "    </div>\n",
              "  </div>\n",
              "  "
            ]
          },
          "metadata": {},
          "execution_count": 43
        }
      ]
    },
    {
      "cell_type": "code",
      "source": [],
      "metadata": {
        "id": "MwbkCQX-GzND"
      },
      "execution_count": null,
      "outputs": []
    }
  ]
}