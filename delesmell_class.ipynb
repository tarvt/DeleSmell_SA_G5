{
  "cells": [
    {
      "cell_type": "markdown",
      "metadata": {
        "id": "view-in-github",
        "colab_type": "text"
      },
      "source": [
        "<a href=\"https://colab.research.google.com/github/tarvt/DeleSmell_SA_G5/blob/main/delesmell_class.ipynb\" target=\"_parent\"><img src=\"https://colab.research.google.com/assets/colab-badge.svg\" alt=\"Open In Colab\"/></a>"
      ]
    },
    {
      "cell_type": "code",
      "execution_count": 1,
      "metadata": {
        "colab": {
          "base_uri": "https://localhost:8080/"
        },
        "id": "c24UF65KhSMa",
        "outputId": "fbc109ed-1b1e-411a-9b0a-0fcd6265db30"
      },
      "outputs": [
        {
          "output_type": "stream",
          "name": "stdout",
          "text": [
            "Looking in indexes: https://pypi.org/simple, https://us-python.pkg.dev/colab-wheels/public/simple/\n",
            "Collecting keras_self_attention\n",
            "  Downloading keras-self-attention-0.51.0.tar.gz (11 kB)\n",
            "  Preparing metadata (setup.py) ... \u001b[?25l\u001b[?25hdone\n",
            "Requirement already satisfied: numpy in /usr/local/lib/python3.8/dist-packages (from keras_self_attention) (1.21.6)\n",
            "Building wheels for collected packages: keras_self_attention\n",
            "  Building wheel for keras_self_attention (setup.py) ... \u001b[?25l\u001b[?25hdone\n",
            "  Created wheel for keras_self_attention: filename=keras_self_attention-0.51.0-py3-none-any.whl size=18913 sha256=7ae8859443e147efba1a0e399b4a491c54a21de8841b14baba866dc0d94a1707\n",
            "  Stored in directory: /root/.cache/pip/wheels/ac/13/2d/3de7c76f618a8d162884ac5b726a8c2242ad88afa370f1e62f\n",
            "Successfully built keras_self_attention\n",
            "Installing collected packages: keras_self_attention\n",
            "Successfully installed keras_self_attention-0.51.0\n"
          ]
        }
      ],
      "source": [
        "!pip install keras_self_attention"
      ]
    },
    {
      "cell_type": "code",
      "execution_count": 2,
      "metadata": {
        "id": "nXAepOVClDGD"
      },
      "outputs": [],
      "source": [
        "import numpy as np\n",
        "import pandas as pd\n",
        "import tensorflow as tf\n",
        "from tensorflow import keras\n",
        "from keras import regularizers\n",
        "from keras.layers import Dense,Flatten,Conv1D,MaxPooling1D,Dropout,BatchNormalization\n",
        "from tensorflow.keras import Sequential\n",
        "from tensorflow.keras import Model\n",
        "from keras.layers import GRU\n",
        "from keras import regularizers\n",
        "from keras import initializers\n",
        "from keras_self_attention import SeqSelfAttention, SeqWeightedAttention\n",
        "import tensorflow as tf\n",
        "from tensorflow import keras\n",
        "from tensorflow.keras import layers\n",
        "from sklearn.decomposition import PCA\n",
        "from sklearn.model_selection import train_test_split\n",
        "from sklearn.preprocessing import OneHotEncoder\n",
        "from tensorflow.keras.layers import *\n",
        "from tensorflow.keras.models import *\n",
        "from imblearn.over_sampling import SMOTE\n",
        "import datetime\n",
        "from keras import constraints\n",
        "\n",
        "import keras.backend as K"
      ]
    },
    {
      "cell_type": "code",
      "execution_count": 3,
      "metadata": {
        "colab": {
          "base_uri": "https://localhost:8080/"
        },
        "id": "z9_0_BktkZBk",
        "outputId": "f447bd1d-daa7-4eb9-9a95-723e6a106016"
      },
      "outputs": [
        {
          "output_type": "stream",
          "name": "stderr",
          "text": [
            "/usr/local/lib/python3.8/dist-packages/keras/backend.py:450: UserWarning: `tf.keras.backend.set_learning_phase` is deprecated and will be removed after 2020-10-11. To update it, simply pass a True/False value to the `training` argument of the `__call__` method of your layer or model.\n",
            "  warnings.warn('`tf.keras.backend.set_learning_phase` is deprecated and '\n"
          ]
        }
      ],
      "source": [
        "from keras import layers\n",
        "from keras.layers import Input, Add, Dense, Activation, ZeroPadding2D, BatchNormalization, Flatten, Conv2D, AveragePooling2D, MaxPooling2D, GlobalMaxPooling2D\n",
        "from keras.models import Model, load_model\n",
        "from keras.preprocessing import image\n",
        "from keras.utils import layer_utils\n",
        "from keras.utils.data_utils import get_file\n",
        "from keras.applications.imagenet_utils import preprocess_input\n",
        "from keras.utils.vis_utils import model_to_dot\n",
        "from keras.utils import plot_model\n",
        "from keras.initializers import glorot_uniform\n",
        " \n",
        "import pydot\n",
        "from IPython.display import SVG\n",
        "import scipy.misc\n",
        "from matplotlib.pyplot import imshow\n",
        "import keras.backend as K\n",
        "K.set_image_data_format('channels_last')\n",
        "K.set_learning_phase(1)"
      ]
    },
    {
      "cell_type": "code",
      "execution_count": 4,
      "metadata": {
        "colab": {
          "base_uri": "https://localhost:8080/",
          "height": 35
        },
        "id": "BlLqJpDzlP3r",
        "outputId": "221d0ba3-f99b-48fd-a477-6e3365a29f7b"
      },
      "outputs": [
        {
          "output_type": "execute_result",
          "data": {
            "text/plain": [
              "'2.9.0'"
            ],
            "application/vnd.google.colaboratory.intrinsic+json": {
              "type": "string"
            }
          },
          "metadata": {},
          "execution_count": 4
        }
      ],
      "source": [
        "keras.__version__"
      ]
    },
    {
      "cell_type": "code",
      "execution_count": 5,
      "metadata": {
        "colab": {
          "base_uri": "https://localhost:8080/"
        },
        "id": "PVzxpXwjlSMb",
        "outputId": "c10336d7-7062-4ecc-dd32-78f7c2e52a88"
      },
      "outputs": [
        {
          "output_type": "stream",
          "name": "stdout",
          "text": [
            "Mounted at /content/drive\n"
          ]
        }
      ],
      "source": [
        "from google.colab import drive\n",
        "drive.mount('/content/drive')"
      ]
    },
    {
      "cell_type": "code",
      "execution_count": 6,
      "metadata": {
        "colab": {
          "base_uri": "https://localhost:8080/",
          "height": 235
        },
        "id": "jYpklNuKlu6C",
        "outputId": "e3dc9c7b-430a-4761-8fb3-b8098642f24b"
      },
      "outputs": [
        {
          "output_type": "execute_result",
          "data": {
            "text/plain": [
              "                 NAME  ALD  ATFD  CALIN  CC  CCL  CDISP  CEXT  CINT  CM  ...  \\\n",
              "0  tagDefineTextField    1     0      0   0    2   0.00     0     0   0  ...   \n",
              "1      tagDefineFont2    1     0      1   0    2   0.00     0     0   0  ...   \n",
              "2      classifyStream    0     0     32   0    3   0.00     0     0   0  ...   \n",
              "3      classifyStream    0     0     17   0    3   0.17     1     6   0  ...   \n",
              "4            generate    0     0     22   0    3   0.00     0     0   0  ...   \n",
              "\n",
              "   LOC  MAXNESTING  NOAV  NOEU  NOLV  NOP  word2vec  word2vec2  word2vec3  \\\n",
              "0    5           1     2     0     0   14  0.766091   0.295311  -0.482078   \n",
              "1    6           1     3     0     0   13  0.350905   0.692511   0.782078   \n",
              "2  118           3    34     0    27   11 -0.064280   1.089711   2.046234   \n",
              "3   76           3    16     0    13   10 -0.479466   1.486911   3.310390   \n",
              "4  131           3    37     0    20    9 -0.894651   1.884111   4.574546   \n",
              "\n",
              "   is_brain  \n",
              "0     False  \n",
              "1     False  \n",
              "2     False  \n",
              "3     False  \n",
              "4     False  \n",
              "\n",
              "[5 rows x 26 columns]"
            ],
            "text/html": [
              "\n",
              "  <div id=\"df-abd2c27d-c164-4fcb-921e-fe28e690ed78\">\n",
              "    <div class=\"colab-df-container\">\n",
              "      <div>\n",
              "<style scoped>\n",
              "    .dataframe tbody tr th:only-of-type {\n",
              "        vertical-align: middle;\n",
              "    }\n",
              "\n",
              "    .dataframe tbody tr th {\n",
              "        vertical-align: top;\n",
              "    }\n",
              "\n",
              "    .dataframe thead th {\n",
              "        text-align: right;\n",
              "    }\n",
              "</style>\n",
              "<table border=\"1\" class=\"dataframe\">\n",
              "  <thead>\n",
              "    <tr style=\"text-align: right;\">\n",
              "      <th></th>\n",
              "      <th>NAME</th>\n",
              "      <th>ALD</th>\n",
              "      <th>ATFD</th>\n",
              "      <th>CALIN</th>\n",
              "      <th>CC</th>\n",
              "      <th>CCL</th>\n",
              "      <th>CDISP</th>\n",
              "      <th>CEXT</th>\n",
              "      <th>CINT</th>\n",
              "      <th>CM</th>\n",
              "      <th>...</th>\n",
              "      <th>LOC</th>\n",
              "      <th>MAXNESTING</th>\n",
              "      <th>NOAV</th>\n",
              "      <th>NOEU</th>\n",
              "      <th>NOLV</th>\n",
              "      <th>NOP</th>\n",
              "      <th>word2vec</th>\n",
              "      <th>word2vec2</th>\n",
              "      <th>word2vec3</th>\n",
              "      <th>is_brain</th>\n",
              "    </tr>\n",
              "  </thead>\n",
              "  <tbody>\n",
              "    <tr>\n",
              "      <th>0</th>\n",
              "      <td>tagDefineTextField</td>\n",
              "      <td>1</td>\n",
              "      <td>0</td>\n",
              "      <td>0</td>\n",
              "      <td>0</td>\n",
              "      <td>2</td>\n",
              "      <td>0.00</td>\n",
              "      <td>0</td>\n",
              "      <td>0</td>\n",
              "      <td>0</td>\n",
              "      <td>...</td>\n",
              "      <td>5</td>\n",
              "      <td>1</td>\n",
              "      <td>2</td>\n",
              "      <td>0</td>\n",
              "      <td>0</td>\n",
              "      <td>14</td>\n",
              "      <td>0.766091</td>\n",
              "      <td>0.295311</td>\n",
              "      <td>-0.482078</td>\n",
              "      <td>False</td>\n",
              "    </tr>\n",
              "    <tr>\n",
              "      <th>1</th>\n",
              "      <td>tagDefineFont2</td>\n",
              "      <td>1</td>\n",
              "      <td>0</td>\n",
              "      <td>1</td>\n",
              "      <td>0</td>\n",
              "      <td>2</td>\n",
              "      <td>0.00</td>\n",
              "      <td>0</td>\n",
              "      <td>0</td>\n",
              "      <td>0</td>\n",
              "      <td>...</td>\n",
              "      <td>6</td>\n",
              "      <td>1</td>\n",
              "      <td>3</td>\n",
              "      <td>0</td>\n",
              "      <td>0</td>\n",
              "      <td>13</td>\n",
              "      <td>0.350905</td>\n",
              "      <td>0.692511</td>\n",
              "      <td>0.782078</td>\n",
              "      <td>False</td>\n",
              "    </tr>\n",
              "    <tr>\n",
              "      <th>2</th>\n",
              "      <td>classifyStream</td>\n",
              "      <td>0</td>\n",
              "      <td>0</td>\n",
              "      <td>32</td>\n",
              "      <td>0</td>\n",
              "      <td>3</td>\n",
              "      <td>0.00</td>\n",
              "      <td>0</td>\n",
              "      <td>0</td>\n",
              "      <td>0</td>\n",
              "      <td>...</td>\n",
              "      <td>118</td>\n",
              "      <td>3</td>\n",
              "      <td>34</td>\n",
              "      <td>0</td>\n",
              "      <td>27</td>\n",
              "      <td>11</td>\n",
              "      <td>-0.064280</td>\n",
              "      <td>1.089711</td>\n",
              "      <td>2.046234</td>\n",
              "      <td>False</td>\n",
              "    </tr>\n",
              "    <tr>\n",
              "      <th>3</th>\n",
              "      <td>classifyStream</td>\n",
              "      <td>0</td>\n",
              "      <td>0</td>\n",
              "      <td>17</td>\n",
              "      <td>0</td>\n",
              "      <td>3</td>\n",
              "      <td>0.17</td>\n",
              "      <td>1</td>\n",
              "      <td>6</td>\n",
              "      <td>0</td>\n",
              "      <td>...</td>\n",
              "      <td>76</td>\n",
              "      <td>3</td>\n",
              "      <td>16</td>\n",
              "      <td>0</td>\n",
              "      <td>13</td>\n",
              "      <td>10</td>\n",
              "      <td>-0.479466</td>\n",
              "      <td>1.486911</td>\n",
              "      <td>3.310390</td>\n",
              "      <td>False</td>\n",
              "    </tr>\n",
              "    <tr>\n",
              "      <th>4</th>\n",
              "      <td>generate</td>\n",
              "      <td>0</td>\n",
              "      <td>0</td>\n",
              "      <td>22</td>\n",
              "      <td>0</td>\n",
              "      <td>3</td>\n",
              "      <td>0.00</td>\n",
              "      <td>0</td>\n",
              "      <td>0</td>\n",
              "      <td>0</td>\n",
              "      <td>...</td>\n",
              "      <td>131</td>\n",
              "      <td>3</td>\n",
              "      <td>37</td>\n",
              "      <td>0</td>\n",
              "      <td>20</td>\n",
              "      <td>9</td>\n",
              "      <td>-0.894651</td>\n",
              "      <td>1.884111</td>\n",
              "      <td>4.574546</td>\n",
              "      <td>False</td>\n",
              "    </tr>\n",
              "  </tbody>\n",
              "</table>\n",
              "<p>5 rows × 26 columns</p>\n",
              "</div>\n",
              "      <button class=\"colab-df-convert\" onclick=\"convertToInteractive('df-abd2c27d-c164-4fcb-921e-fe28e690ed78')\"\n",
              "              title=\"Convert this dataframe to an interactive table.\"\n",
              "              style=\"display:none;\">\n",
              "        \n",
              "  <svg xmlns=\"http://www.w3.org/2000/svg\" height=\"24px\"viewBox=\"0 0 24 24\"\n",
              "       width=\"24px\">\n",
              "    <path d=\"M0 0h24v24H0V0z\" fill=\"none\"/>\n",
              "    <path d=\"M18.56 5.44l.94 2.06.94-2.06 2.06-.94-2.06-.94-.94-2.06-.94 2.06-2.06.94zm-11 1L8.5 8.5l.94-2.06 2.06-.94-2.06-.94L8.5 2.5l-.94 2.06-2.06.94zm10 10l.94 2.06.94-2.06 2.06-.94-2.06-.94-.94-2.06-.94 2.06-2.06.94z\"/><path d=\"M17.41 7.96l-1.37-1.37c-.4-.4-.92-.59-1.43-.59-.52 0-1.04.2-1.43.59L10.3 9.45l-7.72 7.72c-.78.78-.78 2.05 0 2.83L4 21.41c.39.39.9.59 1.41.59.51 0 1.02-.2 1.41-.59l7.78-7.78 2.81-2.81c.8-.78.8-2.07 0-2.86zM5.41 20L4 18.59l7.72-7.72 1.47 1.35L5.41 20z\"/>\n",
              "  </svg>\n",
              "      </button>\n",
              "      \n",
              "  <style>\n",
              "    .colab-df-container {\n",
              "      display:flex;\n",
              "      flex-wrap:wrap;\n",
              "      gap: 12px;\n",
              "    }\n",
              "\n",
              "    .colab-df-convert {\n",
              "      background-color: #E8F0FE;\n",
              "      border: none;\n",
              "      border-radius: 50%;\n",
              "      cursor: pointer;\n",
              "      display: none;\n",
              "      fill: #1967D2;\n",
              "      height: 32px;\n",
              "      padding: 0 0 0 0;\n",
              "      width: 32px;\n",
              "    }\n",
              "\n",
              "    .colab-df-convert:hover {\n",
              "      background-color: #E2EBFA;\n",
              "      box-shadow: 0px 1px 2px rgba(60, 64, 67, 0.3), 0px 1px 3px 1px rgba(60, 64, 67, 0.15);\n",
              "      fill: #174EA6;\n",
              "    }\n",
              "\n",
              "    [theme=dark] .colab-df-convert {\n",
              "      background-color: #3B4455;\n",
              "      fill: #D2E3FC;\n",
              "    }\n",
              "\n",
              "    [theme=dark] .colab-df-convert:hover {\n",
              "      background-color: #434B5C;\n",
              "      box-shadow: 0px 1px 3px 1px rgba(0, 0, 0, 0.15);\n",
              "      filter: drop-shadow(0px 1px 2px rgba(0, 0, 0, 0.3));\n",
              "      fill: #FFFFFF;\n",
              "    }\n",
              "  </style>\n",
              "\n",
              "      <script>\n",
              "        const buttonEl =\n",
              "          document.querySelector('#df-abd2c27d-c164-4fcb-921e-fe28e690ed78 button.colab-df-convert');\n",
              "        buttonEl.style.display =\n",
              "          google.colab.kernel.accessAllowed ? 'block' : 'none';\n",
              "\n",
              "        async function convertToInteractive(key) {\n",
              "          const element = document.querySelector('#df-abd2c27d-c164-4fcb-921e-fe28e690ed78');\n",
              "          const dataTable =\n",
              "            await google.colab.kernel.invokeFunction('convertToInteractive',\n",
              "                                                     [key], {});\n",
              "          if (!dataTable) return;\n",
              "\n",
              "          const docLinkHtml = 'Like what you see? Visit the ' +\n",
              "            '<a target=\"_blank\" href=https://colab.research.google.com/notebooks/data_table.ipynb>data table notebook</a>'\n",
              "            + ' to learn more about interactive tables.';\n",
              "          element.innerHTML = '';\n",
              "          dataTable['output_type'] = 'display_data';\n",
              "          await google.colab.output.renderOutput(dataTable, element);\n",
              "          const docLink = document.createElement('div');\n",
              "          docLink.innerHTML = docLinkHtml;\n",
              "          element.appendChild(docLink);\n",
              "        }\n",
              "      </script>\n",
              "    </div>\n",
              "  </div>\n",
              "  "
            ]
          },
          "metadata": {},
          "execution_count": 6
        }
      ],
      "source": [
        "dataset_path = '/content/drive/MyDrive/delesmell/METHOD_01.csv'\n",
        "df = pd.read_csv(dataset_path)\n",
        "df.head()"
      ]
    },
    {
      "cell_type": "code",
      "execution_count": 7,
      "metadata": {
        "colab": {
          "base_uri": "https://localhost:8080/",
          "height": 235
        },
        "id": "72rc10G5lxFS",
        "outputId": "ef6682a0-ab2a-46a8-af7a-f0712463cdcc"
      },
      "outputs": [
        {
          "output_type": "execute_result",
          "data": {
            "text/plain": [
              "   ALD  ATFD  CALIN  CC  CCL  CDISP  CEXT  CINT  CM  CYCLO  ...  LAA  LOC  \\\n",
              "0    1     0      0   0    2   0.00     0     0   0      2  ...  1.0    5   \n",
              "1    1     0      1   0    2   0.00     0     0   0      2  ...  1.0    6   \n",
              "2    0     0     32   0    3   0.00     0     0   0     16  ...  1.0  118   \n",
              "3    0     0     17   0    3   0.17     1     6   0     17  ...  1.0   76   \n",
              "4    0     0     22   0    3   0.00     0     0   0      9  ...  1.0  131   \n",
              "\n",
              "   MAXNESTING  NOAV  NOEU  NOLV  NOP  word2vec  word2vec2  word2vec3  \n",
              "0           1     2     0     0   14  0.766091   0.295311  -0.482078  \n",
              "1           1     3     0     0   13  0.350905   0.692511   0.782078  \n",
              "2           3    34     0    27   11 -0.064280   1.089711   2.046234  \n",
              "3           3    16     0    13   10 -0.479466   1.486911   3.310390  \n",
              "4           3    37     0    20    9 -0.894651   1.884111   4.574546  \n",
              "\n",
              "[5 rows x 24 columns]"
            ],
            "text/html": [
              "\n",
              "  <div id=\"df-d2d562fc-550b-4bab-a1e7-0ce0b5293bcd\">\n",
              "    <div class=\"colab-df-container\">\n",
              "      <div>\n",
              "<style scoped>\n",
              "    .dataframe tbody tr th:only-of-type {\n",
              "        vertical-align: middle;\n",
              "    }\n",
              "\n",
              "    .dataframe tbody tr th {\n",
              "        vertical-align: top;\n",
              "    }\n",
              "\n",
              "    .dataframe thead th {\n",
              "        text-align: right;\n",
              "    }\n",
              "</style>\n",
              "<table border=\"1\" class=\"dataframe\">\n",
              "  <thead>\n",
              "    <tr style=\"text-align: right;\">\n",
              "      <th></th>\n",
              "      <th>ALD</th>\n",
              "      <th>ATFD</th>\n",
              "      <th>CALIN</th>\n",
              "      <th>CC</th>\n",
              "      <th>CCL</th>\n",
              "      <th>CDISP</th>\n",
              "      <th>CEXT</th>\n",
              "      <th>CINT</th>\n",
              "      <th>CM</th>\n",
              "      <th>CYCLO</th>\n",
              "      <th>...</th>\n",
              "      <th>LAA</th>\n",
              "      <th>LOC</th>\n",
              "      <th>MAXNESTING</th>\n",
              "      <th>NOAV</th>\n",
              "      <th>NOEU</th>\n",
              "      <th>NOLV</th>\n",
              "      <th>NOP</th>\n",
              "      <th>word2vec</th>\n",
              "      <th>word2vec2</th>\n",
              "      <th>word2vec3</th>\n",
              "    </tr>\n",
              "  </thead>\n",
              "  <tbody>\n",
              "    <tr>\n",
              "      <th>0</th>\n",
              "      <td>1</td>\n",
              "      <td>0</td>\n",
              "      <td>0</td>\n",
              "      <td>0</td>\n",
              "      <td>2</td>\n",
              "      <td>0.00</td>\n",
              "      <td>0</td>\n",
              "      <td>0</td>\n",
              "      <td>0</td>\n",
              "      <td>2</td>\n",
              "      <td>...</td>\n",
              "      <td>1.0</td>\n",
              "      <td>5</td>\n",
              "      <td>1</td>\n",
              "      <td>2</td>\n",
              "      <td>0</td>\n",
              "      <td>0</td>\n",
              "      <td>14</td>\n",
              "      <td>0.766091</td>\n",
              "      <td>0.295311</td>\n",
              "      <td>-0.482078</td>\n",
              "    </tr>\n",
              "    <tr>\n",
              "      <th>1</th>\n",
              "      <td>1</td>\n",
              "      <td>0</td>\n",
              "      <td>1</td>\n",
              "      <td>0</td>\n",
              "      <td>2</td>\n",
              "      <td>0.00</td>\n",
              "      <td>0</td>\n",
              "      <td>0</td>\n",
              "      <td>0</td>\n",
              "      <td>2</td>\n",
              "      <td>...</td>\n",
              "      <td>1.0</td>\n",
              "      <td>6</td>\n",
              "      <td>1</td>\n",
              "      <td>3</td>\n",
              "      <td>0</td>\n",
              "      <td>0</td>\n",
              "      <td>13</td>\n",
              "      <td>0.350905</td>\n",
              "      <td>0.692511</td>\n",
              "      <td>0.782078</td>\n",
              "    </tr>\n",
              "    <tr>\n",
              "      <th>2</th>\n",
              "      <td>0</td>\n",
              "      <td>0</td>\n",
              "      <td>32</td>\n",
              "      <td>0</td>\n",
              "      <td>3</td>\n",
              "      <td>0.00</td>\n",
              "      <td>0</td>\n",
              "      <td>0</td>\n",
              "      <td>0</td>\n",
              "      <td>16</td>\n",
              "      <td>...</td>\n",
              "      <td>1.0</td>\n",
              "      <td>118</td>\n",
              "      <td>3</td>\n",
              "      <td>34</td>\n",
              "      <td>0</td>\n",
              "      <td>27</td>\n",
              "      <td>11</td>\n",
              "      <td>-0.064280</td>\n",
              "      <td>1.089711</td>\n",
              "      <td>2.046234</td>\n",
              "    </tr>\n",
              "    <tr>\n",
              "      <th>3</th>\n",
              "      <td>0</td>\n",
              "      <td>0</td>\n",
              "      <td>17</td>\n",
              "      <td>0</td>\n",
              "      <td>3</td>\n",
              "      <td>0.17</td>\n",
              "      <td>1</td>\n",
              "      <td>6</td>\n",
              "      <td>0</td>\n",
              "      <td>17</td>\n",
              "      <td>...</td>\n",
              "      <td>1.0</td>\n",
              "      <td>76</td>\n",
              "      <td>3</td>\n",
              "      <td>16</td>\n",
              "      <td>0</td>\n",
              "      <td>13</td>\n",
              "      <td>10</td>\n",
              "      <td>-0.479466</td>\n",
              "      <td>1.486911</td>\n",
              "      <td>3.310390</td>\n",
              "    </tr>\n",
              "    <tr>\n",
              "      <th>4</th>\n",
              "      <td>0</td>\n",
              "      <td>0</td>\n",
              "      <td>22</td>\n",
              "      <td>0</td>\n",
              "      <td>3</td>\n",
              "      <td>0.00</td>\n",
              "      <td>0</td>\n",
              "      <td>0</td>\n",
              "      <td>0</td>\n",
              "      <td>9</td>\n",
              "      <td>...</td>\n",
              "      <td>1.0</td>\n",
              "      <td>131</td>\n",
              "      <td>3</td>\n",
              "      <td>37</td>\n",
              "      <td>0</td>\n",
              "      <td>20</td>\n",
              "      <td>9</td>\n",
              "      <td>-0.894651</td>\n",
              "      <td>1.884111</td>\n",
              "      <td>4.574546</td>\n",
              "    </tr>\n",
              "  </tbody>\n",
              "</table>\n",
              "<p>5 rows × 24 columns</p>\n",
              "</div>\n",
              "      <button class=\"colab-df-convert\" onclick=\"convertToInteractive('df-d2d562fc-550b-4bab-a1e7-0ce0b5293bcd')\"\n",
              "              title=\"Convert this dataframe to an interactive table.\"\n",
              "              style=\"display:none;\">\n",
              "        \n",
              "  <svg xmlns=\"http://www.w3.org/2000/svg\" height=\"24px\"viewBox=\"0 0 24 24\"\n",
              "       width=\"24px\">\n",
              "    <path d=\"M0 0h24v24H0V0z\" fill=\"none\"/>\n",
              "    <path d=\"M18.56 5.44l.94 2.06.94-2.06 2.06-.94-2.06-.94-.94-2.06-.94 2.06-2.06.94zm-11 1L8.5 8.5l.94-2.06 2.06-.94-2.06-.94L8.5 2.5l-.94 2.06-2.06.94zm10 10l.94 2.06.94-2.06 2.06-.94-2.06-.94-.94-2.06-.94 2.06-2.06.94z\"/><path d=\"M17.41 7.96l-1.37-1.37c-.4-.4-.92-.59-1.43-.59-.52 0-1.04.2-1.43.59L10.3 9.45l-7.72 7.72c-.78.78-.78 2.05 0 2.83L4 21.41c.39.39.9.59 1.41.59.51 0 1.02-.2 1.41-.59l7.78-7.78 2.81-2.81c.8-.78.8-2.07 0-2.86zM5.41 20L4 18.59l7.72-7.72 1.47 1.35L5.41 20z\"/>\n",
              "  </svg>\n",
              "      </button>\n",
              "      \n",
              "  <style>\n",
              "    .colab-df-container {\n",
              "      display:flex;\n",
              "      flex-wrap:wrap;\n",
              "      gap: 12px;\n",
              "    }\n",
              "\n",
              "    .colab-df-convert {\n",
              "      background-color: #E8F0FE;\n",
              "      border: none;\n",
              "      border-radius: 50%;\n",
              "      cursor: pointer;\n",
              "      display: none;\n",
              "      fill: #1967D2;\n",
              "      height: 32px;\n",
              "      padding: 0 0 0 0;\n",
              "      width: 32px;\n",
              "    }\n",
              "\n",
              "    .colab-df-convert:hover {\n",
              "      background-color: #E2EBFA;\n",
              "      box-shadow: 0px 1px 2px rgba(60, 64, 67, 0.3), 0px 1px 3px 1px rgba(60, 64, 67, 0.15);\n",
              "      fill: #174EA6;\n",
              "    }\n",
              "\n",
              "    [theme=dark] .colab-df-convert {\n",
              "      background-color: #3B4455;\n",
              "      fill: #D2E3FC;\n",
              "    }\n",
              "\n",
              "    [theme=dark] .colab-df-convert:hover {\n",
              "      background-color: #434B5C;\n",
              "      box-shadow: 0px 1px 3px 1px rgba(0, 0, 0, 0.15);\n",
              "      filter: drop-shadow(0px 1px 2px rgba(0, 0, 0, 0.3));\n",
              "      fill: #FFFFFF;\n",
              "    }\n",
              "  </style>\n",
              "\n",
              "      <script>\n",
              "        const buttonEl =\n",
              "          document.querySelector('#df-d2d562fc-550b-4bab-a1e7-0ce0b5293bcd button.colab-df-convert');\n",
              "        buttonEl.style.display =\n",
              "          google.colab.kernel.accessAllowed ? 'block' : 'none';\n",
              "\n",
              "        async function convertToInteractive(key) {\n",
              "          const element = document.querySelector('#df-d2d562fc-550b-4bab-a1e7-0ce0b5293bcd');\n",
              "          const dataTable =\n",
              "            await google.colab.kernel.invokeFunction('convertToInteractive',\n",
              "                                                     [key], {});\n",
              "          if (!dataTable) return;\n",
              "\n",
              "          const docLinkHtml = 'Like what you see? Visit the ' +\n",
              "            '<a target=\"_blank\" href=https://colab.research.google.com/notebooks/data_table.ipynb>data table notebook</a>'\n",
              "            + ' to learn more about interactive tables.';\n",
              "          element.innerHTML = '';\n",
              "          dataTable['output_type'] = 'display_data';\n",
              "          await google.colab.output.renderOutput(dataTable, element);\n",
              "          const docLink = document.createElement('div');\n",
              "          docLink.innerHTML = docLinkHtml;\n",
              "          element.appendChild(docLink);\n",
              "        }\n",
              "      </script>\n",
              "    </div>\n",
              "  </div>\n",
              "  "
            ]
          },
          "metadata": {},
          "execution_count": 7
        }
      ],
      "source": [
        "x, y = df.iloc[:, 1:-1], df.iloc[:, -1]\n",
        "x.head()"
      ]
    },
    {
      "cell_type": "code",
      "execution_count": 8,
      "metadata": {
        "id": "xVnkLL-rl0yq"
      },
      "outputs": [],
      "source": [
        "x_train, x_test, y_train, y_test = train_test_split(x, y, test_size=0.2, random_state=0)"
      ]
    },
    {
      "cell_type": "code",
      "execution_count": 9,
      "metadata": {
        "id": "3hYh4EFll4Sz"
      },
      "outputs": [],
      "source": [
        "x_train = x_train.values.reshape((x_train.shape[0],x_train.shape[1],1))\n",
        "x_test = x_test.values.reshape((x_test.shape[0], x_test.shape[1],1))"
      ]
    },
    {
      "cell_type": "code",
      "execution_count": 10,
      "metadata": {
        "colab": {
          "base_uri": "https://localhost:8080/"
        },
        "id": "lvvogBnyl5yq",
        "outputId": "69199364-1d9b-4764-bfe0-dda0ce7ee4f8"
      },
      "outputs": [
        {
          "output_type": "stream",
          "name": "stdout",
          "text": [
            "(72252, 24, 1)\n",
            "(72252, 2)\n"
          ]
        }
      ],
      "source": [
        "onehot = OneHotEncoder(sparse=False)\n",
        "y_train = onehot.fit_transform(y_train.values.reshape(len(y_train), 1))\n",
        "y_test = onehot.fit_transform(y_test.values.reshape(len(y_test), 1))\n",
        "\n",
        "print(x_train.shape)\n",
        "print(y_train.shape)"
      ]
    },
    {
      "cell_type": "code",
      "execution_count": 11,
      "metadata": {
        "colab": {
          "base_uri": "https://localhost:8080/"
        },
        "id": "VRMrWPmzl7kb",
        "outputId": "e5f808f2-fdf6-4b7b-c440-ca3d1986b314"
      },
      "outputs": [
        {
          "output_type": "execute_result",
          "data": {
            "text/plain": [
              "(24, 1)"
            ]
          },
          "metadata": {},
          "execution_count": 11
        }
      ],
      "source": [
        "x_train.shape[1:]"
      ]
    },
    {
      "cell_type": "code",
      "execution_count": 12,
      "metadata": {
        "id": "58qU7XzCl-lC"
      },
      "outputs": [],
      "source": [
        "units = 1\n",
        "inp=Input(shape=(x_train.shape[1:]))\n",
        "\n",
        "x = Conv1D(32, 6, padding = \"same\", activation='tanh')(inp)\n",
        "x = BatchNormalization()(x)\n",
        "x = Conv1D(64, kernel_size=6, strides=1, padding='same',activation='relu')(x)\n",
        "x = Conv1D(64, 6, strides=1, padding='same',activation='relu')(x)\n",
        "x = LeakyReLU(alpha=0.33)(x)\n",
        "x = Dropout(0.5)(x)\n",
        "x = BatchNormalization()(x)\n",
        "x = Conv1D(128, kernel_size=6, strides=1, padding='same',activation='relu')(x)\n",
        "x = Conv1D(128, 6, strides=1, padding='same',activation='relu')(x)\n",
        "x = LeakyReLU(alpha=0.33)(x)\n",
        "x = Dropout(0.5)(x)\n",
        "x = BatchNormalization()(x)\n",
        "x = Conv1D(256, kernel_size=6, strides=1, padding='same',activation='relu')(x)\n",
        "x = Conv1D(256, 6, strides=1, padding='same',activation='relu')(x)\n",
        "x = LeakyReLU(alpha=0.33)(x)\n",
        "\n",
        "x = BatchNormalization()(x)\n",
        "x = Conv1D(512, kernel_size=6, strides=1, padding='same',activation='relu')(x)\n",
        "x = Conv1D(512, 6, strides=1, padding='same',activation='relu')(x)\n",
        "x = LeakyReLU(alpha=0.33)(x)\n",
        "x = Dropout(0.5)(x)\n",
        "x = BatchNormalization()(x)\n",
        "\n",
        "\n",
        "x = Dropout(0.5)(x)\n",
        "x = Dense(512,activation='relu',kernel_regularizer=regularizers.l2(0.001))(x)\n",
        "g = Flatten()(x)\n",
        "\n"
      ]
    },
    {
      "cell_type": "code",
      "execution_count": 13,
      "metadata": {
        "id": "hRZVVhQVmRWC"
      },
      "outputs": [],
      "source": [
        "activations = Bidirectional(GRU(units,return_sequences = True,dropout=0.2,recurrent_dropout=0.2))(inp)\n",
        "attention = Dense(1,activation='tanh')(activations)\n",
        "attention = Flatten()(attention)\n",
        "attention = Activation('softmax')(attention)\n",
        "attention = RepeatVector(units*2)(attention)\n",
        "attention = Permute([2,1])(attention)\n",
        "sent_representation = layers.Multiply()( [activations,attention])\n",
        "sent_representation = layers.Lambda(lambda xin: K.sum(xin,axis=-2),output_shape=(units*2,))(sent_representation)\n",
        "\n",
        "\n",
        "# l=Dense(64,activation=\"relu\")(att)\n",
        "# l=Dropout(0.3)(l)\n",
        "l=Dense(128,activation=\"relu\")(activations)\n",
        "l=Dropout(0.3)(l)\n",
        "d = Flatten()(l)\n",
        "\n",
        "\n",
        "g2=concatenate([g,d],axis=1)\n",
        "q=Dense(128)(g2)\n",
        "q=LeakyReLU(alpha=0.33)(q)\n",
        "# q=Dropout(0.5)(q)\n",
        "q=LeakyReLU(alpha=0.33)(q)\n",
        "# q=Dropout(0.5)(q)\n",
        "q=LeakyReLU(alpha=0.33)(q)\n",
        "q=Dropout(0.5)(q)\n",
        "q=Dense(256,activation=\"tanh\")(q)\n",
        "\n",
        "# output = Dense(2, kernel_regularizer=tf.keras.regularizers.l2(0.01),activation='softmax')(q)\n",
        "output = Dense(2, kernel_regularizer=tf.keras.regularizers.l2(0.01),activation='linear')(g)\n",
        "model = Model(inputs=inp,outputs=output)"
      ]
    },
    {
      "cell_type": "code",
      "execution_count": 14,
      "metadata": {
        "colab": {
          "base_uri": "https://localhost:8080/"
        },
        "id": "Ke89qgEjmt-M",
        "outputId": "b20739f9-76a8-40a2-ed27-7bfc3549206d"
      },
      "outputs": [
        {
          "output_type": "stream",
          "name": "stdout",
          "text": [
            "Model: \"model\"\n",
            "_________________________________________________________________\n",
            " Layer (type)                Output Shape              Param #   \n",
            "=================================================================\n",
            " input_1 (InputLayer)        [(None, 24, 1)]           0         \n",
            "                                                                 \n",
            " conv1d (Conv1D)             (None, 24, 32)            224       \n",
            "                                                                 \n",
            " batch_normalization (BatchN  (None, 24, 32)           128       \n",
            " ormalization)                                                   \n",
            "                                                                 \n",
            " conv1d_1 (Conv1D)           (None, 24, 64)            12352     \n",
            "                                                                 \n",
            " conv1d_2 (Conv1D)           (None, 24, 64)            24640     \n",
            "                                                                 \n",
            " leaky_re_lu (LeakyReLU)     (None, 24, 64)            0         \n",
            "                                                                 \n",
            " dropout (Dropout)           (None, 24, 64)            0         \n",
            "                                                                 \n",
            " batch_normalization_1 (Batc  (None, 24, 64)           256       \n",
            " hNormalization)                                                 \n",
            "                                                                 \n",
            " conv1d_3 (Conv1D)           (None, 24, 128)           49280     \n",
            "                                                                 \n",
            " conv1d_4 (Conv1D)           (None, 24, 128)           98432     \n",
            "                                                                 \n",
            " leaky_re_lu_1 (LeakyReLU)   (None, 24, 128)           0         \n",
            "                                                                 \n",
            " dropout_1 (Dropout)         (None, 24, 128)           0         \n",
            "                                                                 \n",
            " batch_normalization_2 (Batc  (None, 24, 128)          512       \n",
            " hNormalization)                                                 \n",
            "                                                                 \n",
            " conv1d_5 (Conv1D)           (None, 24, 256)           196864    \n",
            "                                                                 \n",
            " conv1d_6 (Conv1D)           (None, 24, 256)           393472    \n",
            "                                                                 \n",
            " leaky_re_lu_2 (LeakyReLU)   (None, 24, 256)           0         \n",
            "                                                                 \n",
            " batch_normalization_3 (Batc  (None, 24, 256)          1024      \n",
            " hNormalization)                                                 \n",
            "                                                                 \n",
            " conv1d_7 (Conv1D)           (None, 24, 512)           786944    \n",
            "                                                                 \n",
            " conv1d_8 (Conv1D)           (None, 24, 512)           1573376   \n",
            "                                                                 \n",
            " leaky_re_lu_3 (LeakyReLU)   (None, 24, 512)           0         \n",
            "                                                                 \n",
            " dropout_2 (Dropout)         (None, 24, 512)           0         \n",
            "                                                                 \n",
            " batch_normalization_4 (Batc  (None, 24, 512)          2048      \n",
            " hNormalization)                                                 \n",
            "                                                                 \n",
            " dropout_3 (Dropout)         (None, 24, 512)           0         \n",
            "                                                                 \n",
            " dense (Dense)               (None, 24, 512)           262656    \n",
            "                                                                 \n",
            " flatten (Flatten)           (None, 12288)             0         \n",
            "                                                                 \n",
            " dense_5 (Dense)             (None, 2)                 24578     \n",
            "                                                                 \n",
            "=================================================================\n",
            "Total params: 3,426,786\n",
            "Trainable params: 3,424,802\n",
            "Non-trainable params: 1,984\n",
            "_________________________________________________________________\n"
          ]
        }
      ],
      "source": [
        "model.summary()"
      ]
    },
    {
      "cell_type": "code",
      "execution_count": 15,
      "metadata": {
        "id": "_V4vPUm3mw-C"
      },
      "outputs": [],
      "source": [
        "model.compile(optimizer = tf.keras.optimizers.Adam(0.001),  \n",
        "              loss ='hinge',\n",
        "              metrics = ['accuracy'])"
      ]
    },
    {
      "cell_type": "code",
      "execution_count": 16,
      "metadata": {
        "id": "8C9W_i9wm25C"
      },
      "outputs": [],
      "source": [
        "import os \n",
        "log_dir = os.path.join('logs',datetime.datetime.now().strftime(\"%Y%m%d-%H%M%S\")) \n"
      ]
    },
    {
      "cell_type": "code",
      "execution_count": 17,
      "metadata": {
        "id": "76h-KtFzm9W6"
      },
      "outputs": [],
      "source": [
        "tensorboard_callback = tf.keras.callbacks.TensorBoard(log_dir,histogram_freq=1)"
      ]
    },
    {
      "cell_type": "code",
      "execution_count": 18,
      "metadata": {
        "id": "KFAz42nQm-9S"
      },
      "outputs": [],
      "source": [
        "#Monitor the learning rate, when the val_loss does not drop 3 times, the learning rate is multiplied by 0.5, and the minimum does not exceed min_lr\n",
        "lr_reduce=keras.callbacks.ReduceLROnPlateau('val_loss',patience=3,factor=0.5,min_lr=0.000001)"
      ]
    },
    {
      "cell_type": "code",
      "execution_count": 19,
      "metadata": {
        "colab": {
          "base_uri": "https://localhost:8080/"
        },
        "id": "2JXMje-lnFb7",
        "outputId": "5666058b-ecf5-4c3e-c65d-13b1e2af683f"
      },
      "outputs": [
        {
          "output_type": "stream",
          "name": "stdout",
          "text": [
            "Epoch 1/10\n",
            "4516/4516 [==============================] - 1152s 254ms/step - loss: nan - accuracy: 0.9422 - val_loss: nan - val_accuracy: 0.8445 - lr: 0.0010\n",
            "Epoch 2/10\n",
            "4516/4516 [==============================] - 1207s 267ms/step - loss: nan - accuracy: 0.8418 - val_loss: nan - val_accuracy: 0.8445 - lr: 0.0010\n",
            "Epoch 3/10\n",
            "4516/4516 [==============================] - 1184s 262ms/step - loss: nan - accuracy: 0.8418 - val_loss: nan - val_accuracy: 0.8445 - lr: 0.0010\n",
            "Epoch 4/10\n",
            "4516/4516 [==============================] - 1191s 264ms/step - loss: nan - accuracy: 0.8418 - val_loss: nan - val_accuracy: 0.8445 - lr: 5.0000e-04\n",
            "Epoch 5/10\n",
            "4516/4516 [==============================] - 1156s 256ms/step - loss: nan - accuracy: 0.8418 - val_loss: nan - val_accuracy: 0.8445 - lr: 5.0000e-04\n",
            "Epoch 6/10\n",
            "4516/4516 [==============================] - 1193s 264ms/step - loss: nan - accuracy: 0.8418 - val_loss: nan - val_accuracy: 0.8445 - lr: 5.0000e-04\n",
            "Epoch 7/10\n",
            "4516/4516 [==============================] - 1182s 262ms/step - loss: nan - accuracy: 0.8418 - val_loss: nan - val_accuracy: 0.8445 - lr: 2.5000e-04\n",
            "Epoch 8/10\n",
            "4516/4516 [==============================] - 1180s 261ms/step - loss: nan - accuracy: 0.8418 - val_loss: nan - val_accuracy: 0.8445 - lr: 2.5000e-04\n",
            "Epoch 9/10\n",
            "4516/4516 [==============================] - 1179s 261ms/step - loss: nan - accuracy: 0.8418 - val_loss: nan - val_accuracy: 0.8445 - lr: 2.5000e-04\n",
            "Epoch 10/10\n",
            "4516/4516 [==============================] - 1182s 262ms/step - loss: nan - accuracy: 0.8418 - val_loss: nan - val_accuracy: 0.8445 - lr: 1.2500e-04\n"
          ]
        }
      ],
      "source": [
        "history = model.fit(x_train,\n",
        "                    y_train,\n",
        "                    epochs=10,\n",
        "                    callbacks = [lr_reduce,tensorboard_callback],\n",
        "                    batch_size= 16,\n",
        "                    validation_data = (x_test,y_test),\n",
        "                    shuffle=True)"
      ]
    },
    {
      "cell_type": "code",
      "source": [
        "score = model.evaluate(x_train, y_train, verbose=0)\n",
        "print('train loss:', score[0])\n",
        "print('train accuracy:', score[1])"
      ],
      "metadata": {
        "colab": {
          "base_uri": "https://localhost:8080/"
        },
        "id": "7NG5zlDT5Qy1",
        "outputId": "b33a7150-515f-4f06-bf94-2107adaee384"
      },
      "execution_count": 24,
      "outputs": [
        {
          "output_type": "stream",
          "name": "stdout",
          "text": [
            "train loss: nan\n",
            "train accuracy: 0.8417621850967407\n"
          ]
        }
      ]
    },
    {
      "cell_type": "code",
      "source": [
        "print(model.evaluate(x_test,y_test))"
      ],
      "metadata": {
        "colab": {
          "base_uri": "https://localhost:8080/"
        },
        "id": "1V9alozI5Ubl",
        "outputId": "9e587cfb-3e92-4eb4-c4c8-83132379021a"
      },
      "execution_count": 25,
      "outputs": [
        {
          "output_type": "stream",
          "name": "stdout",
          "text": [
            "565/565 [==============================] - 50s 88ms/step - loss: nan - accuracy: 0.8445\n",
            "[nan, 0.8444887399673462]\n"
          ]
        }
      ]
    },
    {
      "cell_type": "code",
      "source": [
        "import matplotlib.pyplot as plt\n",
        "%matplotlib inline\n",
        "plt.plot(history.epoch, history.history.get('accuracy'),label='accuracy')\n",
        "plt.plot(history.epoch, history.history.get('val_accuracy'),label='val_accuracy')\n",
        "plt.legend()"
      ],
      "metadata": {
        "colab": {
          "base_uri": "https://localhost:8080/",
          "height": 282
        },
        "id": "47X-nGQY5Xx1",
        "outputId": "7caabcc6-e409-4cdb-f656-17d5d302a0af"
      },
      "execution_count": 26,
      "outputs": [
        {
          "output_type": "execute_result",
          "data": {
            "text/plain": [
              "<matplotlib.legend.Legend at 0x7f61a4dc7310>"
            ]
          },
          "metadata": {},
          "execution_count": 26
        },
        {
          "output_type": "display_data",
          "data": {
            "text/plain": [
              "<Figure size 432x288 with 1 Axes>"
            ],
            "image/png": "[encoded data removed]"
          },
          "metadata": {
            "needs_background": "light"
          }
        }
      ]
    },
    {
      "cell_type": "code",
      "source": [
        "plt.plot(history.epoch, history.history.get('loss'),label='loss')\n",
        "plt.plot(history.epoch, history.history.get('val_loss'),label='val_loss')\n",
        "plt.legend()"
      ],
      "metadata": {
        "colab": {
          "base_uri": "https://localhost:8080/",
          "height": 282
        },
        "id": "Lvi-S6WH5Zam",
        "outputId": "e4b80635-b09e-463f-c0cd-7478e85d3f17"
      },
      "execution_count": 27,
      "outputs": [
        {
          "output_type": "execute_result",
          "data": {
            "text/plain": [
              "<matplotlib.legend.Legend at 0x7f61a097f640>"
            ]
          },
          "metadata": {},
          "execution_count": 27
        },
        {
          "output_type": "display_data",
          "data": {
            "text/plain": [
              "<Figure size 432x288 with 1 Axes>"
            ],
            "image/png": "[encoded data removed]"
          },
          "metadata": {
            "needs_background": "light"
          }
        }
      ]
    },
    {
      "cell_type": "code",
      "source": [
        "from sklearn.metrics import classification_report\n",
        "\n",
        "Y_test = np.argmax(y_test, axis=1) # Convert one-hot to index\n",
        "predict = model.predict(x_test)\n",
        "y_pred=np.argmax(predict,axis=1)\n",
        "print(classification_report(Y_test, y_pred))"
      ],
      "metadata": {
        "colab": {
          "base_uri": "https://localhost:8080/"
        },
        "id": "YJ6zkoHv5be-",
        "outputId": "1e5be6e8-d387-415f-adbb-9b9756871216"
      },
      "execution_count": 28,
      "outputs": [
        {
          "output_type": "stream",
          "name": "stdout",
          "text": [
            "565/565 [==============================] - 54s 96ms/step\n",
            "              precision    recall  f1-score   support\n",
            "\n",
            "           0       0.84      1.00      0.92     15254\n",
            "           1       0.00      0.00      0.00      2809\n",
            "\n",
            "    accuracy                           0.84     18063\n",
            "   macro avg       0.42      0.50      0.46     18063\n",
            "weighted avg       0.71      0.84      0.77     18063\n",
            "\n"
          ]
        },
        {
          "output_type": "stream",
          "name": "stderr",
          "text": [
            "/usr/local/lib/python3.8/dist-packages/sklearn/metrics/_classification.py:1318: UndefinedMetricWarning: Precision and F-score are ill-defined and being set to 0.0 in labels with no predicted samples. Use `zero_division` parameter to control this behavior.\n",
            "  _warn_prf(average, modifier, msg_start, len(result))\n",
            "/usr/local/lib/python3.8/dist-packages/sklearn/metrics/_classification.py:1318: UndefinedMetricWarning: Precision and F-score are ill-defined and being set to 0.0 in labels with no predicted samples. Use `zero_division` parameter to control this behavior.\n",
            "  _warn_prf(average, modifier, msg_start, len(result))\n",
            "/usr/local/lib/python3.8/dist-packages/sklearn/metrics/_classification.py:1318: UndefinedMetricWarning: Precision and F-score are ill-defined and being set to 0.0 in labels with no predicted samples. Use `zero_division` parameter to control this behavior.\n",
            "  _warn_prf(average, modifier, msg_start, len(result))\n"
          ]
        }
      ]
    },
    {
      "cell_type": "code",
      "source": [
        "%load_ext tensorboard\n",
        "%matplotlib inline"
      ],
      "metadata": {
        "id": "MX--syQpROTk"
      },
      "execution_count": 20,
      "outputs": []
    },
    {
      "cell_type": "code",
      "source": [
        "y_true = y_test\n",
        "y_pred = model.predict(x_test)\n",
        "y_true = y_true.astype('int')\n",
        "y_pred = y_pred.astype('int')\n",
        "pred = []\n",
        "for i in range(0,y_pred.shape[0]):\n",
        "    a = y_pred[i][0]\n",
        "    pred.append(a)\n",
        "true = []\n",
        "for i in range(0,y_true.shape[0]):\n",
        "    a = y_true[i][0]\n",
        "    true.append(a)\n",
        "    \n",
        "y_pred = []\n",
        "for i in pred:\n",
        "    if i == 1:\n",
        "        y_pred.append(1)\n",
        "    else:\n",
        "        y_pred.append(0)"
      ],
      "metadata": {
        "colab": {
          "base_uri": "https://localhost:8080/"
        },
        "id": "KuAp9I29RUQO",
        "outputId": "2109e1bd-685e-43d3-d305-0a38b5ba8ae2"
      },
      "execution_count": 21,
      "outputs": [
        {
          "output_type": "stream",
          "name": "stdout",
          "text": [
            "565/565 [==============================] - 50s 88ms/step\n"
          ]
        }
      ]
    },
    {
      "cell_type": "code",
      "source": [
        "from sklearn.metrics import precision_score, recall_score, f1_score\n",
        "P = precision_score(true,y_pred,average='binary')\n",
        "R = recall_score(true,y_pred,average='binary')\n",
        "F1 = f1_score(true,y_pred,average='binary')"
      ],
      "metadata": {
        "colab": {
          "base_uri": "https://localhost:8080/"
        },
        "id": "lsRRB78ERYJd",
        "outputId": "092eb0e0-5175-4a89-af97-5129d6a2475c"
      },
      "execution_count": 22,
      "outputs": [
        {
          "output_type": "stream",
          "name": "stderr",
          "text": [
            "/usr/local/lib/python3.8/dist-packages/sklearn/metrics/_classification.py:1318: UndefinedMetricWarning: Precision is ill-defined and being set to 0.0 due to no predicted samples. Use `zero_division` parameter to control this behavior.\n",
            "  _warn_prf(average, modifier, msg_start, len(result))\n"
          ]
        }
      ]
    },
    {
      "cell_type": "code",
      "source": [
        "print('precision : ',P,'\\n','recall :  ',R,'\\n','F1  : ',F1)"
      ],
      "metadata": {
        "colab": {
          "base_uri": "https://localhost:8080/"
        },
        "id": "HYmbvt5ZRag9",
        "outputId": "d58be759-ab21-4e23-bcdc-03090dc6cea7"
      },
      "execution_count": 23,
      "outputs": [
        {
          "output_type": "stream",
          "name": "stdout",
          "text": [
            "precision :  0.0 \n",
            " recall :   0.0 \n",
            " F1  :  0.0\n"
          ]
        }
      ]
    }
  ],
  "metadata": {
    "colab": {
      "provenance": [],
      "authorship_tag": "ABX9TyOLar3QrXX0hPiyfG5nCMVy",
      "include_colab_link": true
    },
    "kernelspec": {
      "display_name": "Python 3",
      "name": "python3"
    },
    "language_info": {
      "name": "python"
    }
  },
  "nbformat": 4,
  "nbformat_minor": 0
}