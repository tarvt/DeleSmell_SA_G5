{
  "nbformat": 4,
  "nbformat_minor": 0,
  "metadata": {
    "colab": {
      "provenance": [],
      "authorship_tag": "ABX9TyPcx8sstI4+mUVmdRWcjwqr",
      "include_colab_link": true
    },
    "kernelspec": {
      "name": "python3",
      "display_name": "Python 3"
    },
    "language_info": {
      "name": "python"
    }
  },
  "cells": [
    {
      "cell_type": "markdown",
      "metadata": {
        "id": "view-in-github",
        "colab_type": "text"
      },
      "source": [
        "<a href=\"https://colab.research.google.com/github/tarvt/DeleSmell_SA_G5/blob/main/delesmell_class.ipynb\" target=\"_parent\"><img src=\"https://colab.research.google.com/assets/colab-badge.svg\" alt=\"Open In Colab\"/></a>"
      ]
    },
    {
      "cell_type": "code",
      "execution_count": 20,
      "metadata": {
        "colab": {
          "base_uri": "https://localhost:8080/"
        },
        "id": "c24UF65KhSMa",
        "outputId": "a86125e4-5ed2-49c1-f521-282e09760e9f"
      },
      "outputs": [
        {
          "output_type": "stream",
          "name": "stdout",
          "text": [
            "Looking in indexes: https://pypi.org/simple, https://us-python.pkg.dev/colab-wheels/public/simple/\n",
            "Requirement already satisfied: keras_self_attention in /usr/local/lib/python3.8/dist-packages (0.51.0)\n",
            "Requirement already satisfied: numpy in /usr/local/lib/python3.8/dist-packages (from keras_self_attention) (1.21.6)\n"
          ]
        }
      ],
      "source": [
        "!pip install keras_self_attention"
      ]
    },
    {
      "cell_type": "code",
      "source": [
        "import numpy as np\n",
        "import pandas as pd\n",
        "import tensorflow as tf\n",
        "from tensorflow import keras\n",
        "from keras import regularizers\n",
        "from keras.layers import Dense,Flatten,Conv1D,MaxPooling1D,Dropout,BatchNormalization\n",
        "from tensorflow.keras import Sequential\n",
        "from tensorflow.keras import Model\n",
        "from keras.layers import GRU\n",
        "from keras import regularizers\n",
        "from keras import initializers\n",
        "from keras_self_attention import SeqSelfAttention, SeqWeightedAttention\n",
        "import tensorflow as tf\n",
        "from tensorflow import keras\n",
        "from tensorflow.keras import layers\n",
        "from sklearn.decomposition import PCA\n",
        "from sklearn.model_selection import train_test_split\n",
        "from sklearn.preprocessing import OneHotEncoder\n",
        "from tensorflow.keras.layers import *\n",
        "from tensorflow.keras.models import *\n",
        "from imblearn.over_sampling import SMOTE\n",
        "import datetime\n",
        "from keras import constraints\n",
        "\n",
        "import keras.backend as K"
      ],
      "metadata": {
        "id": "nXAepOVClDGD"
      },
      "execution_count": 21,
      "outputs": []
    },
    {
      "cell_type": "code",
      "source": [
        "from keras import layers\n",
        "from keras.layers import Input, Add, Dense, Activation, ZeroPadding2D, BatchNormalization, Flatten, Conv2D, AveragePooling2D, MaxPooling2D, GlobalMaxPooling2D\n",
        "from keras.models import Model, load_model\n",
        "from keras.preprocessing import image\n",
        "from keras.utils import layer_utils\n",
        "from keras.utils.data_utils import get_file\n",
        "from keras.applications.imagenet_utils import preprocess_input\n",
        "from keras.utils.vis_utils import model_to_dot\n",
        "from keras.utils import plot_model\n",
        "from keras.initializers import glorot_uniform\n",
        " \n",
        "import pydot\n",
        "from IPython.display import SVG\n",
        "import scipy.misc\n",
        "from matplotlib.pyplot import imshow\n",
        "import keras.backend as K\n",
        "K.set_image_data_format('channels_last')\n",
        "K.set_learning_phase(1)"
      ],
      "metadata": {
        "colab": {
          "base_uri": "https://localhost:8080/"
        },
        "id": "z9_0_BktkZBk",
        "outputId": "a8683010-24a3-4a5b-d1e1-a09f86794303"
      },
      "execution_count": 22,
      "outputs": [
        {
          "output_type": "stream",
          "name": "stderr",
          "text": [
            "/usr/local/lib/python3.8/dist-packages/keras/backend.py:450: UserWarning: `tf.keras.backend.set_learning_phase` is deprecated and will be removed after 2020-10-11. To update it, simply pass a True/False value to the `training` argument of the `__call__` method of your layer or model.\n",
            "  warnings.warn('`tf.keras.backend.set_learning_phase` is deprecated and '\n"
          ]
        }
      ]
    },
    {
      "cell_type": "code",
      "source": [
        "keras.__version__"
      ],
      "metadata": {
        "colab": {
          "base_uri": "https://localhost:8080/",
          "height": 35
        },
        "id": "BlLqJpDzlP3r",
        "outputId": "c90d20ed-e5e0-4c28-cff9-9a2756380dce"
      },
      "execution_count": 23,
      "outputs": [
        {
          "output_type": "execute_result",
          "data": {
            "text/plain": [
              "'2.9.0'"
            ],
            "application/vnd.google.colaboratory.intrinsic+json": {
              "type": "string"
            }
          },
          "metadata": {},
          "execution_count": 23
        }
      ]
    },
    {
      "cell_type": "code",
      "source": [
        "from google.colab import drive\n",
        "drive.mount('/content/drive')"
      ],
      "metadata": {
        "colab": {
          "base_uri": "https://localhost:8080/"
        },
        "id": "PVzxpXwjlSMb",
        "outputId": "69a72464-9ca3-4acf-9c2f-7d19eecbdbc7"
      },
      "execution_count": 24,
      "outputs": [
        {
          "output_type": "stream",
          "name": "stdout",
          "text": [
            "Drive already mounted at /content/drive; to attempt to forcibly remount, call drive.mount(\"/content/drive\", force_remount=True).\n"
          ]
        }
      ]
    },
    {
      "cell_type": "code",
      "source": [
        "dataset_path = '/content/drive/MyDrive/delesmell/METHOD_01.csv'\n",
        "df = pd.read_csv(dataset_path)\n",
        "df.head()"
      ],
      "metadata": {
        "colab": {
          "base_uri": "https://localhost:8080/",
          "height": 235
        },
        "id": "jYpklNuKlu6C",
        "outputId": "b31eb7d2-419c-4e49-9523-c25f18e82957"
      },
      "execution_count": 25,
      "outputs": [
        {
          "output_type": "execute_result",
          "data": {
            "text/plain": [
              "                 NAME  ALD  ATFD  CALIN  CC  CCL  CDISP  CEXT  CINT  CM  ...  \\\n",
              "0  tagDefineTextField    1     0      0   0    2   0.00     0     0   0  ...   \n",
              "1      tagDefineFont2    1     0      1   0    2   0.00     0     0   0  ...   \n",
              "2      classifyStream    0     0     32   0    3   0.00     0     0   0  ...   \n",
              "3      classifyStream    0     0     17   0    3   0.17     1     6   0  ...   \n",
              "4            generate    0     0     22   0    3   0.00     0     0   0  ...   \n",
              "\n",
              "   LOC  MAXNESTING  NOAV  NOEU  NOLV  NOP  word2vec  word2vec2  word2vec3  \\\n",
              "0    5           1     2     0     0   14  0.766091   0.295311  -0.482078   \n",
              "1    6           1     3     0     0   13  0.350905   0.692511   0.782078   \n",
              "2  118           3    34     0    27   11 -0.064280   1.089711   2.046234   \n",
              "3   76           3    16     0    13   10 -0.479466   1.486911   3.310390   \n",
              "4  131           3    37     0    20    9 -0.894651   1.884111   4.574546   \n",
              "\n",
              "   is_brain  \n",
              "0     False  \n",
              "1     False  \n",
              "2     False  \n",
              "3     False  \n",
              "4     False  \n",
              "\n",
              "[5 rows x 26 columns]"
            ],
            "text/html": [
              "\n",
              "  <div id=\"df-93a21f90-5580-477f-97c0-c01232279064\">\n",
              "    <div class=\"colab-df-container\">\n",
              "      <div>\n",
              "<style scoped>\n",
              "    .dataframe tbody tr th:only-of-type {\n",
              "        vertical-align: middle;\n",
              "    }\n",
              "\n",
              "    .dataframe tbody tr th {\n",
              "        vertical-align: top;\n",
              "    }\n",
              "\n",
              "    .dataframe thead th {\n",
              "        text-align: right;\n",
              "    }\n",
              "</style>\n",
              "<table border=\"1\" class=\"dataframe\">\n",
              "  <thead>\n",
              "    <tr style=\"text-align: right;\">\n",
              "      <th></th>\n",
              "      <th>NAME</th>\n",
              "      <th>ALD</th>\n",
              "      <th>ATFD</th>\n",
              "      <th>CALIN</th>\n",
              "      <th>CC</th>\n",
              "      <th>CCL</th>\n",
              "      <th>CDISP</th>\n",
              "      <th>CEXT</th>\n",
              "      <th>CINT</th>\n",
              "      <th>CM</th>\n",
              "      <th>...</th>\n",
              "      <th>LOC</th>\n",
              "      <th>MAXNESTING</th>\n",
              "      <th>NOAV</th>\n",
              "      <th>NOEU</th>\n",
              "      <th>NOLV</th>\n",
              "      <th>NOP</th>\n",
              "      <th>word2vec</th>\n",
              "      <th>word2vec2</th>\n",
              "      <th>word2vec3</th>\n",
              "      <th>is_brain</th>\n",
              "    </tr>\n",
              "  </thead>\n",
              "  <tbody>\n",
              "    <tr>\n",
              "      <th>0</th>\n",
              "      <td>tagDefineTextField</td>\n",
              "      <td>1</td>\n",
              "      <td>0</td>\n",
              "      <td>0</td>\n",
              "      <td>0</td>\n",
              "      <td>2</td>\n",
              "      <td>0.00</td>\n",
              "      <td>0</td>\n",
              "      <td>0</td>\n",
              "      <td>0</td>\n",
              "      <td>...</td>\n",
              "      <td>5</td>\n",
              "      <td>1</td>\n",
              "      <td>2</td>\n",
              "      <td>0</td>\n",
              "      <td>0</td>\n",
              "      <td>14</td>\n",
              "      <td>0.766091</td>\n",
              "      <td>0.295311</td>\n",
              "      <td>-0.482078</td>\n",
              "      <td>False</td>\n",
              "    </tr>\n",
              "    <tr>\n",
              "      <th>1</th>\n",
              "      <td>tagDefineFont2</td>\n",
              "      <td>1</td>\n",
              "      <td>0</td>\n",
              "      <td>1</td>\n",
              "      <td>0</td>\n",
              "      <td>2</td>\n",
              "      <td>0.00</td>\n",
              "      <td>0</td>\n",
              "      <td>0</td>\n",
              "      <td>0</td>\n",
              "      <td>...</td>\n",
              "      <td>6</td>\n",
              "      <td>1</td>\n",
              "      <td>3</td>\n",
              "      <td>0</td>\n",
              "      <td>0</td>\n",
              "      <td>13</td>\n",
              "      <td>0.350905</td>\n",
              "      <td>0.692511</td>\n",
              "      <td>0.782078</td>\n",
              "      <td>False</td>\n",
              "    </tr>\n",
              "    <tr>\n",
              "      <th>2</th>\n",
              "      <td>classifyStream</td>\n",
              "      <td>0</td>\n",
              "      <td>0</td>\n",
              "      <td>32</td>\n",
              "      <td>0</td>\n",
              "      <td>3</td>\n",
              "      <td>0.00</td>\n",
              "      <td>0</td>\n",
              "      <td>0</td>\n",
              "      <td>0</td>\n",
              "      <td>...</td>\n",
              "      <td>118</td>\n",
              "      <td>3</td>\n",
              "      <td>34</td>\n",
              "      <td>0</td>\n",
              "      <td>27</td>\n",
              "      <td>11</td>\n",
              "      <td>-0.064280</td>\n",
              "      <td>1.089711</td>\n",
              "      <td>2.046234</td>\n",
              "      <td>False</td>\n",
              "    </tr>\n",
              "    <tr>\n",
              "      <th>3</th>\n",
              "      <td>classifyStream</td>\n",
              "      <td>0</td>\n",
              "      <td>0</td>\n",
              "      <td>17</td>\n",
              "      <td>0</td>\n",
              "      <td>3</td>\n",
              "      <td>0.17</td>\n",
              "      <td>1</td>\n",
              "      <td>6</td>\n",
              "      <td>0</td>\n",
              "      <td>...</td>\n",
              "      <td>76</td>\n",
              "      <td>3</td>\n",
              "      <td>16</td>\n",
              "      <td>0</td>\n",
              "      <td>13</td>\n",
              "      <td>10</td>\n",
              "      <td>-0.479466</td>\n",
              "      <td>1.486911</td>\n",
              "      <td>3.310390</td>\n",
              "      <td>False</td>\n",
              "    </tr>\n",
              "    <tr>\n",
              "      <th>4</th>\n",
              "      <td>generate</td>\n",
              "      <td>0</td>\n",
              "      <td>0</td>\n",
              "      <td>22</td>\n",
              "      <td>0</td>\n",
              "      <td>3</td>\n",
              "      <td>0.00</td>\n",
              "      <td>0</td>\n",
              "      <td>0</td>\n",
              "      <td>0</td>\n",
              "      <td>...</td>\n",
              "      <td>131</td>\n",
              "      <td>3</td>\n",
              "      <td>37</td>\n",
              "      <td>0</td>\n",
              "      <td>20</td>\n",
              "      <td>9</td>\n",
              "      <td>-0.894651</td>\n",
              "      <td>1.884111</td>\n",
              "      <td>4.574546</td>\n",
              "      <td>False</td>\n",
              "    </tr>\n",
              "  </tbody>\n",
              "</table>\n",
              "<p>5 rows × 26 columns</p>\n",
              "</div>\n",
              "      <button class=\"colab-df-convert\" onclick=\"convertToInteractive('df-93a21f90-5580-477f-97c0-c01232279064')\"\n",
              "              title=\"Convert this dataframe to an interactive table.\"\n",
              "              style=\"display:none;\">\n",
              "        \n",
              "  <svg xmlns=\"http://www.w3.org/2000/svg\" height=\"24px\"viewBox=\"0 0 24 24\"\n",
              "       width=\"24px\">\n",
              "    <path d=\"M0 0h24v24H0V0z\" fill=\"none\"/>\n",
              "    <path d=\"M18.56 5.44l.94 2.06.94-2.06 2.06-.94-2.06-.94-.94-2.06-.94 2.06-2.06.94zm-11 1L8.5 8.5l.94-2.06 2.06-.94-2.06-.94L8.5 2.5l-.94 2.06-2.06.94zm10 10l.94 2.06.94-2.06 2.06-.94-2.06-.94-.94-2.06-.94 2.06-2.06.94z\"/><path d=\"M17.41 7.96l-1.37-1.37c-.4-.4-.92-.59-1.43-.59-.52 0-1.04.2-1.43.59L10.3 9.45l-7.72 7.72c-.78.78-.78 2.05 0 2.83L4 21.41c.39.39.9.59 1.41.59.51 0 1.02-.2 1.41-.59l7.78-7.78 2.81-2.81c.8-.78.8-2.07 0-2.86zM5.41 20L4 18.59l7.72-7.72 1.47 1.35L5.41 20z\"/>\n",
              "  </svg>\n",
              "      </button>\n",
              "      \n",
              "  <style>\n",
              "    .colab-df-container {\n",
              "      display:flex;\n",
              "      flex-wrap:wrap;\n",
              "      gap: 12px;\n",
              "    }\n",
              "\n",
              "    .colab-df-convert {\n",
              "      background-color: #E8F0FE;\n",
              "      border: none;\n",
              "      border-radius: 50%;\n",
              "      cursor: pointer;\n",
              "      display: none;\n",
              "      fill: #1967D2;\n",
              "      height: 32px;\n",
              "      padding: 0 0 0 0;\n",
              "      width: 32px;\n",
              "    }\n",
              "\n",
              "    .colab-df-convert:hover {\n",
              "      background-color: #E2EBFA;\n",
              "      box-shadow: 0px 1px 2px rgba(60, 64, 67, 0.3), 0px 1px 3px 1px rgba(60, 64, 67, 0.15);\n",
              "      fill: #174EA6;\n",
              "    }\n",
              "\n",
              "    [theme=dark] .colab-df-convert {\n",
              "      background-color: #3B4455;\n",
              "      fill: #D2E3FC;\n",
              "    }\n",
              "\n",
              "    [theme=dark] .colab-df-convert:hover {\n",
              "      background-color: #434B5C;\n",
              "      box-shadow: 0px 1px 3px 1px rgba(0, 0, 0, 0.15);\n",
              "      filter: drop-shadow(0px 1px 2px rgba(0, 0, 0, 0.3));\n",
              "      fill: #FFFFFF;\n",
              "    }\n",
              "  </style>\n",
              "\n",
              "      <script>\n",
              "        const buttonEl =\n",
              "          document.querySelector('#df-93a21f90-5580-477f-97c0-c01232279064 button.colab-df-convert');\n",
              "        buttonEl.style.display =\n",
              "          google.colab.kernel.accessAllowed ? 'block' : 'none';\n",
              "\n",
              "        async function convertToInteractive(key) {\n",
              "          const element = document.querySelector('#df-93a21f90-5580-477f-97c0-c01232279064');\n",
              "          const dataTable =\n",
              "            await google.colab.kernel.invokeFunction('convertToInteractive',\n",
              "                                                     [key], {});\n",
              "          if (!dataTable) return;\n",
              "\n",
              "          const docLinkHtml = 'Like what you see? Visit the ' +\n",
              "            '<a target=\"_blank\" href=https://colab.research.google.com/notebooks/data_table.ipynb>data table notebook</a>'\n",
              "            + ' to learn more about interactive tables.';\n",
              "          element.innerHTML = '';\n",
              "          dataTable['output_type'] = 'display_data';\n",
              "          await google.colab.output.renderOutput(dataTable, element);\n",
              "          const docLink = document.createElement('div');\n",
              "          docLink.innerHTML = docLinkHtml;\n",
              "          element.appendChild(docLink);\n",
              "        }\n",
              "      </script>\n",
              "    </div>\n",
              "  </div>\n",
              "  "
            ]
          },
          "metadata": {},
          "execution_count": 25
        }
      ]
    },
    {
      "cell_type": "code",
      "source": [
        "x, y = df.iloc[:, 1:-1], df.iloc[:, -1]\n",
        "x.head()"
      ],
      "metadata": {
        "colab": {
          "base_uri": "https://localhost:8080/",
          "height": 235
        },
        "id": "72rc10G5lxFS",
        "outputId": "0e6b2c2f-f8e2-41f9-c8c3-548d822a183b"
      },
      "execution_count": 26,
      "outputs": [
        {
          "output_type": "execute_result",
          "data": {
            "text/plain": [
              "   ALD  ATFD  CALIN  CC  CCL  CDISP  CEXT  CINT  CM  CYCLO  ...  LAA  LOC  \\\n",
              "0    1     0      0   0    2   0.00     0     0   0      2  ...  1.0    5   \n",
              "1    1     0      1   0    2   0.00     0     0   0      2  ...  1.0    6   \n",
              "2    0     0     32   0    3   0.00     0     0   0     16  ...  1.0  118   \n",
              "3    0     0     17   0    3   0.17     1     6   0     17  ...  1.0   76   \n",
              "4    0     0     22   0    3   0.00     0     0   0      9  ...  1.0  131   \n",
              "\n",
              "   MAXNESTING  NOAV  NOEU  NOLV  NOP  word2vec  word2vec2  word2vec3  \n",
              "0           1     2     0     0   14  0.766091   0.295311  -0.482078  \n",
              "1           1     3     0     0   13  0.350905   0.692511   0.782078  \n",
              "2           3    34     0    27   11 -0.064280   1.089711   2.046234  \n",
              "3           3    16     0    13   10 -0.479466   1.486911   3.310390  \n",
              "4           3    37     0    20    9 -0.894651   1.884111   4.574546  \n",
              "\n",
              "[5 rows x 24 columns]"
            ],
            "text/html": [
              "\n",
              "  <div id=\"df-25295122-f2ac-4cd0-8516-6cc8eed4fe74\">\n",
              "    <div class=\"colab-df-container\">\n",
              "      <div>\n",
              "<style scoped>\n",
              "    .dataframe tbody tr th:only-of-type {\n",
              "        vertical-align: middle;\n",
              "    }\n",
              "\n",
              "    .dataframe tbody tr th {\n",
              "        vertical-align: top;\n",
              "    }\n",
              "\n",
              "    .dataframe thead th {\n",
              "        text-align: right;\n",
              "    }\n",
              "</style>\n",
              "<table border=\"1\" class=\"dataframe\">\n",
              "  <thead>\n",
              "    <tr style=\"text-align: right;\">\n",
              "      <th></th>\n",
              "      <th>ALD</th>\n",
              "      <th>ATFD</th>\n",
              "      <th>CALIN</th>\n",
              "      <th>CC</th>\n",
              "      <th>CCL</th>\n",
              "      <th>CDISP</th>\n",
              "      <th>CEXT</th>\n",
              "      <th>CINT</th>\n",
              "      <th>CM</th>\n",
              "      <th>CYCLO</th>\n",
              "      <th>...</th>\n",
              "      <th>LAA</th>\n",
              "      <th>LOC</th>\n",
              "      <th>MAXNESTING</th>\n",
              "      <th>NOAV</th>\n",
              "      <th>NOEU</th>\n",
              "      <th>NOLV</th>\n",
              "      <th>NOP</th>\n",
              "      <th>word2vec</th>\n",
              "      <th>word2vec2</th>\n",
              "      <th>word2vec3</th>\n",
              "    </tr>\n",
              "  </thead>\n",
              "  <tbody>\n",
              "    <tr>\n",
              "      <th>0</th>\n",
              "      <td>1</td>\n",
              "      <td>0</td>\n",
              "      <td>0</td>\n",
              "      <td>0</td>\n",
              "      <td>2</td>\n",
              "      <td>0.00</td>\n",
              "      <td>0</td>\n",
              "      <td>0</td>\n",
              "      <td>0</td>\n",
              "      <td>2</td>\n",
              "      <td>...</td>\n",
              "      <td>1.0</td>\n",
              "      <td>5</td>\n",
              "      <td>1</td>\n",
              "      <td>2</td>\n",
              "      <td>0</td>\n",
              "      <td>0</td>\n",
              "      <td>14</td>\n",
              "      <td>0.766091</td>\n",
              "      <td>0.295311</td>\n",
              "      <td>-0.482078</td>\n",
              "    </tr>\n",
              "    <tr>\n",
              "      <th>1</th>\n",
              "      <td>1</td>\n",
              "      <td>0</td>\n",
              "      <td>1</td>\n",
              "      <td>0</td>\n",
              "      <td>2</td>\n",
              "      <td>0.00</td>\n",
              "      <td>0</td>\n",
              "      <td>0</td>\n",
              "      <td>0</td>\n",
              "      <td>2</td>\n",
              "      <td>...</td>\n",
              "      <td>1.0</td>\n",
              "      <td>6</td>\n",
              "      <td>1</td>\n",
              "      <td>3</td>\n",
              "      <td>0</td>\n",
              "      <td>0</td>\n",
              "      <td>13</td>\n",
              "      <td>0.350905</td>\n",
              "      <td>0.692511</td>\n",
              "      <td>0.782078</td>\n",
              "    </tr>\n",
              "    <tr>\n",
              "      <th>2</th>\n",
              "      <td>0</td>\n",
              "      <td>0</td>\n",
              "      <td>32</td>\n",
              "      <td>0</td>\n",
              "      <td>3</td>\n",
              "      <td>0.00</td>\n",
              "      <td>0</td>\n",
              "      <td>0</td>\n",
              "      <td>0</td>\n",
              "      <td>16</td>\n",
              "      <td>...</td>\n",
              "      <td>1.0</td>\n",
              "      <td>118</td>\n",
              "      <td>3</td>\n",
              "      <td>34</td>\n",
              "      <td>0</td>\n",
              "      <td>27</td>\n",
              "      <td>11</td>\n",
              "      <td>-0.064280</td>\n",
              "      <td>1.089711</td>\n",
              "      <td>2.046234</td>\n",
              "    </tr>\n",
              "    <tr>\n",
              "      <th>3</th>\n",
              "      <td>0</td>\n",
              "      <td>0</td>\n",
              "      <td>17</td>\n",
              "      <td>0</td>\n",
              "      <td>3</td>\n",
              "      <td>0.17</td>\n",
              "      <td>1</td>\n",
              "      <td>6</td>\n",
              "      <td>0</td>\n",
              "      <td>17</td>\n",
              "      <td>...</td>\n",
              "      <td>1.0</td>\n",
              "      <td>76</td>\n",
              "      <td>3</td>\n",
              "      <td>16</td>\n",
              "      <td>0</td>\n",
              "      <td>13</td>\n",
              "      <td>10</td>\n",
              "      <td>-0.479466</td>\n",
              "      <td>1.486911</td>\n",
              "      <td>3.310390</td>\n",
              "    </tr>\n",
              "    <tr>\n",
              "      <th>4</th>\n",
              "      <td>0</td>\n",
              "      <td>0</td>\n",
              "      <td>22</td>\n",
              "      <td>0</td>\n",
              "      <td>3</td>\n",
              "      <td>0.00</td>\n",
              "      <td>0</td>\n",
              "      <td>0</td>\n",
              "      <td>0</td>\n",
              "      <td>9</td>\n",
              "      <td>...</td>\n",
              "      <td>1.0</td>\n",
              "      <td>131</td>\n",
              "      <td>3</td>\n",
              "      <td>37</td>\n",
              "      <td>0</td>\n",
              "      <td>20</td>\n",
              "      <td>9</td>\n",
              "      <td>-0.894651</td>\n",
              "      <td>1.884111</td>\n",
              "      <td>4.574546</td>\n",
              "    </tr>\n",
              "  </tbody>\n",
              "</table>\n",
              "<p>5 rows × 24 columns</p>\n",
              "</div>\n",
              "      <button class=\"colab-df-convert\" onclick=\"convertToInteractive('df-25295122-f2ac-4cd0-8516-6cc8eed4fe74')\"\n",
              "              title=\"Convert this dataframe to an interactive table.\"\n",
              "              style=\"display:none;\">\n",
              "        \n",
              "  <svg xmlns=\"http://www.w3.org/2000/svg\" height=\"24px\"viewBox=\"0 0 24 24\"\n",
              "       width=\"24px\">\n",
              "    <path d=\"M0 0h24v24H0V0z\" fill=\"none\"/>\n",
              "    <path d=\"M18.56 5.44l.94 2.06.94-2.06 2.06-.94-2.06-.94-.94-2.06-.94 2.06-2.06.94zm-11 1L8.5 8.5l.94-2.06 2.06-.94-2.06-.94L8.5 2.5l-.94 2.06-2.06.94zm10 10l.94 2.06.94-2.06 2.06-.94-2.06-.94-.94-2.06-.94 2.06-2.06.94z\"/><path d=\"M17.41 7.96l-1.37-1.37c-.4-.4-.92-.59-1.43-.59-.52 0-1.04.2-1.43.59L10.3 9.45l-7.72 7.72c-.78.78-.78 2.05 0 2.83L4 21.41c.39.39.9.59 1.41.59.51 0 1.02-.2 1.41-.59l7.78-7.78 2.81-2.81c.8-.78.8-2.07 0-2.86zM5.41 20L4 18.59l7.72-7.72 1.47 1.35L5.41 20z\"/>\n",
              "  </svg>\n",
              "      </button>\n",
              "      \n",
              "  <style>\n",
              "    .colab-df-container {\n",
              "      display:flex;\n",
              "      flex-wrap:wrap;\n",
              "      gap: 12px;\n",
              "    }\n",
              "\n",
              "    .colab-df-convert {\n",
              "      background-color: #E8F0FE;\n",
              "      border: none;\n",
              "      border-radius: 50%;\n",
              "      cursor: pointer;\n",
              "      display: none;\n",
              "      fill: #1967D2;\n",
              "      height: 32px;\n",
              "      padding: 0 0 0 0;\n",
              "      width: 32px;\n",
              "    }\n",
              "\n",
              "    .colab-df-convert:hover {\n",
              "      background-color: #E2EBFA;\n",
              "      box-shadow: 0px 1px 2px rgba(60, 64, 67, 0.3), 0px 1px 3px 1px rgba(60, 64, 67, 0.15);\n",
              "      fill: #174EA6;\n",
              "    }\n",
              "\n",
              "    [theme=dark] .colab-df-convert {\n",
              "      background-color: #3B4455;\n",
              "      fill: #D2E3FC;\n",
              "    }\n",
              "\n",
              "    [theme=dark] .colab-df-convert:hover {\n",
              "      background-color: #434B5C;\n",
              "      box-shadow: 0px 1px 3px 1px rgba(0, 0, 0, 0.15);\n",
              "      filter: drop-shadow(0px 1px 2px rgba(0, 0, 0, 0.3));\n",
              "      fill: #FFFFFF;\n",
              "    }\n",
              "  </style>\n",
              "\n",
              "      <script>\n",
              "        const buttonEl =\n",
              "          document.querySelector('#df-25295122-f2ac-4cd0-8516-6cc8eed4fe74 button.colab-df-convert');\n",
              "        buttonEl.style.display =\n",
              "          google.colab.kernel.accessAllowed ? 'block' : 'none';\n",
              "\n",
              "        async function convertToInteractive(key) {\n",
              "          const element = document.querySelector('#df-25295122-f2ac-4cd0-8516-6cc8eed4fe74');\n",
              "          const dataTable =\n",
              "            await google.colab.kernel.invokeFunction('convertToInteractive',\n",
              "                                                     [key], {});\n",
              "          if (!dataTable) return;\n",
              "\n",
              "          const docLinkHtml = 'Like what you see? Visit the ' +\n",
              "            '<a target=\"_blank\" href=https://colab.research.google.com/notebooks/data_table.ipynb>data table notebook</a>'\n",
              "            + ' to learn more about interactive tables.';\n",
              "          element.innerHTML = '';\n",
              "          dataTable['output_type'] = 'display_data';\n",
              "          await google.colab.output.renderOutput(dataTable, element);\n",
              "          const docLink = document.createElement('div');\n",
              "          docLink.innerHTML = docLinkHtml;\n",
              "          element.appendChild(docLink);\n",
              "        }\n",
              "      </script>\n",
              "    </div>\n",
              "  </div>\n",
              "  "
            ]
          },
          "metadata": {},
          "execution_count": 26
        }
      ]
    },
    {
      "cell_type": "code",
      "source": [
        "x_train, x_test, y_train, y_test = train_test_split(x, y, test_size=0.2, random_state=0)"
      ],
      "metadata": {
        "id": "xVnkLL-rl0yq"
      },
      "execution_count": 27,
      "outputs": []
    },
    {
      "cell_type": "code",
      "source": [
        "x_train = x_train.values.reshape((x_train.shape[0],x_train.shape[1],1))\n",
        "x_test = x_test.values.reshape((x_test.shape[0], x_test.shape[1],1))"
      ],
      "metadata": {
        "id": "3hYh4EFll4Sz"
      },
      "execution_count": 28,
      "outputs": []
    },
    {
      "cell_type": "code",
      "source": [
        "onehot = OneHotEncoder(sparse=False)\n",
        "y_train = onehot.fit_transform(y_train.values.reshape(len(y_train), 1))\n",
        "y_test = onehot.fit_transform(y_test.values.reshape(len(y_test), 1))\n",
        "\n",
        "print(x_train.shape)\n",
        "print(y_train.shape)"
      ],
      "metadata": {
        "colab": {
          "base_uri": "https://localhost:8080/"
        },
        "id": "lvvogBnyl5yq",
        "outputId": "ea2674b4-1c32-4cfb-b696-8e355f6a4e7f"
      },
      "execution_count": 29,
      "outputs": [
        {
          "output_type": "stream",
          "name": "stdout",
          "text": [
            "(72252, 24, 1)\n",
            "(72252, 2)\n"
          ]
        }
      ]
    },
    {
      "cell_type": "code",
      "source": [
        "x_train.shape[1:]"
      ],
      "metadata": {
        "colab": {
          "base_uri": "https://localhost:8080/"
        },
        "id": "VRMrWPmzl7kb",
        "outputId": "2b7507de-574c-404c-bf8a-3f5db600bb5a"
      },
      "execution_count": 30,
      "outputs": [
        {
          "output_type": "execute_result",
          "data": {
            "text/plain": [
              "(24, 1)"
            ]
          },
          "metadata": {},
          "execution_count": 30
        }
      ]
    },
    {
      "cell_type": "code",
      "source": [
        "units = 1\n",
        "inp=Input(shape=(x_train.shape[1:]))\n",
        "\n",
        "x = Conv1D(32, 6, padding = \"same\", activation='tanh')(inp)\n",
        "x = BatchNormalization()(x)\n",
        "x = Conv1D(64, kernel_size=6, strides=1, padding='same',activation='relu')(x)\n",
        "x = Conv1D(64, 6, strides=1, padding='same',activation='relu')(x)\n",
        "x = LeakyReLU(alpha=0.33)(x)\n",
        "x = Dropout(0.5)(x)\n",
        "x = BatchNormalization()(x)\n",
        "x = Conv1D(128, kernel_size=6, strides=1, padding='same',activation='relu')(x)\n",
        "x = Conv1D(128, 6, strides=1, padding='same',activation='relu')(x)\n",
        "x = LeakyReLU(alpha=0.33)(x)\n",
        "x = Dropout(0.5)(x)\n",
        "x = BatchNormalization()(x)\n",
        "x = Conv1D(256, kernel_size=6, strides=1, padding='same',activation='relu')(x)\n",
        "x = Conv1D(256, 6, strides=1, padding='same',activation='relu')(x)\n",
        "x = LeakyReLU(alpha=0.33)(x)\n",
        "\n",
        "x = BatchNormalization()(x)\n",
        "x = Conv1D(512, kernel_size=6, strides=1, padding='same',activation='relu')(x)\n",
        "x = Conv1D(512, 6, strides=1, padding='same',activation='relu')(x)\n",
        "x = LeakyReLU(alpha=0.33)(x)\n",
        "x = Dropout(0.5)(x)\n",
        "x = BatchNormalization()(x)\n",
        "\n",
        "\n",
        "x = Dropout(0.5)(x)\n",
        "x = Dense(512,activation='relu',kernel_regularizer=regularizers.l2(0.001))(x)\n",
        "g = Flatten()(x)\n",
        "\n"
      ],
      "metadata": {
        "id": "58qU7XzCl-lC"
      },
      "execution_count": 31,
      "outputs": []
    },
    {
      "cell_type": "code",
      "source": [
        "activations = Bidirectional(GRU(units,return_sequences = True,dropout=0.2,recurrent_dropout=0.2))(inp)\n",
        "attention = Dense(1,activation='tanh')(activations)\n",
        "attention = Flatten()(attention)\n",
        "attention = Activation('softmax')(attention)\n",
        "attention = RepeatVector(units*2)(attention)\n",
        "attention = Permute([2,1])(attention)\n",
        "sent_representation = layers.Multiply()( [activations,attention])\n",
        "sent_representation = layers.Lambda(lambda xin: K.sum(xin,axis=-2),output_shape=(units*2,))(sent_representation)\n",
        "\n",
        "\n",
        "# l=Dense(64,activation=\"relu\")(att)\n",
        "# l=Dropout(0.3)(l)\n",
        "l=Dense(128,activation=\"relu\")(activations)\n",
        "l=Dropout(0.3)(l)\n",
        "d = Flatten()(l)\n",
        "\n",
        "\n",
        "g2=concatenate([g,d],axis=1)\n",
        "q=Dense(128)(g2)\n",
        "q=LeakyReLU(alpha=0.33)(q)\n",
        "# q=Dropout(0.5)(q)\n",
        "q=LeakyReLU(alpha=0.33)(q)\n",
        "# q=Dropout(0.5)(q)\n",
        "q=LeakyReLU(alpha=0.33)(q)\n",
        "q=Dropout(0.5)(q)\n",
        "q=Dense(256,activation=\"tanh\")(q)\n",
        "\n",
        "# output = Dense(2, kernel_regularizer=tf.keras.regularizers.l2(0.01),activation='softmax')(q)\n",
        "output = Dense(2, kernel_regularizer=tf.keras.regularizers.l2(0.01),activation='linear')(g)\n",
        "model = Model(inputs=inp,outputs=output)"
      ],
      "metadata": {
        "id": "hRZVVhQVmRWC"
      },
      "execution_count": 32,
      "outputs": []
    },
    {
      "cell_type": "code",
      "source": [
        "model.summary()"
      ],
      "metadata": {
        "colab": {
          "base_uri": "https://localhost:8080/"
        },
        "id": "Ke89qgEjmt-M",
        "outputId": "63568c05-cf28-42b1-e980-7d8bbc3ae259"
      },
      "execution_count": 33,
      "outputs": [
        {
          "output_type": "stream",
          "name": "stdout",
          "text": [
            "Model: \"model_1\"\n",
            "_________________________________________________________________\n",
            " Layer (type)                Output Shape              Param #   \n",
            "=================================================================\n",
            " input_2 (InputLayer)        [(None, 24, 1)]           0         \n",
            "                                                                 \n",
            " conv1d_9 (Conv1D)           (None, 24, 32)            224       \n",
            "                                                                 \n",
            " batch_normalization_5 (Batc  (None, 24, 32)           128       \n",
            " hNormalization)                                                 \n",
            "                                                                 \n",
            " conv1d_10 (Conv1D)          (None, 24, 64)            12352     \n",
            "                                                                 \n",
            " conv1d_11 (Conv1D)          (None, 24, 64)            24640     \n",
            "                                                                 \n",
            " leaky_re_lu_7 (LeakyReLU)   (None, 24, 64)            0         \n",
            "                                                                 \n",
            " dropout_6 (Dropout)         (None, 24, 64)            0         \n",
            "                                                                 \n",
            " batch_normalization_6 (Batc  (None, 24, 64)           256       \n",
            " hNormalization)                                                 \n",
            "                                                                 \n",
            " conv1d_12 (Conv1D)          (None, 24, 128)           49280     \n",
            "                                                                 \n",
            " conv1d_13 (Conv1D)          (None, 24, 128)           98432     \n",
            "                                                                 \n",
            " leaky_re_lu_8 (LeakyReLU)   (None, 24, 128)           0         \n",
            "                                                                 \n",
            " dropout_7 (Dropout)         (None, 24, 128)           0         \n",
            "                                                                 \n",
            " batch_normalization_7 (Batc  (None, 24, 128)          512       \n",
            " hNormalization)                                                 \n",
            "                                                                 \n",
            " conv1d_14 (Conv1D)          (None, 24, 256)           196864    \n",
            "                                                                 \n",
            " conv1d_15 (Conv1D)          (None, 24, 256)           393472    \n",
            "                                                                 \n",
            " leaky_re_lu_9 (LeakyReLU)   (None, 24, 256)           0         \n",
            "                                                                 \n",
            " batch_normalization_8 (Batc  (None, 24, 256)          1024      \n",
            " hNormalization)                                                 \n",
            "                                                                 \n",
            " conv1d_16 (Conv1D)          (None, 24, 512)           786944    \n",
            "                                                                 \n",
            " conv1d_17 (Conv1D)          (None, 24, 512)           1573376   \n",
            "                                                                 \n",
            " leaky_re_lu_10 (LeakyReLU)  (None, 24, 512)           0         \n",
            "                                                                 \n",
            " dropout_8 (Dropout)         (None, 24, 512)           0         \n",
            "                                                                 \n",
            " batch_normalization_9 (Batc  (None, 24, 512)          2048      \n",
            " hNormalization)                                                 \n",
            "                                                                 \n",
            " dropout_9 (Dropout)         (None, 24, 512)           0         \n",
            "                                                                 \n",
            " dense_6 (Dense)             (None, 24, 512)           262656    \n",
            "                                                                 \n",
            " flatten_3 (Flatten)         (None, 12288)             0         \n",
            "                                                                 \n",
            " dense_11 (Dense)            (None, 2)                 24578     \n",
            "                                                                 \n",
            "=================================================================\n",
            "Total params: 3,426,786\n",
            "Trainable params: 3,424,802\n",
            "Non-trainable params: 1,984\n",
            "_________________________________________________________________\n"
          ]
        }
      ]
    },
    {
      "cell_type": "code",
      "source": [
        "model.compile(optimizer = tf.keras.optimizers.Adam(0.001),  \n",
        "              loss ='hinge',\n",
        "              metrics = ['accuracy'])"
      ],
      "metadata": {
        "id": "_V4vPUm3mw-C"
      },
      "execution_count": 34,
      "outputs": []
    },
    {
      "cell_type": "code",
      "source": [
        "import os \n",
        "log_dir = os.path.join('logs',datetime.datetime.now().strftime(\"%Y%m%d-%H%M%S\")) \n"
      ],
      "metadata": {
        "id": "8C9W_i9wm25C"
      },
      "execution_count": 35,
      "outputs": []
    },
    {
      "cell_type": "code",
      "source": [
        "tensorboard_callback = tf.keras.callbacks.TensorBoard(log_dir,histogram_freq=1)"
      ],
      "metadata": {
        "id": "76h-KtFzm9W6"
      },
      "execution_count": 36,
      "outputs": []
    },
    {
      "cell_type": "code",
      "source": [
        "#Monitor the learning rate, when the val_loss does not drop 3 times, the learning rate is multiplied by 0.5, and the minimum does not exceed min_lr\n",
        "lr_reduce=keras.callbacks.ReduceLROnPlateau('val_loss',patience=3,factor=0.5,min_lr=0.000001)"
      ],
      "metadata": {
        "id": "KFAz42nQm-9S"
      },
      "execution_count": 37,
      "outputs": []
    },
    {
      "cell_type": "code",
      "source": [
        "history = model.fit(x_train,\n",
        "                    y_train,\n",
        "                    epochs=3,\n",
        "                    callbacks = [lr_reduce,tensorboard_callback],\n",
        "                    batch_size= 16,\n",
        "                    validation_data = (x_test,y_test),\n",
        "                    shuffle=True)"
      ],
      "metadata": {
        "colab": {
          "base_uri": "https://localhost:8080/"
        },
        "id": "2JXMje-lnFb7",
        "outputId": "f8426d66-7877-4f88-d046-20f6196f0c3a"
      },
      "execution_count": 38,
      "outputs": [
        {
          "output_type": "stream",
          "name": "stdout",
          "text": [
            "Epoch 1/3\n",
            "4516/4516 [==============================] - 1336s 295ms/step - loss: nan - accuracy: 0.8688 - val_loss: nan - val_accuracy: 0.8445 - lr: 0.0010\n",
            "Epoch 2/3\n",
            "4516/4516 [==============================] - 1312s 291ms/step - loss: nan - accuracy: 0.8418 - val_loss: nan - val_accuracy: 0.8445 - lr: 0.0010\n",
            "Epoch 3/3\n",
            "4516/4516 [==============================] - 1313s 291ms/step - loss: nan - accuracy: 0.8418 - val_loss: nan - val_accuracy: 0.8445 - lr: 0.0010\n"
          ]
        }
      ]
    },
    {
      "cell_type": "code",
      "source": [
        "score = model.evaluate(x_train, y_train, verbose=0)\n",
        "print('train loss:', score[0])\n",
        "print('train accuracy:', score[1])"
      ],
      "metadata": {
        "id": "usGrz8WhZw7F",
        "outputId": "5f9b5c8e-e747-4053-fd41-3e8c47230993",
        "colab": {
          "base_uri": "https://localhost:8080/"
        }
      },
      "execution_count": 39,
      "outputs": [
        {
          "output_type": "stream",
          "name": "stdout",
          "text": [
            "train loss: nan\n",
            "train accuracy: 0.8417621850967407\n"
          ]
        }
      ]
    },
    {
      "cell_type": "code",
      "source": [
        "print(model.evaluate(x_test,y_test))"
      ],
      "metadata": {
        "id": "gbRQqPnDZ4DV",
        "outputId": "97c828ea-6c8d-4059-97b1-c85de8c973fe",
        "colab": {
          "base_uri": "https://localhost:8080/"
        }
      },
      "execution_count": 40,
      "outputs": [
        {
          "output_type": "stream",
          "name": "stdout",
          "text": [
            "565/565 [==============================] - 55s 98ms/step - loss: nan - accuracy: 0.8445\n",
            "[nan, 0.8444887399673462]\n"
          ]
        }
      ]
    },
    {
      "cell_type": "code",
      "source": [
        "import matplotlib.pyplot as plt\n",
        "%matplotlib inline\n",
        "plt.plot(history.epoch, history.history.get('accuracy'),label='accuracy')\n",
        "plt.plot(history.epoch, history.history.get('val_accuracy'),label='val_accuracy')\n",
        "plt.legend()"
      ],
      "metadata": {
        "id": "pNOkdtC-Z5BG",
        "outputId": "35e1efd5-c140-495f-8a68-fdb190b362b4",
        "colab": {
          "base_uri": "https://localhost:8080/",
          "height": 285
        }
      },
      "execution_count": 41,
      "outputs": [
        {
          "output_type": "execute_result",
          "data": {
            "text/plain": [
              "<matplotlib.legend.Legend at 0x7fb39a32c1f0>"
            ]
          },
          "metadata": {},
          "execution_count": 41
        },
        {
          "output_type": "display_data",
          "data": {
            "text/plain": [
              "<Figure size 432x288 with 1 Axes>"
            ],
            "image/png": "[encoded data removed]"
          },
          "metadata": {
            "needs_background": "light"
          }
        }
      ]
    },
    {
      "cell_type": "code",
      "source": [
        "plt.plot(history.epoch, history.history.get('loss'),label='loss')\n",
        "plt.plot(history.epoch, history.history.get('val_loss'),label='val_loss')\n",
        "plt.legend()"
      ],
      "metadata": {
        "id": "EuNNpf9KZ6OV",
        "outputId": "1e03c134-e667-447e-8c3f-45d75f5f7a80",
        "colab": {
          "base_uri": "https://localhost:8080/",
          "height": 282
        }
      },
      "execution_count": 42,
      "outputs": [
        {
          "output_type": "execute_result",
          "data": {
            "text/plain": [
              "<matplotlib.legend.Legend at 0x7fb39b97cdf0>"
            ]
          },
          "metadata": {},
          "execution_count": 42
        },
        {
          "output_type": "display_data",
          "data": {
            "text/plain": [
              "<Figure size 432x288 with 1 Axes>"
            ],
            "image/png": "[encoded data removed]"
          },
          "metadata": {
            "needs_background": "light"
          }
        }
      ]
    },
    {
      "cell_type": "code",
      "source": [
        "from sklearn.metrics import classification_report\n",
        "\n",
        "Y_test = np.argmax(y_test, axis=1) # Convert one-hot to index\n",
        "predict = model.predict(x_test)\n",
        "y_pred=np.argmax(predict,axis=1)\n",
        "print(classification_report(Y_test, y_pred))"
      ],
      "metadata": {
        "id": "9eQILVA1Z7hW",
        "outputId": "54725edd-226e-47cf-98e6-7300e1c47238",
        "colab": {
          "base_uri": "https://localhost:8080/"
        }
      },
      "execution_count": 43,
      "outputs": [
        {
          "output_type": "stream",
          "name": "stdout",
          "text": [
            "565/565 [==============================] - 55s 97ms/step\n",
            "              precision    recall  f1-score   support\n",
            "\n",
            "           0       0.84      1.00      0.92     15254\n",
            "           1       0.00      0.00      0.00      2809\n",
            "\n",
            "    accuracy                           0.84     18063\n",
            "   macro avg       0.42      0.50      0.46     18063\n",
            "weighted avg       0.71      0.84      0.77     18063\n",
            "\n"
          ]
        },
        {
          "output_type": "stream",
          "name": "stderr",
          "text": [
            "/usr/local/lib/python3.8/dist-packages/sklearn/metrics/_classification.py:1318: UndefinedMetricWarning: Precision and F-score are ill-defined and being set to 0.0 in labels with no predicted samples. Use `zero_division` parameter to control this behavior.\n",
            "  _warn_prf(average, modifier, msg_start, len(result))\n",
            "/usr/local/lib/python3.8/dist-packages/sklearn/metrics/_classification.py:1318: UndefinedMetricWarning: Precision and F-score are ill-defined and being set to 0.0 in labels with no predicted samples. Use `zero_division` parameter to control this behavior.\n",
            "  _warn_prf(average, modifier, msg_start, len(result))\n",
            "/usr/local/lib/python3.8/dist-packages/sklearn/metrics/_classification.py:1318: UndefinedMetricWarning: Precision and F-score are ill-defined and being set to 0.0 in labels with no predicted samples. Use `zero_division` parameter to control this behavior.\n",
            "  _warn_prf(average, modifier, msg_start, len(result))\n"
          ]
        }
      ]
    },
    {
      "cell_type": "code",
      "source": [],
      "metadata": {
        "id": "ETGcpbL67027"
      },
      "execution_count": null,
      "outputs": []
    }
  ]
}